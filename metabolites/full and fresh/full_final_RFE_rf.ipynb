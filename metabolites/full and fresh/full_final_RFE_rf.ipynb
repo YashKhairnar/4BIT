{
 "cells": [
  {
   "cell_type": "markdown",
   "metadata": {},
   "source": [
    "<a id=\"1\"></a>\n",
    "\n",
    "<h1 style=\"background-color:#d8f8b7;font-family:newtimeroman;font-size:250%;text-align:center;border-radius: 15px 50px;\">Libraries And Utilities</h1>\n",
    "\n",
    "[Download DATASETS from here](https://github.com/utshabkg/LungCancer_Biomarker/tree/main/dataset)"
   ]
  },
  {
   "cell_type": "code",
   "execution_count": 1,
   "metadata": {
    "id": "_2KKqfz-5Ioi"
   },
   "outputs": [
    {
     "name": "stderr",
     "output_type": "stream",
     "text": [
      "C:\\Users\\UTSHAB\\AppData\\Roaming\\Python\\Python37\\site-packages\\sklearn\\utils\\deprecation.py:143: FutureWarning: The sklearn.utils.testing module is  deprecated in version 0.22 and will be removed in version 0.24. The corresponding classes / functions should instead be imported from sklearn.utils. Anything that cannot be imported from sklearn.utils is now part of the private API.\n",
      "  warnings.warn(message, FutureWarning)\n"
     ]
    }
   ],
   "source": [
    "import pandas as pd\n",
    "import numpy as np\n",
    "import matplotlib.pyplot as plt\n",
    "import sklearn\n",
    "%matplotlib inline\n",
    "\n",
    "from sklearn.decomposition import PCA\n",
    "from sklearn.manifold import TSNE\n",
    "import lazypredict\n",
    "from lazypredict.Supervised import LazyClassifier\n",
    "import xgboost as xgb\n",
    "\n",
    "# import packages for hyperparameters tuning\n",
    "from hyperopt import STATUS_OK, Trials, fmin, hp, tpe\n",
    "from sklearn.metrics import accuracy_score\n",
    "from sklearn.metrics import confusion_matrix\n",
    "from sklearn.metrics import matthews_corrcoef\n",
    "from sklearn.metrics import classification_report\n",
    "\n",
    "from sklearn.model_selection import ShuffleSplit, train_test_split, StratifiedKFold\n",
    "from sklearn.preprocessing import StandardScaler, MinMaxScaler, RobustScaler, LabelEncoder\n",
    "\n",
    "import seaborn as sns\n",
    "from sklearn.ensemble import RandomForestClassifier\n",
    "from sklearn.linear_model import RidgeClassifier\n",
    "from yellowbrick.model_selection import FeatureImportances"
   ]
  },
  {
   "cell_type": "markdown",
   "metadata": {
    "id": "OktzdLyrDm34"
   },
   "source": [
    "<a id=\"2\"></a>\n",
    "\n",
    "<h1 style=\"background-color:#d8f8b7;font-family:newtimeroman;font-size:250%;text-align:center;border-radius: 15px 50px;\">Processed Dataset from previous Notebook</h1>\n",
    "\n",
    "[Download DATASETS from here](https://github.com/utshabkg/LungCancer_Biomarker/tree/main/dataset)"
   ]
  },
  {
   "cell_type": "code",
   "execution_count": 53,
   "metadata": {
    "colab": {
     "base_uri": "https://localhost:8080/",
     "height": 294
    },
    "id": "mbm_F-i_bhGw",
    "outputId": "b85d04af-5016-462f-b31f-9724615b3765"
   },
   "outputs": [],
   "source": [
    "plasma = pd.read_csv('G:/Research/SM Sir/LungCancer_Biomarker/final and best approach/Approach 1/plasma(Specific Metabolics)_final2.csv')\n",
    "serum = pd.read_csv('G:/Research/SM Sir/LungCancer_Biomarker/final and best approach/Approach 1/serum(Specific Metabolics)_final2.csv')\n",
    "plasma.head()\n",
    "plasma = plasma.drop('Unnamed: 0', axis=1)\n",
    "serum = serum.drop('Unnamed: 0', axis=1)"
   ]
  },
  {
   "cell_type": "code",
   "execution_count": 48,
   "metadata": {},
   "outputs": [
    {
     "data": {
      "text/html": [
       "<div>\n",
       "<style scoped>\n",
       "    .dataframe tbody tr th:only-of-type {\n",
       "        vertical-align: middle;\n",
       "    }\n",
       "\n",
       "    .dataframe tbody tr th {\n",
       "        vertical-align: top;\n",
       "    }\n",
       "\n",
       "    .dataframe thead th {\n",
       "        text-align: right;\n",
       "    }\n",
       "</style>\n",
       "<table border=\"1\" class=\"dataframe\">\n",
       "  <thead>\n",
       "    <tr style=\"text-align: right;\">\n",
       "      <th></th>\n",
       "      <th>asparagine</th>\n",
       "      <th>benzoic acid</th>\n",
       "      <th>tryptophan</th>\n",
       "      <th>uric acid</th>\n",
       "      <th>5-hydroxynorvaline NIST</th>\n",
       "      <th>alpha-ketoglutarate</th>\n",
       "      <th>citrulline</th>\n",
       "      <th>glutamine</th>\n",
       "      <th>hypoxanthine</th>\n",
       "      <th>malic acid</th>\n",
       "      <th>...</th>\n",
       "      <th>lactic acid</th>\n",
       "      <th>maltose</th>\n",
       "      <th>maltotriose</th>\n",
       "      <th>N-methylalanine</th>\n",
       "      <th>phenol</th>\n",
       "      <th>phosphoethanolamine</th>\n",
       "      <th>pyrophosphate</th>\n",
       "      <th>pyruvic acid</th>\n",
       "      <th>taurine</th>\n",
       "      <th>Class</th>\n",
       "    </tr>\n",
       "  </thead>\n",
       "  <tbody>\n",
       "    <tr>\n",
       "      <th>0</th>\n",
       "      <td>-0.38</td>\n",
       "      <td>-1.31</td>\n",
       "      <td>0.52</td>\n",
       "      <td>-1.02</td>\n",
       "      <td>-0.85</td>\n",
       "      <td>0.51</td>\n",
       "      <td>-0.33</td>\n",
       "      <td>-0.19</td>\n",
       "      <td>0.42</td>\n",
       "      <td>0.76</td>\n",
       "      <td>...</td>\n",
       "      <td>-0.04</td>\n",
       "      <td>-0.34</td>\n",
       "      <td>-1.21</td>\n",
       "      <td>-0.10</td>\n",
       "      <td>-0.10</td>\n",
       "      <td>0.03</td>\n",
       "      <td>-0.27</td>\n",
       "      <td>1.38</td>\n",
       "      <td>0.41</td>\n",
       "      <td>disease</td>\n",
       "    </tr>\n",
       "    <tr>\n",
       "      <th>1</th>\n",
       "      <td>0.95</td>\n",
       "      <td>-0.46</td>\n",
       "      <td>-0.90</td>\n",
       "      <td>-1.24</td>\n",
       "      <td>-0.82</td>\n",
       "      <td>-0.39</td>\n",
       "      <td>0.69</td>\n",
       "      <td>1.04</td>\n",
       "      <td>1.37</td>\n",
       "      <td>0.09</td>\n",
       "      <td>...</td>\n",
       "      <td>0.15</td>\n",
       "      <td>-0.29</td>\n",
       "      <td>-0.13</td>\n",
       "      <td>-1.19</td>\n",
       "      <td>0.22</td>\n",
       "      <td>-0.83</td>\n",
       "      <td>-0.41</td>\n",
       "      <td>0.29</td>\n",
       "      <td>-0.16</td>\n",
       "      <td>disease</td>\n",
       "    </tr>\n",
       "    <tr>\n",
       "      <th>2</th>\n",
       "      <td>0.69</td>\n",
       "      <td>-0.49</td>\n",
       "      <td>0.83</td>\n",
       "      <td>-0.23</td>\n",
       "      <td>-0.35</td>\n",
       "      <td>0.35</td>\n",
       "      <td>-0.56</td>\n",
       "      <td>0.36</td>\n",
       "      <td>-0.31</td>\n",
       "      <td>0.06</td>\n",
       "      <td>...</td>\n",
       "      <td>1.06</td>\n",
       "      <td>0.24</td>\n",
       "      <td>0.68</td>\n",
       "      <td>-0.71</td>\n",
       "      <td>0.98</td>\n",
       "      <td>0.02</td>\n",
       "      <td>0.95</td>\n",
       "      <td>-0.19</td>\n",
       "      <td>0.83</td>\n",
       "      <td>disease</td>\n",
       "    </tr>\n",
       "    <tr>\n",
       "      <th>3</th>\n",
       "      <td>0.35</td>\n",
       "      <td>1.68</td>\n",
       "      <td>-1.11</td>\n",
       "      <td>-0.48</td>\n",
       "      <td>-0.74</td>\n",
       "      <td>-0.75</td>\n",
       "      <td>-0.99</td>\n",
       "      <td>1.15</td>\n",
       "      <td>1.91</td>\n",
       "      <td>-0.41</td>\n",
       "      <td>...</td>\n",
       "      <td>0.53</td>\n",
       "      <td>-0.19</td>\n",
       "      <td>-0.38</td>\n",
       "      <td>1.83</td>\n",
       "      <td>0.69</td>\n",
       "      <td>-0.19</td>\n",
       "      <td>-0.59</td>\n",
       "      <td>-0.66</td>\n",
       "      <td>1.25</td>\n",
       "      <td>disease</td>\n",
       "    </tr>\n",
       "    <tr>\n",
       "      <th>4</th>\n",
       "      <td>0.30</td>\n",
       "      <td>-1.20</td>\n",
       "      <td>0.01</td>\n",
       "      <td>0.76</td>\n",
       "      <td>0.99</td>\n",
       "      <td>-0.14</td>\n",
       "      <td>0.77</td>\n",
       "      <td>-0.31</td>\n",
       "      <td>0.25</td>\n",
       "      <td>0.76</td>\n",
       "      <td>...</td>\n",
       "      <td>-0.33</td>\n",
       "      <td>-0.01</td>\n",
       "      <td>1.43</td>\n",
       "      <td>0.91</td>\n",
       "      <td>-0.27</td>\n",
       "      <td>0.32</td>\n",
       "      <td>0.52</td>\n",
       "      <td>-0.09</td>\n",
       "      <td>0.08</td>\n",
       "      <td>disease</td>\n",
       "    </tr>\n",
       "    <tr>\n",
       "      <th>...</th>\n",
       "      <td>...</td>\n",
       "      <td>...</td>\n",
       "      <td>...</td>\n",
       "      <td>...</td>\n",
       "      <td>...</td>\n",
       "      <td>...</td>\n",
       "      <td>...</td>\n",
       "      <td>...</td>\n",
       "      <td>...</td>\n",
       "      <td>...</td>\n",
       "      <td>...</td>\n",
       "      <td>...</td>\n",
       "      <td>...</td>\n",
       "      <td>...</td>\n",
       "      <td>...</td>\n",
       "      <td>...</td>\n",
       "      <td>...</td>\n",
       "      <td>...</td>\n",
       "      <td>...</td>\n",
       "      <td>...</td>\n",
       "      <td>...</td>\n",
       "    </tr>\n",
       "    <tr>\n",
       "      <th>77</th>\n",
       "      <td>0.77</td>\n",
       "      <td>-0.63</td>\n",
       "      <td>0.98</td>\n",
       "      <td>0.05</td>\n",
       "      <td>-0.29</td>\n",
       "      <td>-0.30</td>\n",
       "      <td>0.08</td>\n",
       "      <td>1.06</td>\n",
       "      <td>-0.66</td>\n",
       "      <td>-0.97</td>\n",
       "      <td>...</td>\n",
       "      <td>-0.72</td>\n",
       "      <td>-0.35</td>\n",
       "      <td>-0.38</td>\n",
       "      <td>0.75</td>\n",
       "      <td>-0.68</td>\n",
       "      <td>-0.45</td>\n",
       "      <td>-0.96</td>\n",
       "      <td>-0.12</td>\n",
       "      <td>-0.37</td>\n",
       "      <td>control</td>\n",
       "    </tr>\n",
       "    <tr>\n",
       "      <th>78</th>\n",
       "      <td>-0.43</td>\n",
       "      <td>-1.06</td>\n",
       "      <td>-0.03</td>\n",
       "      <td>1.56</td>\n",
       "      <td>-0.20</td>\n",
       "      <td>-0.64</td>\n",
       "      <td>-0.41</td>\n",
       "      <td>-0.13</td>\n",
       "      <td>5.19</td>\n",
       "      <td>-0.67</td>\n",
       "      <td>...</td>\n",
       "      <td>0.64</td>\n",
       "      <td>-0.19</td>\n",
       "      <td>-0.60</td>\n",
       "      <td>0.51</td>\n",
       "      <td>0.79</td>\n",
       "      <td>-0.42</td>\n",
       "      <td>-0.22</td>\n",
       "      <td>-0.51</td>\n",
       "      <td>-0.23</td>\n",
       "      <td>control</td>\n",
       "    </tr>\n",
       "    <tr>\n",
       "      <th>79</th>\n",
       "      <td>-0.10</td>\n",
       "      <td>1.50</td>\n",
       "      <td>0.94</td>\n",
       "      <td>0.30</td>\n",
       "      <td>-0.08</td>\n",
       "      <td>0.78</td>\n",
       "      <td>0.91</td>\n",
       "      <td>1.47</td>\n",
       "      <td>-0.67</td>\n",
       "      <td>1.22</td>\n",
       "      <td>...</td>\n",
       "      <td>-0.53</td>\n",
       "      <td>-0.35</td>\n",
       "      <td>0.05</td>\n",
       "      <td>-0.94</td>\n",
       "      <td>-0.44</td>\n",
       "      <td>-0.24</td>\n",
       "      <td>-0.67</td>\n",
       "      <td>-0.36</td>\n",
       "      <td>-0.54</td>\n",
       "      <td>control</td>\n",
       "    </tr>\n",
       "    <tr>\n",
       "      <th>80</th>\n",
       "      <td>-1.22</td>\n",
       "      <td>0.90</td>\n",
       "      <td>-1.34</td>\n",
       "      <td>-0.01</td>\n",
       "      <td>-0.80</td>\n",
       "      <td>-0.14</td>\n",
       "      <td>-1.17</td>\n",
       "      <td>-1.39</td>\n",
       "      <td>-0.44</td>\n",
       "      <td>-0.09</td>\n",
       "      <td>...</td>\n",
       "      <td>-0.46</td>\n",
       "      <td>-0.50</td>\n",
       "      <td>-0.83</td>\n",
       "      <td>0.70</td>\n",
       "      <td>-0.18</td>\n",
       "      <td>-0.44</td>\n",
       "      <td>-0.92</td>\n",
       "      <td>-0.10</td>\n",
       "      <td>-1.05</td>\n",
       "      <td>control</td>\n",
       "    </tr>\n",
       "    <tr>\n",
       "      <th>81</th>\n",
       "      <td>-1.20</td>\n",
       "      <td>2.20</td>\n",
       "      <td>-0.90</td>\n",
       "      <td>2.02</td>\n",
       "      <td>-0.45</td>\n",
       "      <td>-1.03</td>\n",
       "      <td>-0.98</td>\n",
       "      <td>-1.32</td>\n",
       "      <td>-0.89</td>\n",
       "      <td>-0.23</td>\n",
       "      <td>...</td>\n",
       "      <td>-0.41</td>\n",
       "      <td>-0.01</td>\n",
       "      <td>-0.73</td>\n",
       "      <td>-0.79</td>\n",
       "      <td>-0.47</td>\n",
       "      <td>-0.58</td>\n",
       "      <td>-0.96</td>\n",
       "      <td>-1.05</td>\n",
       "      <td>-0.62</td>\n",
       "      <td>control</td>\n",
       "    </tr>\n",
       "  </tbody>\n",
       "</table>\n",
       "<p>82 rows × 27 columns</p>\n",
       "</div>"
      ],
      "text/plain": [
       "    asparagine  benzoic acid  tryptophan  uric acid  5-hydroxynorvaline NIST  \\\n",
       "0        -0.38         -1.31        0.52      -1.02                    -0.85   \n",
       "1         0.95         -0.46       -0.90      -1.24                    -0.82   \n",
       "2         0.69         -0.49        0.83      -0.23                    -0.35   \n",
       "3         0.35          1.68       -1.11      -0.48                    -0.74   \n",
       "4         0.30         -1.20        0.01       0.76                     0.99   \n",
       "..         ...           ...         ...        ...                      ...   \n",
       "77        0.77         -0.63        0.98       0.05                    -0.29   \n",
       "78       -0.43         -1.06       -0.03       1.56                    -0.20   \n",
       "79       -0.10          1.50        0.94       0.30                    -0.08   \n",
       "80       -1.22          0.90       -1.34      -0.01                    -0.80   \n",
       "81       -1.20          2.20       -0.90       2.02                    -0.45   \n",
       "\n",
       "    alpha-ketoglutarate  citrulline  glutamine  hypoxanthine  malic acid  ...  \\\n",
       "0                  0.51       -0.33      -0.19          0.42        0.76  ...   \n",
       "1                 -0.39        0.69       1.04          1.37        0.09  ...   \n",
       "2                  0.35       -0.56       0.36         -0.31        0.06  ...   \n",
       "3                 -0.75       -0.99       1.15          1.91       -0.41  ...   \n",
       "4                 -0.14        0.77      -0.31          0.25        0.76  ...   \n",
       "..                  ...         ...        ...           ...         ...  ...   \n",
       "77                -0.30        0.08       1.06         -0.66       -0.97  ...   \n",
       "78                -0.64       -0.41      -0.13          5.19       -0.67  ...   \n",
       "79                 0.78        0.91       1.47         -0.67        1.22  ...   \n",
       "80                -0.14       -1.17      -1.39         -0.44       -0.09  ...   \n",
       "81                -1.03       -0.98      -1.32         -0.89       -0.23  ...   \n",
       "\n",
       "    lactic acid  maltose  maltotriose  N-methylalanine  phenol  \\\n",
       "0         -0.04    -0.34        -1.21            -0.10   -0.10   \n",
       "1          0.15    -0.29        -0.13            -1.19    0.22   \n",
       "2          1.06     0.24         0.68            -0.71    0.98   \n",
       "3          0.53    -0.19        -0.38             1.83    0.69   \n",
       "4         -0.33    -0.01         1.43             0.91   -0.27   \n",
       "..          ...      ...          ...              ...     ...   \n",
       "77        -0.72    -0.35        -0.38             0.75   -0.68   \n",
       "78         0.64    -0.19        -0.60             0.51    0.79   \n",
       "79        -0.53    -0.35         0.05            -0.94   -0.44   \n",
       "80        -0.46    -0.50        -0.83             0.70   -0.18   \n",
       "81        -0.41    -0.01        -0.73            -0.79   -0.47   \n",
       "\n",
       "    phosphoethanolamine  pyrophosphate  pyruvic acid  taurine    Class  \n",
       "0                  0.03          -0.27          1.38     0.41  disease  \n",
       "1                 -0.83          -0.41          0.29    -0.16  disease  \n",
       "2                  0.02           0.95         -0.19     0.83  disease  \n",
       "3                 -0.19          -0.59         -0.66     1.25  disease  \n",
       "4                  0.32           0.52         -0.09     0.08  disease  \n",
       "..                  ...            ...           ...      ...      ...  \n",
       "77                -0.45          -0.96         -0.12    -0.37  control  \n",
       "78                -0.42          -0.22         -0.51    -0.23  control  \n",
       "79                -0.24          -0.67         -0.36    -0.54  control  \n",
       "80                -0.44          -0.92         -0.10    -1.05  control  \n",
       "81                -0.58          -0.96         -1.05    -0.62  control  \n",
       "\n",
       "[82 rows x 27 columns]"
      ]
     },
     "execution_count": 48,
     "metadata": {},
     "output_type": "execute_result"
    }
   ],
   "source": [
    "plasma"
   ]
  },
  {
   "cell_type": "markdown",
   "metadata": {},
   "source": [
    "Keep labels as an numpy array."
   ]
  },
  {
   "cell_type": "code",
   "execution_count": 49,
   "metadata": {},
   "outputs": [],
   "source": [
    "labels = np.reshape(plasma.Class.to_numpy(), (82,1))\n",
    "targets = plasma.iloc[:, -1].unique()"
   ]
  },
  {
   "cell_type": "markdown",
   "metadata": {
    "id": "O5YQ-9mOzz0x"
   },
   "source": [
    "<a id=\"3\"></a>\n",
    "\n",
    "<h1 style=\"background-color:#d8f8b7;font-family:newtimeroman;font-size:250%;text-align:center;border-radius: 15px 50px;\">Models</h1>"
   ]
  },
  {
   "cell_type": "code",
   "execution_count": 50,
   "metadata": {
    "id": "sLVgPz17wu7w"
   },
   "outputs": [],
   "source": [
    "# !pip install lazypredict"
   ]
  },
  {
   "cell_type": "code",
   "execution_count": 82,
   "metadata": {},
   "outputs": [],
   "source": [
    "from sklearn.feature_selection import RFECV\n",
    "\n",
    "def rfecv_accuracy(plasma, meta_number, classifier):\n",
    "    accuracy = []\n",
    "\n",
    "    for i in range(1, meta_number+1):\n",
    "        y = plasma['Class'].copy()\n",
    "        y = y.map({\"control\": 0, \"disease\": 1})\n",
    "\n",
    "        if plasma.columns[-1]=='Class':\n",
    "            X = plasma.drop('Class', axis=1)\n",
    "        else:\n",
    "            X = plasma\n",
    "\n",
    "        X_train,X_test,y_train,y_test = train_test_split(X, y, test_size=0.2,random_state=0)\n",
    "\n",
    "        scaler = RobustScaler()\n",
    "        cols = X.columns\n",
    "        X_train = scaler.fit_transform(X_train)\n",
    "        X_test = scaler.transform(X_test)\n",
    "\n",
    "        X_train = pd.DataFrame(X_train, columns=[cols])\n",
    "        X_test = pd.DataFrame(X_test, columns=[cols])\n",
    "\n",
    "        y_train = y_train.values.reshape(-1, 1)\n",
    "        y_test = y_test.values.reshape(-1, 1)\n",
    "\n",
    "        rfecv = RFECV(\n",
    "            estimator=RandomForestClassifier(),\n",
    "            min_features_to_select=i,\n",
    "            step=5,\n",
    "            n_jobs=-1,\n",
    "            scoring=\"accuracy\",\n",
    "            cv=10,\n",
    "        )\n",
    "\n",
    "        _ = rfecv.fit(X_train, y_train)\n",
    "\n",
    "        meta_selected = []\n",
    "        for j in range(i):\n",
    "            meta_selected.append(X.columns[rfecv.support_][j])\n",
    "        print(meta_selected)\n",
    "\n",
    "        name = ['Plasma(Raw)']\n",
    "        dfs = [plasma[meta_selected]]\n",
    "\n",
    "        random_state = 42\n",
    "\n",
    "        for idx, data in enumerate(dfs):\n",
    "            result = []\n",
    "            if data.columns[-1]=='Class':\n",
    "                X = data.drop('Class', axis=1)\n",
    "            else:\n",
    "                X = data\n",
    "            y = plasma['Class'].copy()\n",
    "            y = y.map({\"control\": 0, \"disease\": 1})\n",
    "    #         print(X, y)\n",
    "            rs = ShuffleSplit(n_splits=10, test_size=0.2, random_state=random_state)\n",
    "\n",
    "            for train_index, test_index in rs.split(X):\n",
    "                clf = LazyClassifier(verbose=0, ignore_warnings=True, custom_metric=matthews_corrcoef, predictions=True)\n",
    "                X_train, X_test = X.iloc[train_index], X.iloc[test_index]\n",
    "                y_train, y_test = y.iloc[train_index], y.iloc[test_index]\n",
    "\n",
    "                scaler = RobustScaler()\n",
    "\n",
    "                cols = X_train.columns\n",
    "                X_train = scaler.fit_transform(X_train)\n",
    "                X_test = scaler.transform(X_test)\n",
    "\n",
    "                X_train = pd.DataFrame(X_train, columns=[cols])\n",
    "                X_test = pd.DataFrame(X_test, columns=[cols])\n",
    "\n",
    "                models, predictions = clf.fit(X_train, X_test, y_train, y_test)\n",
    "                result.append(models)\n",
    "            #     print(result)\n",
    "\n",
    "            acc = []\n",
    "            for a in range(10):\n",
    "                acc.append(result[a].loc[classifier]['Balanced Accuracy'])\n",
    "\n",
    "    #     print(f'\\n{name[idx]}: {sum(acc)/len(acc)}')\n",
    "        accuracy.append([i, sum(acc)/ len(acc)])\n",
    "        print(accuracy)\n",
    "    return accuracy\n",
    "\n",
    "#     accuracy_df1 = pd.DataFrame(accuracy, columns=['Method', 'Accuracy'])\n",
    "#     accuracy_df1"
   ]
  },
  {
   "cell_type": "markdown",
   "metadata": {},
   "source": [
    "# Plasma"
   ]
  },
  {
   "cell_type": "code",
   "execution_count": 83,
   "metadata": {},
   "outputs": [
    {
     "name": "stderr",
     "output_type": "stream",
     "text": [
      "  7%|▋         | 2/29 [00:00<00:01, 19.79it/s]"
     ]
    },
    {
     "name": "stdout",
     "output_type": "stream",
     "text": [
      "['adenosine-5-monophosphate']\n"
     ]
    },
    {
     "name": "stderr",
     "output_type": "stream",
     "text": [
      "100%|██████████| 29/29 [00:00<00:00, 40.46it/s]\n",
      "100%|██████████| 29/29 [00:00<00:00, 38.00it/s]\n",
      "100%|██████████| 29/29 [00:00<00:00, 43.07it/s]\n",
      "100%|██████████| 29/29 [00:00<00:00, 38.85it/s]\n",
      "100%|██████████| 29/29 [00:00<00:00, 41.10it/s]\n",
      "100%|██████████| 29/29 [00:00<00:00, 38.09it/s]\n",
      "100%|██████████| 29/29 [00:00<00:00, 39.53it/s]\n",
      "100%|██████████| 29/29 [00:00<00:00, 42.97it/s]\n",
      "100%|██████████| 29/29 [00:00<00:00, 42.12it/s]\n",
      "100%|██████████| 29/29 [00:00<00:00, 38.04it/s]\n"
     ]
    },
    {
     "name": "stdout",
     "output_type": "stream",
     "text": [
      "[[1, 0.6893939393939394]]\n"
     ]
    },
    {
     "name": "stderr",
     "output_type": "stream",
     "text": [
      "  7%|▋         | 2/29 [00:00<00:01, 17.29it/s]"
     ]
    },
    {
     "name": "stdout",
     "output_type": "stream",
     "text": [
      "['asparagine', 'benzoic acid']\n"
     ]
    },
    {
     "name": "stderr",
     "output_type": "stream",
     "text": [
      "100%|██████████| 29/29 [00:00<00:00, 37.72it/s]\n",
      "100%|██████████| 29/29 [00:00<00:00, 39.56it/s]\n",
      "100%|██████████| 29/29 [00:00<00:00, 40.02it/s]\n",
      "100%|██████████| 29/29 [00:00<00:00, 41.80it/s]\n",
      "100%|██████████| 29/29 [00:00<00:00, 39.54it/s]\n",
      "100%|██████████| 29/29 [00:00<00:00, 39.65it/s]\n",
      "100%|██████████| 29/29 [00:00<00:00, 39.07it/s]\n",
      "100%|██████████| 29/29 [00:00<00:00, 37.69it/s]\n",
      "100%|██████████| 29/29 [00:00<00:00, 41.62it/s]\n",
      "100%|██████████| 29/29 [00:00<00:00, 39.43it/s]\n"
     ]
    },
    {
     "name": "stdout",
     "output_type": "stream",
     "text": [
      "[[1, 0.6893939393939394], [2, 0.7803030303030303]]\n"
     ]
    },
    {
     "name": "stderr",
     "output_type": "stream",
     "text": [
      "  7%|▋         | 2/29 [00:00<00:01, 17.61it/s]"
     ]
    },
    {
     "name": "stdout",
     "output_type": "stream",
     "text": [
      "['asparagine', 'benzoic acid', 'tryptophan']\n"
     ]
    },
    {
     "name": "stderr",
     "output_type": "stream",
     "text": [
      "100%|██████████| 29/29 [00:00<00:00, 38.80it/s]\n",
      "100%|██████████| 29/29 [00:00<00:00, 39.35it/s]\n",
      "100%|██████████| 29/29 [00:01<00:00, 26.61it/s]\n",
      "100%|██████████| 29/29 [00:00<00:00, 40.14it/s]\n",
      "100%|██████████| 29/29 [00:00<00:00, 38.69it/s]\n",
      "100%|██████████| 29/29 [00:00<00:00, 40.60it/s]\n",
      "100%|██████████| 29/29 [00:00<00:00, 42.34it/s]\n",
      "100%|██████████| 29/29 [00:00<00:00, 41.87it/s]\n",
      "100%|██████████| 29/29 [00:00<00:00, 38.70it/s]\n",
      "100%|██████████| 29/29 [00:00<00:00, 30.66it/s]\n"
     ]
    },
    {
     "name": "stdout",
     "output_type": "stream",
     "text": [
      "[[1, 0.6893939393939394], [2, 0.7803030303030303], [3, 0.7803030303030303]]\n"
     ]
    },
    {
     "name": "stderr",
     "output_type": "stream",
     "text": [
      "  7%|▋         | 2/29 [00:00<00:01, 18.71it/s]"
     ]
    },
    {
     "name": "stdout",
     "output_type": "stream",
     "text": [
      "['tryptophan', '5-hydroxynorvaline NIST', 'hypoxanthine', 'malic acid']\n"
     ]
    },
    {
     "name": "stderr",
     "output_type": "stream",
     "text": [
      "100%|██████████| 29/29 [00:00<00:00, 41.01it/s]\n",
      "100%|██████████| 29/29 [00:00<00:00, 41.15it/s]\n",
      "100%|██████████| 29/29 [00:00<00:00, 44.91it/s]\n",
      "100%|██████████| 29/29 [00:00<00:00, 41.69it/s]\n",
      "100%|██████████| 29/29 [00:00<00:00, 40.25it/s]\n",
      "100%|██████████| 29/29 [00:00<00:00, 39.79it/s]\n",
      "100%|██████████| 29/29 [00:00<00:00, 39.88it/s]\n",
      "100%|██████████| 29/29 [00:00<00:00, 39.90it/s]\n",
      "100%|██████████| 29/29 [00:00<00:00, 40.10it/s]\n",
      "100%|██████████| 29/29 [00:00<00:00, 40.89it/s]\n"
     ]
    },
    {
     "name": "stdout",
     "output_type": "stream",
     "text": [
      "[[1, 0.6893939393939394], [2, 0.7803030303030303], [3, 0.7803030303030303], [4, 0.9090909090909094]]\n"
     ]
    },
    {
     "name": "stderr",
     "output_type": "stream",
     "text": [
      "  3%|▎         | 1/29 [00:00<00:02,  9.98it/s]"
     ]
    },
    {
     "name": "stdout",
     "output_type": "stream",
     "text": [
      "['asparagine', 'benzoic acid', 'tryptophan', 'uric acid', '5-hydroxynorvaline NIST']\n"
     ]
    },
    {
     "name": "stderr",
     "output_type": "stream",
     "text": [
      "100%|██████████| 29/29 [00:01<00:00, 27.98it/s]\n",
      "100%|██████████| 29/29 [00:00<00:00, 33.66it/s]\n",
      "100%|██████████| 29/29 [00:00<00:00, 38.45it/s]\n",
      "100%|██████████| 29/29 [00:00<00:00, 43.73it/s]\n",
      "100%|██████████| 29/29 [00:00<00:00, 45.36it/s]\n",
      "100%|██████████| 29/29 [00:00<00:00, 37.68it/s]\n",
      "100%|██████████| 29/29 [00:00<00:00, 32.23it/s]\n",
      "100%|██████████| 29/29 [00:00<00:00, 40.31it/s]\n",
      "100%|██████████| 29/29 [00:00<00:00, 44.51it/s]\n",
      "100%|██████████| 29/29 [00:00<00:00, 41.00it/s]\n"
     ]
    },
    {
     "name": "stdout",
     "output_type": "stream",
     "text": [
      "[[1, 0.6893939393939394], [2, 0.7803030303030303], [3, 0.7803030303030303], [4, 0.9090909090909094], [5, 0.6893939393939394]]\n"
     ]
    },
    {
     "name": "stderr",
     "output_type": "stream",
     "text": [
      " 14%|█▍        | 4/29 [00:00<00:00, 33.84it/s]"
     ]
    },
    {
     "name": "stdout",
     "output_type": "stream",
     "text": [
      "['benzoic acid', 'uric acid', '5-hydroxynorvaline NIST', 'alpha-ketoglutarate', 'glutamine', 'hypoxanthine']\n"
     ]
    },
    {
     "name": "stderr",
     "output_type": "stream",
     "text": [
      "100%|██████████| 29/29 [00:00<00:00, 42.51it/s]\n",
      "100%|██████████| 29/29 [00:00<00:00, 38.99it/s]\n",
      "100%|██████████| 29/29 [00:00<00:00, 34.27it/s]\n",
      "100%|██████████| 29/29 [00:00<00:00, 38.50it/s]\n",
      "100%|██████████| 29/29 [00:00<00:00, 44.90it/s]\n",
      "100%|██████████| 29/29 [00:00<00:00, 45.51it/s]\n",
      "100%|██████████| 29/29 [00:00<00:00, 40.39it/s]\n",
      "100%|██████████| 29/29 [00:00<00:00, 42.17it/s]\n",
      "100%|██████████| 29/29 [00:00<00:00, 44.52it/s]\n",
      "100%|██████████| 29/29 [00:00<00:00, 38.75it/s]\n"
     ]
    },
    {
     "name": "stdout",
     "output_type": "stream",
     "text": [
      "[[1, 0.6893939393939394], [2, 0.7803030303030303], [3, 0.7803030303030303], [4, 0.9090909090909094], [5, 0.6893939393939394], [6, 0.9090909090909094]]\n"
     ]
    },
    {
     "name": "stderr",
     "output_type": "stream",
     "text": [
      "  7%|▋         | 2/29 [00:00<00:01, 19.46it/s]"
     ]
    },
    {
     "name": "stdout",
     "output_type": "stream",
     "text": [
      "['uric acid', '5-hydroxynorvaline NIST', 'hypoxanthine', 'malic acid', 'methionine sulfoxide', 'nornicotine', '3-phosphoglycerate']\n"
     ]
    },
    {
     "name": "stderr",
     "output_type": "stream",
     "text": [
      "100%|██████████| 29/29 [00:00<00:00, 39.52it/s]\n",
      "100%|██████████| 29/29 [00:00<00:00, 40.66it/s]\n",
      "100%|██████████| 29/29 [00:00<00:00, 48.35it/s]\n",
      "100%|██████████| 29/29 [00:00<00:00, 39.53it/s]\n",
      "100%|██████████| 29/29 [00:00<00:00, 42.26it/s]\n",
      "100%|██████████| 29/29 [00:00<00:00, 39.62it/s]\n",
      "100%|██████████| 29/29 [00:00<00:00, 40.63it/s]\n",
      "100%|██████████| 29/29 [00:00<00:00, 41.24it/s]\n",
      "100%|██████████| 29/29 [00:00<00:00, 39.59it/s]\n",
      "100%|██████████| 29/29 [00:00<00:00, 39.00it/s]\n"
     ]
    },
    {
     "name": "stdout",
     "output_type": "stream",
     "text": [
      "[[1, 0.6893939393939394], [2, 0.7803030303030303], [3, 0.7803030303030303], [4, 0.9090909090909094], [5, 0.6893939393939394], [6, 0.9090909090909094], [7, 0.9090909090909094]]\n"
     ]
    },
    {
     "name": "stderr",
     "output_type": "stream",
     "text": [
      "  7%|▋         | 2/29 [00:00<00:01, 19.78it/s]"
     ]
    },
    {
     "name": "stdout",
     "output_type": "stream",
     "text": [
      "['nornicotine', '5-methoxytryptamine', 'adenosine-5-monophosphate', 'aspartic acid', 'maltose', 'phenol', 'pyrophosphate', 'taurine']\n"
     ]
    },
    {
     "name": "stderr",
     "output_type": "stream",
     "text": [
      "100%|██████████| 29/29 [00:00<00:00, 44.73it/s]\n",
      "100%|██████████| 29/29 [00:00<00:00, 39.35it/s]\n",
      "100%|██████████| 29/29 [00:00<00:00, 43.10it/s]\n",
      "100%|██████████| 29/29 [00:00<00:00, 40.04it/s]\n",
      "100%|██████████| 29/29 [00:00<00:00, 39.85it/s]\n",
      "100%|██████████| 29/29 [00:00<00:00, 43.70it/s]\n",
      "100%|██████████| 29/29 [00:00<00:00, 41.47it/s]\n",
      "100%|██████████| 29/29 [00:00<00:00, 39.11it/s]\n",
      "100%|██████████| 29/29 [00:00<00:00, 41.96it/s]\n",
      "100%|██████████| 29/29 [00:00<00:00, 40.42it/s]\n"
     ]
    },
    {
     "name": "stdout",
     "output_type": "stream",
     "text": [
      "[[1, 0.6893939393939394], [2, 0.7803030303030303], [3, 0.7803030303030303], [4, 0.9090909090909094], [5, 0.6893939393939394], [6, 0.9090909090909094], [7, 0.9090909090909094], [8, 0.7727272727272726]]\n"
     ]
    },
    {
     "name": "stderr",
     "output_type": "stream",
     "text": [
      "  7%|▋         | 2/29 [00:00<00:01, 17.90it/s]"
     ]
    },
    {
     "name": "stdout",
     "output_type": "stream",
     "text": [
      "['benzoic acid', 'uric acid', '5-hydroxynorvaline NIST', 'hypoxanthine', 'malic acid', 'nornicotine', '3-phosphoglycerate', '5-methoxytryptamine', 'adenosine-5-monophosphate']\n"
     ]
    },
    {
     "name": "stderr",
     "output_type": "stream",
     "text": [
      "100%|██████████| 29/29 [00:00<00:00, 44.29it/s]\n",
      "100%|██████████| 29/29 [00:00<00:00, 40.49it/s]\n",
      "100%|██████████| 29/29 [00:00<00:00, 42.06it/s]\n",
      "100%|██████████| 29/29 [00:00<00:00, 39.31it/s]\n",
      "100%|██████████| 29/29 [00:00<00:00, 41.63it/s]\n",
      "100%|██████████| 29/29 [00:00<00:00, 41.21it/s]\n",
      "100%|██████████| 29/29 [00:00<00:00, 39.24it/s]\n",
      "100%|██████████| 29/29 [00:00<00:00, 38.60it/s]\n",
      "100%|██████████| 29/29 [00:00<00:00, 39.26it/s]\n",
      "100%|██████████| 29/29 [00:00<00:00, 43.82it/s]\n"
     ]
    },
    {
     "name": "stdout",
     "output_type": "stream",
     "text": [
      "[[1, 0.6893939393939394], [2, 0.7803030303030303], [3, 0.7803030303030303], [4, 0.9090909090909094], [5, 0.6893939393939394], [6, 0.9090909090909094], [7, 0.9090909090909094], [8, 0.7727272727272726], [9, 0.9090909090909094]]\n"
     ]
    },
    {
     "name": "stderr",
     "output_type": "stream",
     "text": [
      " 10%|█         | 3/29 [00:00<00:01, 25.33it/s]"
     ]
    },
    {
     "name": "stdout",
     "output_type": "stream",
     "text": [
      "['tryptophan', '5-hydroxynorvaline NIST', 'alpha-ketoglutarate', 'glutamine', 'hypoxanthine', 'malic acid', 'methionine sulfoxide', 'nornicotine', 'octadecanol', '3-phosphoglycerate']\n"
     ]
    },
    {
     "name": "stderr",
     "output_type": "stream",
     "text": [
      "100%|██████████| 29/29 [00:00<00:00, 44.49it/s]\n",
      "100%|██████████| 29/29 [00:00<00:00, 41.22it/s]\n",
      "100%|██████████| 29/29 [00:00<00:00, 39.52it/s]\n",
      "100%|██████████| 29/29 [00:00<00:00, 39.09it/s]\n",
      "100%|██████████| 29/29 [00:00<00:00, 43.06it/s]\n",
      "100%|██████████| 29/29 [00:00<00:00, 41.34it/s]\n",
      "100%|██████████| 29/29 [00:00<00:00, 41.75it/s]\n",
      "100%|██████████| 29/29 [00:00<00:00, 41.32it/s]\n",
      "100%|██████████| 29/29 [00:00<00:00, 38.20it/s]\n",
      "100%|██████████| 29/29 [00:00<00:00, 41.12it/s]\n"
     ]
    },
    {
     "name": "stdout",
     "output_type": "stream",
     "text": [
      "[[1, 0.6893939393939394], [2, 0.7803030303030303], [3, 0.7803030303030303], [4, 0.9090909090909094], [5, 0.6893939393939394], [6, 0.9090909090909094], [7, 0.9090909090909094], [8, 0.7727272727272726], [9, 0.9090909090909094], [10, 0.9545454545454548]]\n"
     ]
    },
    {
     "name": "stderr",
     "output_type": "stream",
     "text": [
      "  7%|▋         | 2/29 [00:00<00:01, 18.17it/s]"
     ]
    },
    {
     "name": "stdout",
     "output_type": "stream",
     "text": [
      "['asparagine', 'benzoic acid', 'tryptophan', 'uric acid', '5-hydroxynorvaline NIST', 'alpha-ketoglutarate', 'citrulline', 'glutamine', 'hypoxanthine', 'malic acid', 'methionine sulfoxide']\n"
     ]
    },
    {
     "name": "stderr",
     "output_type": "stream",
     "text": [
      "100%|██████████| 29/29 [00:00<00:00, 41.15it/s]\n",
      "100%|██████████| 29/29 [00:00<00:00, 39.29it/s]\n",
      "100%|██████████| 29/29 [00:00<00:00, 42.78it/s]\n",
      "100%|██████████| 29/29 [00:00<00:00, 41.21it/s]\n",
      "100%|██████████| 29/29 [00:00<00:00, 39.62it/s]\n",
      "100%|██████████| 29/29 [00:00<00:00, 41.47it/s]\n",
      "100%|██████████| 29/29 [00:00<00:00, 37.89it/s]\n",
      "100%|██████████| 29/29 [00:00<00:00, 38.96it/s]\n",
      "100%|██████████| 29/29 [00:00<00:00, 43.08it/s]\n",
      "100%|██████████| 29/29 [00:00<00:00, 37.82it/s]\n"
     ]
    },
    {
     "name": "stdout",
     "output_type": "stream",
     "text": [
      "[[1, 0.6893939393939394], [2, 0.7803030303030303], [3, 0.7803030303030303], [4, 0.9090909090909094], [5, 0.6893939393939394], [6, 0.9090909090909094], [7, 0.9090909090909094], [8, 0.7727272727272726], [9, 0.9090909090909094], [10, 0.9545454545454548], [11, 0.8257575757575759]]\n"
     ]
    },
    {
     "name": "stderr",
     "output_type": "stream",
     "text": [
      " 10%|█         | 3/29 [00:00<00:00, 28.81it/s]"
     ]
    },
    {
     "name": "stdout",
     "output_type": "stream",
     "text": [
      "['asparagine', 'benzoic acid', 'tryptophan', 'uric acid', '5-hydroxynorvaline NIST', 'alpha-ketoglutarate', 'citrulline', 'glutamine', 'hypoxanthine', 'malic acid', 'methionine sulfoxide', 'nornicotine']\n"
     ]
    },
    {
     "name": "stderr",
     "output_type": "stream",
     "text": [
      "100%|██████████| 29/29 [00:00<00:00, 40.93it/s]\n",
      "100%|██████████| 29/29 [00:00<00:00, 41.07it/s]\n",
      "100%|██████████| 29/29 [00:00<00:00, 40.36it/s]\n",
      "100%|██████████| 29/29 [00:00<00:00, 40.67it/s]\n",
      "100%|██████████| 29/29 [00:00<00:00, 40.19it/s]\n",
      "100%|██████████| 29/29 [00:00<00:00, 39.49it/s]\n",
      "100%|██████████| 29/29 [00:00<00:00, 39.56it/s]\n",
      "100%|██████████| 29/29 [00:00<00:00, 43.91it/s]\n",
      "100%|██████████| 29/29 [00:00<00:00, 42.08it/s]\n",
      "100%|██████████| 29/29 [00:00<00:00, 42.41it/s]\n"
     ]
    },
    {
     "name": "stdout",
     "output_type": "stream",
     "text": [
      "[[1, 0.6893939393939394], [2, 0.7803030303030303], [3, 0.7803030303030303], [4, 0.9090909090909094], [5, 0.6893939393939394], [6, 0.9090909090909094], [7, 0.9090909090909094], [8, 0.7727272727272726], [9, 0.9090909090909094], [10, 0.9545454545454548], [11, 0.8257575757575759], [12, 0.8712121212121213]]\n"
     ]
    },
    {
     "name": "stderr",
     "output_type": "stream",
     "text": [
      "  7%|▋         | 2/29 [00:00<00:01, 16.94it/s]"
     ]
    },
    {
     "name": "stdout",
     "output_type": "stream",
     "text": [
      "['5-hydroxynorvaline NIST', 'nornicotine', '3-phosphoglycerate', '5-methoxytryptamine', 'adenosine-5-monophosphate', 'aspartic acid', 'lactic acid', 'maltose', 'maltotriose', 'phenol', 'phosphoethanolamine', 'pyrophosphate', 'taurine']\n"
     ]
    },
    {
     "name": "stderr",
     "output_type": "stream",
     "text": [
      "100%|██████████| 29/29 [00:00<00:00, 44.09it/s]\n",
      "100%|██████████| 29/29 [00:00<00:00, 38.81it/s]\n",
      "100%|██████████| 29/29 [00:00<00:00, 38.75it/s]\n",
      "100%|██████████| 29/29 [00:00<00:00, 40.45it/s]\n",
      "100%|██████████| 29/29 [00:00<00:00, 44.44it/s]\n",
      "100%|██████████| 29/29 [00:00<00:00, 43.15it/s]\n",
      "100%|██████████| 29/29 [00:00<00:00, 39.09it/s]\n",
      "100%|██████████| 29/29 [00:00<00:00, 36.63it/s]\n",
      "100%|██████████| 29/29 [00:00<00:00, 39.26it/s]\n",
      "100%|██████████| 29/29 [00:00<00:00, 41.97it/s]\n"
     ]
    },
    {
     "name": "stdout",
     "output_type": "stream",
     "text": [
      "[[1, 0.6893939393939394], [2, 0.7803030303030303], [3, 0.7803030303030303], [4, 0.9090909090909094], [5, 0.6893939393939394], [6, 0.9090909090909094], [7, 0.9090909090909094], [8, 0.7727272727272726], [9, 0.9090909090909094], [10, 0.9545454545454548], [11, 0.8257575757575759], [12, 0.8712121212121213], [13, 0.7727272727272726]]\n"
     ]
    },
    {
     "name": "stderr",
     "output_type": "stream",
     "text": [
      " 10%|█         | 3/29 [00:00<00:00, 26.92it/s]"
     ]
    },
    {
     "name": "stdout",
     "output_type": "stream",
     "text": [
      "['benzoic acid', 'tryptophan', 'uric acid', '5-hydroxynorvaline NIST', 'glutamine', 'hypoxanthine', 'malic acid', 'methionine sulfoxide', 'nornicotine', 'octadecanol', '3-phosphoglycerate', '5-methoxytryptamine', 'adenosine-5-monophosphate', 'aspartic acid']\n"
     ]
    },
    {
     "name": "stderr",
     "output_type": "stream",
     "text": [
      "100%|██████████| 29/29 [00:00<00:00, 42.75it/s]\n",
      "100%|██████████| 29/29 [00:00<00:00, 40.32it/s]\n",
      "100%|██████████| 29/29 [00:00<00:00, 43.48it/s]\n",
      "100%|██████████| 29/29 [00:00<00:00, 39.56it/s]\n",
      "100%|██████████| 29/29 [00:00<00:00, 40.62it/s]\n",
      "100%|██████████| 29/29 [00:00<00:00, 39.34it/s]\n",
      "100%|██████████| 29/29 [00:00<00:00, 38.26it/s]\n",
      "100%|██████████| 29/29 [00:00<00:00, 43.53it/s]\n",
      "100%|██████████| 29/29 [00:00<00:00, 38.54it/s]\n",
      "100%|██████████| 29/29 [00:00<00:00, 41.25it/s]\n"
     ]
    },
    {
     "name": "stdout",
     "output_type": "stream",
     "text": [
      "[[1, 0.6893939393939394], [2, 0.7803030303030303], [3, 0.7803030303030303], [4, 0.9090909090909094], [5, 0.6893939393939394], [6, 0.9090909090909094], [7, 0.9090909090909094], [8, 0.7727272727272726], [9, 0.9090909090909094], [10, 0.9545454545454548], [11, 0.8257575757575759], [12, 0.8712121212121213], [13, 0.7727272727272726], [14, 0.9090909090909094]]\n"
     ]
    },
    {
     "name": "stderr",
     "output_type": "stream",
     "text": [
      "  7%|▋         | 2/29 [00:00<00:01, 17.59it/s]"
     ]
    },
    {
     "name": "stdout",
     "output_type": "stream",
     "text": [
      "['asparagine', 'benzoic acid', 'tryptophan', 'uric acid', '5-hydroxynorvaline NIST', 'alpha-ketoglutarate', 'citrulline', 'glutamine', 'hypoxanthine', 'malic acid', 'methionine sulfoxide', 'nornicotine', 'octadecanol', '3-phosphoglycerate', '5-methoxytryptamine']\n"
     ]
    },
    {
     "name": "stderr",
     "output_type": "stream",
     "text": [
      "100%|██████████| 29/29 [00:00<00:00, 39.16it/s]\n",
      "100%|██████████| 29/29 [00:00<00:00, 39.39it/s]\n",
      "100%|██████████| 29/29 [00:00<00:00, 42.66it/s]\n",
      "100%|██████████| 29/29 [00:00<00:00, 38.51it/s]\n",
      "100%|██████████| 29/29 [00:00<00:00, 38.49it/s]\n",
      "100%|██████████| 29/29 [00:00<00:00, 40.87it/s]\n",
      "100%|██████████| 29/29 [00:00<00:00, 40.90it/s]\n",
      "100%|██████████| 29/29 [00:00<00:00, 45.07it/s]\n",
      "100%|██████████| 29/29 [00:00<00:00, 38.97it/s]\n",
      "100%|██████████| 29/29 [00:00<00:00, 39.79it/s]\n"
     ]
    },
    {
     "name": "stdout",
     "output_type": "stream",
     "text": [
      "[[1, 0.6893939393939394], [2, 0.7803030303030303], [3, 0.7803030303030303], [4, 0.9090909090909094], [5, 0.6893939393939394], [6, 0.9090909090909094], [7, 0.9090909090909094], [8, 0.7727272727272726], [9, 0.9090909090909094], [10, 0.9545454545454548], [11, 0.8257575757575759], [12, 0.8712121212121213], [13, 0.7727272727272726], [14, 0.9090909090909094], [15, 0.9166666666666667]]\n"
     ]
    },
    {
     "name": "stderr",
     "output_type": "stream",
     "text": [
      "  7%|▋         | 2/29 [00:00<00:01, 17.82it/s]"
     ]
    },
    {
     "name": "stdout",
     "output_type": "stream",
     "text": [
      "['benzoic acid', 'uric acid', '5-hydroxynorvaline NIST', 'methionine sulfoxide', 'nornicotine', '5-methoxytryptamine', 'adenosine-5-monophosphate', 'aspartic acid', 'lactic acid', 'maltose', 'maltotriose', 'phenol', 'phosphoethanolamine', 'pyrophosphate', 'pyruvic acid', 'taurine']\n"
     ]
    },
    {
     "name": "stderr",
     "output_type": "stream",
     "text": [
      "100%|██████████| 29/29 [00:00<00:00, 39.10it/s]\n",
      "100%|██████████| 29/29 [00:00<00:00, 38.37it/s]\n",
      "100%|██████████| 29/29 [00:00<00:00, 37.95it/s]\n",
      "100%|██████████| 29/29 [00:00<00:00, 44.44it/s]\n",
      "100%|██████████| 29/29 [00:00<00:00, 38.67it/s]\n",
      "100%|██████████| 29/29 [00:00<00:00, 41.87it/s]\n",
      "100%|██████████| 29/29 [00:00<00:00, 37.86it/s]\n",
      "100%|██████████| 29/29 [00:00<00:00, 41.98it/s]\n",
      "100%|██████████| 29/29 [00:00<00:00, 38.81it/s]\n",
      "100%|██████████| 29/29 [00:00<00:00, 40.67it/s]\n"
     ]
    },
    {
     "name": "stdout",
     "output_type": "stream",
     "text": [
      "[[1, 0.6893939393939394], [2, 0.7803030303030303], [3, 0.7803030303030303], [4, 0.9090909090909094], [5, 0.6893939393939394], [6, 0.9090909090909094], [7, 0.9090909090909094], [8, 0.7727272727272726], [9, 0.9090909090909094], [10, 0.9545454545454548], [11, 0.8257575757575759], [12, 0.8712121212121213], [13, 0.7727272727272726], [14, 0.9090909090909094], [15, 0.9166666666666667], [16, 0.8181818181818181]]\n"
     ]
    },
    {
     "name": "stderr",
     "output_type": "stream",
     "text": [
      " 10%|█         | 3/29 [00:00<00:00, 27.28it/s]"
     ]
    },
    {
     "name": "stdout",
     "output_type": "stream",
     "text": [
      "['tryptophan', '5-hydroxynorvaline NIST', 'malic acid', 'methionine sulfoxide', 'nornicotine', '3-phosphoglycerate', '5-methoxytryptamine', 'adenosine-5-monophosphate', 'aspartic acid', 'lactic acid', 'maltose', 'maltotriose', 'phenol', 'phosphoethanolamine', 'pyrophosphate', 'pyruvic acid', 'taurine']\n"
     ]
    },
    {
     "name": "stderr",
     "output_type": "stream",
     "text": [
      "100%|██████████| 29/29 [00:00<00:00, 47.51it/s]\n",
      "100%|██████████| 29/29 [00:00<00:00, 39.82it/s]\n",
      "100%|██████████| 29/29 [00:00<00:00, 38.25it/s]\n",
      "100%|██████████| 29/29 [00:00<00:00, 38.18it/s]\n",
      "100%|██████████| 29/29 [00:00<00:00, 40.87it/s]\n",
      "100%|██████████| 29/29 [00:00<00:00, 41.92it/s]\n",
      "100%|██████████| 29/29 [00:00<00:00, 41.44it/s]\n",
      "100%|██████████| 29/29 [00:00<00:00, 38.38it/s]\n",
      "100%|██████████| 29/29 [00:00<00:00, 39.46it/s]\n",
      "100%|██████████| 29/29 [00:00<00:00, 44.95it/s]\n"
     ]
    },
    {
     "name": "stdout",
     "output_type": "stream",
     "text": [
      "[[1, 0.6893939393939394], [2, 0.7803030303030303], [3, 0.7803030303030303], [4, 0.9090909090909094], [5, 0.6893939393939394], [6, 0.9090909090909094], [7, 0.9090909090909094], [8, 0.7727272727272726], [9, 0.9090909090909094], [10, 0.9545454545454548], [11, 0.8257575757575759], [12, 0.8712121212121213], [13, 0.7727272727272726], [14, 0.9090909090909094], [15, 0.9166666666666667], [16, 0.8181818181818181], [17, 0.8181818181818181]]\n"
     ]
    },
    {
     "name": "stderr",
     "output_type": "stream",
     "text": [
      "  7%|▋         | 2/29 [00:00<00:01, 18.14it/s]"
     ]
    },
    {
     "name": "stdout",
     "output_type": "stream",
     "text": [
      "['uric acid', '5-hydroxynorvaline NIST', 'alpha-ketoglutarate', 'hypoxanthine', 'malic acid', 'methionine sulfoxide', 'nornicotine', '3-phosphoglycerate', '5-methoxytryptamine', 'adenosine-5-monophosphate', 'aspartic acid', 'lactic acid', 'maltose', 'maltotriose', 'phenol', 'phosphoethanolamine', 'pyrophosphate', 'taurine']\n"
     ]
    },
    {
     "name": "stderr",
     "output_type": "stream",
     "text": [
      "100%|██████████| 29/29 [00:00<00:00, 37.07it/s]\n",
      "100%|██████████| 29/29 [00:00<00:00, 38.66it/s]\n",
      "100%|██████████| 29/29 [00:00<00:00, 37.87it/s]\n",
      "100%|██████████| 29/29 [00:00<00:00, 36.50it/s]\n",
      "100%|██████████| 29/29 [00:00<00:00, 34.20it/s]\n",
      "100%|██████████| 29/29 [00:00<00:00, 40.61it/s]\n",
      "100%|██████████| 29/29 [00:00<00:00, 39.19it/s]\n",
      "100%|██████████| 29/29 [00:00<00:00, 43.13it/s]\n",
      "100%|██████████| 29/29 [00:00<00:00, 30.99it/s]\n",
      "100%|██████████| 29/29 [00:00<00:00, 34.72it/s]\n"
     ]
    },
    {
     "name": "stdout",
     "output_type": "stream",
     "text": [
      "[[1, 0.6893939393939394], [2, 0.7803030303030303], [3, 0.7803030303030303], [4, 0.9090909090909094], [5, 0.6893939393939394], [6, 0.9090909090909094], [7, 0.9090909090909094], [8, 0.7727272727272726], [9, 0.9090909090909094], [10, 0.9545454545454548], [11, 0.8257575757575759], [12, 0.8712121212121213], [13, 0.7727272727272726], [14, 0.9090909090909094], [15, 0.9166666666666667], [16, 0.8181818181818181], [17, 0.8181818181818181], [18, 0.9090909090909094]]\n"
     ]
    },
    {
     "name": "stderr",
     "output_type": "stream",
     "text": [
      "  7%|▋         | 2/29 [00:00<00:01, 19.00it/s]"
     ]
    },
    {
     "name": "stdout",
     "output_type": "stream",
     "text": [
      "['asparagine', 'benzoic acid', 'tryptophan', 'uric acid', '5-hydroxynorvaline NIST', 'alpha-ketoglutarate', 'citrulline', 'glutamine', 'hypoxanthine', 'malic acid', 'methionine sulfoxide', 'nornicotine', 'octadecanol', '3-phosphoglycerate', '5-methoxytryptamine', 'adenosine-5-monophosphate', 'aspartic acid', 'lactic acid', 'maltose']\n"
     ]
    },
    {
     "name": "stderr",
     "output_type": "stream",
     "text": [
      "100%|██████████| 29/29 [00:00<00:00, 38.45it/s]\n",
      "100%|██████████| 29/29 [00:00<00:00, 35.78it/s]\n",
      "100%|██████████| 29/29 [00:00<00:00, 33.20it/s]\n",
      "100%|██████████| 29/29 [00:00<00:00, 38.37it/s]\n",
      "100%|██████████| 29/29 [00:00<00:00, 29.91it/s]\n",
      "100%|██████████| 29/29 [00:00<00:00, 35.01it/s]\n",
      "100%|██████████| 29/29 [00:01<00:00, 26.13it/s]\n",
      "100%|██████████| 29/29 [00:00<00:00, 36.64it/s]\n",
      "100%|██████████| 29/29 [00:00<00:00, 36.66it/s]\n",
      "100%|██████████| 29/29 [00:00<00:00, 37.82it/s]\n"
     ]
    },
    {
     "name": "stdout",
     "output_type": "stream",
     "text": [
      "[[1, 0.6893939393939394], [2, 0.7803030303030303], [3, 0.7803030303030303], [4, 0.9090909090909094], [5, 0.6893939393939394], [6, 0.9090909090909094], [7, 0.9090909090909094], [8, 0.7727272727272726], [9, 0.9090909090909094], [10, 0.9545454545454548], [11, 0.8257575757575759], [12, 0.8712121212121213], [13, 0.7727272727272726], [14, 0.9090909090909094], [15, 0.9166666666666667], [16, 0.8181818181818181], [17, 0.8181818181818181], [18, 0.9090909090909094], [19, 1.0]]\n"
     ]
    },
    {
     "name": "stderr",
     "output_type": "stream",
     "text": [
      "  7%|▋         | 2/29 [00:00<00:01, 17.75it/s]"
     ]
    },
    {
     "name": "stdout",
     "output_type": "stream",
     "text": [
      "['benzoic acid', 'uric acid', '5-hydroxynorvaline NIST', 'citrulline', 'hypoxanthine', 'malic acid', 'methionine sulfoxide', 'nornicotine', 'octadecanol', '3-phosphoglycerate', '5-methoxytryptamine', 'adenosine-5-monophosphate', 'aspartic acid', 'lactic acid', 'maltose', 'maltotriose', 'phenol', 'phosphoethanolamine', 'pyrophosphate', 'pyruvic acid']\n"
     ]
    },
    {
     "name": "stderr",
     "output_type": "stream",
     "text": [
      "100%|██████████| 29/29 [00:00<00:00, 43.51it/s]\n",
      "100%|██████████| 29/29 [00:00<00:00, 38.75it/s]\n",
      "100%|██████████| 29/29 [00:00<00:00, 35.34it/s]\n",
      "100%|██████████| 29/29 [00:00<00:00, 38.42it/s]\n",
      "100%|██████████| 29/29 [00:00<00:00, 38.24it/s]\n",
      "100%|██████████| 29/29 [00:00<00:00, 36.24it/s]\n",
      "100%|██████████| 29/29 [00:00<00:00, 40.56it/s]\n",
      "100%|██████████| 29/29 [00:00<00:00, 39.83it/s]\n",
      "100%|██████████| 29/29 [00:00<00:00, 44.37it/s]\n",
      "100%|██████████| 29/29 [00:00<00:00, 33.86it/s]\n"
     ]
    },
    {
     "name": "stdout",
     "output_type": "stream",
     "text": [
      "[[1, 0.6893939393939394], [2, 0.7803030303030303], [3, 0.7803030303030303], [4, 0.9090909090909094], [5, 0.6893939393939394], [6, 0.9090909090909094], [7, 0.9090909090909094], [8, 0.7727272727272726], [9, 0.9090909090909094], [10, 0.9545454545454548], [11, 0.8257575757575759], [12, 0.8712121212121213], [13, 0.7727272727272726], [14, 0.9090909090909094], [15, 0.9166666666666667], [16, 0.8181818181818181], [17, 0.8181818181818181], [18, 0.9090909090909094], [19, 1.0], [20, 0.9090909090909094]]\n"
     ]
    },
    {
     "name": "stderr",
     "output_type": "stream",
     "text": [
      "  7%|▋         | 2/29 [00:00<00:01, 16.56it/s]"
     ]
    },
    {
     "name": "stdout",
     "output_type": "stream",
     "text": [
      "['benzoic acid', 'uric acid', '5-hydroxynorvaline NIST', 'alpha-ketoglutarate', 'hypoxanthine', 'malic acid', 'methionine sulfoxide', 'nornicotine', 'octadecanol', '3-phosphoglycerate', '5-methoxytryptamine', 'adenosine-5-monophosphate', 'aspartic acid', 'lactic acid', 'maltose', 'maltotriose', 'phenol', 'phosphoethanolamine', 'pyrophosphate', 'pyruvic acid', 'taurine']\n"
     ]
    },
    {
     "name": "stderr",
     "output_type": "stream",
     "text": [
      "100%|██████████| 29/29 [00:00<00:00, 40.05it/s]\n",
      "100%|██████████| 29/29 [00:01<00:00, 25.53it/s]\n",
      "100%|██████████| 29/29 [00:01<00:00, 28.65it/s]\n",
      "100%|██████████| 29/29 [00:01<00:00, 27.63it/s]\n",
      "100%|██████████| 29/29 [00:00<00:00, 34.85it/s]\n",
      "100%|██████████| 29/29 [00:00<00:00, 38.24it/s]\n",
      "100%|██████████| 29/29 [00:00<00:00, 38.95it/s]\n",
      "100%|██████████| 29/29 [00:00<00:00, 42.52it/s]\n",
      "100%|██████████| 29/29 [00:00<00:00, 44.40it/s]\n",
      "100%|██████████| 29/29 [00:00<00:00, 37.95it/s]\n"
     ]
    },
    {
     "name": "stdout",
     "output_type": "stream",
     "text": [
      "[[1, 0.6893939393939394], [2, 0.7803030303030303], [3, 0.7803030303030303], [4, 0.9090909090909094], [5, 0.6893939393939394], [6, 0.9090909090909094], [7, 0.9090909090909094], [8, 0.7727272727272726], [9, 0.9090909090909094], [10, 0.9545454545454548], [11, 0.8257575757575759], [12, 0.8712121212121213], [13, 0.7727272727272726], [14, 0.9090909090909094], [15, 0.9166666666666667], [16, 0.8181818181818181], [17, 0.8181818181818181], [18, 0.9090909090909094], [19, 1.0], [20, 0.9090909090909094], [21, 0.9545454545454548]]\n"
     ]
    },
    {
     "name": "stderr",
     "output_type": "stream",
     "text": [
      "  7%|▋         | 2/29 [00:00<00:01, 17.95it/s]"
     ]
    },
    {
     "name": "stdout",
     "output_type": "stream",
     "text": [
      "['benzoic acid', 'uric acid', '5-hydroxynorvaline NIST', 'alpha-ketoglutarate', 'glutamine', 'hypoxanthine', 'malic acid', 'methionine sulfoxide', 'nornicotine', 'octadecanol', '3-phosphoglycerate', '5-methoxytryptamine', 'adenosine-5-monophosphate', 'aspartic acid', 'lactic acid', 'maltose', 'maltotriose', 'phenol', 'phosphoethanolamine', 'pyrophosphate', 'pyruvic acid', 'taurine']\n"
     ]
    },
    {
     "name": "stderr",
     "output_type": "stream",
     "text": [
      "100%|██████████| 29/29 [00:00<00:00, 38.63it/s]\n",
      "100%|██████████| 29/29 [00:00<00:00, 41.03it/s]\n",
      "100%|██████████| 29/29 [00:00<00:00, 37.28it/s]\n",
      "100%|██████████| 29/29 [00:00<00:00, 37.63it/s]\n",
      "100%|██████████| 29/29 [00:00<00:00, 42.22it/s]\n",
      "100%|██████████| 29/29 [00:00<00:00, 42.55it/s]\n",
      "100%|██████████| 29/29 [00:00<00:00, 43.81it/s]\n",
      "100%|██████████| 29/29 [00:00<00:00, 36.04it/s]\n",
      "100%|██████████| 29/29 [00:00<00:00, 34.89it/s]\n",
      "100%|██████████| 29/29 [00:00<00:00, 33.93it/s]\n"
     ]
    },
    {
     "name": "stdout",
     "output_type": "stream",
     "text": [
      "[[1, 0.6893939393939394], [2, 0.7803030303030303], [3, 0.7803030303030303], [4, 0.9090909090909094], [5, 0.6893939393939394], [6, 0.9090909090909094], [7, 0.9090909090909094], [8, 0.7727272727272726], [9, 0.9090909090909094], [10, 0.9545454545454548], [11, 0.8257575757575759], [12, 0.8712121212121213], [13, 0.7727272727272726], [14, 0.9090909090909094], [15, 0.9166666666666667], [16, 0.8181818181818181], [17, 0.8181818181818181], [18, 0.9090909090909094], [19, 1.0], [20, 0.9090909090909094], [21, 0.9545454545454548], [22, 0.9545454545454548]]\n"
     ]
    },
    {
     "name": "stderr",
     "output_type": "stream",
     "text": [
      " 10%|█         | 3/29 [00:00<00:00, 28.29it/s]"
     ]
    },
    {
     "name": "stdout",
     "output_type": "stream",
     "text": [
      "['benzoic acid', 'tryptophan', 'uric acid', '5-hydroxynorvaline NIST', 'alpha-ketoglutarate', 'citrulline', 'hypoxanthine', 'malic acid', 'methionine sulfoxide', 'nornicotine', 'octadecanol', '3-phosphoglycerate', '5-methoxytryptamine', 'adenosine-5-monophosphate', 'aspartic acid', 'lactic acid', 'maltose', 'maltotriose', 'phenol', 'phosphoethanolamine', 'pyrophosphate', 'pyruvic acid', 'taurine']\n"
     ]
    },
    {
     "name": "stderr",
     "output_type": "stream",
     "text": [
      "100%|██████████| 29/29 [00:00<00:00, 29.16it/s]\n",
      "100%|██████████| 29/29 [00:00<00:00, 32.54it/s]\n",
      "100%|██████████| 29/29 [00:00<00:00, 35.34it/s]\n",
      "100%|██████████| 29/29 [00:00<00:00, 33.63it/s]\n",
      "100%|██████████| 29/29 [00:00<00:00, 38.53it/s]\n",
      "100%|██████████| 29/29 [00:00<00:00, 38.52it/s]\n",
      "100%|██████████| 29/29 [00:00<00:00, 43.37it/s]\n",
      "100%|██████████| 29/29 [00:00<00:00, 38.69it/s]\n",
      "100%|██████████| 29/29 [00:00<00:00, 38.24it/s]\n",
      "100%|██████████| 29/29 [00:00<00:00, 39.89it/s]\n"
     ]
    },
    {
     "name": "stdout",
     "output_type": "stream",
     "text": [
      "[[1, 0.6893939393939394], [2, 0.7803030303030303], [3, 0.7803030303030303], [4, 0.9090909090909094], [5, 0.6893939393939394], [6, 0.9090909090909094], [7, 0.9090909090909094], [8, 0.7727272727272726], [9, 0.9090909090909094], [10, 0.9545454545454548], [11, 0.8257575757575759], [12, 0.8712121212121213], [13, 0.7727272727272726], [14, 0.9090909090909094], [15, 0.9166666666666667], [16, 0.8181818181818181], [17, 0.8181818181818181], [18, 0.9090909090909094], [19, 1.0], [20, 0.9090909090909094], [21, 0.9545454545454548], [22, 0.9545454545454548], [23, 0.9545454545454548]]\n"
     ]
    },
    {
     "name": "stderr",
     "output_type": "stream",
     "text": [
      "  7%|▋         | 2/29 [00:00<00:01, 18.29it/s]"
     ]
    },
    {
     "name": "stdout",
     "output_type": "stream",
     "text": [
      "['asparagine', 'benzoic acid', 'tryptophan', 'uric acid', '5-hydroxynorvaline NIST', 'alpha-ketoglutarate', 'citrulline', 'glutamine', 'hypoxanthine', 'malic acid', 'methionine sulfoxide', 'nornicotine', 'octadecanol', '3-phosphoglycerate', '5-methoxytryptamine', 'adenosine-5-monophosphate', 'aspartic acid', 'lactic acid', 'maltose', 'maltotriose', 'N-methylalanine', 'phenol', 'phosphoethanolamine', 'pyrophosphate']\n"
     ]
    },
    {
     "name": "stderr",
     "output_type": "stream",
     "text": [
      "100%|██████████| 29/29 [00:00<00:00, 42.01it/s]\n",
      "100%|██████████| 29/29 [00:00<00:00, 43.15it/s]\n",
      "100%|██████████| 29/29 [00:00<00:00, 41.11it/s]\n",
      "100%|██████████| 29/29 [00:00<00:00, 38.63it/s]\n",
      "100%|██████████| 29/29 [00:00<00:00, 38.92it/s]\n",
      "100%|██████████| 29/29 [00:00<00:00, 39.07it/s]\n",
      "100%|██████████| 29/29 [00:00<00:00, 38.91it/s]\n",
      "100%|██████████| 29/29 [00:00<00:00, 35.07it/s]\n",
      "100%|██████████| 29/29 [00:00<00:00, 41.62it/s]\n",
      "100%|██████████| 29/29 [00:00<00:00, 41.66it/s]\n"
     ]
    },
    {
     "name": "stdout",
     "output_type": "stream",
     "text": [
      "[[1, 0.6893939393939394], [2, 0.7803030303030303], [3, 0.7803030303030303], [4, 0.9090909090909094], [5, 0.6893939393939394], [6, 0.9090909090909094], [7, 0.9090909090909094], [8, 0.7727272727272726], [9, 0.9090909090909094], [10, 0.9545454545454548], [11, 0.8257575757575759], [12, 0.8712121212121213], [13, 0.7727272727272726], [14, 0.9090909090909094], [15, 0.9166666666666667], [16, 0.8181818181818181], [17, 0.8181818181818181], [18, 0.9090909090909094], [19, 1.0], [20, 0.9090909090909094], [21, 0.9545454545454548], [22, 0.9545454545454548], [23, 0.9545454545454548], [24, 1.0]]\n"
     ]
    },
    {
     "name": "stderr",
     "output_type": "stream",
     "text": [
      "  7%|▋         | 2/29 [00:00<00:01, 18.01it/s]"
     ]
    },
    {
     "name": "stdout",
     "output_type": "stream",
     "text": [
      "['asparagine', 'benzoic acid', 'tryptophan', 'uric acid', '5-hydroxynorvaline NIST', 'alpha-ketoglutarate', 'citrulline', 'glutamine', 'hypoxanthine', 'malic acid', 'methionine sulfoxide', 'nornicotine', 'octadecanol', '3-phosphoglycerate', '5-methoxytryptamine', 'adenosine-5-monophosphate', 'aspartic acid', 'lactic acid', 'maltose', 'maltotriose', 'phenol', 'phosphoethanolamine', 'pyrophosphate', 'pyruvic acid', 'taurine']\n"
     ]
    },
    {
     "name": "stderr",
     "output_type": "stream",
     "text": [
      "100%|██████████| 29/29 [00:00<00:00, 33.21it/s]\n",
      "100%|██████████| 29/29 [00:00<00:00, 36.57it/s]\n",
      "100%|██████████| 29/29 [00:00<00:00, 35.78it/s]\n",
      "100%|██████████| 29/29 [00:00<00:00, 35.93it/s]\n",
      "100%|██████████| 29/29 [00:00<00:00, 36.06it/s]\n",
      "100%|██████████| 29/29 [00:00<00:00, 41.02it/s]\n",
      "100%|██████████| 29/29 [00:00<00:00, 35.72it/s]\n",
      "100%|██████████| 29/29 [00:00<00:00, 33.31it/s]\n",
      "100%|██████████| 29/29 [00:00<00:00, 35.30it/s]\n",
      "100%|██████████| 29/29 [00:00<00:00, 38.24it/s]\n"
     ]
    },
    {
     "name": "stdout",
     "output_type": "stream",
     "text": [
      "[[1, 0.6893939393939394], [2, 0.7803030303030303], [3, 0.7803030303030303], [4, 0.9090909090909094], [5, 0.6893939393939394], [6, 0.9090909090909094], [7, 0.9090909090909094], [8, 0.7727272727272726], [9, 0.9090909090909094], [10, 0.9545454545454548], [11, 0.8257575757575759], [12, 0.8712121212121213], [13, 0.7727272727272726], [14, 0.9090909090909094], [15, 0.9166666666666667], [16, 0.8181818181818181], [17, 0.8181818181818181], [18, 0.9090909090909094], [19, 1.0], [20, 0.9090909090909094], [21, 0.9545454545454548], [22, 0.9545454545454548], [23, 0.9545454545454548], [24, 1.0], [25, 0.9545454545454548]]\n"
     ]
    },
    {
     "name": "stderr",
     "output_type": "stream",
     "text": [
      "  7%|▋         | 2/29 [00:00<00:01, 16.55it/s]"
     ]
    },
    {
     "name": "stdout",
     "output_type": "stream",
     "text": [
      "['asparagine', 'benzoic acid', 'tryptophan', 'uric acid', '5-hydroxynorvaline NIST', 'alpha-ketoglutarate', 'citrulline', 'glutamine', 'hypoxanthine', 'malic acid', 'methionine sulfoxide', 'nornicotine', 'octadecanol', '3-phosphoglycerate', '5-methoxytryptamine', 'adenosine-5-monophosphate', 'aspartic acid', 'lactic acid', 'maltose', 'maltotriose', 'N-methylalanine', 'phenol', 'phosphoethanolamine', 'pyrophosphate', 'pyruvic acid', 'taurine']\n"
     ]
    },
    {
     "name": "stderr",
     "output_type": "stream",
     "text": [
      "100%|██████████| 29/29 [00:00<00:00, 37.57it/s]\n",
      "100%|██████████| 29/29 [00:00<00:00, 35.81it/s]\n",
      "100%|██████████| 29/29 [00:01<00:00, 27.92it/s]\n",
      "100%|██████████| 29/29 [00:00<00:00, 36.77it/s]\n",
      "100%|██████████| 29/29 [00:00<00:00, 38.36it/s]\n",
      "100%|██████████| 29/29 [00:00<00:00, 40.31it/s]\n",
      "100%|██████████| 29/29 [00:00<00:00, 38.32it/s]\n",
      "100%|██████████| 29/29 [00:00<00:00, 39.10it/s]\n",
      "100%|██████████| 29/29 [00:00<00:00, 44.45it/s]\n",
      "100%|██████████| 29/29 [00:00<00:00, 33.20it/s]"
     ]
    },
    {
     "name": "stdout",
     "output_type": "stream",
     "text": [
      "[[1, 0.6893939393939394], [2, 0.7803030303030303], [3, 0.7803030303030303], [4, 0.9090909090909094], [5, 0.6893939393939394], [6, 0.9090909090909094], [7, 0.9090909090909094], [8, 0.7727272727272726], [9, 0.9090909090909094], [10, 0.9545454545454548], [11, 0.8257575757575759], [12, 0.8712121212121213], [13, 0.7727272727272726], [14, 0.9090909090909094], [15, 0.9166666666666667], [16, 0.8181818181818181], [17, 0.8181818181818181], [18, 0.9090909090909094], [19, 1.0], [20, 0.9090909090909094], [21, 0.9545454545454548], [22, 0.9545454545454548], [23, 0.9545454545454548], [24, 1.0], [25, 0.9545454545454548], [26, 0.9545454545454548]]\n"
     ]
    },
    {
     "name": "stderr",
     "output_type": "stream",
     "text": [
      "\n"
     ]
    }
   ],
   "source": [
    "plasma_accuracy = rfecv_accuracy(plasma, 26, 'RidgeClassifier')"
   ]
  },
  {
   "cell_type": "code",
   "execution_count": 3,
   "metadata": {},
   "outputs": [],
   "source": [
    "plasma_accuracy = pd.DataFrame(plasma_accuracy, columns= [\"Number of Metabolites\", \"Accuracy\"])"
   ]
  },
  {
   "cell_type": "code",
   "execution_count": 5,
   "metadata": {},
   "outputs": [],
   "source": [
    "plasma_accuracy.to_csv(\"Plasma Accuracy.csv\", index=False)"
   ]
  },
  {
   "cell_type": "code",
   "execution_count": 6,
   "metadata": {},
   "outputs": [
    {
     "data": {
      "image/png": "[encoded data removed]",
      "text/plain": [
       "<Figure size 432x288 with 1 Axes>"
      ]
     },
     "metadata": {
      "needs_background": "light"
     },
     "output_type": "display_data"
    }
   ],
   "source": [
    "fig = plt.gcf()\n",
    "# plt.figure(figsize=(10, 6))\n",
    "\n",
    "plt.plot(plasma_accuracy[\"Number of Metabolites\"], plasma_accuracy.Accuracy, 'o-')\n",
    "plt.ylabel('Accuracy')\n",
    "plt.xlabel('Number of Metabolites')\n",
    "# plt.title('Plasma RFECV Accuracy Plot')\n",
    "plt.annotate(\"1.0\", (17.5, 1))\n",
    "plt.annotate(\"1.0\", (22.5, 1))\n",
    "plt.xticks(np.arange(0, 26+1, 2))\n",
    "plt.show()\n",
    "fig.savefig('Plasma RFECV Accuracy Plot.png', dpi=500)"
   ]
  },
  {
   "cell_type": "markdown",
   "metadata": {},
   "source": [
    "# Serum"
   ]
  },
  {
   "cell_type": "code",
   "execution_count": 86,
   "metadata": {},
   "outputs": [
    {
     "name": "stderr",
     "output_type": "stream",
     "text": [
      "  7%|▋         | 2/29 [00:00<00:01, 19.04it/s]"
     ]
    },
    {
     "name": "stdout",
     "output_type": "stream",
     "text": [
      "['cholesterol']\n"
     ]
    },
    {
     "name": "stderr",
     "output_type": "stream",
     "text": [
      "100%|██████████| 29/29 [00:00<00:00, 40.83it/s]\n",
      "100%|██████████| 29/29 [00:00<00:00, 47.13it/s]\n",
      "100%|██████████| 29/29 [00:00<00:00, 43.72it/s]\n",
      "100%|██████████| 29/29 [00:00<00:00, 45.52it/s]\n",
      "100%|██████████| 29/29 [00:00<00:00, 40.29it/s]\n",
      "100%|██████████| 29/29 [00:00<00:00, 40.68it/s]\n",
      "100%|██████████| 29/29 [00:00<00:00, 41.34it/s]\n",
      "100%|██████████| 29/29 [00:00<00:00, 41.26it/s]\n",
      "100%|██████████| 29/29 [00:00<00:00, 36.04it/s]\n",
      "100%|██████████| 29/29 [00:00<00:00, 36.19it/s]\n"
     ]
    },
    {
     "name": "stdout",
     "output_type": "stream",
     "text": [
      "[[1, 0.7348484848484848]]\n"
     ]
    },
    {
     "name": "stderr",
     "output_type": "stream",
     "text": [
      "  7%|▋         | 2/29 [00:00<00:01, 16.94it/s]"
     ]
    },
    {
     "name": "stdout",
     "output_type": "stream",
     "text": [
      "['cholesterol', 'threonine']\n"
     ]
    },
    {
     "name": "stderr",
     "output_type": "stream",
     "text": [
      "100%|██████████| 29/29 [00:00<00:00, 43.47it/s]\n",
      "100%|██████████| 29/29 [00:00<00:00, 34.62it/s]\n",
      "100%|██████████| 29/29 [00:00<00:00, 38.43it/s]\n",
      "100%|██████████| 29/29 [00:00<00:00, 39.47it/s]\n",
      "100%|██████████| 29/29 [00:00<00:00, 40.15it/s]\n",
      "100%|██████████| 29/29 [00:00<00:00, 43.90it/s]\n",
      "100%|██████████| 29/29 [00:00<00:00, 44.04it/s]\n",
      "100%|██████████| 29/29 [00:00<00:00, 39.15it/s]\n",
      "100%|██████████| 29/29 [00:00<00:00, 38.41it/s]\n",
      "100%|██████████| 29/29 [00:00<00:00, 38.91it/s]\n"
     ]
    },
    {
     "name": "stdout",
     "output_type": "stream",
     "text": [
      "[[1, 0.7348484848484848], [2, 0.6515151515151515]]\n"
     ]
    },
    {
     "name": "stderr",
     "output_type": "stream",
     "text": [
      " 10%|█         | 3/29 [00:00<00:00, 27.78it/s]"
     ]
    },
    {
     "name": "stdout",
     "output_type": "stream",
     "text": [
      "['5-hydroxynorvaline NIST', 'inosine', 'aspartic acid']\n"
     ]
    },
    {
     "name": "stderr",
     "output_type": "stream",
     "text": [
      "100%|██████████| 29/29 [00:00<00:00, 44.11it/s]\n",
      "100%|██████████| 29/29 [00:00<00:00, 42.74it/s]\n",
      "100%|██████████| 29/29 [00:00<00:00, 38.45it/s]\n",
      "100%|██████████| 29/29 [00:00<00:00, 41.38it/s]\n",
      "100%|██████████| 29/29 [00:00<00:00, 41.18it/s]\n",
      "100%|██████████| 29/29 [00:00<00:00, 40.00it/s]\n",
      "100%|██████████| 29/29 [00:00<00:00, 40.89it/s]\n",
      "100%|██████████| 29/29 [00:00<00:00, 30.03it/s]\n",
      "100%|██████████| 29/29 [00:00<00:00, 29.14it/s]\n",
      "100%|██████████| 29/29 [00:00<00:00, 32.16it/s]\n"
     ]
    },
    {
     "name": "stdout",
     "output_type": "stream",
     "text": [
      "[[1, 0.7348484848484848], [2, 0.6515151515151515], [3, 0.7803030303030303]]\n"
     ]
    },
    {
     "name": "stderr",
     "output_type": "stream",
     "text": [
      "  7%|▋         | 2/29 [00:00<00:01, 18.52it/s]"
     ]
    },
    {
     "name": "stdout",
     "output_type": "stream",
     "text": [
      "['cholesterol', 'threonine', 'uric acid', '3-hydroxybutanoic acid']\n"
     ]
    },
    {
     "name": "stderr",
     "output_type": "stream",
     "text": [
      "100%|██████████| 29/29 [00:00<00:00, 40.35it/s]\n",
      "100%|██████████| 29/29 [00:00<00:00, 31.80it/s]\n",
      "100%|██████████| 29/29 [00:00<00:00, 37.79it/s]\n",
      "100%|██████████| 29/29 [00:00<00:00, 30.87it/s]\n",
      "100%|██████████| 29/29 [00:00<00:00, 38.41it/s]\n",
      "100%|██████████| 29/29 [00:00<00:00, 45.58it/s]\n",
      "100%|██████████| 29/29 [00:01<00:00, 26.77it/s]\n",
      "100%|██████████| 29/29 [00:01<00:00, 27.66it/s]\n",
      "100%|██████████| 29/29 [00:00<00:00, 36.12it/s]\n",
      "100%|██████████| 29/29 [00:00<00:00, 33.70it/s]\n"
     ]
    },
    {
     "name": "stdout",
     "output_type": "stream",
     "text": [
      "[[1, 0.7348484848484848], [2, 0.6515151515151515], [3, 0.7803030303030303], [4, 0.5984848484848485]]\n"
     ]
    },
    {
     "name": "stderr",
     "output_type": "stream",
     "text": [
      "  7%|▋         | 2/29 [00:00<00:01, 15.64it/s]"
     ]
    },
    {
     "name": "stdout",
     "output_type": "stream",
     "text": [
      "['cholesterol', 'threonine', 'uric acid', '3-hydroxybutanoic acid', '5-hydroxynorvaline NIST']\n"
     ]
    },
    {
     "name": "stderr",
     "output_type": "stream",
     "text": [
      "100%|██████████| 29/29 [00:00<00:00, 35.97it/s]\n",
      "100%|██████████| 29/29 [00:00<00:00, 31.02it/s]\n",
      "100%|██████████| 29/29 [00:00<00:00, 32.31it/s]\n",
      "100%|██████████| 29/29 [00:00<00:00, 36.78it/s]\n",
      "100%|██████████| 29/29 [00:00<00:00, 39.00it/s]\n",
      "100%|██████████| 29/29 [00:00<00:00, 41.36it/s]\n",
      "100%|██████████| 29/29 [00:00<00:00, 38.10it/s]\n",
      "100%|██████████| 29/29 [00:00<00:00, 42.53it/s]\n",
      "100%|██████████| 29/29 [00:00<00:00, 37.87it/s]\n",
      "100%|██████████| 29/29 [00:00<00:00, 41.18it/s]\n"
     ]
    },
    {
     "name": "stdout",
     "output_type": "stream",
     "text": [
      "[[1, 0.7348484848484848], [2, 0.6515151515151515], [3, 0.7803030303030303], [4, 0.5984848484848485], [5, 0.7727272727272726]]\n"
     ]
    },
    {
     "name": "stderr",
     "output_type": "stream",
     "text": [
      "  7%|▋         | 2/29 [00:00<00:01, 18.04it/s]"
     ]
    },
    {
     "name": "stdout",
     "output_type": "stream",
     "text": [
      "['cholesterol', 'threonine', 'uric acid', '3-hydroxybutanoic acid', '5-hydroxynorvaline NIST', 'inosine']\n"
     ]
    },
    {
     "name": "stderr",
     "output_type": "stream",
     "text": [
      "100%|██████████| 29/29 [00:00<00:00, 32.35it/s]\n",
      "100%|██████████| 29/29 [00:00<00:00, 39.24it/s]\n",
      "100%|██████████| 29/29 [00:01<00:00, 24.35it/s]\n",
      "100%|██████████| 29/29 [00:00<00:00, 35.51it/s]\n",
      "100%|██████████| 29/29 [00:00<00:00, 40.57it/s]\n",
      "100%|██████████| 29/29 [00:00<00:00, 39.14it/s]\n",
      "100%|██████████| 29/29 [00:00<00:00, 41.60it/s]\n",
      "100%|██████████| 29/29 [00:00<00:00, 39.50it/s]\n",
      "100%|██████████| 29/29 [00:00<00:00, 39.31it/s]\n",
      "100%|██████████| 29/29 [00:00<00:00, 39.11it/s]\n"
     ]
    },
    {
     "name": "stdout",
     "output_type": "stream",
     "text": [
      "[[1, 0.7348484848484848], [2, 0.6515151515151515], [3, 0.7803030303030303], [4, 0.5984848484848485], [5, 0.7727272727272726], [6, 0.7727272727272726]]\n"
     ]
    },
    {
     "name": "stderr",
     "output_type": "stream",
     "text": [
      "  3%|▎         | 1/29 [00:00<00:03,  7.75it/s]"
     ]
    },
    {
     "name": "stdout",
     "output_type": "stream",
     "text": [
      "['cholesterol', 'threonine', 'uric acid', '3-hydroxybutanoic acid', '5-hydroxynorvaline NIST', 'inosine', 'lactic acid']\n"
     ]
    },
    {
     "name": "stderr",
     "output_type": "stream",
     "text": [
      "100%|██████████| 29/29 [00:00<00:00, 33.41it/s]\n",
      "100%|██████████| 29/29 [00:00<00:00, 39.67it/s]\n",
      "100%|██████████| 29/29 [00:00<00:00, 40.77it/s]\n",
      "100%|██████████| 29/29 [00:00<00:00, 42.43it/s]\n",
      "100%|██████████| 29/29 [00:00<00:00, 39.13it/s]\n",
      "100%|██████████| 29/29 [00:00<00:00, 40.32it/s]\n",
      "100%|██████████| 29/29 [00:00<00:00, 39.03it/s]\n",
      "100%|██████████| 29/29 [00:00<00:00, 39.44it/s]\n",
      "100%|██████████| 29/29 [00:00<00:00, 38.59it/s]\n",
      "100%|██████████| 29/29 [00:01<00:00, 25.64it/s]\n"
     ]
    },
    {
     "name": "stdout",
     "output_type": "stream",
     "text": [
      "[[1, 0.7348484848484848], [2, 0.6515151515151515], [3, 0.7803030303030303], [4, 0.5984848484848485], [5, 0.7727272727272726], [6, 0.7727272727272726], [7, 0.9090909090909094]]\n"
     ]
    },
    {
     "name": "stderr",
     "output_type": "stream",
     "text": [
      "  7%|▋         | 2/29 [00:00<00:01, 19.08it/s]"
     ]
    },
    {
     "name": "stdout",
     "output_type": "stream",
     "text": [
      "['cholesterol', 'threonine', 'uric acid', '3-hydroxybutanoic acid', '5-hydroxynorvaline NIST', 'inosine', 'lactic acid', 'N-methylalanine']\n"
     ]
    },
    {
     "name": "stderr",
     "output_type": "stream",
     "text": [
      "100%|██████████| 29/29 [00:00<00:00, 29.44it/s]\n",
      "100%|██████████| 29/29 [00:01<00:00, 28.25it/s]\n",
      "100%|██████████| 29/29 [00:00<00:00, 35.13it/s]\n",
      "100%|██████████| 29/29 [00:01<00:00, 28.41it/s]\n",
      "100%|██████████| 29/29 [00:00<00:00, 31.99it/s]\n",
      "100%|██████████| 29/29 [00:00<00:00, 43.05it/s]\n",
      "100%|██████████| 29/29 [00:00<00:00, 40.65it/s]\n",
      "100%|██████████| 29/29 [00:00<00:00, 38.54it/s]\n",
      "100%|██████████| 29/29 [00:00<00:00, 40.16it/s]\n",
      "100%|██████████| 29/29 [00:00<00:00, 38.53it/s]\n"
     ]
    },
    {
     "name": "stdout",
     "output_type": "stream",
     "text": [
      "[[1, 0.7348484848484848], [2, 0.6515151515151515], [3, 0.7803030303030303], [4, 0.5984848484848485], [5, 0.7727272727272726], [6, 0.7727272727272726], [7, 0.9090909090909094], [8, 0.9090909090909094]]\n"
     ]
    },
    {
     "name": "stderr",
     "output_type": "stream",
     "text": [
      "  7%|▋         | 2/29 [00:00<00:01, 18.19it/s]"
     ]
    },
    {
     "name": "stdout",
     "output_type": "stream",
     "text": [
      "['cholesterol', 'threonine', 'uric acid', '3-hydroxybutanoic acid', '5-hydroxynorvaline NIST', 'inosine', 'lactic acid', 'N-methylalanine', 'phenylalanine']\n"
     ]
    },
    {
     "name": "stderr",
     "output_type": "stream",
     "text": [
      "100%|██████████| 29/29 [00:00<00:00, 39.89it/s]\n",
      "100%|██████████| 29/29 [00:00<00:00, 39.46it/s]\n",
      "100%|██████████| 29/29 [00:00<00:00, 42.55it/s]\n",
      "100%|██████████| 29/29 [00:00<00:00, 38.36it/s]\n",
      "100%|██████████| 29/29 [00:00<00:00, 38.87it/s]\n",
      "100%|██████████| 29/29 [00:00<00:00, 39.45it/s]\n",
      "100%|██████████| 29/29 [00:00<00:00, 37.76it/s]\n",
      "100%|██████████| 29/29 [00:00<00:00, 39.45it/s]\n",
      "100%|██████████| 29/29 [00:00<00:00, 39.50it/s]\n",
      "100%|██████████| 29/29 [00:00<00:00, 43.52it/s]\n"
     ]
    },
    {
     "name": "stdout",
     "output_type": "stream",
     "text": [
      "[[1, 0.7348484848484848], [2, 0.6515151515151515], [3, 0.7803030303030303], [4, 0.5984848484848485], [5, 0.7727272727272726], [6, 0.7727272727272726], [7, 0.9090909090909094], [8, 0.9090909090909094], [9, 0.8636363636363635]]\n"
     ]
    },
    {
     "name": "stderr",
     "output_type": "stream",
     "text": [
      "  7%|▋         | 2/29 [00:00<00:01, 17.77it/s]"
     ]
    },
    {
     "name": "stdout",
     "output_type": "stream",
     "text": [
      "['uric acid', '3-hydroxybutanoic acid', '5-hydroxynorvaline NIST', 'inosine', 'lactic acid', 'aspartic acid', 'deoxypentitol', 'malic acid', 'phenol', 'taurine']\n"
     ]
    },
    {
     "name": "stderr",
     "output_type": "stream",
     "text": [
      "100%|██████████| 29/29 [00:00<00:00, 40.45it/s]\n",
      "100%|██████████| 29/29 [00:00<00:00, 39.73it/s]\n",
      "100%|██████████| 29/29 [00:00<00:00, 40.29it/s]\n",
      "100%|██████████| 29/29 [00:00<00:00, 38.34it/s]\n",
      "100%|██████████| 29/29 [00:00<00:00, 42.53it/s]\n",
      "100%|██████████| 29/29 [00:00<00:00, 40.63it/s]\n",
      "100%|██████████| 29/29 [00:00<00:00, 37.79it/s]\n",
      "100%|██████████| 29/29 [00:00<00:00, 37.70it/s]\n",
      "100%|██████████| 29/29 [00:00<00:00, 39.12it/s]\n",
      "100%|██████████| 29/29 [00:00<00:00, 38.48it/s]\n"
     ]
    },
    {
     "name": "stdout",
     "output_type": "stream",
     "text": [
      "[[1, 0.7348484848484848], [2, 0.6515151515151515], [3, 0.7803030303030303], [4, 0.5984848484848485], [5, 0.7727272727272726], [6, 0.7727272727272726], [7, 0.9090909090909094], [8, 0.9090909090909094], [9, 0.8636363636363635], [10, 0.7348484848484848]]\n"
     ]
    },
    {
     "name": "stderr",
     "output_type": "stream",
     "text": [
      "  7%|▋         | 2/29 [00:00<00:01, 18.64it/s]"
     ]
    },
    {
     "name": "stdout",
     "output_type": "stream",
     "text": [
      "['cholesterol', 'threonine', 'uric acid', '3-hydroxybutanoic acid', '5-hydroxynorvaline NIST', 'inosine', 'lactic acid', 'N-methylalanine', 'phenylalanine', 'quinic acid', 'aspartic acid']\n"
     ]
    },
    {
     "name": "stderr",
     "output_type": "stream",
     "text": [
      "100%|██████████| 29/29 [00:00<00:00, 42.43it/s]\n",
      "100%|██████████| 29/29 [00:00<00:00, 39.55it/s]\n",
      "100%|██████████| 29/29 [00:00<00:00, 42.46it/s]\n",
      "100%|██████████| 29/29 [00:00<00:00, 39.81it/s]\n",
      "100%|██████████| 29/29 [00:00<00:00, 38.30it/s]\n",
      "100%|██████████| 29/29 [00:00<00:00, 38.65it/s]\n",
      "100%|██████████| 29/29 [00:00<00:00, 37.06it/s]\n",
      "100%|██████████| 29/29 [00:00<00:00, 39.24it/s]\n",
      "100%|██████████| 29/29 [00:00<00:00, 37.83it/s]\n",
      "100%|██████████| 29/29 [00:00<00:00, 41.14it/s]\n"
     ]
    },
    {
     "name": "stdout",
     "output_type": "stream",
     "text": [
      "[[1, 0.7348484848484848], [2, 0.6515151515151515], [3, 0.7803030303030303], [4, 0.5984848484848485], [5, 0.7727272727272726], [6, 0.7727272727272726], [7, 0.9090909090909094], [8, 0.9090909090909094], [9, 0.8636363636363635], [10, 0.7348484848484848], [11, 0.9090909090909094]]\n"
     ]
    },
    {
     "name": "stderr",
     "output_type": "stream",
     "text": [
      "  7%|▋         | 2/29 [00:00<00:01, 17.71it/s]"
     ]
    },
    {
     "name": "stdout",
     "output_type": "stream",
     "text": [
      "['cholesterol', 'threonine', 'uric acid', '3-hydroxybutanoic acid', '5-hydroxynorvaline NIST', 'inosine', 'lactic acid', 'N-methylalanine', 'phenylalanine', 'quinic acid', 'aspartic acid', 'deoxypentitol']\n"
     ]
    },
    {
     "name": "stderr",
     "output_type": "stream",
     "text": [
      "100%|██████████| 29/29 [00:00<00:00, 37.78it/s]\n",
      "100%|██████████| 29/29 [00:00<00:00, 41.00it/s]\n",
      "100%|██████████| 29/29 [00:00<00:00, 35.19it/s]\n",
      "100%|██████████| 29/29 [00:00<00:00, 40.37it/s]\n",
      "100%|██████████| 29/29 [00:00<00:00, 38.25it/s]\n",
      "100%|██████████| 29/29 [00:00<00:00, 38.88it/s]\n",
      "100%|██████████| 29/29 [00:00<00:00, 43.21it/s]\n",
      "100%|██████████| 29/29 [00:00<00:00, 40.32it/s]\n",
      "100%|██████████| 29/29 [00:00<00:00, 37.63it/s]\n",
      "100%|██████████| 29/29 [00:00<00:00, 38.89it/s]\n"
     ]
    },
    {
     "name": "stdout",
     "output_type": "stream",
     "text": [
      "[[1, 0.7348484848484848], [2, 0.6515151515151515], [3, 0.7803030303030303], [4, 0.5984848484848485], [5, 0.7727272727272726], [6, 0.7727272727272726], [7, 0.9090909090909094], [8, 0.9090909090909094], [9, 0.8636363636363635], [10, 0.7348484848484848], [11, 0.9090909090909094], [12, 0.8636363636363635]]\n"
     ]
    },
    {
     "name": "stderr",
     "output_type": "stream",
     "text": [
      "  7%|▋         | 2/29 [00:00<00:01, 18.42it/s]"
     ]
    },
    {
     "name": "stdout",
     "output_type": "stream",
     "text": [
      "['cholesterol', 'threonine', 'uric acid', '3-hydroxybutanoic acid', '5-hydroxynorvaline NIST', 'inosine', 'lactic acid', 'N-methylalanine', 'aspartic acid', 'deoxypentitol', 'malic acid', 'phenol', 'taurine']\n"
     ]
    },
    {
     "name": "stderr",
     "output_type": "stream",
     "text": [
      "100%|██████████| 29/29 [00:00<00:00, 40.42it/s]\n",
      "100%|██████████| 29/29 [00:00<00:00, 39.00it/s]\n",
      "100%|██████████| 29/29 [00:00<00:00, 38.89it/s]\n",
      "100%|██████████| 29/29 [00:00<00:00, 43.68it/s]\n",
      "100%|██████████| 29/29 [00:00<00:00, 39.55it/s]\n",
      "100%|██████████| 29/29 [00:00<00:00, 40.64it/s]\n",
      "100%|██████████| 29/29 [00:00<00:00, 41.57it/s]\n",
      "100%|██████████| 29/29 [00:00<00:00, 41.62it/s]\n",
      "100%|██████████| 29/29 [00:00<00:00, 38.84it/s]\n",
      "100%|██████████| 29/29 [00:00<00:00, 40.49it/s]\n"
     ]
    },
    {
     "name": "stdout",
     "output_type": "stream",
     "text": [
      "[[1, 0.7348484848484848], [2, 0.6515151515151515], [3, 0.7803030303030303], [4, 0.5984848484848485], [5, 0.7727272727272726], [6, 0.7727272727272726], [7, 0.9090909090909094], [8, 0.9090909090909094], [9, 0.8636363636363635], [10, 0.7348484848484848], [11, 0.9090909090909094], [12, 0.8636363636363635], [13, 0.8636363636363635]]\n"
     ]
    },
    {
     "name": "stderr",
     "output_type": "stream",
     "text": [
      "  7%|▋         | 2/29 [00:00<00:01, 19.78it/s]"
     ]
    },
    {
     "name": "stdout",
     "output_type": "stream",
     "text": [
      "['cholesterol', 'threonine', 'uric acid', '3-hydroxybutanoic acid', '5-hydroxynorvaline NIST', 'inosine', 'lactic acid', 'N-methylalanine', 'phenylalanine', 'quinic acid', 'aspartic acid', 'deoxypentitol', 'glutamic acid', 'malic acid']\n"
     ]
    },
    {
     "name": "stderr",
     "output_type": "stream",
     "text": [
      "100%|██████████| 29/29 [00:00<00:00, 41.24it/s]\n",
      "100%|██████████| 29/29 [00:00<00:00, 43.78it/s]\n",
      "100%|██████████| 29/29 [00:00<00:00, 39.64it/s]\n",
      "100%|██████████| 29/29 [00:00<00:00, 42.97it/s]\n",
      "100%|██████████| 29/29 [00:00<00:00, 39.27it/s]\n",
      "100%|██████████| 29/29 [00:00<00:00, 38.79it/s]\n",
      "100%|██████████| 29/29 [00:00<00:00, 38.54it/s]\n",
      "100%|██████████| 29/29 [00:00<00:00, 38.52it/s]\n",
      "100%|██████████| 29/29 [00:00<00:00, 38.21it/s]\n",
      "100%|██████████| 29/29 [00:00<00:00, 43.71it/s]\n"
     ]
    },
    {
     "name": "stdout",
     "output_type": "stream",
     "text": [
      "[[1, 0.7348484848484848], [2, 0.6515151515151515], [3, 0.7803030303030303], [4, 0.5984848484848485], [5, 0.7727272727272726], [6, 0.7727272727272726], [7, 0.9090909090909094], [8, 0.9090909090909094], [9, 0.8636363636363635], [10, 0.7348484848484848], [11, 0.9090909090909094], [12, 0.8636363636363635], [13, 0.8636363636363635], [14, 0.8636363636363635]]\n"
     ]
    },
    {
     "name": "stderr",
     "output_type": "stream",
     "text": [
      "  7%|▋         | 2/29 [00:00<00:01, 18.02it/s]"
     ]
    },
    {
     "name": "stdout",
     "output_type": "stream",
     "text": [
      "['cholesterol', 'threonine', 'uric acid', '3-hydroxybutanoic acid', '5-hydroxynorvaline NIST', 'inosine', 'lactic acid', 'N-methylalanine', 'quinic acid', 'aspartic acid', 'deoxypentitol', 'glutamic acid', 'malic acid', 'phenol', 'taurine']\n"
     ]
    },
    {
     "name": "stderr",
     "output_type": "stream",
     "text": [
      "100%|██████████| 29/29 [00:00<00:00, 38.49it/s]\n",
      "100%|██████████| 29/29 [00:00<00:00, 39.46it/s]\n",
      "100%|██████████| 29/29 [00:00<00:00, 38.90it/s]\n",
      "100%|██████████| 29/29 [00:00<00:00, 38.59it/s]\n",
      "100%|██████████| 29/29 [00:00<00:00, 38.82it/s]\n",
      "100%|██████████| 29/29 [00:00<00:00, 39.59it/s]\n",
      "100%|██████████| 29/29 [00:00<00:00, 44.51it/s]\n",
      "100%|██████████| 29/29 [00:00<00:00, 37.58it/s]\n",
      "100%|██████████| 29/29 [00:00<00:00, 41.52it/s]\n",
      "100%|██████████| 29/29 [00:00<00:00, 38.44it/s]\n"
     ]
    },
    {
     "name": "stdout",
     "output_type": "stream",
     "text": [
      "[[1, 0.7348484848484848], [2, 0.6515151515151515], [3, 0.7803030303030303], [4, 0.5984848484848485], [5, 0.7727272727272726], [6, 0.7727272727272726], [7, 0.9090909090909094], [8, 0.9090909090909094], [9, 0.8636363636363635], [10, 0.7348484848484848], [11, 0.9090909090909094], [12, 0.8636363636363635], [13, 0.8636363636363635], [14, 0.8636363636363635], [15, 0.8636363636363635]]\n"
     ]
    },
    {
     "name": "stderr",
     "output_type": "stream",
     "text": [
      "  7%|▋         | 2/29 [00:00<00:01, 19.17it/s]"
     ]
    },
    {
     "name": "stdout",
     "output_type": "stream",
     "text": [
      "['cholesterol', 'threonine', 'uric acid', '3-hydroxybutanoic acid', '5-hydroxynorvaline NIST', 'inosine', 'lactic acid', 'N-methylalanine', 'phenylalanine', 'quinic acid', 'aspartic acid', 'deoxypentitol', 'glutamic acid', 'malic acid', 'phenol', 'taurine']\n"
     ]
    },
    {
     "name": "stderr",
     "output_type": "stream",
     "text": [
      "100%|██████████| 29/29 [00:00<00:00, 38.90it/s]\n",
      "100%|██████████| 29/29 [00:00<00:00, 38.65it/s]\n",
      "100%|██████████| 29/29 [00:00<00:00, 39.22it/s]\n",
      "100%|██████████| 29/29 [00:00<00:00, 41.71it/s]\n",
      "100%|██████████| 29/29 [00:00<00:00, 43.89it/s]\n",
      "100%|██████████| 29/29 [00:00<00:00, 38.87it/s]\n",
      "100%|██████████| 29/29 [00:00<00:00, 40.03it/s]\n",
      "100%|██████████| 29/29 [00:00<00:00, 38.58it/s]\n",
      "100%|██████████| 29/29 [00:00<00:00, 40.89it/s]\n",
      "100%|██████████| 29/29 [00:00<00:00, 39.36it/s]"
     ]
    },
    {
     "name": "stdout",
     "output_type": "stream",
     "text": [
      "[[1, 0.7348484848484848], [2, 0.6515151515151515], [3, 0.7803030303030303], [4, 0.5984848484848485], [5, 0.7727272727272726], [6, 0.7727272727272726], [7, 0.9090909090909094], [8, 0.9090909090909094], [9, 0.8636363636363635], [10, 0.7348484848484848], [11, 0.9090909090909094], [12, 0.8636363636363635], [13, 0.8636363636363635], [14, 0.8636363636363635], [15, 0.8636363636363635], [16, 0.8636363636363635]]\n"
     ]
    },
    {
     "name": "stderr",
     "output_type": "stream",
     "text": [
      "\n"
     ]
    }
   ],
   "source": [
    "serum_accuracy = rfecv_accuracy(serum, 16, 'XGBClassifier')"
   ]
  },
  {
   "cell_type": "code",
   "execution_count": 23,
   "metadata": {},
   "outputs": [],
   "source": [
    "serum_accuracy = pd.DataFrame(serum_accuracy, columns= [\"Number of Metabolites\", \"Accuracy\"])"
   ]
  },
  {
   "cell_type": "code",
   "execution_count": 6,
   "metadata": {},
   "outputs": [],
   "source": [
    "serum_accuracy.to_csv(\"Serum Accuracy.csv\", index=False)"
   ]
  },
  {
   "cell_type": "code",
   "execution_count": 51,
   "metadata": {},
   "outputs": [
    {
     "data": {
      "image/png": "[encoded data removed]",
      "text/plain": [
       "<Figure size 432x288 with 1 Axes>"
      ]
     },
     "metadata": {
      "needs_background": "light"
     },
     "output_type": "display_data"
    }
   ],
   "source": [
    "fig = plt.gcf()\n",
    "# plt.figure(figsize=(10, 6))\n",
    "plt.plot(serum_accuracy[\"Number of Metabolites\"], serum_accuracy.Accuracy, 'o-')\n",
    "plt.ylim([0.55, 0.95])\n",
    "plt.ylabel('Accuracy')\n",
    "plt.xlabel('Number of Metabolites')\n",
    "# plt.title('Serum RFECV Accuracy Plot')\n",
    "plt.annotate(\"0.909\", (6, 0.915))\n",
    "plt.annotate(\"0.909\", (7.5, 0.915))\n",
    "plt.annotate(\"0.909\", (10.5, 0.915))\n",
    "plt.xticks(np.arange(0, 16+1, 2))\n",
    "plt.show()\n",
    "fig.savefig('Serum RFECV Accuracy Plot.png', dpi=500)"
   ]
  },
  {
   "cell_type": "code",
   "execution_count": 59,
   "metadata": {},
   "outputs": [],
   "source": [
    "plasma[['asparagine', 'benzoic acid', 'tryptophan', 'uric acid', '5-hydroxynorvaline NIST', 'alpha-ketoglutarate', 'citrulline', 'glutamine', 'hypoxanthine', 'malic acid', 'methionine sulfoxide', 'nornicotine', 'octadecanol', '3-phosphoglycerate', '5-methoxytryptamine', 'adenosine-5-monophosphate', 'aspartic acid', 'lactic acid', 'maltose', 'Class']].\\\n",
    "to_csv('plasma(Specific Metabolics)_rfecv19.csv', index=False)\n",
    "\n",
    "serum[['cholesterol', 'threonine', 'uric acid', '3-hydroxybutanoic acid', '5-hydroxynorvaline NIST', 'inosine', 'lactic acid', 'Class']].\\\n",
    "to_csv('serum(Specific Metabolics)_rfecv7.csv', index=False)\n"
   ]
  },
  {
   "cell_type": "code",
   "execution_count": null,
   "metadata": {},
   "outputs": [],
   "source": []
  }
 ],
 "metadata": {
  "colab": {
   "collapsed_sections": [],
   "name": "serum-plasma-utshab.ipynb",
   "provenance": []
  },
  "kernelspec": {
   "display_name": "Python 3",
   "language": "python",
   "name": "python3"
  },
  "language_info": {
   "codemirror_mode": {
    "name": "ipython",
    "version": 3
   },
   "file_extension": ".py",
   "mimetype": "text/x-python",
   "name": "python",
   "nbconvert_exporter": "python",
   "pygments_lexer": "ipython3",
   "version": "3.7.9"
  }
 },
 "nbformat": 4,
 "nbformat_minor": 1
}

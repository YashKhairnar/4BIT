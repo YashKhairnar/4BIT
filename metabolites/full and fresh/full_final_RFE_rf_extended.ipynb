{
 "cells": [
  {
   "cell_type": "markdown",
   "metadata": {},
   "source": [
    "<a id=\"1\"></a>\n",
    "\n",
    "<h1 style=\"background-color:#d8f8b7;font-family:newtimeroman;font-size:250%;text-align:center;border-radius: 15px 50px;\">Libraries And Utilities</h1>\n",
    "\n",
    "[Download DATASETS from here](https://github.com/utshabkg/LungCancer_Biomarker/tree/main/dataset)"
   ]
  },
  {
   "cell_type": "code",
   "execution_count": 1,
   "metadata": {
    "id": "_2KKqfz-5Ioi"
   },
   "outputs": [
    {
     "name": "stderr",
     "output_type": "stream",
     "text": [
      "C:\\Users\\UTSHAB\\AppData\\Roaming\\Python\\Python37\\site-packages\\sklearn\\utils\\deprecation.py:143: FutureWarning: The sklearn.utils.testing module is  deprecated in version 0.22 and will be removed in version 0.24. The corresponding classes / functions should instead be imported from sklearn.utils. Anything that cannot be imported from sklearn.utils is now part of the private API.\n",
      "  warnings.warn(message, FutureWarning)\n"
     ]
    }
   ],
   "source": [
    "import pandas as pd\n",
    "import numpy as np\n",
    "import matplotlib.pyplot as plt\n",
    "import sklearn\n",
    "%matplotlib inline\n",
    "\n",
    "from sklearn.decomposition import PCA\n",
    "from sklearn.manifold import TSNE\n",
    "import lazypredict\n",
    "from lazypredict.Supervised import LazyClassifier\n",
    "import xgboost as xgb\n",
    "\n",
    "# import packages for hyperparameters tuning\n",
    "from hyperopt import STATUS_OK, Trials, fmin, hp, tpe\n",
    "from sklearn.metrics import accuracy_score\n",
    "from sklearn.metrics import confusion_matrix\n",
    "from sklearn.metrics import matthews_corrcoef\n",
    "from sklearn.metrics import classification_report\n",
    "\n",
    "from sklearn.model_selection import ShuffleSplit, train_test_split, StratifiedKFold\n",
    "from sklearn.preprocessing import StandardScaler, MinMaxScaler, RobustScaler, LabelEncoder\n",
    "\n",
    "import seaborn as sns\n",
    "from sklearn.ensemble import RandomForestClassifier\n",
    "from sklearn.linear_model import RidgeClassifier\n",
    "from yellowbrick.model_selection import FeatureImportances"
   ]
  },
  {
   "cell_type": "markdown",
   "metadata": {
    "id": "OktzdLyrDm34"
   },
   "source": [
    "<a id=\"2\"></a>\n",
    "\n",
    "<h1 style=\"background-color:#d8f8b7;font-family:newtimeroman;font-size:250%;text-align:center;border-radius: 15px 50px;\">Processed Dataset from previous Notebook</h1>\n",
    "\n",
    "[Download DATASETS from here](https://github.com/utshabkg/LungCancer_Biomarker/tree/main/dataset)"
   ]
  },
  {
   "cell_type": "code",
   "execution_count": 2,
   "metadata": {
    "colab": {
     "base_uri": "https://localhost:8080/",
     "height": 294
    },
    "id": "mbm_F-i_bhGw",
    "outputId": "b85d04af-5016-462f-b31f-9724615b3765"
   },
   "outputs": [],
   "source": [
    "plasma = pd.read_csv('plasma(Specific Metabolics)_final2.csv')\n",
    "serum = pd.read_csv('serum(Specific Metabolics)_final2.csv')\n",
    "plasma.head()\n",
    "plasma = plasma.drop('Unnamed: 0', axis=1)\n",
    "serum = serum.drop('Unnamed: 0', axis=1)"
   ]
  },
  {
   "cell_type": "code",
   "execution_count": 3,
   "metadata": {},
   "outputs": [
    {
     "data": {
      "text/html": [
       "<div>\n",
       "<style scoped>\n",
       "    .dataframe tbody tr th:only-of-type {\n",
       "        vertical-align: middle;\n",
       "    }\n",
       "\n",
       "    .dataframe tbody tr th {\n",
       "        vertical-align: top;\n",
       "    }\n",
       "\n",
       "    .dataframe thead th {\n",
       "        text-align: right;\n",
       "    }\n",
       "</style>\n",
       "<table border=\"1\" class=\"dataframe\">\n",
       "  <thead>\n",
       "    <tr style=\"text-align: right;\">\n",
       "      <th></th>\n",
       "      <th>asparagine</th>\n",
       "      <th>benzoic acid</th>\n",
       "      <th>tryptophan</th>\n",
       "      <th>uric acid</th>\n",
       "      <th>5-hydroxynorvaline NIST</th>\n",
       "      <th>alpha-ketoglutarate</th>\n",
       "      <th>citrulline</th>\n",
       "      <th>glutamine</th>\n",
       "      <th>hypoxanthine</th>\n",
       "      <th>malic acid</th>\n",
       "      <th>...</th>\n",
       "      <th>lactic acid</th>\n",
       "      <th>maltose</th>\n",
       "      <th>maltotriose</th>\n",
       "      <th>N-methylalanine</th>\n",
       "      <th>phenol</th>\n",
       "      <th>phosphoethanolamine</th>\n",
       "      <th>pyrophosphate</th>\n",
       "      <th>pyruvic acid</th>\n",
       "      <th>taurine</th>\n",
       "      <th>Class</th>\n",
       "    </tr>\n",
       "  </thead>\n",
       "  <tbody>\n",
       "    <tr>\n",
       "      <th>0</th>\n",
       "      <td>-0.38</td>\n",
       "      <td>-1.31</td>\n",
       "      <td>0.52</td>\n",
       "      <td>-1.02</td>\n",
       "      <td>-0.85</td>\n",
       "      <td>0.51</td>\n",
       "      <td>-0.33</td>\n",
       "      <td>-0.19</td>\n",
       "      <td>0.42</td>\n",
       "      <td>0.76</td>\n",
       "      <td>...</td>\n",
       "      <td>-0.04</td>\n",
       "      <td>-0.34</td>\n",
       "      <td>-1.21</td>\n",
       "      <td>-0.10</td>\n",
       "      <td>-0.10</td>\n",
       "      <td>0.03</td>\n",
       "      <td>-0.27</td>\n",
       "      <td>1.38</td>\n",
       "      <td>0.41</td>\n",
       "      <td>disease</td>\n",
       "    </tr>\n",
       "    <tr>\n",
       "      <th>1</th>\n",
       "      <td>0.95</td>\n",
       "      <td>-0.46</td>\n",
       "      <td>-0.90</td>\n",
       "      <td>-1.24</td>\n",
       "      <td>-0.82</td>\n",
       "      <td>-0.39</td>\n",
       "      <td>0.69</td>\n",
       "      <td>1.04</td>\n",
       "      <td>1.37</td>\n",
       "      <td>0.09</td>\n",
       "      <td>...</td>\n",
       "      <td>0.15</td>\n",
       "      <td>-0.29</td>\n",
       "      <td>-0.13</td>\n",
       "      <td>-1.19</td>\n",
       "      <td>0.22</td>\n",
       "      <td>-0.83</td>\n",
       "      <td>-0.41</td>\n",
       "      <td>0.29</td>\n",
       "      <td>-0.16</td>\n",
       "      <td>disease</td>\n",
       "    </tr>\n",
       "    <tr>\n",
       "      <th>2</th>\n",
       "      <td>0.69</td>\n",
       "      <td>-0.49</td>\n",
       "      <td>0.83</td>\n",
       "      <td>-0.23</td>\n",
       "      <td>-0.35</td>\n",
       "      <td>0.35</td>\n",
       "      <td>-0.56</td>\n",
       "      <td>0.36</td>\n",
       "      <td>-0.31</td>\n",
       "      <td>0.06</td>\n",
       "      <td>...</td>\n",
       "      <td>1.06</td>\n",
       "      <td>0.24</td>\n",
       "      <td>0.68</td>\n",
       "      <td>-0.71</td>\n",
       "      <td>0.98</td>\n",
       "      <td>0.02</td>\n",
       "      <td>0.95</td>\n",
       "      <td>-0.19</td>\n",
       "      <td>0.83</td>\n",
       "      <td>disease</td>\n",
       "    </tr>\n",
       "    <tr>\n",
       "      <th>3</th>\n",
       "      <td>0.35</td>\n",
       "      <td>1.68</td>\n",
       "      <td>-1.11</td>\n",
       "      <td>-0.48</td>\n",
       "      <td>-0.74</td>\n",
       "      <td>-0.75</td>\n",
       "      <td>-0.99</td>\n",
       "      <td>1.15</td>\n",
       "      <td>1.91</td>\n",
       "      <td>-0.41</td>\n",
       "      <td>...</td>\n",
       "      <td>0.53</td>\n",
       "      <td>-0.19</td>\n",
       "      <td>-0.38</td>\n",
       "      <td>1.83</td>\n",
       "      <td>0.69</td>\n",
       "      <td>-0.19</td>\n",
       "      <td>-0.59</td>\n",
       "      <td>-0.66</td>\n",
       "      <td>1.25</td>\n",
       "      <td>disease</td>\n",
       "    </tr>\n",
       "    <tr>\n",
       "      <th>4</th>\n",
       "      <td>0.30</td>\n",
       "      <td>-1.20</td>\n",
       "      <td>0.01</td>\n",
       "      <td>0.76</td>\n",
       "      <td>0.99</td>\n",
       "      <td>-0.14</td>\n",
       "      <td>0.77</td>\n",
       "      <td>-0.31</td>\n",
       "      <td>0.25</td>\n",
       "      <td>0.76</td>\n",
       "      <td>...</td>\n",
       "      <td>-0.33</td>\n",
       "      <td>-0.01</td>\n",
       "      <td>1.43</td>\n",
       "      <td>0.91</td>\n",
       "      <td>-0.27</td>\n",
       "      <td>0.32</td>\n",
       "      <td>0.52</td>\n",
       "      <td>-0.09</td>\n",
       "      <td>0.08</td>\n",
       "      <td>disease</td>\n",
       "    </tr>\n",
       "    <tr>\n",
       "      <th>...</th>\n",
       "      <td>...</td>\n",
       "      <td>...</td>\n",
       "      <td>...</td>\n",
       "      <td>...</td>\n",
       "      <td>...</td>\n",
       "      <td>...</td>\n",
       "      <td>...</td>\n",
       "      <td>...</td>\n",
       "      <td>...</td>\n",
       "      <td>...</td>\n",
       "      <td>...</td>\n",
       "      <td>...</td>\n",
       "      <td>...</td>\n",
       "      <td>...</td>\n",
       "      <td>...</td>\n",
       "      <td>...</td>\n",
       "      <td>...</td>\n",
       "      <td>...</td>\n",
       "      <td>...</td>\n",
       "      <td>...</td>\n",
       "      <td>...</td>\n",
       "    </tr>\n",
       "    <tr>\n",
       "      <th>77</th>\n",
       "      <td>0.77</td>\n",
       "      <td>-0.63</td>\n",
       "      <td>0.98</td>\n",
       "      <td>0.05</td>\n",
       "      <td>-0.29</td>\n",
       "      <td>-0.30</td>\n",
       "      <td>0.08</td>\n",
       "      <td>1.06</td>\n",
       "      <td>-0.66</td>\n",
       "      <td>-0.97</td>\n",
       "      <td>...</td>\n",
       "      <td>-0.72</td>\n",
       "      <td>-0.35</td>\n",
       "      <td>-0.38</td>\n",
       "      <td>0.75</td>\n",
       "      <td>-0.68</td>\n",
       "      <td>-0.45</td>\n",
       "      <td>-0.96</td>\n",
       "      <td>-0.12</td>\n",
       "      <td>-0.37</td>\n",
       "      <td>control</td>\n",
       "    </tr>\n",
       "    <tr>\n",
       "      <th>78</th>\n",
       "      <td>-0.43</td>\n",
       "      <td>-1.06</td>\n",
       "      <td>-0.03</td>\n",
       "      <td>1.56</td>\n",
       "      <td>-0.20</td>\n",
       "      <td>-0.64</td>\n",
       "      <td>-0.41</td>\n",
       "      <td>-0.13</td>\n",
       "      <td>5.19</td>\n",
       "      <td>-0.67</td>\n",
       "      <td>...</td>\n",
       "      <td>0.64</td>\n",
       "      <td>-0.19</td>\n",
       "      <td>-0.60</td>\n",
       "      <td>0.51</td>\n",
       "      <td>0.79</td>\n",
       "      <td>-0.42</td>\n",
       "      <td>-0.22</td>\n",
       "      <td>-0.51</td>\n",
       "      <td>-0.23</td>\n",
       "      <td>control</td>\n",
       "    </tr>\n",
       "    <tr>\n",
       "      <th>79</th>\n",
       "      <td>-0.10</td>\n",
       "      <td>1.50</td>\n",
       "      <td>0.94</td>\n",
       "      <td>0.30</td>\n",
       "      <td>-0.08</td>\n",
       "      <td>0.78</td>\n",
       "      <td>0.91</td>\n",
       "      <td>1.47</td>\n",
       "      <td>-0.67</td>\n",
       "      <td>1.22</td>\n",
       "      <td>...</td>\n",
       "      <td>-0.53</td>\n",
       "      <td>-0.35</td>\n",
       "      <td>0.05</td>\n",
       "      <td>-0.94</td>\n",
       "      <td>-0.44</td>\n",
       "      <td>-0.24</td>\n",
       "      <td>-0.67</td>\n",
       "      <td>-0.36</td>\n",
       "      <td>-0.54</td>\n",
       "      <td>control</td>\n",
       "    </tr>\n",
       "    <tr>\n",
       "      <th>80</th>\n",
       "      <td>-1.22</td>\n",
       "      <td>0.90</td>\n",
       "      <td>-1.34</td>\n",
       "      <td>-0.01</td>\n",
       "      <td>-0.80</td>\n",
       "      <td>-0.14</td>\n",
       "      <td>-1.17</td>\n",
       "      <td>-1.39</td>\n",
       "      <td>-0.44</td>\n",
       "      <td>-0.09</td>\n",
       "      <td>...</td>\n",
       "      <td>-0.46</td>\n",
       "      <td>-0.50</td>\n",
       "      <td>-0.83</td>\n",
       "      <td>0.70</td>\n",
       "      <td>-0.18</td>\n",
       "      <td>-0.44</td>\n",
       "      <td>-0.92</td>\n",
       "      <td>-0.10</td>\n",
       "      <td>-1.05</td>\n",
       "      <td>control</td>\n",
       "    </tr>\n",
       "    <tr>\n",
       "      <th>81</th>\n",
       "      <td>-1.20</td>\n",
       "      <td>2.20</td>\n",
       "      <td>-0.90</td>\n",
       "      <td>2.02</td>\n",
       "      <td>-0.45</td>\n",
       "      <td>-1.03</td>\n",
       "      <td>-0.98</td>\n",
       "      <td>-1.32</td>\n",
       "      <td>-0.89</td>\n",
       "      <td>-0.23</td>\n",
       "      <td>...</td>\n",
       "      <td>-0.41</td>\n",
       "      <td>-0.01</td>\n",
       "      <td>-0.73</td>\n",
       "      <td>-0.79</td>\n",
       "      <td>-0.47</td>\n",
       "      <td>-0.58</td>\n",
       "      <td>-0.96</td>\n",
       "      <td>-1.05</td>\n",
       "      <td>-0.62</td>\n",
       "      <td>control</td>\n",
       "    </tr>\n",
       "  </tbody>\n",
       "</table>\n",
       "<p>82 rows × 27 columns</p>\n",
       "</div>"
      ],
      "text/plain": [
       "    asparagine  benzoic acid  tryptophan  uric acid  5-hydroxynorvaline NIST  \\\n",
       "0        -0.38         -1.31        0.52      -1.02                    -0.85   \n",
       "1         0.95         -0.46       -0.90      -1.24                    -0.82   \n",
       "2         0.69         -0.49        0.83      -0.23                    -0.35   \n",
       "3         0.35          1.68       -1.11      -0.48                    -0.74   \n",
       "4         0.30         -1.20        0.01       0.76                     0.99   \n",
       "..         ...           ...         ...        ...                      ...   \n",
       "77        0.77         -0.63        0.98       0.05                    -0.29   \n",
       "78       -0.43         -1.06       -0.03       1.56                    -0.20   \n",
       "79       -0.10          1.50        0.94       0.30                    -0.08   \n",
       "80       -1.22          0.90       -1.34      -0.01                    -0.80   \n",
       "81       -1.20          2.20       -0.90       2.02                    -0.45   \n",
       "\n",
       "    alpha-ketoglutarate  citrulline  glutamine  hypoxanthine  malic acid  ...  \\\n",
       "0                  0.51       -0.33      -0.19          0.42        0.76  ...   \n",
       "1                 -0.39        0.69       1.04          1.37        0.09  ...   \n",
       "2                  0.35       -0.56       0.36         -0.31        0.06  ...   \n",
       "3                 -0.75       -0.99       1.15          1.91       -0.41  ...   \n",
       "4                 -0.14        0.77      -0.31          0.25        0.76  ...   \n",
       "..                  ...         ...        ...           ...         ...  ...   \n",
       "77                -0.30        0.08       1.06         -0.66       -0.97  ...   \n",
       "78                -0.64       -0.41      -0.13          5.19       -0.67  ...   \n",
       "79                 0.78        0.91       1.47         -0.67        1.22  ...   \n",
       "80                -0.14       -1.17      -1.39         -0.44       -0.09  ...   \n",
       "81                -1.03       -0.98      -1.32         -0.89       -0.23  ...   \n",
       "\n",
       "    lactic acid  maltose  maltotriose  N-methylalanine  phenol  \\\n",
       "0         -0.04    -0.34        -1.21            -0.10   -0.10   \n",
       "1          0.15    -0.29        -0.13            -1.19    0.22   \n",
       "2          1.06     0.24         0.68            -0.71    0.98   \n",
       "3          0.53    -0.19        -0.38             1.83    0.69   \n",
       "4         -0.33    -0.01         1.43             0.91   -0.27   \n",
       "..          ...      ...          ...              ...     ...   \n",
       "77        -0.72    -0.35        -0.38             0.75   -0.68   \n",
       "78         0.64    -0.19        -0.60             0.51    0.79   \n",
       "79        -0.53    -0.35         0.05            -0.94   -0.44   \n",
       "80        -0.46    -0.50        -0.83             0.70   -0.18   \n",
       "81        -0.41    -0.01        -0.73            -0.79   -0.47   \n",
       "\n",
       "    phosphoethanolamine  pyrophosphate  pyruvic acid  taurine    Class  \n",
       "0                  0.03          -0.27          1.38     0.41  disease  \n",
       "1                 -0.83          -0.41          0.29    -0.16  disease  \n",
       "2                  0.02           0.95         -0.19     0.83  disease  \n",
       "3                 -0.19          -0.59         -0.66     1.25  disease  \n",
       "4                  0.32           0.52         -0.09     0.08  disease  \n",
       "..                  ...            ...           ...      ...      ...  \n",
       "77                -0.45          -0.96         -0.12    -0.37  control  \n",
       "78                -0.42          -0.22         -0.51    -0.23  control  \n",
       "79                -0.24          -0.67         -0.36    -0.54  control  \n",
       "80                -0.44          -0.92         -0.10    -1.05  control  \n",
       "81                -0.58          -0.96         -1.05    -0.62  control  \n",
       "\n",
       "[82 rows x 27 columns]"
      ]
     },
     "execution_count": 3,
     "metadata": {},
     "output_type": "execute_result"
    }
   ],
   "source": [
    "plasma"
   ]
  },
  {
   "cell_type": "markdown",
   "metadata": {},
   "source": [
    "Keep labels as an numpy array."
   ]
  },
  {
   "cell_type": "code",
   "execution_count": 4,
   "metadata": {},
   "outputs": [],
   "source": [
    "labels = np.reshape(plasma.Class.to_numpy(), (82,1))\n",
    "targets = plasma.iloc[:, -1].unique()"
   ]
  },
  {
   "cell_type": "markdown",
   "metadata": {
    "id": "O5YQ-9mOzz0x"
   },
   "source": [
    "<a id=\"3\"></a>\n",
    "\n",
    "<h1 style=\"background-color:#d8f8b7;font-family:newtimeroman;font-size:250%;text-align:center;border-radius: 15px 50px;\">Models</h1>"
   ]
  },
  {
   "cell_type": "code",
   "execution_count": 50,
   "metadata": {
    "id": "sLVgPz17wu7w"
   },
   "outputs": [],
   "source": [
    "# !pip install lazypredict"
   ]
  },
  {
   "cell_type": "code",
   "execution_count": 5,
   "metadata": {},
   "outputs": [],
   "source": [
    "from sklearn.feature_selection import RFECV\n",
    "\n",
    "def rfecv_accuracy(plasma, meta_number, classifier):\n",
    "    accuracy = []\n",
    "\n",
    "    for i in range(1, meta_number+1):\n",
    "        y = plasma['Class'].copy()\n",
    "        y = y.map({\"control\": 0, \"disease\": 1})\n",
    "\n",
    "        if plasma.columns[-1]=='Class':\n",
    "            X = plasma.drop('Class', axis=1)\n",
    "        else:\n",
    "            X = plasma\n",
    "\n",
    "        X_train,X_test,y_train,y_test = train_test_split(X, y, test_size=0.2,random_state=0)\n",
    "\n",
    "        scaler = RobustScaler()\n",
    "        cols = X.columns\n",
    "        X_train = scaler.fit_transform(X_train)\n",
    "        X_test = scaler.transform(X_test)\n",
    "\n",
    "        X_train = pd.DataFrame(X_train, columns=[cols])\n",
    "        X_test = pd.DataFrame(X_test, columns=[cols])\n",
    "\n",
    "        y_train = y_train.values.reshape(-1, 1)\n",
    "        y_test = y_test.values.reshape(-1, 1)\n",
    "\n",
    "        rfecv = RFECV(\n",
    "            estimator=RandomForestClassifier(),\n",
    "            min_features_to_select=i,\n",
    "            step=5,\n",
    "            n_jobs=-1,\n",
    "            scoring=\"accuracy\",\n",
    "            cv=10,\n",
    "        )\n",
    "\n",
    "        _ = rfecv.fit(X_train, y_train)\n",
    "\n",
    "        meta_selected = []\n",
    "        for j in range(i):\n",
    "            meta_selected.append(X.columns[rfecv.support_][j])\n",
    "        print(meta_selected)\n",
    "\n",
    "        name = ['Plasma(Raw)']\n",
    "        dfs = [plasma[meta_selected]]\n",
    "\n",
    "        random_state = 42\n",
    "\n",
    "        for idx, data in enumerate(dfs):\n",
    "            result = []\n",
    "            if data.columns[-1]=='Class':\n",
    "                X = data.drop('Class', axis=1)\n",
    "            else:\n",
    "                X = data\n",
    "            y = plasma['Class'].copy()\n",
    "            y = y.map({\"control\": 0, \"disease\": 1})\n",
    "    #         print(X, y)\n",
    "            rs = ShuffleSplit(n_splits=10, test_size=0.2, random_state=random_state)\n",
    "\n",
    "            for train_index, test_index in rs.split(X):\n",
    "                clf = LazyClassifier(verbose=0, ignore_warnings=True, custom_metric=matthews_corrcoef, predictions=True)\n",
    "                X_train, X_test = X.iloc[train_index], X.iloc[test_index]\n",
    "                y_train, y_test = y.iloc[train_index], y.iloc[test_index]\n",
    "\n",
    "                scaler = RobustScaler()\n",
    "\n",
    "                cols = X_train.columns\n",
    "                X_train = scaler.fit_transform(X_train)\n",
    "                X_test = scaler.transform(X_test)\n",
    "\n",
    "                X_train = pd.DataFrame(X_train, columns=[cols])\n",
    "                X_test = pd.DataFrame(X_test, columns=[cols])\n",
    "\n",
    "                models, predictions = clf.fit(X_train, X_test, y_train, y_test)\n",
    "                result.append(models)\n",
    "            #     print(result)\n",
    "\n",
    "            acc = []\n",
    "            for a in range(10):\n",
    "                acc.append(result[a].loc[classifier]['Balanced Accuracy'])\n",
    "\n",
    "    #     print(f'\\n{name[idx]}: {sum(acc)/len(acc)}')\n",
    "        accuracy.append([i, sum(acc)/ len(acc)])\n",
    "        print(accuracy)\n",
    "    return accuracy\n",
    "\n",
    "#     accuracy_df1 = pd.DataFrame(accuracy, columns=['Method', 'Accuracy'])\n",
    "#     accuracy_df1"
   ]
  },
  {
   "cell_type": "markdown",
   "metadata": {},
   "source": [
    "# Plasma\n",
    "\n",
    "### Accuracy Comparison Function"
   ]
  },
  {
   "cell_type": "code",
   "execution_count": 12,
   "metadata": {},
   "outputs": [],
   "source": [
    "def accuracy2(data, classifier):\n",
    "    plasma_accuracy = rfecv_accuracy(data, 26, classifier)\n",
    "\n",
    "    plasma_accuracy = pd.DataFrame(plasma_accuracy, columns= [\"Number of Metabolites\", \"Accuracy\"])\n",
    "\n",
    "    plasma_accuracy.to_csv(f\"Plasma Accuracy {classifier}.csv\", index=False)\n",
    "\n",
    "    fig = plt.gcf()\n",
    "    # plt.figure(figsize=(10, 6))\n",
    "\n",
    "    plt.plot(plasma_accuracy[\"Number of Metabolites\"], plasma_accuracy.Accuracy, 'o-')\n",
    "    plt.ylabel('Accuracy')\n",
    "    plt.xlabel('Number of Metabolites')\n",
    "    # plt.title('Plasma RFECV Accuracy Plot')\n",
    "    plt.xticks(np.arange(0, 26+1, 2))\n",
    "    plt.show()\n",
    "    fig.savefig(f'Plasma RFECV Accuracy Plot {classifier}.png', dpi=500)"
   ]
  },
  {
   "cell_type": "markdown",
   "metadata": {},
   "source": [
    "### XGBClassifier"
   ]
  },
  {
   "cell_type": "code",
   "execution_count": 10,
   "metadata": {},
   "outputs": [
    {
     "name": "stderr",
     "output_type": "stream",
     "text": [
      "  3%|▎         | 1/29 [00:00<00:02,  9.65it/s]"
     ]
    },
    {
     "name": "stdout",
     "output_type": "stream",
     "text": [
      "['asparagine']\n"
     ]
    },
    {
     "name": "stderr",
     "output_type": "stream",
     "text": [
      "100%|██████████| 29/29 [00:00<00:00, 32.72it/s]\n",
      "100%|██████████| 29/29 [00:00<00:00, 31.66it/s]\n",
      "100%|██████████| 29/29 [00:00<00:00, 31.63it/s]\n",
      "100%|██████████| 29/29 [00:01<00:00, 26.37it/s]\n",
      "100%|██████████| 29/29 [00:01<00:00, 27.73it/s]\n",
      "100%|██████████| 29/29 [00:00<00:00, 31.63it/s]\n",
      "100%|██████████| 29/29 [00:00<00:00, 29.31it/s]\n",
      "100%|██████████| 29/29 [00:01<00:00, 26.87it/s]\n",
      "100%|██████████| 29/29 [00:00<00:00, 30.96it/s]\n",
      "100%|██████████| 29/29 [00:00<00:00, 31.29it/s]\n"
     ]
    },
    {
     "name": "stdout",
     "output_type": "stream",
     "text": [
      "[[1, 0.6125543900543899]]\n"
     ]
    },
    {
     "name": "stderr",
     "output_type": "stream",
     "text": [
      "  3%|▎         | 1/29 [00:00<00:02, 10.00it/s]"
     ]
    },
    {
     "name": "stdout",
     "output_type": "stream",
     "text": [
      "['asparagine', 'benzoic acid']\n"
     ]
    },
    {
     "name": "stderr",
     "output_type": "stream",
     "text": [
      "100%|██████████| 29/29 [00:00<00:00, 31.49it/s]\n",
      "100%|██████████| 29/29 [00:00<00:00, 32.16it/s]\n",
      "100%|██████████| 29/29 [00:00<00:00, 31.05it/s]\n",
      "100%|██████████| 29/29 [00:00<00:00, 31.06it/s]\n",
      "100%|██████████| 29/29 [00:01<00:00, 28.08it/s]\n",
      "100%|██████████| 29/29 [00:00<00:00, 30.87it/s]\n",
      "100%|██████████| 29/29 [00:00<00:00, 29.95it/s]\n",
      "100%|██████████| 29/29 [00:00<00:00, 31.62it/s]\n",
      "100%|██████████| 29/29 [00:00<00:00, 30.07it/s]\n",
      "100%|██████████| 29/29 [00:00<00:00, 30.63it/s]\n"
     ]
    },
    {
     "name": "stdout",
     "output_type": "stream",
     "text": [
      "[[1, 0.6125543900543899], [2, 0.5678166278166279]]\n"
     ]
    },
    {
     "name": "stderr",
     "output_type": "stream",
     "text": [
      "  3%|▎         | 1/29 [00:00<00:02,  9.99it/s]"
     ]
    },
    {
     "name": "stdout",
     "output_type": "stream",
     "text": [
      "['tryptophan', '5-hydroxynorvaline NIST', 'hypoxanthine']\n"
     ]
    },
    {
     "name": "stderr",
     "output_type": "stream",
     "text": [
      "100%|██████████| 29/29 [00:00<00:00, 30.92it/s]\n",
      "100%|██████████| 29/29 [00:00<00:00, 30.39it/s]\n",
      "100%|██████████| 29/29 [00:00<00:00, 30.35it/s]\n",
      "100%|██████████| 29/29 [00:01<00:00, 27.55it/s]\n",
      "100%|██████████| 29/29 [00:00<00:00, 29.77it/s]\n",
      "100%|██████████| 29/29 [00:00<00:00, 30.49it/s]\n",
      "100%|██████████| 29/29 [00:01<00:00, 29.00it/s]\n",
      "100%|██████████| 29/29 [00:00<00:00, 30.04it/s]\n",
      "100%|██████████| 29/29 [00:01<00:00, 28.81it/s]\n",
      "100%|██████████| 29/29 [00:00<00:00, 30.28it/s]\n"
     ]
    },
    {
     "name": "stdout",
     "output_type": "stream",
     "text": [
      "[[1, 0.6125543900543899], [2, 0.5678166278166279], [3, 0.7639413364413364]]\n"
     ]
    },
    {
     "name": "stderr",
     "output_type": "stream",
     "text": [
      "  3%|▎         | 1/29 [00:00<00:03,  9.23it/s]"
     ]
    },
    {
     "name": "stdout",
     "output_type": "stream",
     "text": [
      "['asparagine', 'benzoic acid', 'tryptophan', 'uric acid']\n"
     ]
    },
    {
     "name": "stderr",
     "output_type": "stream",
     "text": [
      "100%|██████████| 29/29 [00:00<00:00, 29.42it/s]\n",
      "100%|██████████| 29/29 [00:00<00:00, 29.66it/s]\n",
      "100%|██████████| 29/29 [00:01<00:00, 28.19it/s]\n",
      "100%|██████████| 29/29 [00:00<00:00, 29.67it/s]\n",
      "100%|██████████| 29/29 [00:00<00:00, 31.76it/s]\n",
      "100%|██████████| 29/29 [00:00<00:00, 30.60it/s]\n",
      "100%|██████████| 29/29 [00:00<00:00, 29.66it/s]\n",
      "100%|██████████| 29/29 [00:00<00:00, 30.68it/s]\n",
      "100%|██████████| 29/29 [00:00<00:00, 29.06it/s]\n",
      "100%|██████████| 29/29 [00:00<00:00, 31.18it/s]\n"
     ]
    },
    {
     "name": "stdout",
     "output_type": "stream",
     "text": [
      "[[1, 0.6125543900543899], [2, 0.5678166278166279], [3, 0.7639413364413364], [4, 0.5737742812742813]]\n"
     ]
    },
    {
     "name": "stderr",
     "output_type": "stream",
     "text": [
      "  3%|▎         | 1/29 [00:00<00:03,  9.20it/s]"
     ]
    },
    {
     "name": "stdout",
     "output_type": "stream",
     "text": [
      "['asparagine', 'benzoic acid', 'tryptophan', 'uric acid', '5-hydroxynorvaline NIST']\n"
     ]
    },
    {
     "name": "stderr",
     "output_type": "stream",
     "text": [
      "100%|██████████| 29/29 [00:00<00:00, 32.06it/s]\n",
      "100%|██████████| 29/29 [00:01<00:00, 27.98it/s]\n",
      "100%|██████████| 29/29 [00:00<00:00, 31.78it/s]\n",
      "100%|██████████| 29/29 [00:00<00:00, 29.90it/s]\n",
      "100%|██████████| 29/29 [00:00<00:00, 31.51it/s]\n",
      "100%|██████████| 29/29 [00:00<00:00, 32.14it/s]\n",
      "100%|██████████| 29/29 [00:00<00:00, 31.06it/s]\n",
      "100%|██████████| 29/29 [00:00<00:00, 31.85it/s]\n",
      "100%|██████████| 29/29 [00:00<00:00, 31.25it/s]\n",
      "100%|██████████| 29/29 [00:00<00:00, 30.35it/s]\n"
     ]
    },
    {
     "name": "stdout",
     "output_type": "stream",
     "text": [
      "[[1, 0.6125543900543899], [2, 0.5678166278166279], [3, 0.7639413364413364], [4, 0.5737742812742813], [5, 0.6298776223776222]]\n"
     ]
    },
    {
     "name": "stderr",
     "output_type": "stream",
     "text": [
      "  7%|▋         | 2/29 [00:00<00:01, 16.09it/s]"
     ]
    },
    {
     "name": "stdout",
     "output_type": "stream",
     "text": [
      "['asparagine', 'benzoic acid', 'tryptophan', 'uric acid', '5-hydroxynorvaline NIST', 'alpha-ketoglutarate']\n"
     ]
    },
    {
     "name": "stderr",
     "output_type": "stream",
     "text": [
      "100%|██████████| 29/29 [00:00<00:00, 31.82it/s]\n",
      "100%|██████████| 29/29 [00:00<00:00, 32.65it/s]\n",
      "100%|██████████| 29/29 [00:00<00:00, 32.36it/s]\n",
      "100%|██████████| 29/29 [00:00<00:00, 30.94it/s]\n",
      "100%|██████████| 29/29 [00:00<00:00, 32.75it/s]\n",
      "100%|██████████| 29/29 [00:00<00:00, 31.18it/s]\n",
      "100%|██████████| 29/29 [00:00<00:00, 31.43it/s]\n",
      "100%|██████████| 29/29 [00:00<00:00, 31.36it/s]\n",
      "100%|██████████| 29/29 [00:00<00:00, 29.97it/s]\n",
      "100%|██████████| 29/29 [00:00<00:00, 29.89it/s]\n"
     ]
    },
    {
     "name": "stdout",
     "output_type": "stream",
     "text": [
      "[[1, 0.6125543900543899], [2, 0.5678166278166279], [3, 0.7639413364413364], [4, 0.5737742812742813], [5, 0.6298776223776222], [6, 0.6265617715617716]]\n"
     ]
    },
    {
     "name": "stderr",
     "output_type": "stream",
     "text": [
      "  7%|▋         | 2/29 [00:00<00:01, 15.62it/s]"
     ]
    },
    {
     "name": "stdout",
     "output_type": "stream",
     "text": [
      "['asparagine', 'benzoic acid', 'tryptophan', 'uric acid', '5-hydroxynorvaline NIST', 'alpha-ketoglutarate', 'citrulline']\n"
     ]
    },
    {
     "name": "stderr",
     "output_type": "stream",
     "text": [
      "100%|██████████| 29/29 [00:00<00:00, 30.51it/s]\n",
      "100%|██████████| 29/29 [00:00<00:00, 31.63it/s]\n",
      "100%|██████████| 29/29 [00:00<00:00, 32.42it/s]\n",
      "100%|██████████| 29/29 [00:00<00:00, 31.31it/s]\n",
      "100%|██████████| 29/29 [00:00<00:00, 31.37it/s]\n",
      "100%|██████████| 29/29 [00:00<00:00, 31.94it/s]\n",
      "100%|██████████| 29/29 [00:00<00:00, 30.93it/s]\n",
      "100%|██████████| 29/29 [00:00<00:00, 30.30it/s]\n",
      "100%|██████████| 29/29 [00:00<00:00, 32.03it/s]\n",
      "100%|██████████| 29/29 [00:00<00:00, 30.94it/s]\n"
     ]
    },
    {
     "name": "stdout",
     "output_type": "stream",
     "text": [
      "[[1, 0.6125543900543899], [2, 0.5678166278166279], [3, 0.7639413364413364], [4, 0.5737742812742813], [5, 0.6298776223776222], [6, 0.6265617715617716], [7, 0.6604885392385392]]\n"
     ]
    },
    {
     "name": "stderr",
     "output_type": "stream",
     "text": [
      "  3%|▎         | 1/29 [00:00<00:03,  9.14it/s]"
     ]
    },
    {
     "name": "stdout",
     "output_type": "stream",
     "text": [
      "['5-hydroxynorvaline NIST', 'hypoxanthine', 'methionine sulfoxide', '3-phosphoglycerate', '5-methoxytryptamine', 'adenosine-5-monophosphate', 'aspartic acid', 'lactic acid']\n"
     ]
    },
    {
     "name": "stderr",
     "output_type": "stream",
     "text": [
      "100%|██████████| 29/29 [00:00<00:00, 30.86it/s]\n",
      "100%|██████████| 29/29 [00:00<00:00, 32.17it/s]\n",
      "100%|██████████| 29/29 [00:00<00:00, 31.18it/s]\n",
      "100%|██████████| 29/29 [00:00<00:00, 31.25it/s]\n",
      "100%|██████████| 29/29 [00:00<00:00, 32.01it/s]\n",
      "100%|██████████| 29/29 [00:00<00:00, 30.85it/s]\n",
      "100%|██████████| 29/29 [00:00<00:00, 29.75it/s]\n",
      "100%|██████████| 29/29 [00:00<00:00, 29.44it/s]\n",
      "100%|██████████| 29/29 [00:00<00:00, 32.18it/s]\n",
      "100%|██████████| 29/29 [00:00<00:00, 32.10it/s]\n"
     ]
    },
    {
     "name": "stdout",
     "output_type": "stream",
     "text": [
      "[[1, 0.6125543900543899], [2, 0.5678166278166279], [3, 0.7639413364413364], [4, 0.5737742812742813], [5, 0.6298776223776222], [6, 0.6265617715617716], [7, 0.6604885392385392], [8, 0.8059003496503495]]\n"
     ]
    },
    {
     "name": "stderr",
     "output_type": "stream",
     "text": [
      "  3%|▎         | 1/29 [00:00<00:02,  9.67it/s]"
     ]
    },
    {
     "name": "stdout",
     "output_type": "stream",
     "text": [
      "['benzoic acid', 'tryptophan', 'uric acid', '5-hydroxynorvaline NIST', 'alpha-ketoglutarate', 'citrulline', 'glutamine', 'malic acid', 'methionine sulfoxide']\n"
     ]
    },
    {
     "name": "stderr",
     "output_type": "stream",
     "text": [
      "100%|██████████| 29/29 [00:00<00:00, 30.80it/s]\n",
      "100%|██████████| 29/29 [00:00<00:00, 30.58it/s]\n",
      "100%|██████████| 29/29 [00:00<00:00, 30.83it/s]\n",
      "100%|██████████| 29/29 [00:00<00:00, 31.66it/s]\n",
      "100%|██████████| 29/29 [00:00<00:00, 30.55it/s]\n",
      "100%|██████████| 29/29 [00:00<00:00, 31.66it/s]\n",
      "100%|██████████| 29/29 [00:00<00:00, 31.02it/s]\n",
      "100%|██████████| 29/29 [00:00<00:00, 29.96it/s]\n",
      "100%|██████████| 29/29 [00:00<00:00, 29.76it/s]\n",
      "100%|██████████| 29/29 [00:00<00:00, 31.69it/s]\n"
     ]
    },
    {
     "name": "stdout",
     "output_type": "stream",
     "text": [
      "[[1, 0.6125543900543899], [2, 0.5678166278166279], [3, 0.7639413364413364], [4, 0.5737742812742813], [5, 0.6298776223776222], [6, 0.6265617715617716], [7, 0.6604885392385392], [8, 0.8059003496503495], [9, 0.704044289044289]]\n"
     ]
    },
    {
     "name": "stderr",
     "output_type": "stream",
     "text": [
      "  3%|▎         | 1/29 [00:00<00:03,  9.06it/s]"
     ]
    },
    {
     "name": "stdout",
     "output_type": "stream",
     "text": [
      "['nornicotine', '3-phosphoglycerate', '5-methoxytryptamine', 'adenosine-5-monophosphate', 'aspartic acid', 'lactic acid', 'maltose', 'phenol', 'pyrophosphate', 'taurine']\n"
     ]
    },
    {
     "name": "stderr",
     "output_type": "stream",
     "text": [
      "100%|██████████| 29/29 [00:00<00:00, 29.88it/s]\n",
      "100%|██████████| 29/29 [00:00<00:00, 29.65it/s]\n",
      "100%|██████████| 29/29 [00:00<00:00, 31.27it/s]\n",
      "100%|██████████| 29/29 [00:00<00:00, 31.61it/s]\n",
      "100%|██████████| 29/29 [00:00<00:00, 31.66it/s]\n",
      "100%|██████████| 29/29 [00:00<00:00, 29.32it/s]\n",
      "100%|██████████| 29/29 [00:00<00:00, 31.59it/s]\n",
      "100%|██████████| 29/29 [00:00<00:00, 31.54it/s]\n",
      "100%|██████████| 29/29 [00:00<00:00, 31.39it/s]\n",
      "100%|██████████| 29/29 [00:00<00:00, 30.44it/s]\n"
     ]
    },
    {
     "name": "stdout",
     "output_type": "stream",
     "text": [
      "[[1, 0.6125543900543899], [2, 0.5678166278166279], [3, 0.7639413364413364], [4, 0.5737742812742813], [5, 0.6298776223776222], [6, 0.6265617715617716], [7, 0.6604885392385392], [8, 0.8059003496503495], [9, 0.704044289044289], [10, 0.7812160062160063]]\n"
     ]
    },
    {
     "name": "stderr",
     "output_type": "stream",
     "text": [
      "  3%|▎         | 1/29 [00:00<00:03,  9.23it/s]"
     ]
    },
    {
     "name": "stdout",
     "output_type": "stream",
     "text": [
      "['asparagine', 'benzoic acid', 'tryptophan', 'uric acid', '5-hydroxynorvaline NIST', 'alpha-ketoglutarate', 'citrulline', 'glutamine', 'hypoxanthine', 'malic acid', 'methionine sulfoxide']\n"
     ]
    },
    {
     "name": "stderr",
     "output_type": "stream",
     "text": [
      "100%|██████████| 29/29 [00:01<00:00, 28.82it/s]\n",
      "100%|██████████| 29/29 [00:01<00:00, 23.36it/s]\n",
      "100%|██████████| 29/29 [00:01<00:00, 18.82it/s]\n",
      "100%|██████████| 29/29 [00:01<00:00, 25.31it/s]\n",
      "100%|██████████| 29/29 [00:01<00:00, 26.31it/s]\n",
      "100%|██████████| 29/29 [00:01<00:00, 18.22it/s]\n",
      "100%|██████████| 29/29 [00:01<00:00, 26.68it/s]\n",
      "100%|██████████| 29/29 [00:00<00:00, 31.18it/s]\n",
      "100%|██████████| 29/29 [00:00<00:00, 29.27it/s]\n",
      "100%|██████████| 29/29 [00:00<00:00, 29.94it/s]\n"
     ]
    },
    {
     "name": "stdout",
     "output_type": "stream",
     "text": [
      "[[1, 0.6125543900543899], [2, 0.5678166278166279], [3, 0.7639413364413364], [4, 0.5737742812742813], [5, 0.6298776223776222], [6, 0.6265617715617716], [7, 0.6604885392385392], [8, 0.8059003496503495], [9, 0.704044289044289], [10, 0.7812160062160063], [11, 0.7478195415695416]]\n"
     ]
    },
    {
     "name": "stderr",
     "output_type": "stream",
     "text": [
      "  3%|▎         | 1/29 [00:00<00:02,  9.39it/s]"
     ]
    },
    {
     "name": "stdout",
     "output_type": "stream",
     "text": [
      "['uric acid', '5-hydroxynorvaline NIST', 'citrulline', 'hypoxanthine', 'methionine sulfoxide', 'nornicotine', '3-phosphoglycerate', '5-methoxytryptamine', 'adenosine-5-monophosphate', 'aspartic acid', 'lactic acid', 'phenol']\n"
     ]
    },
    {
     "name": "stderr",
     "output_type": "stream",
     "text": [
      "100%|██████████| 29/29 [00:01<00:00, 28.69it/s]\n",
      "100%|██████████| 29/29 [00:01<00:00, 25.83it/s]\n",
      "100%|██████████| 29/29 [00:00<00:00, 31.36it/s]\n",
      "100%|██████████| 29/29 [00:00<00:00, 30.84it/s]\n",
      "100%|██████████| 29/29 [00:00<00:00, 30.48it/s]\n",
      "100%|██████████| 29/29 [00:00<00:00, 30.29it/s]\n",
      "100%|██████████| 29/29 [00:00<00:00, 31.32it/s]\n",
      "100%|██████████| 29/29 [00:00<00:00, 29.14it/s]\n",
      "100%|██████████| 29/29 [00:01<00:00, 28.36it/s]\n",
      "100%|██████████| 29/29 [00:00<00:00, 29.91it/s]\n"
     ]
    },
    {
     "name": "stdout",
     "output_type": "stream",
     "text": [
      "[[1, 0.6125543900543899], [2, 0.5678166278166279], [3, 0.7639413364413364], [4, 0.5737742812742813], [5, 0.6298776223776222], [6, 0.6265617715617716], [7, 0.6604885392385392], [8, 0.8059003496503495], [9, 0.704044289044289], [10, 0.7812160062160063], [11, 0.7478195415695416], [12, 0.7889180264180264]]\n"
     ]
    },
    {
     "name": "stderr",
     "output_type": "stream",
     "text": [
      "  3%|▎         | 1/29 [00:00<00:02,  9.87it/s]"
     ]
    },
    {
     "name": "stdout",
     "output_type": "stream",
     "text": [
      "['5-hydroxynorvaline NIST', 'alpha-ketoglutarate', 'hypoxanthine', 'methionine sulfoxide', 'nornicotine', '3-phosphoglycerate', '5-methoxytryptamine', 'adenosine-5-monophosphate', 'aspartic acid', 'lactic acid', 'maltose', 'N-methylalanine', 'phenol']\n"
     ]
    },
    {
     "name": "stderr",
     "output_type": "stream",
     "text": [
      "100%|██████████| 29/29 [00:01<00:00, 28.45it/s]\n",
      "100%|██████████| 29/29 [00:00<00:00, 31.78it/s]\n",
      "100%|██████████| 29/29 [00:01<00:00, 26.08it/s]\n",
      "100%|██████████| 29/29 [00:01<00:00, 27.66it/s]\n",
      "100%|██████████| 29/29 [00:01<00:00, 23.30it/s]\n",
      "100%|██████████| 29/29 [00:00<00:00, 30.63it/s]\n",
      "100%|██████████| 29/29 [00:00<00:00, 31.59it/s]\n",
      "100%|██████████| 29/29 [00:00<00:00, 31.86it/s]\n",
      "100%|██████████| 29/29 [00:00<00:00, 31.25it/s]\n",
      "100%|██████████| 29/29 [00:01<00:00, 28.99it/s]\n"
     ]
    },
    {
     "name": "stdout",
     "output_type": "stream",
     "text": [
      "[[1, 0.6125543900543899], [2, 0.5678166278166279], [3, 0.7639413364413364], [4, 0.5737742812742813], [5, 0.6298776223776222], [6, 0.6265617715617716], [7, 0.6604885392385392], [8, 0.8059003496503495], [9, 0.704044289044289], [10, 0.7812160062160063], [11, 0.7478195415695416], [12, 0.7889180264180264], [13, 0.815243783993784]]\n"
     ]
    },
    {
     "name": "stderr",
     "output_type": "stream",
     "text": [
      "  7%|▋         | 2/29 [00:00<00:01, 15.62it/s]"
     ]
    },
    {
     "name": "stdout",
     "output_type": "stream",
     "text": [
      "['asparagine', 'benzoic acid', 'tryptophan', 'uric acid', '5-hydroxynorvaline NIST', 'alpha-ketoglutarate', 'citrulline', 'glutamine', 'hypoxanthine', 'malic acid', 'methionine sulfoxide', 'nornicotine', 'octadecanol', '3-phosphoglycerate']\n"
     ]
    },
    {
     "name": "stderr",
     "output_type": "stream",
     "text": [
      "100%|██████████| 29/29 [00:00<00:00, 31.63it/s]\n",
      "100%|██████████| 29/29 [00:00<00:00, 30.64it/s]\n",
      "100%|██████████| 29/29 [00:00<00:00, 31.29it/s]\n",
      "100%|██████████| 29/29 [00:00<00:00, 31.34it/s]\n",
      "100%|██████████| 29/29 [00:00<00:00, 31.64it/s]\n",
      "100%|██████████| 29/29 [00:00<00:00, 31.84it/s]\n",
      "100%|██████████| 29/29 [00:00<00:00, 30.56it/s]\n",
      "100%|██████████| 29/29 [00:00<00:00, 30.92it/s]\n",
      "100%|██████████| 29/29 [00:00<00:00, 29.29it/s]\n",
      "100%|██████████| 29/29 [00:00<00:00, 29.91it/s]\n"
     ]
    },
    {
     "name": "stdout",
     "output_type": "stream",
     "text": [
      "[[1, 0.6125543900543899], [2, 0.5678166278166279], [3, 0.7639413364413364], [4, 0.5737742812742813], [5, 0.6298776223776222], [6, 0.6265617715617716], [7, 0.6604885392385392], [8, 0.8059003496503495], [9, 0.704044289044289], [10, 0.7812160062160063], [11, 0.7478195415695416], [12, 0.7889180264180264], [13, 0.815243783993784], [14, 0.7700514763014763]]\n"
     ]
    },
    {
     "name": "stderr",
     "output_type": "stream",
     "text": [
      "  3%|▎         | 1/29 [00:00<00:03,  9.13it/s]"
     ]
    },
    {
     "name": "stdout",
     "output_type": "stream",
     "text": [
      "['benzoic acid', '5-hydroxynorvaline NIST', 'hypoxanthine', 'malic acid', 'methionine sulfoxide', 'nornicotine', '3-phosphoglycerate', '5-methoxytryptamine', 'adenosine-5-monophosphate', 'aspartic acid', 'lactic acid', 'maltose', 'phenol', 'pyrophosphate', 'taurine']\n"
     ]
    },
    {
     "name": "stderr",
     "output_type": "stream",
     "text": [
      "100%|██████████| 29/29 [00:00<00:00, 29.93it/s]\n",
      "100%|██████████| 29/29 [00:01<00:00, 18.50it/s]\n",
      "100%|██████████| 29/29 [00:00<00:00, 29.27it/s]\n",
      "100%|██████████| 29/29 [00:00<00:00, 29.44it/s]\n",
      "100%|██████████| 29/29 [00:01<00:00, 26.48it/s]\n",
      "100%|██████████| 29/29 [00:01<00:00, 24.99it/s]\n",
      "100%|██████████| 29/29 [00:00<00:00, 29.70it/s]\n",
      "100%|██████████| 29/29 [00:01<00:00, 25.07it/s]\n",
      "100%|██████████| 29/29 [00:00<00:00, 31.19it/s]\n",
      "100%|██████████| 29/29 [00:01<00:00, 28.15it/s]\n"
     ]
    },
    {
     "name": "stdout",
     "output_type": "stream",
     "text": [
      "[[1, 0.6125543900543899], [2, 0.5678166278166279], [3, 0.7639413364413364], [4, 0.5737742812742813], [5, 0.6298776223776222], [6, 0.6265617715617716], [7, 0.6604885392385392], [8, 0.8059003496503495], [9, 0.704044289044289], [10, 0.7812160062160063], [11, 0.7478195415695416], [12, 0.7889180264180264], [13, 0.815243783993784], [14, 0.7700514763014763], [15, 0.7964986402486403]]\n"
     ]
    },
    {
     "name": "stderr",
     "output_type": "stream",
     "text": [
      "  7%|▋         | 2/29 [00:00<00:01, 14.16it/s]"
     ]
    },
    {
     "name": "stdout",
     "output_type": "stream",
     "text": [
      "['asparagine', 'benzoic acid', 'tryptophan', 'uric acid', '5-hydroxynorvaline NIST', 'alpha-ketoglutarate', 'citrulline', 'glutamine', 'hypoxanthine', 'malic acid', 'methionine sulfoxide', 'nornicotine', 'octadecanol', '3-phosphoglycerate', '5-methoxytryptamine', 'adenosine-5-monophosphate']\n"
     ]
    },
    {
     "name": "stderr",
     "output_type": "stream",
     "text": [
      "100%|██████████| 29/29 [00:00<00:00, 30.79it/s]\n",
      "100%|██████████| 29/29 [00:00<00:00, 31.15it/s]\n",
      "100%|██████████| 29/29 [00:00<00:00, 31.52it/s]\n",
      "100%|██████████| 29/29 [00:00<00:00, 29.88it/s]\n",
      "100%|██████████| 29/29 [00:00<00:00, 30.56it/s]\n",
      "100%|██████████| 29/29 [00:01<00:00, 26.32it/s]\n",
      "100%|██████████| 29/29 [00:01<00:00, 21.36it/s]\n",
      "100%|██████████| 29/29 [00:01<00:00, 28.24it/s]\n",
      "100%|██████████| 29/29 [00:01<00:00, 28.85it/s]\n",
      "100%|██████████| 29/29 [00:00<00:00, 29.48it/s]\n"
     ]
    },
    {
     "name": "stdout",
     "output_type": "stream",
     "text": [
      "[[1, 0.6125543900543899], [2, 0.5678166278166279], [3, 0.7639413364413364], [4, 0.5737742812742813], [5, 0.6298776223776222], [6, 0.6265617715617716], [7, 0.6604885392385392], [8, 0.8059003496503495], [9, 0.704044289044289], [10, 0.7812160062160063], [11, 0.7478195415695416], [12, 0.7889180264180264], [13, 0.815243783993784], [14, 0.7700514763014763], [15, 0.7964986402486403], [16, 0.8042336829836829]]\n"
     ]
    },
    {
     "name": "stderr",
     "output_type": "stream",
     "text": [
      "  7%|▋         | 2/29 [00:00<00:01, 16.02it/s]"
     ]
    },
    {
     "name": "stdout",
     "output_type": "stream",
     "text": [
      "['asparagine', 'benzoic acid', 'tryptophan', 'uric acid', '5-hydroxynorvaline NIST', 'alpha-ketoglutarate', 'citrulline', 'glutamine', 'hypoxanthine', 'malic acid', 'methionine sulfoxide', 'nornicotine', 'octadecanol', '3-phosphoglycerate', '5-methoxytryptamine', 'adenosine-5-monophosphate', 'aspartic acid']\n"
     ]
    },
    {
     "name": "stderr",
     "output_type": "stream",
     "text": [
      "100%|██████████| 29/29 [00:00<00:00, 30.45it/s]\n",
      "100%|██████████| 29/29 [00:00<00:00, 31.14it/s]\n",
      "100%|██████████| 29/29 [00:00<00:00, 30.92it/s]\n",
      "100%|██████████| 29/29 [00:00<00:00, 29.74it/s]\n",
      "100%|██████████| 29/29 [00:01<00:00, 28.75it/s]\n",
      "100%|██████████| 29/29 [00:00<00:00, 29.65it/s]\n",
      "100%|██████████| 29/29 [00:00<00:00, 31.22it/s]\n",
      "100%|██████████| 29/29 [00:00<00:00, 30.47it/s]\n",
      "100%|██████████| 29/29 [00:00<00:00, 31.30it/s]\n",
      "100%|██████████| 29/29 [00:00<00:00, 30.32it/s]\n"
     ]
    },
    {
     "name": "stdout",
     "output_type": "stream",
     "text": [
      "[[1, 0.6125543900543899], [2, 0.5678166278166279], [3, 0.7639413364413364], [4, 0.5737742812742813], [5, 0.6298776223776222], [6, 0.6265617715617716], [7, 0.6604885392385392], [8, 0.8059003496503495], [9, 0.704044289044289], [10, 0.7812160062160063], [11, 0.7478195415695416], [12, 0.7889180264180264], [13, 0.815243783993784], [14, 0.7700514763014763], [15, 0.7964986402486403], [16, 0.8042336829836829], [17, 0.8024912587412587]]\n"
     ]
    },
    {
     "name": "stderr",
     "output_type": "stream",
     "text": [
      "  7%|▋         | 2/29 [00:00<00:01, 15.27it/s]"
     ]
    },
    {
     "name": "stdout",
     "output_type": "stream",
     "text": [
      "['asparagine', 'benzoic acid', 'tryptophan', 'uric acid', '5-hydroxynorvaline NIST', 'alpha-ketoglutarate', 'citrulline', 'glutamine', 'hypoxanthine', 'malic acid', 'methionine sulfoxide', 'nornicotine', 'octadecanol', '3-phosphoglycerate', '5-methoxytryptamine', 'adenosine-5-monophosphate', 'aspartic acid', 'lactic acid']\n"
     ]
    },
    {
     "name": "stderr",
     "output_type": "stream",
     "text": [
      "100%|██████████| 29/29 [00:00<00:00, 29.75it/s]\n",
      "100%|██████████| 29/29 [00:00<00:00, 30.43it/s]\n",
      "100%|██████████| 29/29 [00:00<00:00, 30.21it/s]\n",
      "100%|██████████| 29/29 [00:00<00:00, 29.57it/s]\n",
      "100%|██████████| 29/29 [00:01<00:00, 28.94it/s]\n",
      "100%|██████████| 29/29 [00:00<00:00, 29.99it/s]\n",
      "100%|██████████| 29/29 [00:00<00:00, 30.60it/s]\n",
      "100%|██████████| 29/29 [00:00<00:00, 29.41it/s]\n",
      "100%|██████████| 29/29 [00:00<00:00, 29.23it/s]\n",
      "100%|██████████| 29/29 [00:01<00:00, 28.32it/s]\n"
     ]
    },
    {
     "name": "stdout",
     "output_type": "stream",
     "text": [
      "[[1, 0.6125543900543899], [2, 0.5678166278166279], [3, 0.7639413364413364], [4, 0.5737742812742813], [5, 0.6298776223776222], [6, 0.6265617715617716], [7, 0.6604885392385392], [8, 0.8059003496503495], [9, 0.704044289044289], [10, 0.7812160062160063], [11, 0.7478195415695416], [12, 0.7889180264180264], [13, 0.815243783993784], [14, 0.7700514763014763], [15, 0.7964986402486403], [16, 0.8042336829836829], [17, 0.8024912587412587], [18, 0.7969357031857032]]\n"
     ]
    },
    {
     "name": "stderr",
     "output_type": "stream",
     "text": [
      "  3%|▎         | 1/29 [00:00<00:03,  8.82it/s]"
     ]
    },
    {
     "name": "stdout",
     "output_type": "stream",
     "text": [
      "['asparagine', 'benzoic acid', 'tryptophan', 'uric acid', '5-hydroxynorvaline NIST', 'alpha-ketoglutarate', 'citrulline', 'glutamine', 'hypoxanthine', 'malic acid', 'methionine sulfoxide', 'nornicotine', 'octadecanol', '3-phosphoglycerate', '5-methoxytryptamine', 'adenosine-5-monophosphate', 'aspartic acid', 'lactic acid', 'maltose']\n"
     ]
    },
    {
     "name": "stderr",
     "output_type": "stream",
     "text": [
      "100%|██████████| 29/29 [00:00<00:00, 29.79it/s]\n",
      "100%|██████████| 29/29 [00:01<00:00, 25.10it/s]\n",
      "100%|██████████| 29/29 [00:01<00:00, 28.37it/s]\n",
      "100%|██████████| 29/29 [00:00<00:00, 29.30it/s]\n",
      "100%|██████████| 29/29 [00:01<00:00, 27.21it/s]\n",
      "100%|██████████| 29/29 [00:01<00:00, 26.25it/s]\n",
      "100%|██████████| 29/29 [00:01<00:00, 19.25it/s]\n",
      "100%|██████████| 29/29 [00:01<00:00, 28.14it/s]\n",
      "100%|██████████| 29/29 [00:01<00:00, 28.70it/s]\n",
      "100%|██████████| 29/29 [00:01<00:00, 27.36it/s]\n"
     ]
    },
    {
     "name": "stdout",
     "output_type": "stream",
     "text": [
      "[[1, 0.6125543900543899], [2, 0.5678166278166279], [3, 0.7639413364413364], [4, 0.5737742812742813], [5, 0.6298776223776222], [6, 0.6265617715617716], [7, 0.6604885392385392], [8, 0.8059003496503495], [9, 0.704044289044289], [10, 0.7812160062160063], [11, 0.7478195415695416], [12, 0.7889180264180264], [13, 0.815243783993784], [14, 0.7700514763014763], [15, 0.7964986402486403], [16, 0.8042336829836829], [17, 0.8024912587412587], [18, 0.7969357031857032], [19, 0.7924912587412587]]\n"
     ]
    },
    {
     "name": "stderr",
     "output_type": "stream",
     "text": [
      "  3%|▎         | 1/29 [00:00<00:03,  8.32it/s]"
     ]
    },
    {
     "name": "stdout",
     "output_type": "stream",
     "text": [
      "['benzoic acid', 'tryptophan', '5-hydroxynorvaline NIST', 'alpha-ketoglutarate', 'citrulline', 'glutamine', 'hypoxanthine', 'methionine sulfoxide', 'nornicotine', '3-phosphoglycerate', '5-methoxytryptamine', 'adenosine-5-monophosphate', 'aspartic acid', 'lactic acid', 'maltose', 'maltotriose', 'phenol', 'pyrophosphate', 'pyruvic acid', 'taurine']\n"
     ]
    },
    {
     "name": "stderr",
     "output_type": "stream",
     "text": [
      "100%|██████████| 29/29 [00:01<00:00, 28.91it/s]\n",
      "100%|██████████| 29/29 [00:01<00:00, 23.23it/s]\n",
      "100%|██████████| 29/29 [00:00<00:00, 29.02it/s]\n",
      "100%|██████████| 29/29 [00:01<00:00, 28.08it/s]\n",
      "100%|██████████| 29/29 [00:00<00:00, 29.92it/s]\n",
      "100%|██████████| 29/29 [00:00<00:00, 29.65it/s]\n",
      "100%|██████████| 29/29 [00:00<00:00, 29.33it/s]\n",
      "100%|██████████| 29/29 [00:01<00:00, 26.71it/s]\n",
      "100%|██████████| 29/29 [00:00<00:00, 30.55it/s]\n",
      "100%|██████████| 29/29 [00:00<00:00, 30.22it/s]\n"
     ]
    },
    {
     "name": "stdout",
     "output_type": "stream",
     "text": [
      "[[1, 0.6125543900543899], [2, 0.5678166278166279], [3, 0.7639413364413364], [4, 0.5737742812742813], [5, 0.6298776223776222], [6, 0.6265617715617716], [7, 0.6604885392385392], [8, 0.8059003496503495], [9, 0.704044289044289], [10, 0.7812160062160063], [11, 0.7478195415695416], [12, 0.7889180264180264], [13, 0.815243783993784], [14, 0.7700514763014763], [15, 0.7964986402486403], [16, 0.8042336829836829], [17, 0.8024912587412587], [18, 0.7969357031857032], [19, 0.7924912587412587], [20, 0.7913170163170162]]\n"
     ]
    },
    {
     "name": "stderr",
     "output_type": "stream",
     "text": [
      "  3%|▎         | 1/29 [00:00<00:03,  8.83it/s]"
     ]
    },
    {
     "name": "stdout",
     "output_type": "stream",
     "text": [
      "['benzoic acid', 'uric acid', '5-hydroxynorvaline NIST', 'alpha-ketoglutarate', 'glutamine', 'hypoxanthine', 'malic acid', 'methionine sulfoxide', 'nornicotine', '3-phosphoglycerate', '5-methoxytryptamine', 'adenosine-5-monophosphate', 'aspartic acid', 'lactic acid', 'maltose', 'maltotriose', 'phenol', 'phosphoethanolamine', 'pyrophosphate', 'pyruvic acid', 'taurine']\n"
     ]
    },
    {
     "name": "stderr",
     "output_type": "stream",
     "text": [
      "100%|██████████| 29/29 [00:01<00:00, 25.87it/s]\n",
      "100%|██████████| 29/29 [00:00<00:00, 30.49it/s]\n",
      "100%|██████████| 29/29 [00:00<00:00, 30.42it/s]\n",
      "100%|██████████| 29/29 [00:00<00:00, 29.66it/s]\n",
      "100%|██████████| 29/29 [00:00<00:00, 30.63it/s]\n",
      "100%|██████████| 29/29 [00:00<00:00, 29.68it/s]\n",
      "100%|██████████| 29/29 [00:00<00:00, 29.31it/s]\n",
      "100%|██████████| 29/29 [00:00<00:00, 29.81it/s]\n",
      "100%|██████████| 29/29 [00:00<00:00, 29.51it/s]\n",
      "100%|██████████| 29/29 [00:01<00:00, 28.49it/s]\n"
     ]
    },
    {
     "name": "stdout",
     "output_type": "stream",
     "text": [
      "[[1, 0.6125543900543899], [2, 0.5678166278166279], [3, 0.7639413364413364], [4, 0.5737742812742813], [5, 0.6298776223776222], [6, 0.6265617715617716], [7, 0.6604885392385392], [8, 0.8059003496503495], [9, 0.704044289044289], [10, 0.7812160062160063], [11, 0.7478195415695416], [12, 0.7889180264180264], [13, 0.815243783993784], [14, 0.7700514763014763], [15, 0.7964986402486403], [16, 0.8042336829836829], [17, 0.8024912587412587], [18, 0.7969357031857032], [19, 0.7924912587412587], [20, 0.7913170163170162], [21, 0.798266317016317]]\n"
     ]
    },
    {
     "name": "stderr",
     "output_type": "stream",
     "text": [
      "  3%|▎         | 1/29 [00:00<00:03,  7.84it/s]"
     ]
    },
    {
     "name": "stdout",
     "output_type": "stream",
     "text": [
      "['benzoic acid', 'uric acid', '5-hydroxynorvaline NIST', 'alpha-ketoglutarate', 'glutamine', 'hypoxanthine', 'malic acid', 'methionine sulfoxide', 'nornicotine', '3-phosphoglycerate', '5-methoxytryptamine', 'adenosine-5-monophosphate', 'aspartic acid', 'lactic acid', 'maltose', 'maltotriose', 'N-methylalanine', 'phenol', 'phosphoethanolamine', 'pyrophosphate', 'pyruvic acid', 'taurine']\n"
     ]
    },
    {
     "name": "stderr",
     "output_type": "stream",
     "text": [
      "100%|██████████| 29/29 [00:00<00:00, 29.28it/s]\n",
      "100%|██████████| 29/29 [00:00<00:00, 30.06it/s]\n",
      "100%|██████████| 29/29 [00:00<00:00, 30.16it/s]\n",
      "100%|██████████| 29/29 [00:01<00:00, 28.85it/s]\n",
      "100%|██████████| 29/29 [00:00<00:00, 30.72it/s]\n",
      "100%|██████████| 29/29 [00:00<00:00, 31.40it/s]\n",
      "100%|██████████| 29/29 [00:00<00:00, 29.13it/s]\n",
      "100%|██████████| 29/29 [00:01<00:00, 28.36it/s]\n",
      "100%|██████████| 29/29 [00:01<00:00, 26.18it/s]\n",
      "100%|██████████| 29/29 [00:00<00:00, 31.36it/s]\n"
     ]
    },
    {
     "name": "stdout",
     "output_type": "stream",
     "text": [
      "[[1, 0.6125543900543899], [2, 0.5678166278166279], [3, 0.7639413364413364], [4, 0.5737742812742813], [5, 0.6298776223776222], [6, 0.6265617715617716], [7, 0.6604885392385392], [8, 0.8059003496503495], [9, 0.704044289044289], [10, 0.7812160062160063], [11, 0.7478195415695416], [12, 0.7889180264180264], [13, 0.815243783993784], [14, 0.7700514763014763], [15, 0.7964986402486403], [16, 0.8042336829836829], [17, 0.8024912587412587], [18, 0.7969357031857032], [19, 0.7924912587412587], [20, 0.7913170163170162], [21, 0.798266317016317], [22, 0.7808420745920746]]\n"
     ]
    },
    {
     "name": "stderr",
     "output_type": "stream",
     "text": [
      "  3%|▎         | 1/29 [00:00<00:03,  9.18it/s]"
     ]
    },
    {
     "name": "stdout",
     "output_type": "stream",
     "text": [
      "['benzoic acid', 'tryptophan', 'uric acid', '5-hydroxynorvaline NIST', 'alpha-ketoglutarate', 'glutamine', 'hypoxanthine', 'malic acid', 'methionine sulfoxide', 'nornicotine', '3-phosphoglycerate', '5-methoxytryptamine', 'adenosine-5-monophosphate', 'aspartic acid', 'lactic acid', 'maltose', 'maltotriose', 'N-methylalanine', 'phenol', 'phosphoethanolamine', 'pyrophosphate', 'pyruvic acid', 'taurine']\n"
     ]
    },
    {
     "name": "stderr",
     "output_type": "stream",
     "text": [
      "100%|██████████| 29/29 [00:00<00:00, 30.70it/s]\n",
      "100%|██████████| 29/29 [00:00<00:00, 30.04it/s]\n",
      "100%|██████████| 29/29 [00:00<00:00, 30.31it/s]\n",
      "100%|██████████| 29/29 [00:00<00:00, 30.25it/s]\n",
      "100%|██████████| 29/29 [00:01<00:00, 26.20it/s]\n",
      "100%|██████████| 29/29 [00:00<00:00, 30.18it/s]\n",
      "100%|██████████| 29/29 [00:01<00:00, 26.01it/s]\n",
      "100%|██████████| 29/29 [00:00<00:00, 30.10it/s]\n",
      "100%|██████████| 29/29 [00:00<00:00, 30.20it/s]\n",
      "100%|██████████| 29/29 [00:00<00:00, 29.66it/s]\n"
     ]
    },
    {
     "name": "stdout",
     "output_type": "stream",
     "text": [
      "[[1, 0.6125543900543899], [2, 0.5678166278166279], [3, 0.7639413364413364], [4, 0.5737742812742813], [5, 0.6298776223776222], [6, 0.6265617715617716], [7, 0.6604885392385392], [8, 0.8059003496503495], [9, 0.704044289044289], [10, 0.7812160062160063], [11, 0.7478195415695416], [12, 0.7889180264180264], [13, 0.815243783993784], [14, 0.7700514763014763], [15, 0.7964986402486403], [16, 0.8042336829836829], [17, 0.8024912587412587], [18, 0.7969357031857032], [19, 0.7924912587412587], [20, 0.7913170163170162], [21, 0.798266317016317], [22, 0.7808420745920746], [23, 0.7784430846930848]]\n"
     ]
    },
    {
     "name": "stderr",
     "output_type": "stream",
     "text": [
      "  3%|▎         | 1/29 [00:00<00:03,  8.95it/s]"
     ]
    },
    {
     "name": "stdout",
     "output_type": "stream",
     "text": [
      "['asparagine', 'benzoic acid', 'tryptophan', 'uric acid', '5-hydroxynorvaline NIST', 'alpha-ketoglutarate', 'citrulline', 'glutamine', 'hypoxanthine', 'malic acid', 'methionine sulfoxide', 'nornicotine', 'octadecanol', '3-phosphoglycerate', '5-methoxytryptamine', 'adenosine-5-monophosphate', 'aspartic acid', 'lactic acid', 'maltose', 'maltotriose', 'N-methylalanine', 'phenol', 'phosphoethanolamine', 'pyrophosphate']\n"
     ]
    },
    {
     "name": "stderr",
     "output_type": "stream",
     "text": [
      "100%|██████████| 29/29 [00:01<00:00, 27.80it/s]\n",
      "100%|██████████| 29/29 [00:01<00:00, 28.26it/s]\n",
      "100%|██████████| 29/29 [00:01<00:00, 28.63it/s]\n",
      "100%|██████████| 29/29 [00:01<00:00, 28.73it/s]\n",
      "100%|██████████| 29/29 [00:00<00:00, 30.51it/s]\n",
      "100%|██████████| 29/29 [00:00<00:00, 29.69it/s]\n",
      "100%|██████████| 29/29 [00:00<00:00, 30.40it/s]\n",
      "100%|██████████| 29/29 [00:00<00:00, 29.78it/s]\n",
      "100%|██████████| 29/29 [00:01<00:00, 27.78it/s]\n",
      "100%|██████████| 29/29 [00:00<00:00, 29.90it/s]\n"
     ]
    },
    {
     "name": "stdout",
     "output_type": "stream",
     "text": [
      "[[1, 0.6125543900543899], [2, 0.5678166278166279], [3, 0.7639413364413364], [4, 0.5737742812742813], [5, 0.6298776223776222], [6, 0.6265617715617716], [7, 0.6604885392385392], [8, 0.8059003496503495], [9, 0.704044289044289], [10, 0.7812160062160063], [11, 0.7478195415695416], [12, 0.7889180264180264], [13, 0.815243783993784], [14, 0.7700514763014763], [15, 0.7964986402486403], [16, 0.8042336829836829], [17, 0.8024912587412587], [18, 0.7969357031857032], [19, 0.7924912587412587], [20, 0.7913170163170162], [21, 0.798266317016317], [22, 0.7808420745920746], [23, 0.7784430846930848], [24, 0.7634761072261073]]\n"
     ]
    },
    {
     "name": "stderr",
     "output_type": "stream",
     "text": [
      "  3%|▎         | 1/29 [00:00<00:03,  8.84it/s]"
     ]
    },
    {
     "name": "stdout",
     "output_type": "stream",
     "text": [
      "['asparagine', 'benzoic acid', 'tryptophan', 'uric acid', '5-hydroxynorvaline NIST', 'alpha-ketoglutarate', 'citrulline', 'glutamine', 'hypoxanthine', 'malic acid', 'methionine sulfoxide', 'nornicotine', '3-phosphoglycerate', '5-methoxytryptamine', 'adenosine-5-monophosphate', 'aspartic acid', 'lactic acid', 'maltose', 'maltotriose', 'N-methylalanine', 'phenol', 'phosphoethanolamine', 'pyrophosphate', 'pyruvic acid', 'taurine']\n"
     ]
    },
    {
     "name": "stderr",
     "output_type": "stream",
     "text": [
      "100%|██████████| 29/29 [00:00<00:00, 29.40it/s]\n",
      "100%|██████████| 29/29 [00:00<00:00, 30.73it/s]\n",
      "100%|██████████| 29/29 [00:00<00:00, 29.95it/s]\n",
      "100%|██████████| 29/29 [00:00<00:00, 29.28it/s]\n",
      "100%|██████████| 29/29 [00:01<00:00, 28.75it/s]\n",
      "100%|██████████| 29/29 [00:01<00:00, 27.92it/s]\n",
      "100%|██████████| 29/29 [00:00<00:00, 29.27it/s]\n",
      "100%|██████████| 29/29 [00:00<00:00, 29.50it/s]\n",
      "100%|██████████| 29/29 [00:01<00:00, 28.17it/s]\n",
      "100%|██████████| 29/29 [00:01<00:00, 28.17it/s]\n"
     ]
    },
    {
     "name": "stdout",
     "output_type": "stream",
     "text": [
      "[[1, 0.6125543900543899], [2, 0.5678166278166279], [3, 0.7639413364413364], [4, 0.5737742812742813], [5, 0.6298776223776222], [6, 0.6265617715617716], [7, 0.6604885392385392], [8, 0.8059003496503495], [9, 0.704044289044289], [10, 0.7812160062160063], [11, 0.7478195415695416], [12, 0.7889180264180264], [13, 0.815243783993784], [14, 0.7700514763014763], [15, 0.7964986402486403], [16, 0.8042336829836829], [17, 0.8024912587412587], [18, 0.7969357031857032], [19, 0.7924912587412587], [20, 0.7913170163170162], [21, 0.798266317016317], [22, 0.7808420745920746], [23, 0.7784430846930848], [24, 0.7634761072261073], [25, 0.7833041958041959]]\n"
     ]
    },
    {
     "name": "stderr",
     "output_type": "stream",
     "text": [
      "  3%|▎         | 1/29 [00:00<00:03,  9.05it/s]"
     ]
    },
    {
     "name": "stdout",
     "output_type": "stream",
     "text": [
      "['asparagine', 'benzoic acid', 'tryptophan', 'uric acid', '5-hydroxynorvaline NIST', 'alpha-ketoglutarate', 'citrulline', 'glutamine', 'hypoxanthine', 'malic acid', 'methionine sulfoxide', 'nornicotine', 'octadecanol', '3-phosphoglycerate', '5-methoxytryptamine', 'adenosine-5-monophosphate', 'aspartic acid', 'lactic acid', 'maltose', 'maltotriose', 'N-methylalanine', 'phenol', 'phosphoethanolamine', 'pyrophosphate', 'pyruvic acid', 'taurine']\n"
     ]
    },
    {
     "name": "stderr",
     "output_type": "stream",
     "text": [
      "100%|██████████| 29/29 [00:00<00:00, 29.48it/s]\n",
      "100%|██████████| 29/29 [00:01<00:00, 27.96it/s]\n",
      "100%|██████████| 29/29 [00:01<00:00, 28.85it/s]\n",
      "100%|██████████| 29/29 [00:01<00:00, 28.93it/s]\n",
      "100%|██████████| 29/29 [00:00<00:00, 29.53it/s]\n",
      "100%|██████████| 29/29 [00:01<00:00, 28.58it/s]\n",
      "100%|██████████| 29/29 [00:00<00:00, 29.30it/s]\n",
      "100%|██████████| 29/29 [00:01<00:00, 17.31it/s]\n",
      "100%|██████████| 29/29 [00:01<00:00, 24.72it/s]\n",
      "100%|██████████| 29/29 [00:01<00:00, 27.37it/s]\n"
     ]
    },
    {
     "name": "stdout",
     "output_type": "stream",
     "text": [
      "[[1, 0.6125543900543899], [2, 0.5678166278166279], [3, 0.7639413364413364], [4, 0.5737742812742813], [5, 0.6298776223776222], [6, 0.6265617715617716], [7, 0.6604885392385392], [8, 0.8059003496503495], [9, 0.704044289044289], [10, 0.7812160062160063], [11, 0.7478195415695416], [12, 0.7889180264180264], [13, 0.815243783993784], [14, 0.7700514763014763], [15, 0.7964986402486403], [16, 0.8042336829836829], [17, 0.8024912587412587], [18, 0.7969357031857032], [19, 0.7924912587412587], [20, 0.7913170163170162], [21, 0.798266317016317], [22, 0.7808420745920746], [23, 0.7784430846930848], [24, 0.7634761072261073], [25, 0.7833041958041959], [26, 0.7784430846930848]]\n"
     ]
    },
    {
     "data": {
      "image/png": "[encoded data removed]",
      "text/plain": [
       "<Figure size 432x288 with 1 Axes>"
      ]
     },
     "metadata": {
      "needs_background": "light"
     },
     "output_type": "display_data"
    }
   ],
   "source": [
    "accuracy2(plasma, 'XGBClassifier')"
   ]
  },
  {
   "cell_type": "markdown",
   "metadata": {},
   "source": [
    "### RFClassifier"
   ]
  },
  {
   "cell_type": "code",
   "execution_count": 11,
   "metadata": {},
   "outputs": [
    {
     "name": "stderr",
     "output_type": "stream",
     "text": [
      "  3%|▎         | 1/29 [00:00<00:02,  9.41it/s]"
     ]
    },
    {
     "name": "stdout",
     "output_type": "stream",
     "text": [
      "['asparagine']\n"
     ]
    },
    {
     "name": "stderr",
     "output_type": "stream",
     "text": [
      "100%|██████████| 29/29 [00:01<00:00, 28.33it/s]\n",
      "100%|██████████| 29/29 [00:00<00:00, 29.03it/s]\n",
      "100%|██████████| 29/29 [00:00<00:00, 30.08it/s]\n",
      "100%|██████████| 29/29 [00:01<00:00, 27.80it/s]\n",
      "100%|██████████| 29/29 [00:00<00:00, 31.12it/s]\n",
      "100%|██████████| 29/29 [00:00<00:00, 30.40it/s]\n",
      "100%|██████████| 29/29 [00:00<00:00, 30.72it/s]\n",
      "100%|██████████| 29/29 [00:00<00:00, 29.26it/s]\n",
      "100%|██████████| 29/29 [00:01<00:00, 28.38it/s]\n",
      "100%|██████████| 29/29 [00:00<00:00, 30.88it/s]\n"
     ]
    },
    {
     "name": "stdout",
     "output_type": "stream",
     "text": [
      "[[1, 0.5982915695415694]]\n"
     ]
    },
    {
     "name": "stderr",
     "output_type": "stream",
     "text": [
      "  3%|▎         | 1/29 [00:00<00:03,  9.26it/s]"
     ]
    },
    {
     "name": "stdout",
     "output_type": "stream",
     "text": [
      "['benzoic acid', 'tryptophan']\n"
     ]
    },
    {
     "name": "stderr",
     "output_type": "stream",
     "text": [
      "100%|██████████| 29/29 [00:01<00:00, 24.49it/s]\n",
      "100%|██████████| 29/29 [00:00<00:00, 30.40it/s]\n",
      "100%|██████████| 29/29 [00:01<00:00, 26.51it/s]\n",
      "100%|██████████| 29/29 [00:00<00:00, 29.84it/s]\n",
      "100%|██████████| 29/29 [00:00<00:00, 30.05it/s]\n",
      "100%|██████████| 29/29 [00:01<00:00, 28.38it/s]\n",
      "100%|██████████| 29/29 [00:01<00:00, 28.54it/s]\n",
      "100%|██████████| 29/29 [00:01<00:00, 23.37it/s]\n",
      "100%|██████████| 29/29 [00:01<00:00, 22.63it/s]\n",
      "100%|██████████| 29/29 [00:01<00:00, 24.70it/s]\n"
     ]
    },
    {
     "name": "stdout",
     "output_type": "stream",
     "text": [
      "[[1, 0.5982915695415694], [2, 0.607511655011655]]\n"
     ]
    },
    {
     "name": "stderr",
     "output_type": "stream",
     "text": [
      "  3%|▎         | 1/29 [00:00<00:02,  9.52it/s]"
     ]
    },
    {
     "name": "stdout",
     "output_type": "stream",
     "text": [
      "['benzoic acid', 'tryptophan', 'uric acid']\n"
     ]
    },
    {
     "name": "stderr",
     "output_type": "stream",
     "text": [
      "100%|██████████| 29/29 [00:00<00:00, 30.56it/s]\n",
      "100%|██████████| 29/29 [00:00<00:00, 30.98it/s]\n",
      "100%|██████████| 29/29 [00:00<00:00, 30.30it/s]\n",
      "100%|██████████| 29/29 [00:01<00:00, 23.11it/s]\n",
      "100%|██████████| 29/29 [00:01<00:00, 25.46it/s]\n",
      "100%|██████████| 29/29 [00:01<00:00, 26.32it/s]\n",
      "100%|██████████| 29/29 [00:01<00:00, 21.14it/s]\n",
      "100%|██████████| 29/29 [00:01<00:00, 27.88it/s]\n",
      "100%|██████████| 29/29 [00:01<00:00, 22.87it/s]\n",
      "100%|██████████| 29/29 [00:01<00:00, 26.72it/s]\n"
     ]
    },
    {
     "name": "stdout",
     "output_type": "stream",
     "text": [
      "[[1, 0.5982915695415694], [2, 0.607511655011655], [3, 0.6112082362082363]]\n"
     ]
    },
    {
     "name": "stderr",
     "output_type": "stream",
     "text": [
      "  3%|▎         | 1/29 [00:00<00:02,  9.61it/s]"
     ]
    },
    {
     "name": "stdout",
     "output_type": "stream",
     "text": [
      "['5-hydroxynorvaline NIST', 'glutamine', 'hypoxanthine', 'methionine sulfoxide']\n"
     ]
    },
    {
     "name": "stderr",
     "output_type": "stream",
     "text": [
      "100%|██████████| 29/29 [00:00<00:00, 31.04it/s]\n",
      "100%|██████████| 29/29 [00:00<00:00, 30.80it/s]\n",
      "100%|██████████| 29/29 [00:00<00:00, 30.48it/s]\n",
      "100%|██████████| 29/29 [00:00<00:00, 31.07it/s]\n",
      "100%|██████████| 29/29 [00:00<00:00, 30.57it/s]\n",
      "100%|██████████| 29/29 [00:00<00:00, 30.00it/s]\n",
      "100%|██████████| 29/29 [00:00<00:00, 42.49it/s]\n",
      "100%|██████████| 29/29 [00:01<00:00, 28.96it/s]\n",
      "100%|██████████| 29/29 [00:00<00:00, 38.26it/s]\n",
      "100%|██████████| 29/29 [00:00<00:00, 42.37it/s]\n"
     ]
    },
    {
     "name": "stdout",
     "output_type": "stream",
     "text": [
      "[[1, 0.5982915695415694], [2, 0.607511655011655], [3, 0.6112082362082363], [4, 0.8365472027972028]]\n"
     ]
    },
    {
     "name": "stderr",
     "output_type": "stream",
     "text": [
      " 14%|█▍        | 4/29 [00:00<00:00, 32.79it/s]"
     ]
    },
    {
     "name": "stdout",
     "output_type": "stream",
     "text": [
      "['5-hydroxynorvaline NIST', 'methionine sulfoxide', 'nornicotine', '3-phosphoglycerate', '5-methoxytryptamine']\n"
     ]
    },
    {
     "name": "stderr",
     "output_type": "stream",
     "text": [
      "100%|██████████| 29/29 [00:00<00:00, 47.40it/s]\n",
      "100%|██████████| 29/29 [00:00<00:00, 46.55it/s]\n",
      "100%|██████████| 29/29 [00:00<00:00, 44.14it/s]\n",
      "100%|██████████| 29/29 [00:00<00:00, 38.41it/s]\n",
      "100%|██████████| 29/29 [00:00<00:00, 31.73it/s]\n",
      "100%|██████████| 29/29 [00:00<00:00, 34.77it/s]\n",
      "100%|██████████| 29/29 [00:00<00:00, 35.24it/s]\n",
      "100%|██████████| 29/29 [00:00<00:00, 34.98it/s]\n",
      "100%|██████████| 29/29 [00:00<00:00, 40.33it/s]\n",
      "100%|██████████| 29/29 [00:00<00:00, 47.78it/s]\n"
     ]
    },
    {
     "name": "stdout",
     "output_type": "stream",
     "text": [
      "[[1, 0.5982915695415694], [2, 0.607511655011655], [3, 0.6112082362082363], [4, 0.8365472027972028], [5, 0.7855040792540791]]\n"
     ]
    },
    {
     "name": "stderr",
     "output_type": "stream",
     "text": [
      " 14%|█▍        | 4/29 [00:00<00:00, 34.19it/s]"
     ]
    },
    {
     "name": "stdout",
     "output_type": "stream",
     "text": [
      "['benzoic acid', 'uric acid', '5-hydroxynorvaline NIST', 'alpha-ketoglutarate', 'citrulline', 'hypoxanthine']\n"
     ]
    },
    {
     "name": "stderr",
     "output_type": "stream",
     "text": [
      "100%|██████████| 29/29 [00:00<00:00, 49.07it/s]\n",
      "100%|██████████| 29/29 [00:00<00:00, 46.85it/s]\n",
      "100%|██████████| 29/29 [00:00<00:00, 46.85it/s]\n",
      "100%|██████████| 29/29 [00:00<00:00, 46.70it/s]\n",
      "100%|██████████| 29/29 [00:00<00:00, 46.70it/s]\n",
      "100%|██████████| 29/29 [00:00<00:00, 46.51it/s]\n",
      "100%|██████████| 29/29 [00:00<00:00, 46.25it/s]\n",
      "100%|██████████| 29/29 [00:00<00:00, 46.55it/s]\n",
      "100%|██████████| 29/29 [00:00<00:00, 46.11it/s]\n",
      "100%|██████████| 29/29 [00:00<00:00, 46.70it/s]\n"
     ]
    },
    {
     "name": "stdout",
     "output_type": "stream",
     "text": [
      "[[1, 0.5982915695415694], [2, 0.607511655011655], [3, 0.6112082362082363], [4, 0.8365472027972028], [5, 0.7855040792540791], [6, 0.7763879176379177]]\n"
     ]
    },
    {
     "name": "stderr",
     "output_type": "stream",
     "text": [
      " 14%|█▍        | 4/29 [00:00<00:00, 33.33it/s]"
     ]
    },
    {
     "name": "stdout",
     "output_type": "stream",
     "text": [
      "['asparagine', 'benzoic acid', 'tryptophan', 'uric acid', '5-hydroxynorvaline NIST', 'alpha-ketoglutarate', 'hypoxanthine']\n"
     ]
    },
    {
     "name": "stderr",
     "output_type": "stream",
     "text": [
      "100%|██████████| 29/29 [00:00<00:00, 48.58it/s]\n",
      "100%|██████████| 29/29 [00:00<00:00, 44.27it/s]\n",
      "100%|██████████| 29/29 [00:00<00:00, 47.23it/s]\n",
      "100%|██████████| 29/29 [00:00<00:00, 46.62it/s]\n",
      "100%|██████████| 29/29 [00:00<00:00, 38.72it/s]\n",
      "100%|██████████| 29/29 [00:00<00:00, 43.94it/s]\n",
      "100%|██████████| 29/29 [00:00<00:00, 45.24it/s]\n",
      "100%|██████████| 29/29 [00:00<00:00, 46.55it/s]\n",
      "100%|██████████| 29/29 [00:00<00:00, 46.85it/s]\n",
      "100%|██████████| 29/29 [00:00<00:00, 46.77it/s]\n"
     ]
    },
    {
     "name": "stdout",
     "output_type": "stream",
     "text": [
      "[[1, 0.5982915695415694], [2, 0.607511655011655], [3, 0.6112082362082363], [4, 0.8365472027972028], [5, 0.7855040792540791], [6, 0.7763879176379177], [7, 0.7763626651126652]]\n"
     ]
    },
    {
     "name": "stderr",
     "output_type": "stream",
     "text": [
      " 14%|█▍        | 4/29 [00:00<00:00, 33.60it/s]"
     ]
    },
    {
     "name": "stdout",
     "output_type": "stream",
     "text": [
      "['benzoic acid', '5-hydroxynorvaline NIST', 'hypoxanthine', 'malic acid', 'methionine sulfoxide', 'nornicotine', '3-phosphoglycerate', '5-methoxytryptamine']\n"
     ]
    },
    {
     "name": "stderr",
     "output_type": "stream",
     "text": [
      "100%|██████████| 29/29 [00:00<00:00, 48.99it/s]\n",
      "100%|██████████| 29/29 [00:00<00:00, 46.11it/s]\n",
      "100%|██████████| 29/29 [00:00<00:00, 46.94it/s]\n",
      "100%|██████████| 29/29 [00:00<00:00, 44.75it/s]\n",
      "100%|██████████| 29/29 [00:00<00:00, 46.03it/s]\n",
      "100%|██████████| 29/29 [00:00<00:00, 46.99it/s]\n",
      "100%|██████████| 29/29 [00:00<00:00, 44.62it/s]\n",
      "100%|██████████| 29/29 [00:00<00:00, 46.38it/s]\n",
      "100%|██████████| 29/29 [00:00<00:00, 46.33it/s]\n",
      "100%|██████████| 29/29 [00:00<00:00, 45.81it/s]\n"
     ]
    },
    {
     "name": "stdout",
     "output_type": "stream",
     "text": [
      "[[1, 0.5982915695415694], [2, 0.607511655011655], [3, 0.6112082362082363], [4, 0.8365472027972028], [5, 0.7855040792540791], [6, 0.7763879176379177], [7, 0.7763626651126652], [8, 0.8264811577311578]]\n"
     ]
    },
    {
     "name": "stderr",
     "output_type": "stream",
     "text": [
      " 14%|█▍        | 4/29 [00:00<00:00, 32.80it/s]"
     ]
    },
    {
     "name": "stdout",
     "output_type": "stream",
     "text": [
      "['benzoic acid', 'tryptophan', '5-hydroxynorvaline NIST', 'alpha-ketoglutarate', 'glutamine', 'hypoxanthine', 'malic acid', 'methionine sulfoxide', 'nornicotine']\n"
     ]
    },
    {
     "name": "stderr",
     "output_type": "stream",
     "text": [
      "100%|██████████| 29/29 [00:00<00:00, 48.91it/s]\n",
      "100%|██████████| 29/29 [00:00<00:00, 45.96it/s]\n",
      "100%|██████████| 29/29 [00:00<00:00, 45.81it/s]\n",
      "100%|██████████| 29/29 [00:00<00:00, 46.34it/s]\n",
      "100%|██████████| 29/29 [00:00<00:00, 46.85it/s]\n",
      "100%|██████████| 29/29 [00:00<00:00, 44.62it/s]\n",
      "100%|██████████| 29/29 [00:00<00:00, 46.77it/s]\n",
      "100%|██████████| 29/29 [00:00<00:00, 46.25it/s]\n",
      "100%|██████████| 29/29 [00:00<00:00, 45.03it/s]\n",
      "100%|██████████| 29/29 [00:00<00:00, 45.95it/s]\n"
     ]
    },
    {
     "name": "stdout",
     "output_type": "stream",
     "text": [
      "[[1, 0.5982915695415694], [2, 0.607511655011655], [3, 0.6112082362082363], [4, 0.8365472027972028], [5, 0.7855040792540791], [6, 0.7763879176379177], [7, 0.7763626651126652], [8, 0.8264811577311578], [9, 0.8058323620823622]]\n"
     ]
    },
    {
     "name": "stderr",
     "output_type": "stream",
     "text": [
      "  7%|▋         | 2/29 [00:00<00:01, 17.55it/s]"
     ]
    },
    {
     "name": "stdout",
     "output_type": "stream",
     "text": [
      "['uric acid', '5-hydroxynorvaline NIST', 'hypoxanthine', 'methionine sulfoxide', 'nornicotine', '3-phosphoglycerate', '5-methoxytryptamine', 'adenosine-5-monophosphate', 'aspartic acid', 'lactic acid']\n"
     ]
    },
    {
     "name": "stderr",
     "output_type": "stream",
     "text": [
      "100%|██████████| 29/29 [00:01<00:00, 28.97it/s]\n",
      "100%|██████████| 29/29 [00:00<00:00, 30.18it/s]\n",
      "100%|██████████| 29/29 [00:00<00:00, 35.67it/s]\n",
      "100%|██████████| 29/29 [00:00<00:00, 41.97it/s]\n",
      "100%|██████████| 29/29 [00:00<00:00, 44.07it/s]\n",
      "100%|██████████| 29/29 [00:00<00:00, 39.35it/s]\n",
      "100%|██████████| 29/29 [00:00<00:00, 42.40it/s]\n",
      "100%|██████████| 29/29 [00:00<00:00, 45.03it/s]\n",
      "100%|██████████| 29/29 [00:00<00:00, 43.41it/s]\n",
      "100%|██████████| 29/29 [00:00<00:00, 45.60it/s]\n"
     ]
    },
    {
     "name": "stdout",
     "output_type": "stream",
     "text": [
      "[[1, 0.5982915695415694], [2, 0.607511655011655], [3, 0.6112082362082363], [4, 0.8365472027972028], [5, 0.7855040792540791], [6, 0.7763879176379177], [7, 0.7763626651126652], [8, 0.8264811577311578], [9, 0.8058323620823622], [10, 0.8094357031857031]]\n"
     ]
    },
    {
     "name": "stderr",
     "output_type": "stream",
     "text": [
      " 14%|█▍        | 4/29 [00:00<00:00, 33.32it/s]"
     ]
    },
    {
     "name": "stdout",
     "output_type": "stream",
     "text": [
      "['asparagine', 'benzoic acid', 'tryptophan', 'uric acid', '5-hydroxynorvaline NIST', 'alpha-ketoglutarate', 'citrulline', 'glutamine', 'hypoxanthine', 'malic acid', 'methionine sulfoxide']\n"
     ]
    },
    {
     "name": "stderr",
     "output_type": "stream",
     "text": [
      "100%|██████████| 29/29 [00:00<00:00, 48.41it/s]\n",
      "100%|██████████| 29/29 [00:00<00:00, 45.03it/s]\n",
      "100%|██████████| 29/29 [00:00<00:00, 40.56it/s]\n",
      "100%|██████████| 29/29 [00:00<00:00, 42.65it/s]\n",
      "100%|██████████| 29/29 [00:00<00:00, 45.03it/s]\n",
      "100%|██████████| 29/29 [00:00<00:00, 44.68it/s]\n",
      "100%|██████████| 29/29 [00:00<00:00, 42.40it/s]\n",
      "100%|██████████| 29/29 [00:00<00:00, 39.89it/s]\n",
      "100%|██████████| 29/29 [00:00<00:00, 38.98it/s]\n",
      "100%|██████████| 29/29 [00:00<00:00, 44.68it/s]\n"
     ]
    },
    {
     "name": "stdout",
     "output_type": "stream",
     "text": [
      "[[1, 0.5982915695415694], [2, 0.607511655011655], [3, 0.6112082362082363], [4, 0.8365472027972028], [5, 0.7855040792540791], [6, 0.7763879176379177], [7, 0.7763626651126652], [8, 0.8264811577311578], [9, 0.8058323620823622], [10, 0.8094357031857031], [11, 0.7726631701631701]]\n"
     ]
    },
    {
     "name": "stderr",
     "output_type": "stream",
     "text": [
      " 10%|█         | 3/29 [00:00<00:00, 29.99it/s]"
     ]
    },
    {
     "name": "stdout",
     "output_type": "stream",
     "text": [
      "['tryptophan', 'uric acid', '5-hydroxynorvaline NIST', 'alpha-ketoglutarate', 'citrulline', 'hypoxanthine', 'malic acid', 'methionine sulfoxide', 'nornicotine', '3-phosphoglycerate', '5-methoxytryptamine', 'adenosine-5-monophosphate']\n"
     ]
    },
    {
     "name": "stderr",
     "output_type": "stream",
     "text": [
      "100%|██████████| 29/29 [00:00<00:00, 46.62it/s]\n",
      "100%|██████████| 29/29 [00:00<00:00, 44.21it/s]\n",
      "100%|██████████| 29/29 [00:00<00:00, 43.87it/s]\n",
      "100%|██████████| 29/29 [00:00<00:00, 42.34it/s]\n",
      "100%|██████████| 29/29 [00:00<00:00, 44.55it/s]\n",
      "100%|██████████| 29/29 [00:00<00:00, 44.55it/s]\n",
      "100%|██████████| 29/29 [00:00<00:00, 43.03it/s]\n",
      "100%|██████████| 29/29 [00:00<00:00, 44.48it/s]\n",
      "100%|██████████| 29/29 [00:00<00:00, 45.03it/s]\n",
      "100%|██████████| 29/29 [00:00<00:00, 43.09it/s]\n"
     ]
    },
    {
     "name": "stdout",
     "output_type": "stream",
     "text": [
      "[[1, 0.5982915695415694], [2, 0.607511655011655], [3, 0.6112082362082363], [4, 0.8365472027972028], [5, 0.7855040792540791], [6, 0.7763879176379177], [7, 0.7763626651126652], [8, 0.8264811577311578], [9, 0.8058323620823622], [10, 0.8094357031857031], [11, 0.7726631701631701], [12, 0.7854458041958041]]\n"
     ]
    },
    {
     "name": "stderr",
     "output_type": "stream",
     "text": [
      "  7%|▋         | 2/29 [00:00<00:01, 19.61it/s]"
     ]
    },
    {
     "name": "stdout",
     "output_type": "stream",
     "text": [
      "['asparagine', 'benzoic acid', 'tryptophan', 'uric acid', '5-hydroxynorvaline NIST', 'alpha-ketoglutarate', 'citrulline', 'glutamine', 'hypoxanthine', 'malic acid', 'methionine sulfoxide', 'nornicotine', 'octadecanol']\n"
     ]
    },
    {
     "name": "stderr",
     "output_type": "stream",
     "text": [
      "100%|██████████| 29/29 [00:00<00:00, 44.14it/s]\n",
      "100%|██████████| 29/29 [00:00<00:00, 43.87it/s]\n",
      "100%|██████████| 29/29 [00:00<00:00, 44.55it/s]\n",
      "100%|██████████| 29/29 [00:00<00:00, 44.68it/s]\n",
      "100%|██████████| 29/29 [00:00<00:00, 45.31it/s]\n",
      "100%|██████████| 29/29 [00:00<00:00, 34.94it/s]\n",
      "100%|██████████| 29/29 [00:00<00:00, 38.53it/s]\n",
      "100%|██████████| 29/29 [00:00<00:00, 44.28it/s]\n",
      "100%|██████████| 29/29 [00:00<00:00, 43.28it/s]\n",
      "100%|██████████| 29/29 [00:00<00:00, 46.47it/s]\n"
     ]
    },
    {
     "name": "stdout",
     "output_type": "stream",
     "text": [
      "[[1, 0.5982915695415694], [2, 0.607511655011655], [3, 0.6112082362082363], [4, 0.8365472027972028], [5, 0.7855040792540791], [6, 0.7763879176379177], [7, 0.7763626651126652], [8, 0.8264811577311578], [9, 0.8058323620823622], [10, 0.8094357031857031], [11, 0.7726631701631701], [12, 0.7854458041958041], [13, 0.8028399378399378]]\n"
     ]
    },
    {
     "name": "stderr",
     "output_type": "stream",
     "text": [
      " 14%|█▍        | 4/29 [00:00<00:00, 32.79it/s]"
     ]
    },
    {
     "name": "stdout",
     "output_type": "stream",
     "text": [
      "['benzoic acid', 'tryptophan', 'uric acid', '5-hydroxynorvaline NIST', 'alpha-ketoglutarate', 'citrulline', 'hypoxanthine', 'malic acid', 'methionine sulfoxide', 'nornicotine', 'octadecanol', '3-phosphoglycerate', '5-methoxytryptamine', 'adenosine-5-monophosphate']\n"
     ]
    },
    {
     "name": "stderr",
     "output_type": "stream",
     "text": [
      "100%|██████████| 29/29 [00:00<00:00, 42.34it/s]\n",
      "100%|██████████| 29/29 [00:00<00:00, 35.98it/s]\n",
      "100%|██████████| 29/29 [00:00<00:00, 37.66it/s]\n",
      "100%|██████████| 29/29 [00:00<00:00, 35.15it/s]\n",
      "100%|██████████| 29/29 [00:00<00:00, 40.85it/s]\n",
      "100%|██████████| 29/29 [00:00<00:00, 42.58it/s]\n",
      "100%|██████████| 29/29 [00:00<00:00, 42.09it/s]\n",
      "100%|██████████| 29/29 [00:00<00:00, 44.48it/s]\n",
      "100%|██████████| 29/29 [00:00<00:00, 44.48it/s]\n",
      "100%|██████████| 29/29 [00:00<00:00, 45.38it/s]\n"
     ]
    },
    {
     "name": "stdout",
     "output_type": "stream",
     "text": [
      "[[1, 0.5982915695415694], [2, 0.607511655011655], [3, 0.6112082362082363], [4, 0.8365472027972028], [5, 0.7855040792540791], [6, 0.7763879176379177], [7, 0.7763626651126652], [8, 0.8264811577311578], [9, 0.8058323620823622], [10, 0.8094357031857031], [11, 0.7726631701631701], [12, 0.7854458041958041], [13, 0.8028399378399378], [14, 0.8233245920745921]]\n"
     ]
    },
    {
     "name": "stderr",
     "output_type": "stream",
     "text": [
      " 10%|█         | 3/29 [00:00<00:00, 29.13it/s]"
     ]
    },
    {
     "name": "stdout",
     "output_type": "stream",
     "text": [
      "['asparagine', 'benzoic acid', 'tryptophan', 'uric acid', '5-hydroxynorvaline NIST', 'alpha-ketoglutarate', 'citrulline', 'glutamine', 'hypoxanthine', 'malic acid', 'methionine sulfoxide', 'nornicotine', 'octadecanol', '3-phosphoglycerate', '5-methoxytryptamine']\n"
     ]
    },
    {
     "name": "stderr",
     "output_type": "stream",
     "text": [
      "100%|██████████| 29/29 [00:00<00:00, 45.38it/s]\n",
      "100%|██████████| 29/29 [00:00<00:00, 42.77it/s]\n",
      "100%|██████████| 29/29 [00:00<00:00, 43.87it/s]\n",
      "100%|██████████| 29/29 [00:00<00:00, 44.75it/s]\n",
      "100%|██████████| 29/29 [00:00<00:00, 43.35it/s]\n",
      "100%|██████████| 29/29 [00:00<00:00, 43.21it/s]\n",
      "100%|██████████| 29/29 [00:00<00:00, 45.11it/s]\n",
      "100%|██████████| 29/29 [00:00<00:00, 45.81it/s]\n",
      "100%|██████████| 29/29 [00:00<00:00, 44.17it/s]\n",
      "100%|██████████| 29/29 [00:00<00:00, 45.17it/s]\n"
     ]
    },
    {
     "name": "stdout",
     "output_type": "stream",
     "text": [
      "[[1, 0.5982915695415694], [2, 0.607511655011655], [3, 0.6112082362082363], [4, 0.8365472027972028], [5, 0.7855040792540791], [6, 0.7763879176379177], [7, 0.7763626651126652], [8, 0.8264811577311578], [9, 0.8058323620823622], [10, 0.8094357031857031], [11, 0.7726631701631701], [12, 0.7854458041958041], [13, 0.8028399378399378], [14, 0.8233245920745921], [15, 0.8243395493395493]]\n"
     ]
    },
    {
     "name": "stderr",
     "output_type": "stream",
     "text": [
      " 10%|█         | 3/29 [00:00<00:00, 29.70it/s]"
     ]
    },
    {
     "name": "stdout",
     "output_type": "stream",
     "text": [
      "['asparagine', 'benzoic acid', 'tryptophan', 'uric acid', '5-hydroxynorvaline NIST', 'alpha-ketoglutarate', 'citrulline', 'glutamine', 'hypoxanthine', 'malic acid', 'methionine sulfoxide', 'nornicotine', 'octadecanol', '3-phosphoglycerate', '5-methoxytryptamine', 'adenosine-5-monophosphate']\n"
     ]
    },
    {
     "name": "stderr",
     "output_type": "stream",
     "text": [
      "100%|██████████| 29/29 [00:00<00:00, 47.00it/s]\n",
      "100%|██████████| 29/29 [00:00<00:00, 44.34it/s]\n",
      "100%|██████████| 29/29 [00:00<00:00, 42.65it/s]\n",
      "100%|██████████| 29/29 [00:00<00:00, 43.48it/s]\n",
      "100%|██████████| 29/29 [00:00<00:00, 41.97it/s]\n",
      "100%|██████████| 29/29 [00:00<00:00, 44.75it/s]\n",
      "100%|██████████| 29/29 [00:00<00:00, 44.96it/s]\n",
      "100%|██████████| 29/29 [00:00<00:00, 41.50it/s]\n",
      "100%|██████████| 29/29 [00:00<00:00, 43.87it/s]\n",
      "100%|██████████| 29/29 [00:00<00:00, 45.31it/s]\n"
     ]
    },
    {
     "name": "stdout",
     "output_type": "stream",
     "text": [
      "[[1, 0.5982915695415694], [2, 0.607511655011655], [3, 0.6112082362082363], [4, 0.8365472027972028], [5, 0.7855040792540791], [6, 0.7763879176379177], [7, 0.7763626651126652], [8, 0.8264811577311578], [9, 0.8058323620823622], [10, 0.8094357031857031], [11, 0.7726631701631701], [12, 0.7854458041958041], [13, 0.8028399378399378], [14, 0.8233245920745921], [15, 0.8243395493395493], [16, 0.7965569153069152]]\n"
     ]
    },
    {
     "name": "stderr",
     "output_type": "stream",
     "text": [
      " 10%|█         | 3/29 [00:00<00:00, 27.78it/s]"
     ]
    },
    {
     "name": "stdout",
     "output_type": "stream",
     "text": [
      "['benzoic acid', 'tryptophan', 'uric acid', '5-hydroxynorvaline NIST', 'hypoxanthine', 'malic acid', 'methionine sulfoxide', 'nornicotine', 'octadecanol', '3-phosphoglycerate', '5-methoxytryptamine', 'adenosine-5-monophosphate', 'aspartic acid', 'lactic acid', 'maltose', 'maltotriose', 'phenol']\n"
     ]
    },
    {
     "name": "stderr",
     "output_type": "stream",
     "text": [
      "100%|██████████| 29/29 [00:00<00:00, 44.41it/s]\n",
      "100%|██████████| 29/29 [00:00<00:00, 42.71it/s]\n",
      "100%|██████████| 29/29 [00:00<00:00, 42.46it/s]\n",
      "100%|██████████| 29/29 [00:00<00:00, 44.01it/s]\n",
      "100%|██████████| 29/29 [00:00<00:00, 42.65it/s]\n",
      "100%|██████████| 29/29 [00:00<00:00, 40.96it/s]\n",
      "100%|██████████| 29/29 [00:00<00:00, 44.27it/s]\n",
      "100%|██████████| 29/29 [00:00<00:00, 42.03it/s]\n",
      "100%|██████████| 29/29 [00:00<00:00, 44.12it/s]\n",
      "100%|██████████| 29/29 [00:00<00:00, 43.41it/s]\n"
     ]
    },
    {
     "name": "stdout",
     "output_type": "stream",
     "text": [
      "[[1, 0.5982915695415694], [2, 0.607511655011655], [3, 0.6112082362082363], [4, 0.8365472027972028], [5, 0.7855040792540791], [6, 0.7763879176379177], [7, 0.7763626651126652], [8, 0.8264811577311578], [9, 0.8058323620823622], [10, 0.8094357031857031], [11, 0.7726631701631701], [12, 0.7854458041958041], [13, 0.8028399378399378], [14, 0.8233245920745921], [15, 0.8243395493395493], [16, 0.7965569153069152], [17, 0.8362567987567988]]\n"
     ]
    },
    {
     "name": "stderr",
     "output_type": "stream",
     "text": [
      " 10%|█         | 3/29 [00:00<00:00, 28.56it/s]"
     ]
    },
    {
     "name": "stdout",
     "output_type": "stream",
     "text": [
      "['benzoic acid', 'uric acid', '5-hydroxynorvaline NIST', 'alpha-ketoglutarate', 'hypoxanthine', 'malic acid', 'methionine sulfoxide', 'nornicotine', '3-phosphoglycerate', '5-methoxytryptamine', 'adenosine-5-monophosphate', 'aspartic acid', 'lactic acid', 'maltose', 'phenol', 'pyrophosphate', 'pyruvic acid', 'taurine']\n"
     ]
    },
    {
     "name": "stderr",
     "output_type": "stream",
     "text": [
      "100%|██████████| 29/29 [00:00<00:00, 46.62it/s]\n",
      "100%|██████████| 29/29 [00:00<00:00, 43.81it/s]\n",
      "100%|██████████| 29/29 [00:00<00:00, 44.96it/s]\n",
      "100%|██████████| 29/29 [00:00<00:00, 40.62it/s]\n",
      "100%|██████████| 29/29 [00:00<00:00, 44.01it/s]\n",
      "100%|██████████| 29/29 [00:00<00:00, 43.03it/s]\n",
      "100%|██████████| 29/29 [00:00<00:00, 42.58it/s]\n",
      "100%|██████████| 29/29 [00:00<00:00, 44.01it/s]\n",
      "100%|██████████| 29/29 [00:00<00:00, 42.34it/s]\n",
      "100%|██████████| 29/29 [00:00<00:00, 43.22it/s]\n"
     ]
    },
    {
     "name": "stdout",
     "output_type": "stream",
     "text": [
      "[[1, 0.5982915695415694], [2, 0.607511655011655], [3, 0.6112082362082363], [4, 0.8365472027972028], [5, 0.7855040792540791], [6, 0.7763879176379177], [7, 0.7763626651126652], [8, 0.8264811577311578], [9, 0.8058323620823622], [10, 0.8094357031857031], [11, 0.7726631701631701], [12, 0.7854458041958041], [13, 0.8028399378399378], [14, 0.8233245920745921], [15, 0.8243395493395493], [16, 0.7965569153069152], [17, 0.8362567987567988], [18, 0.8323523698523699]]\n"
     ]
    },
    {
     "name": "stderr",
     "output_type": "stream",
     "text": [
      "  3%|▎         | 1/29 [00:00<00:03,  8.62it/s]"
     ]
    },
    {
     "name": "stdout",
     "output_type": "stream",
     "text": [
      "['asparagine', 'benzoic acid', 'tryptophan', 'uric acid', '5-hydroxynorvaline NIST', 'alpha-ketoglutarate', 'citrulline', 'glutamine', 'hypoxanthine', 'malic acid', 'methionine sulfoxide', 'nornicotine', 'octadecanol', '3-phosphoglycerate', '5-methoxytryptamine', 'adenosine-5-monophosphate', 'aspartic acid', 'lactic acid', 'maltose']\n"
     ]
    },
    {
     "name": "stderr",
     "output_type": "stream",
     "text": [
      "100%|██████████| 29/29 [00:00<00:00, 29.50it/s]\n",
      "100%|██████████| 29/29 [00:00<00:00, 33.53it/s]\n",
      "100%|██████████| 29/29 [00:00<00:00, 32.04it/s]\n",
      "100%|██████████| 29/29 [00:00<00:00, 34.57it/s]\n",
      "100%|██████████| 29/29 [00:00<00:00, 43.54it/s]\n",
      "100%|██████████| 29/29 [00:00<00:00, 44.34it/s]\n",
      "100%|██████████| 29/29 [00:00<00:00, 43.94it/s]\n",
      "100%|██████████| 29/29 [00:00<00:00, 43.96it/s]\n",
      "100%|██████████| 29/29 [00:00<00:00, 44.27it/s]\n",
      "100%|██████████| 29/29 [00:00<00:00, 43.54it/s]\n"
     ]
    },
    {
     "name": "stdout",
     "output_type": "stream",
     "text": [
      "[[1, 0.5982915695415694], [2, 0.607511655011655], [3, 0.6112082362082363], [4, 0.8365472027972028], [5, 0.7855040792540791], [6, 0.7763879176379177], [7, 0.7763626651126652], [8, 0.8264811577311578], [9, 0.8058323620823622], [10, 0.8094357031857031], [11, 0.7726631701631701], [12, 0.7854458041958041], [13, 0.8028399378399378], [14, 0.8233245920745921], [15, 0.8243395493395493], [16, 0.7965569153069152], [17, 0.8362567987567988], [18, 0.8323523698523699], [19, 0.8087412587412587]]\n"
     ]
    },
    {
     "name": "stderr",
     "output_type": "stream",
     "text": [
      " 10%|█         | 3/29 [00:00<00:00, 29.86it/s]"
     ]
    },
    {
     "name": "stdout",
     "output_type": "stream",
     "text": [
      "['asparagine', 'benzoic acid', 'tryptophan', 'uric acid', '5-hydroxynorvaline NIST', 'alpha-ketoglutarate', 'citrulline', 'glutamine', 'hypoxanthine', 'malic acid', 'methionine sulfoxide', 'nornicotine', 'octadecanol', '3-phosphoglycerate', '5-methoxytryptamine', 'adenosine-5-monophosphate', 'aspartic acid', 'lactic acid', 'maltose', 'maltotriose']\n"
     ]
    },
    {
     "name": "stderr",
     "output_type": "stream",
     "text": [
      "100%|██████████| 29/29 [00:00<00:00, 46.93it/s]\n",
      "100%|██████████| 29/29 [00:00<00:00, 44.07it/s]\n",
      "100%|██████████| 29/29 [00:00<00:00, 44.75it/s]\n",
      "100%|██████████| 29/29 [00:00<00:00, 44.41it/s]\n",
      "100%|██████████| 29/29 [00:00<00:00, 44.68it/s]\n",
      "100%|██████████| 29/29 [00:00<00:00, 45.17it/s]\n",
      "100%|██████████| 29/29 [00:00<00:00, 44.14it/s]\n",
      "100%|██████████| 29/29 [00:00<00:00, 44.75it/s]\n",
      "100%|██████████| 29/29 [00:00<00:00, 44.14it/s]\n",
      "100%|██████████| 29/29 [00:00<00:00, 40.28it/s]\n"
     ]
    },
    {
     "name": "stdout",
     "output_type": "stream",
     "text": [
      "[[1, 0.5982915695415694], [2, 0.607511655011655], [3, 0.6112082362082363], [4, 0.8365472027972028], [5, 0.7855040792540791], [6, 0.7763879176379177], [7, 0.7763626651126652], [8, 0.8264811577311578], [9, 0.8058323620823622], [10, 0.8094357031857031], [11, 0.7726631701631701], [12, 0.7854458041958041], [13, 0.8028399378399378], [14, 0.8233245920745921], [15, 0.8243395493395493], [16, 0.7965569153069152], [17, 0.8362567987567988], [18, 0.8323523698523699], [19, 0.8087412587412587], [20, 0.8313374125874127]]\n"
     ]
    },
    {
     "name": "stderr",
     "output_type": "stream",
     "text": [
      " 10%|█         | 3/29 [00:00<00:00, 27.52it/s]"
     ]
    },
    {
     "name": "stdout",
     "output_type": "stream",
     "text": [
      "['asparagine', 'benzoic acid', 'tryptophan', 'uric acid', '5-hydroxynorvaline NIST', 'alpha-ketoglutarate', 'citrulline', 'glutamine', 'hypoxanthine', 'malic acid', 'methionine sulfoxide', 'nornicotine', 'octadecanol', '3-phosphoglycerate', '5-methoxytryptamine', 'adenosine-5-monophosphate', 'aspartic acid', 'lactic acid', 'maltose', 'maltotriose', 'N-methylalanine']\n"
     ]
    },
    {
     "name": "stderr",
     "output_type": "stream",
     "text": [
      "100%|██████████| 29/29 [00:00<00:00, 46.03it/s]\n",
      "100%|██████████| 29/29 [00:00<00:00, 42.03it/s]\n",
      "100%|██████████| 29/29 [00:00<00:00, 40.33it/s]\n",
      "100%|██████████| 29/29 [00:00<00:00, 42.96it/s]\n",
      "100%|██████████| 29/29 [00:00<00:00, 42.34it/s]\n",
      "100%|██████████| 29/29 [00:00<00:00, 42.34it/s]\n",
      "100%|██████████| 29/29 [00:00<00:00, 37.76it/s]\n",
      "100%|██████████| 29/29 [00:00<00:00, 41.67it/s]\n",
      "100%|██████████| 29/29 [00:00<00:00, 44.41it/s]\n",
      "100%|██████████| 29/29 [00:00<00:00, 40.79it/s]\n"
     ]
    },
    {
     "name": "stdout",
     "output_type": "stream",
     "text": [
      "[[1, 0.5982915695415694], [2, 0.607511655011655], [3, 0.6112082362082363], [4, 0.8365472027972028], [5, 0.7855040792540791], [6, 0.7763879176379177], [7, 0.7763626651126652], [8, 0.8264811577311578], [9, 0.8058323620823622], [10, 0.8094357031857031], [11, 0.7726631701631701], [12, 0.7854458041958041], [13, 0.8028399378399378], [14, 0.8233245920745921], [15, 0.8243395493395493], [16, 0.7965569153069152], [17, 0.8362567987567988], [18, 0.8323523698523699], [19, 0.8087412587412587], [20, 0.8313374125874127], [21, 0.8271707459207459]]\n"
     ]
    },
    {
     "name": "stderr",
     "output_type": "stream",
     "text": [
      " 10%|█         | 3/29 [00:00<00:00, 29.13it/s]"
     ]
    },
    {
     "name": "stdout",
     "output_type": "stream",
     "text": [
      "['asparagine', 'benzoic acid', 'tryptophan', 'uric acid', '5-hydroxynorvaline NIST', 'alpha-ketoglutarate', 'citrulline', 'glutamine', 'hypoxanthine', 'malic acid', 'methionine sulfoxide', 'nornicotine', 'octadecanol', '3-phosphoglycerate', '5-methoxytryptamine', 'adenosine-5-monophosphate', 'aspartic acid', 'lactic acid', 'maltose', 'maltotriose', 'N-methylalanine', 'phenol']\n"
     ]
    },
    {
     "name": "stderr",
     "output_type": "stream",
     "text": [
      "100%|██████████| 29/29 [00:00<00:00, 45.45it/s]\n",
      "100%|██████████| 29/29 [00:00<00:00, 40.82it/s]\n",
      "100%|██████████| 29/29 [00:00<00:00, 40.62it/s]\n",
      "100%|██████████| 29/29 [00:00<00:00, 42.84it/s]\n",
      "100%|██████████| 29/29 [00:00<00:00, 39.08it/s]\n",
      "100%|██████████| 29/29 [00:00<00:00, 39.84it/s]\n",
      "100%|██████████| 29/29 [00:00<00:00, 41.00it/s]\n",
      "100%|██████████| 29/29 [00:00<00:00, 40.17it/s]\n",
      "100%|██████████| 29/29 [00:00<00:00, 39.35it/s]\n",
      "100%|██████████| 29/29 [00:00<00:00, 40.79it/s]\n"
     ]
    },
    {
     "name": "stdout",
     "output_type": "stream",
     "text": [
      "[[1, 0.5982915695415694], [2, 0.607511655011655], [3, 0.6112082362082363], [4, 0.8365472027972028], [5, 0.7855040792540791], [6, 0.7763879176379177], [7, 0.7763626651126652], [8, 0.8264811577311578], [9, 0.8058323620823622], [10, 0.8094357031857031], [11, 0.7726631701631701], [12, 0.7854458041958041], [13, 0.8028399378399378], [14, 0.8233245920745921], [15, 0.8243395493395493], [16, 0.7965569153069152], [17, 0.8362567987567988], [18, 0.8323523698523699], [19, 0.8087412587412587], [20, 0.8313374125874127], [21, 0.8271707459207459], [22, 0.8392968142968144]]\n"
     ]
    },
    {
     "name": "stderr",
     "output_type": "stream",
     "text": [
      "  7%|▋         | 2/29 [00:00<00:01, 20.00it/s]"
     ]
    },
    {
     "name": "stdout",
     "output_type": "stream",
     "text": [
      "['benzoic acid', 'tryptophan', 'uric acid', '5-hydroxynorvaline NIST', 'alpha-ketoglutarate', 'citrulline', 'glutamine', 'hypoxanthine', 'malic acid', 'methionine sulfoxide', 'nornicotine', '3-phosphoglycerate', '5-methoxytryptamine', 'adenosine-5-monophosphate', 'aspartic acid', 'lactic acid', 'maltose', 'maltotriose', 'phenol', 'phosphoethanolamine', 'pyrophosphate', 'pyruvic acid', 'taurine']\n"
     ]
    },
    {
     "name": "stderr",
     "output_type": "stream",
     "text": [
      "100%|██████████| 29/29 [00:00<00:00, 44.48it/s]\n",
      "100%|██████████| 29/29 [00:00<00:00, 40.90it/s]\n",
      "100%|██████████| 29/29 [00:00<00:00, 44.28it/s]\n",
      "100%|██████████| 29/29 [00:00<00:00, 44.01it/s]\n",
      "100%|██████████| 29/29 [00:00<00:00, 43.35it/s]\n",
      "100%|██████████| 29/29 [00:00<00:00, 42.65it/s]\n",
      "100%|██████████| 29/29 [00:00<00:00, 44.48it/s]\n",
      "100%|██████████| 29/29 [00:00<00:00, 42.91it/s]\n",
      "100%|██████████| 29/29 [00:00<00:00, 44.48it/s]\n",
      "100%|██████████| 29/29 [00:00<00:00, 42.34it/s]\n"
     ]
    },
    {
     "name": "stdout",
     "output_type": "stream",
     "text": [
      "[[1, 0.5982915695415694], [2, 0.607511655011655], [3, 0.6112082362082363], [4, 0.8365472027972028], [5, 0.7855040792540791], [6, 0.7763879176379177], [7, 0.7763626651126652], [8, 0.8264811577311578], [9, 0.8058323620823622], [10, 0.8094357031857031], [11, 0.7726631701631701], [12, 0.7854458041958041], [13, 0.8028399378399378], [14, 0.8233245920745921], [15, 0.8243395493395493], [16, 0.7965569153069152], [17, 0.8362567987567988], [18, 0.8323523698523699], [19, 0.8087412587412587], [20, 0.8313374125874127], [21, 0.8271707459207459], [22, 0.8392968142968144], [23, 0.7708041958041959]]\n"
     ]
    },
    {
     "name": "stderr",
     "output_type": "stream",
     "text": [
      " 10%|█         | 3/29 [00:00<00:00, 28.30it/s]"
     ]
    },
    {
     "name": "stdout",
     "output_type": "stream",
     "text": [
      "['asparagine', 'benzoic acid', 'tryptophan', 'uric acid', '5-hydroxynorvaline NIST', 'alpha-ketoglutarate', 'glutamine', 'hypoxanthine', 'malic acid', 'methionine sulfoxide', 'nornicotine', 'octadecanol', '3-phosphoglycerate', '5-methoxytryptamine', 'adenosine-5-monophosphate', 'aspartic acid', 'lactic acid', 'maltose', 'maltotriose', 'phenol', 'phosphoethanolamine', 'pyrophosphate', 'pyruvic acid', 'taurine']\n"
     ]
    },
    {
     "name": "stderr",
     "output_type": "stream",
     "text": [
      "100%|██████████| 29/29 [00:00<00:00, 45.24it/s]\n",
      "100%|██████████| 29/29 [00:00<00:00, 42.27it/s]\n",
      "100%|██████████| 29/29 [00:00<00:00, 41.79it/s]\n",
      "100%|██████████| 29/29 [00:00<00:00, 39.67it/s]\n",
      "100%|██████████| 29/29 [00:00<00:00, 44.34it/s]\n",
      "100%|██████████| 29/29 [00:00<00:00, 44.34it/s]\n",
      "100%|██████████| 29/29 [00:00<00:00, 43.28it/s]\n",
      "100%|██████████| 29/29 [00:00<00:00, 41.49it/s]\n",
      "100%|██████████| 29/29 [00:00<00:00, 43.15it/s]\n",
      "100%|██████████| 29/29 [00:00<00:00, 43.67it/s]\n"
     ]
    },
    {
     "name": "stdout",
     "output_type": "stream",
     "text": [
      "[[1, 0.5982915695415694], [2, 0.607511655011655], [3, 0.6112082362082363], [4, 0.8365472027972028], [5, 0.7855040792540791], [6, 0.7763879176379177], [7, 0.7763626651126652], [8, 0.8264811577311578], [9, 0.8058323620823622], [10, 0.8094357031857031], [11, 0.7726631701631701], [12, 0.7854458041958041], [13, 0.8028399378399378], [14, 0.8233245920745921], [15, 0.8243395493395493], [16, 0.7965569153069152], [17, 0.8362567987567988], [18, 0.8323523698523699], [19, 0.8087412587412587], [20, 0.8313374125874127], [21, 0.8271707459207459], [22, 0.8392968142968144], [23, 0.7708041958041959], [24, 0.8281274281274282]]\n"
     ]
    },
    {
     "name": "stderr",
     "output_type": "stream",
     "text": [
      "  7%|▋         | 2/29 [00:00<00:01, 18.18it/s]"
     ]
    },
    {
     "name": "stdout",
     "output_type": "stream",
     "text": [
      "['benzoic acid', 'tryptophan', 'uric acid', '5-hydroxynorvaline NIST', 'alpha-ketoglutarate', 'citrulline', 'glutamine', 'hypoxanthine', 'malic acid', 'methionine sulfoxide', 'nornicotine', 'octadecanol', '3-phosphoglycerate', '5-methoxytryptamine', 'adenosine-5-monophosphate', 'aspartic acid', 'lactic acid', 'maltose', 'maltotriose', 'N-methylalanine', 'phenol', 'phosphoethanolamine', 'pyrophosphate', 'pyruvic acid', 'taurine']\n"
     ]
    },
    {
     "name": "stderr",
     "output_type": "stream",
     "text": [
      "100%|██████████| 29/29 [00:00<00:00, 42.34it/s]\n",
      "100%|██████████| 29/29 [00:00<00:00, 41.73it/s]\n",
      "100%|██████████| 29/29 [00:00<00:00, 37.42it/s]\n",
      "100%|██████████| 29/29 [00:00<00:00, 33.88it/s]\n",
      "100%|██████████| 29/29 [00:00<00:00, 43.91it/s]\n",
      "100%|██████████| 29/29 [00:00<00:00, 43.23it/s]\n",
      "100%|██████████| 29/29 [00:00<00:00, 42.90it/s]\n",
      "100%|██████████| 29/29 [00:00<00:00, 43.22it/s]\n",
      "100%|██████████| 29/29 [00:00<00:00, 43.67it/s]\n",
      "100%|██████████| 29/29 [00:00<00:00, 42.58it/s]\n"
     ]
    },
    {
     "name": "stdout",
     "output_type": "stream",
     "text": [
      "[[1, 0.5982915695415694], [2, 0.607511655011655], [3, 0.6112082362082363], [4, 0.8365472027972028], [5, 0.7855040792540791], [6, 0.7763879176379177], [7, 0.7763626651126652], [8, 0.8264811577311578], [9, 0.8058323620823622], [10, 0.8094357031857031], [11, 0.7726631701631701], [12, 0.7854458041958041], [13, 0.8028399378399378], [14, 0.8233245920745921], [15, 0.8243395493395493], [16, 0.7965569153069152], [17, 0.8362567987567988], [18, 0.8323523698523699], [19, 0.8087412587412587], [20, 0.8313374125874127], [21, 0.8271707459207459], [22, 0.8392968142968144], [23, 0.7708041958041959], [24, 0.8281274281274282], [25, 0.8079885392385393]]\n"
     ]
    },
    {
     "name": "stderr",
     "output_type": "stream",
     "text": [
      " 10%|█         | 3/29 [00:00<00:00, 28.57it/s]"
     ]
    },
    {
     "name": "stdout",
     "output_type": "stream",
     "text": [
      "['asparagine', 'benzoic acid', 'tryptophan', 'uric acid', '5-hydroxynorvaline NIST', 'alpha-ketoglutarate', 'citrulline', 'glutamine', 'hypoxanthine', 'malic acid', 'methionine sulfoxide', 'nornicotine', 'octadecanol', '3-phosphoglycerate', '5-methoxytryptamine', 'adenosine-5-monophosphate', 'aspartic acid', 'lactic acid', 'maltose', 'maltotriose', 'N-methylalanine', 'phenol', 'phosphoethanolamine', 'pyrophosphate', 'pyruvic acid', 'taurine']\n"
     ]
    },
    {
     "name": "stderr",
     "output_type": "stream",
     "text": [
      "100%|██████████| 29/29 [00:00<00:00, 42.21it/s]\n",
      "100%|██████████| 29/29 [00:00<00:00, 42.21it/s]\n",
      "100%|██████████| 29/29 [00:00<00:00, 42.77it/s]\n",
      "100%|██████████| 29/29 [00:00<00:00, 43.48it/s]\n",
      "100%|██████████| 29/29 [00:00<00:00, 41.97it/s]\n",
      "100%|██████████| 29/29 [00:00<00:00, 42.76it/s]\n",
      "100%|██████████| 29/29 [00:00<00:00, 38.06it/s]\n",
      "100%|██████████| 29/29 [00:00<00:00, 41.79it/s]\n",
      "100%|██████████| 29/29 [00:00<00:00, 41.37it/s]\n",
      "100%|██████████| 29/29 [00:00<00:00, 42.96it/s]\n"
     ]
    },
    {
     "name": "stdout",
     "output_type": "stream",
     "text": [
      "[[1, 0.5982915695415694], [2, 0.607511655011655], [3, 0.6112082362082363], [4, 0.8365472027972028], [5, 0.7855040792540791], [6, 0.7763879176379177], [7, 0.7763626651126652], [8, 0.8264811577311578], [9, 0.8058323620823622], [10, 0.8094357031857031], [11, 0.7726631701631701], [12, 0.7854458041958041], [13, 0.8028399378399378], [14, 0.8233245920745921], [15, 0.8243395493395493], [16, 0.7965569153069152], [17, 0.8362567987567988], [18, 0.8323523698523699], [19, 0.8087412587412587], [20, 0.8313374125874127], [21, 0.8271707459207459], [22, 0.8392968142968144], [23, 0.7708041958041959], [24, 0.8281274281274282], [25, 0.8079885392385393], [26, 0.7773698523698525]]\n"
     ]
    },
    {
     "data": {
      "image/png": "[encoded data removed]",
      "text/plain": [
       "<Figure size 432x288 with 1 Axes>"
      ]
     },
     "metadata": {
      "needs_background": "light"
     },
     "output_type": "display_data"
    }
   ],
   "source": [
    "accuracy2(plasma, 'RandomForestClassifier')"
   ]
  },
  {
   "cell_type": "markdown",
   "metadata": {},
   "source": [
    "### SVM"
   ]
  },
  {
   "cell_type": "code",
   "execution_count": 16,
   "metadata": {},
   "outputs": [
    {
     "name": "stderr",
     "output_type": "stream",
     "text": [
      " 14%|█▍        | 4/29 [00:00<00:00, 35.58it/s]"
     ]
    },
    {
     "name": "stdout",
     "output_type": "stream",
     "text": [
      "['5-methoxytryptamine']\n"
     ]
    },
    {
     "name": "stderr",
     "output_type": "stream",
     "text": [
      "100%|██████████| 29/29 [00:00<00:00, 51.23it/s]\n",
      "100%|██████████| 29/29 [00:00<00:00, 49.68it/s]\n",
      "100%|██████████| 29/29 [00:00<00:00, 49.33it/s]\n",
      "100%|██████████| 29/29 [00:00<00:00, 49.86it/s]\n",
      "100%|██████████| 29/29 [00:00<00:00, 49.60it/s]\n",
      "100%|██████████| 29/29 [00:00<00:00, 49.90it/s]\n",
      "100%|██████████| 29/29 [00:00<00:00, 49.62it/s]\n",
      "100%|██████████| 29/29 [00:00<00:00, 49.76it/s]\n",
      "100%|██████████| 29/29 [00:00<00:00, 49.50it/s]\n",
      "100%|██████████| 29/29 [00:00<00:00, 49.18it/s]\n"
     ]
    },
    {
     "name": "stdout",
     "output_type": "stream",
     "text": [
      "[[1, 0.7227059052059053]]\n"
     ]
    },
    {
     "name": "stderr",
     "output_type": "stream",
     "text": [
      " 14%|█▍        | 4/29 [00:00<00:00, 34.48it/s]"
     ]
    },
    {
     "name": "stdout",
     "output_type": "stream",
     "text": [
      "['asparagine', 'benzoic acid']\n"
     ]
    },
    {
     "name": "stderr",
     "output_type": "stream",
     "text": [
      "100%|██████████| 29/29 [00:00<00:00, 49.22it/s]\n",
      "100%|██████████| 29/29 [00:00<00:00, 48.59it/s]\n",
      "100%|██████████| 29/29 [00:00<00:00, 48.98it/s]\n",
      "100%|██████████| 29/29 [00:00<00:00, 48.01it/s]\n",
      "100%|██████████| 29/29 [00:00<00:00, 48.33it/s]\n",
      "100%|██████████| 29/29 [00:00<00:00, 48.10it/s]\n",
      "100%|██████████| 29/29 [00:00<00:00, 46.46it/s]\n",
      "100%|██████████| 29/29 [00:00<00:00, 48.50it/s]\n",
      "100%|██████████| 29/29 [00:00<00:00, 49.32it/s]\n",
      "100%|██████████| 29/29 [00:00<00:00, 48.16it/s]\n"
     ]
    },
    {
     "name": "stdout",
     "output_type": "stream",
     "text": [
      "[[1, 0.7227059052059053], [2, 0.6848144910644909]]\n"
     ]
    },
    {
     "name": "stderr",
     "output_type": "stream",
     "text": [
      " 14%|█▍        | 4/29 [00:00<00:00, 34.32it/s]"
     ]
    },
    {
     "name": "stdout",
     "output_type": "stream",
     "text": [
      "['asparagine', 'benzoic acid', 'tryptophan']\n"
     ]
    },
    {
     "name": "stderr",
     "output_type": "stream",
     "text": [
      "100%|██████████| 29/29 [00:00<00:00, 51.36it/s]\n",
      "100%|██████████| 29/29 [00:00<00:00, 48.17it/s]\n",
      "100%|██████████| 29/29 [00:00<00:00, 48.57it/s]\n",
      "100%|██████████| 29/29 [00:00<00:00, 33.82it/s]\n",
      "100%|██████████| 29/29 [00:00<00:00, 47.65it/s]\n",
      "100%|██████████| 29/29 [00:00<00:00, 47.24it/s]\n",
      "100%|██████████| 29/29 [00:00<00:00, 47.63it/s]\n",
      "100%|██████████| 29/29 [00:00<00:00, 47.77it/s]\n",
      "100%|██████████| 29/29 [00:00<00:00, 47.76it/s]\n",
      "100%|██████████| 29/29 [00:00<00:00, 47.69it/s]\n"
     ]
    },
    {
     "name": "stdout",
     "output_type": "stream",
     "text": [
      "[[1, 0.7227059052059053], [2, 0.6848144910644909], [3, 0.6892968142968143]]\n"
     ]
    },
    {
     "name": "stderr",
     "output_type": "stream",
     "text": [
      " 14%|█▍        | 4/29 [00:00<00:00, 33.39it/s]"
     ]
    },
    {
     "name": "stdout",
     "output_type": "stream",
     "text": [
      "['benzoic acid', 'tryptophan', 'uric acid', '5-hydroxynorvaline NIST']\n"
     ]
    },
    {
     "name": "stderr",
     "output_type": "stream",
     "text": [
      "100%|██████████| 29/29 [00:00<00:00, 49.59it/s]\n",
      "100%|██████████| 29/29 [00:00<00:00, 45.57it/s]\n",
      "100%|██████████| 29/29 [00:00<00:00, 47.05it/s]\n",
      "100%|██████████| 29/29 [00:00<00:00, 47.44it/s]\n",
      "100%|██████████| 29/29 [00:00<00:00, 47.51it/s]\n",
      "100%|██████████| 29/29 [00:00<00:00, 47.51it/s]\n",
      "100%|██████████| 29/29 [00:00<00:00, 47.44it/s]\n",
      "100%|██████████| 29/29 [00:00<00:00, 46.49it/s]\n",
      "100%|██████████| 29/29 [00:00<00:00, 48.35it/s]\n",
      "100%|██████████| 29/29 [00:00<00:00, 47.22it/s]\n"
     ]
    },
    {
     "name": "stdout",
     "output_type": "stream",
     "text": [
      "[[1, 0.7227059052059053], [2, 0.6848144910644909], [3, 0.6892968142968143], [4, 0.6146853146853146]]\n"
     ]
    },
    {
     "name": "stderr",
     "output_type": "stream",
     "text": [
      " 14%|█▍        | 4/29 [00:00<00:00, 32.55it/s]"
     ]
    },
    {
     "name": "stdout",
     "output_type": "stream",
     "text": [
      "['benzoic acid', 'uric acid', '5-hydroxynorvaline NIST', 'hypoxanthine', 'malic acid']\n"
     ]
    },
    {
     "name": "stderr",
     "output_type": "stream",
     "text": [
      "100%|██████████| 29/29 [00:00<00:00, 50.58it/s]\n",
      "100%|██████████| 29/29 [00:00<00:00, 48.06it/s]\n",
      "100%|██████████| 29/29 [00:00<00:00, 48.16it/s]\n",
      "100%|██████████| 29/29 [00:00<00:00, 48.33it/s]\n",
      "100%|██████████| 29/29 [00:00<00:00, 48.52it/s]\n",
      "100%|██████████| 29/29 [00:00<00:00, 47.74it/s]\n",
      "100%|██████████| 29/29 [00:00<00:00, 45.90it/s]\n",
      "100%|██████████| 29/29 [00:00<00:00, 45.92it/s]\n",
      "100%|██████████| 29/29 [00:00<00:00, 46.51it/s]\n",
      "100%|██████████| 29/29 [00:00<00:00, 45.19it/s]\n"
     ]
    },
    {
     "name": "stdout",
     "output_type": "stream",
     "text": [
      "[[1, 0.7227059052059053], [2, 0.6848144910644909], [3, 0.6892968142968143], [4, 0.6146853146853146], [5, 0.7657439782439782]]\n"
     ]
    },
    {
     "name": "stderr",
     "output_type": "stream",
     "text": [
      " 14%|█▍        | 4/29 [00:00<00:00, 34.86it/s]"
     ]
    },
    {
     "name": "stdout",
     "output_type": "stream",
     "text": [
      "['asparagine', 'benzoic acid', 'tryptophan', 'uric acid', '5-hydroxynorvaline NIST', 'alpha-ketoglutarate']\n"
     ]
    },
    {
     "name": "stderr",
     "output_type": "stream",
     "text": [
      "100%|██████████| 29/29 [00:00<00:00, 50.46it/s]\n",
      "100%|██████████| 29/29 [00:00<00:00, 47.20it/s]\n",
      "100%|██████████| 29/29 [00:00<00:00, 48.07it/s]\n",
      "100%|██████████| 29/29 [00:00<00:00, 47.92it/s]\n",
      "100%|██████████| 29/29 [00:00<00:00, 47.31it/s]\n",
      "100%|██████████| 29/29 [00:00<00:00, 47.30it/s]\n",
      "100%|██████████| 29/29 [00:00<00:00, 47.23it/s]\n",
      "100%|██████████| 29/29 [00:00<00:00, 46.16it/s]\n",
      "100%|██████████| 29/29 [00:00<00:00, 46.64it/s]\n",
      "100%|██████████| 29/29 [00:00<00:00, 47.65it/s]\n"
     ]
    },
    {
     "name": "stdout",
     "output_type": "stream",
     "text": [
      "[[1, 0.7227059052059053], [2, 0.6848144910644909], [3, 0.6892968142968143], [4, 0.6146853146853146], [5, 0.7657439782439782], [6, 0.7102564102564102]]\n"
     ]
    },
    {
     "name": "stderr",
     "output_type": "stream",
     "text": [
      " 14%|█▍        | 4/29 [00:00<00:00, 34.72it/s]"
     ]
    },
    {
     "name": "stdout",
     "output_type": "stream",
     "text": [
      "['benzoic acid', '5-hydroxynorvaline NIST', 'hypoxanthine', 'malic acid', 'methionine sulfoxide', 'nornicotine', '3-phosphoglycerate']\n"
     ]
    },
    {
     "name": "stderr",
     "output_type": "stream",
     "text": [
      "100%|██████████| 29/29 [00:00<00:00, 50.17it/s]\n",
      "100%|██████████| 29/29 [00:00<00:00, 46.71it/s]\n",
      "100%|██████████| 29/29 [00:00<00:00, 46.85it/s]\n",
      "100%|██████████| 29/29 [00:00<00:00, 46.76it/s]\n",
      "100%|██████████| 29/29 [00:00<00:00, 46.79it/s]\n",
      "100%|██████████| 29/29 [00:00<00:00, 46.09it/s]\n",
      "100%|██████████| 29/29 [00:00<00:00, 46.33it/s]\n",
      "100%|██████████| 29/29 [00:00<00:00, 47.08it/s]\n",
      "100%|██████████| 29/29 [00:00<00:00, 46.93it/s]\n",
      "100%|██████████| 29/29 [00:00<00:00, 47.68it/s]\n"
     ]
    },
    {
     "name": "stdout",
     "output_type": "stream",
     "text": [
      "[[1, 0.7227059052059053], [2, 0.6848144910644909], [3, 0.6892968142968143], [4, 0.6146853146853146], [5, 0.7657439782439782], [6, 0.7102564102564102], [7, 0.7784965034965035]]\n"
     ]
    },
    {
     "name": "stderr",
     "output_type": "stream",
     "text": [
      " 14%|█▍        | 4/29 [00:00<00:00, 33.06it/s]"
     ]
    },
    {
     "name": "stdout",
     "output_type": "stream",
     "text": [
      "['5-hydroxynorvaline NIST', 'alpha-ketoglutarate', 'citrulline', 'hypoxanthine', 'malic acid', 'methionine sulfoxide', 'nornicotine', '3-phosphoglycerate']\n"
     ]
    },
    {
     "name": "stderr",
     "output_type": "stream",
     "text": [
      "100%|██████████| 29/29 [00:00<00:00, 48.69it/s]\n",
      "100%|██████████| 29/29 [00:00<00:00, 47.01it/s]\n",
      "100%|██████████| 29/29 [00:00<00:00, 47.24it/s]\n",
      "100%|██████████| 29/29 [00:00<00:00, 46.42it/s]\n",
      "100%|██████████| 29/29 [00:00<00:00, 47.07it/s]\n",
      "100%|██████████| 29/29 [00:00<00:00, 47.22it/s]\n",
      "100%|██████████| 29/29 [00:00<00:00, 47.24it/s]\n",
      "100%|██████████| 29/29 [00:00<00:00, 47.48it/s]\n",
      "100%|██████████| 29/29 [00:00<00:00, 46.54it/s]\n",
      "100%|██████████| 29/29 [00:00<00:00, 46.01it/s]\n"
     ]
    },
    {
     "name": "stdout",
     "output_type": "stream",
     "text": [
      "[[1, 0.7227059052059053], [2, 0.6848144910644909], [3, 0.6892968142968143], [4, 0.6146853146853146], [5, 0.7657439782439782], [6, 0.7102564102564102], [7, 0.7784965034965035], [8, 0.7521406371406372]]\n"
     ]
    },
    {
     "name": "stderr",
     "output_type": "stream",
     "text": [
      " 10%|█         | 3/29 [00:00<00:00, 27.97it/s]"
     ]
    },
    {
     "name": "stdout",
     "output_type": "stream",
     "text": [
      "['benzoic acid', 'tryptophan', '5-hydroxynorvaline NIST', 'citrulline', 'glutamine', 'hypoxanthine', 'malic acid', 'methionine sulfoxide', 'nornicotine']\n"
     ]
    },
    {
     "name": "stderr",
     "output_type": "stream",
     "text": [
      "100%|██████████| 29/29 [00:00<00:00, 48.70it/s]\n",
      "100%|██████████| 29/29 [00:00<00:00, 47.45it/s]\n",
      "100%|██████████| 29/29 [00:00<00:00, 44.93it/s]\n",
      "100%|██████████| 29/29 [00:00<00:00, 46.02it/s]\n",
      "100%|██████████| 29/29 [00:00<00:00, 46.62it/s]\n",
      "100%|██████████| 29/29 [00:00<00:00, 46.24it/s]\n",
      "100%|██████████| 29/29 [00:00<00:00, 46.70it/s]\n",
      "100%|██████████| 29/29 [00:00<00:00, 46.12it/s]\n",
      "100%|██████████| 29/29 [00:00<00:00, 46.40it/s]\n",
      "100%|██████████| 29/29 [00:00<00:00, 46.05it/s]\n"
     ]
    },
    {
     "name": "stdout",
     "output_type": "stream",
     "text": [
      "[[1, 0.7227059052059053], [2, 0.6848144910644909], [3, 0.6892968142968143], [4, 0.6146853146853146], [5, 0.7657439782439782], [6, 0.7102564102564102], [7, 0.7784965034965035], [8, 0.7521406371406372], [9, 0.7987266899766899]]\n"
     ]
    },
    {
     "name": "stderr",
     "output_type": "stream",
     "text": [
      " 10%|█         | 3/29 [00:00<00:00, 29.72it/s]"
     ]
    },
    {
     "name": "stdout",
     "output_type": "stream",
     "text": [
      "['asparagine', 'benzoic acid', 'tryptophan', 'uric acid', '5-hydroxynorvaline NIST', 'alpha-ketoglutarate', 'citrulline', 'glutamine', 'hypoxanthine', 'malic acid']\n"
     ]
    },
    {
     "name": "stderr",
     "output_type": "stream",
     "text": [
      "100%|██████████| 29/29 [00:00<00:00, 49.29it/s]\n",
      "100%|██████████| 29/29 [00:00<00:00, 46.00it/s]\n",
      "100%|██████████| 29/29 [00:00<00:00, 47.09it/s]\n",
      "100%|██████████| 29/29 [00:00<00:00, 45.83it/s]\n",
      "100%|██████████| 29/29 [00:00<00:00, 44.55it/s]\n",
      "100%|██████████| 29/29 [00:00<00:00, 45.85it/s]\n",
      "100%|██████████| 29/29 [00:00<00:00, 42.19it/s]\n",
      "100%|██████████| 29/29 [00:00<00:00, 45.37it/s]\n",
      "100%|██████████| 29/29 [00:00<00:00, 46.12it/s]\n",
      "100%|██████████| 29/29 [00:00<00:00, 46.78it/s]\n"
     ]
    },
    {
     "name": "stdout",
     "output_type": "stream",
     "text": [
      "[[1, 0.7227059052059053], [2, 0.6848144910644909], [3, 0.6892968142968143], [4, 0.6146853146853146], [5, 0.7657439782439782], [6, 0.7102564102564102], [7, 0.7784965034965035], [8, 0.7521406371406372], [9, 0.7987266899766899], [10, 0.810595376845377]]\n"
     ]
    },
    {
     "name": "stderr",
     "output_type": "stream",
     "text": [
      " 14%|█▍        | 4/29 [00:00<00:00, 34.20it/s]"
     ]
    },
    {
     "name": "stdout",
     "output_type": "stream",
     "text": [
      "['5-hydroxynorvaline NIST', 'citrulline', 'hypoxanthine', 'malic acid', 'methionine sulfoxide', 'nornicotine', '5-methoxytryptamine', 'adenosine-5-monophosphate', 'aspartic acid', 'lactic acid', 'maltose']\n"
     ]
    },
    {
     "name": "stderr",
     "output_type": "stream",
     "text": [
      "100%|██████████| 29/29 [00:00<00:00, 50.19it/s]\n",
      "100%|██████████| 29/29 [00:00<00:00, 46.25it/s]\n",
      "100%|██████████| 29/29 [00:00<00:00, 46.91it/s]\n",
      "100%|██████████| 29/29 [00:00<00:00, 43.22it/s]\n",
      "100%|██████████| 29/29 [00:00<00:00, 46.64it/s]\n",
      "100%|██████████| 29/29 [00:00<00:00, 46.47it/s]\n",
      "100%|██████████| 29/29 [00:00<00:00, 46.42it/s]\n",
      "100%|██████████| 29/29 [00:00<00:00, 44.71it/s]\n",
      "100%|██████████| 29/29 [00:00<00:00, 46.00it/s]\n",
      "100%|██████████| 29/29 [00:00<00:00, 47.45it/s]\n"
     ]
    },
    {
     "name": "stdout",
     "output_type": "stream",
     "text": [
      "[[1, 0.7227059052059053], [2, 0.6848144910644909], [3, 0.6892968142968143], [4, 0.6146853146853146], [5, 0.7657439782439782], [6, 0.7102564102564102], [7, 0.7784965034965035], [8, 0.7521406371406372], [9, 0.7987266899766899], [10, 0.810595376845377], [11, 0.8195852758352757]]\n"
     ]
    },
    {
     "name": "stderr",
     "output_type": "stream",
     "text": [
      " 14%|█▍        | 4/29 [00:00<00:00, 32.32it/s]"
     ]
    },
    {
     "name": "stdout",
     "output_type": "stream",
     "text": [
      "['asparagine', 'benzoic acid', 'tryptophan', 'uric acid', '5-hydroxynorvaline NIST', 'alpha-ketoglutarate', 'citrulline', 'glutamine', 'hypoxanthine', 'malic acid', 'methionine sulfoxide', 'nornicotine']\n"
     ]
    },
    {
     "name": "stderr",
     "output_type": "stream",
     "text": [
      "100%|██████████| 29/29 [00:00<00:00, 49.22it/s]\n",
      "100%|██████████| 29/29 [00:00<00:00, 46.94it/s]\n",
      "100%|██████████| 29/29 [00:00<00:00, 46.61it/s]\n",
      "100%|██████████| 29/29 [00:00<00:00, 46.25it/s]\n",
      "100%|██████████| 29/29 [00:00<00:00, 47.11it/s]\n",
      "100%|██████████| 29/29 [00:00<00:00, 47.03it/s]\n",
      "100%|██████████| 29/29 [00:00<00:00, 44.77it/s]\n",
      "100%|██████████| 29/29 [00:00<00:00, 46.77it/s]\n",
      "100%|██████████| 29/29 [00:00<00:00, 46.23it/s]\n",
      "100%|██████████| 29/29 [00:00<00:00, 46.71it/s]\n"
     ]
    },
    {
     "name": "stdout",
     "output_type": "stream",
     "text": [
      "[[1, 0.7227059052059053], [2, 0.6848144910644909], [3, 0.6892968142968143], [4, 0.6146853146853146], [5, 0.7657439782439782], [6, 0.7102564102564102], [7, 0.7784965034965035], [8, 0.7521406371406372], [9, 0.7987266899766899], [10, 0.810595376845377], [11, 0.8195852758352757], [12, 0.8022620435120436]]\n"
     ]
    },
    {
     "name": "stderr",
     "output_type": "stream",
     "text": [
      " 10%|█         | 3/29 [00:00<00:00, 29.70it/s]"
     ]
    },
    {
     "name": "stdout",
     "output_type": "stream",
     "text": [
      "['hypoxanthine', 'methionine sulfoxide', 'nornicotine', '3-phosphoglycerate', '5-methoxytryptamine', 'adenosine-5-monophosphate', 'aspartic acid', 'lactic acid', 'maltose', 'phenol', 'pyrophosphate', 'pyruvic acid', 'taurine']\n"
     ]
    },
    {
     "name": "stderr",
     "output_type": "stream",
     "text": [
      "100%|██████████| 29/29 [00:00<00:00, 48.37it/s]\n",
      "100%|██████████| 29/29 [00:00<00:00, 45.77it/s]\n",
      "100%|██████████| 29/29 [00:00<00:00, 47.50it/s]\n",
      "100%|██████████| 29/29 [00:00<00:00, 45.70it/s]\n",
      "100%|██████████| 29/29 [00:00<00:00, 46.68it/s]\n",
      "100%|██████████| 29/29 [00:00<00:00, 45.35it/s]\n",
      "100%|██████████| 29/29 [00:00<00:00, 45.52it/s]\n",
      "100%|██████████| 29/29 [00:00<00:00, 46.18it/s]\n",
      "100%|██████████| 29/29 [00:00<00:00, 46.46it/s]\n",
      "100%|██████████| 29/29 [00:00<00:00, 47.07it/s]\n"
     ]
    },
    {
     "name": "stdout",
     "output_type": "stream",
     "text": [
      "[[1, 0.7227059052059053], [2, 0.6848144910644909], [3, 0.6892968142968143], [4, 0.6146853146853146], [5, 0.7657439782439782], [6, 0.7102564102564102], [7, 0.7784965034965035], [8, 0.7521406371406372], [9, 0.7987266899766899], [10, 0.810595376845377], [11, 0.8195852758352757], [12, 0.8022620435120436], [13, 0.8115141802641801]]\n"
     ]
    },
    {
     "name": "stderr",
     "output_type": "stream",
     "text": [
      " 14%|█▍        | 4/29 [00:00<00:00, 32.82it/s]"
     ]
    },
    {
     "name": "stdout",
     "output_type": "stream",
     "text": [
      "['5-hydroxynorvaline NIST', 'hypoxanthine', 'methionine sulfoxide', 'nornicotine', '3-phosphoglycerate', '5-methoxytryptamine', 'adenosine-5-monophosphate', 'aspartic acid', 'lactic acid', 'maltose', 'phenol', 'pyrophosphate', 'pyruvic acid', 'taurine']\n"
     ]
    },
    {
     "name": "stderr",
     "output_type": "stream",
     "text": [
      "100%|██████████| 29/29 [00:00<00:00, 49.21it/s]\n",
      "100%|██████████| 29/29 [00:00<00:00, 45.07it/s]\n",
      "100%|██████████| 29/29 [00:00<00:00, 46.09it/s]\n",
      "100%|██████████| 29/29 [00:00<00:00, 46.71it/s]\n",
      "100%|██████████| 29/29 [00:00<00:00, 46.61it/s]\n",
      "100%|██████████| 29/29 [00:00<00:00, 46.73it/s]\n",
      "100%|██████████| 29/29 [00:00<00:00, 44.34it/s]\n",
      "100%|██████████| 29/29 [00:00<00:00, 45.79it/s]\n",
      "100%|██████████| 29/29 [00:00<00:00, 46.93it/s]\n",
      "100%|██████████| 29/29 [00:00<00:00, 46.77it/s]\n"
     ]
    },
    {
     "name": "stdout",
     "output_type": "stream",
     "text": [
      "[[1, 0.7227059052059053], [2, 0.6848144910644909], [3, 0.6892968142968143], [4, 0.6146853146853146], [5, 0.7657439782439782], [6, 0.7102564102564102], [7, 0.7784965034965035], [8, 0.7521406371406372], [9, 0.7987266899766899], [10, 0.810595376845377], [11, 0.8195852758352757], [12, 0.8022620435120436], [13, 0.8115141802641801], [14, 0.8271658896658897]]\n"
     ]
    },
    {
     "name": "stderr",
     "output_type": "stream",
     "text": [
      " 14%|█▍        | 4/29 [00:00<00:00, 33.07it/s]"
     ]
    },
    {
     "name": "stdout",
     "output_type": "stream",
     "text": [
      "['uric acid', '5-hydroxynorvaline NIST', 'hypoxanthine', 'methionine sulfoxide', 'nornicotine', '3-phosphoglycerate', '5-methoxytryptamine', 'adenosine-5-monophosphate', 'aspartic acid', 'lactic acid', 'maltose', 'phenol', 'phosphoethanolamine', 'pyrophosphate', 'taurine']\n"
     ]
    },
    {
     "name": "stderr",
     "output_type": "stream",
     "text": [
      "100%|██████████| 29/29 [00:00<00:00, 48.70it/s]\n",
      "100%|██████████| 29/29 [00:00<00:00, 46.31it/s]\n",
      "100%|██████████| 29/29 [00:00<00:00, 46.77it/s]\n",
      "100%|██████████| 29/29 [00:00<00:00, 45.19it/s]\n",
      "100%|██████████| 29/29 [00:00<00:00, 46.77it/s]\n",
      "100%|██████████| 29/29 [00:00<00:00, 44.57it/s]\n",
      "100%|██████████| 29/29 [00:00<00:00, 46.03it/s]\n",
      "100%|██████████| 29/29 [00:00<00:00, 46.33it/s]\n",
      "100%|██████████| 29/29 [00:00<00:00, 46.91it/s]\n",
      "100%|██████████| 29/29 [00:00<00:00, 46.62it/s]\n"
     ]
    },
    {
     "name": "stdout",
     "output_type": "stream",
     "text": [
      "[[1, 0.7227059052059053], [2, 0.6848144910644909], [3, 0.6892968142968143], [4, 0.6146853146853146], [5, 0.7657439782439782], [6, 0.7102564102564102], [7, 0.7784965034965035], [8, 0.7521406371406372], [9, 0.7987266899766899], [10, 0.810595376845377], [11, 0.8195852758352757], [12, 0.8022620435120436], [13, 0.8115141802641801], [14, 0.8271658896658897], [15, 0.7906759906759906]]\n"
     ]
    },
    {
     "name": "stderr",
     "output_type": "stream",
     "text": [
      " 14%|█▍        | 4/29 [00:00<00:00, 33.37it/s]"
     ]
    },
    {
     "name": "stdout",
     "output_type": "stream",
     "text": [
      "['tryptophan', 'uric acid', '5-hydroxynorvaline NIST', 'alpha-ketoglutarate', 'citrulline', 'glutamine', 'hypoxanthine', 'malic acid', 'methionine sulfoxide', 'nornicotine', '3-phosphoglycerate', '5-methoxytryptamine', 'adenosine-5-monophosphate', 'aspartic acid', 'lactic acid', 'maltose']\n"
     ]
    },
    {
     "name": "stderr",
     "output_type": "stream",
     "text": [
      "100%|██████████| 29/29 [00:00<00:00, 49.08it/s]\n",
      "100%|██████████| 29/29 [00:00<00:00, 46.57it/s]\n",
      "100%|██████████| 29/29 [00:00<00:00, 45.90it/s]\n",
      "100%|██████████| 29/29 [00:00<00:00, 46.69it/s]\n",
      "100%|██████████| 29/29 [00:00<00:00, 47.17it/s]\n",
      "100%|██████████| 29/29 [00:00<00:00, 47.05it/s]\n",
      "100%|██████████| 29/29 [00:00<00:00, 46.65it/s]\n",
      "100%|██████████| 29/29 [00:00<00:00, 45.73it/s]\n",
      "100%|██████████| 29/29 [00:00<00:00, 46.25it/s]\n",
      "100%|██████████| 29/29 [00:00<00:00, 46.49it/s]\n"
     ]
    },
    {
     "name": "stdout",
     "output_type": "stream",
     "text": [
      "[[1, 0.7227059052059053], [2, 0.6848144910644909], [3, 0.6892968142968143], [4, 0.6146853146853146], [5, 0.7657439782439782], [6, 0.7102564102564102], [7, 0.7784965034965035], [8, 0.7521406371406372], [9, 0.7987266899766899], [10, 0.810595376845377], [11, 0.8195852758352757], [12, 0.8022620435120436], [13, 0.8115141802641801], [14, 0.8271658896658897], [15, 0.7906759906759906], [16, 0.7923756798756798]]\n"
     ]
    },
    {
     "name": "stderr",
     "output_type": "stream",
     "text": [
      " 14%|█▍        | 4/29 [00:00<00:00, 32.92it/s]"
     ]
    },
    {
     "name": "stdout",
     "output_type": "stream",
     "text": [
      "['asparagine', 'benzoic acid', 'tryptophan', 'uric acid', '5-hydroxynorvaline NIST', 'alpha-ketoglutarate', 'citrulline', 'glutamine', 'hypoxanthine', 'malic acid', 'methionine sulfoxide', 'nornicotine', 'octadecanol', '3-phosphoglycerate', '5-methoxytryptamine', 'adenosine-5-monophosphate', 'aspartic acid']\n"
     ]
    },
    {
     "name": "stderr",
     "output_type": "stream",
     "text": [
      "100%|██████████| 29/29 [00:00<00:00, 47.88it/s]\n",
      "100%|██████████| 29/29 [00:00<00:00, 46.16it/s]\n",
      "100%|██████████| 29/29 [00:00<00:00, 46.24it/s]\n",
      "100%|██████████| 29/29 [00:00<00:00, 46.45it/s]\n",
      "100%|██████████| 29/29 [00:00<00:00, 46.58it/s]\n",
      "100%|██████████| 29/29 [00:00<00:00, 46.33it/s]\n",
      "100%|██████████| 29/29 [00:00<00:00, 44.56it/s]\n",
      "100%|██████████| 29/29 [00:00<00:00, 47.05it/s]\n",
      "100%|██████████| 29/29 [00:00<00:00, 46.12it/s]\n",
      "100%|██████████| 29/29 [00:00<00:00, 46.02it/s]\n"
     ]
    },
    {
     "name": "stdout",
     "output_type": "stream",
     "text": [
      "[[1, 0.7227059052059053], [2, 0.6848144910644909], [3, 0.6892968142968143], [4, 0.6146853146853146], [5, 0.7657439782439782], [6, 0.7102564102564102], [7, 0.7784965034965035], [8, 0.7521406371406372], [9, 0.7987266899766899], [10, 0.810595376845377], [11, 0.8195852758352757], [12, 0.8022620435120436], [13, 0.8115141802641801], [14, 0.8271658896658897], [15, 0.7906759906759906], [16, 0.7923756798756798], [17, 0.8125825563325565]]\n"
     ]
    },
    {
     "name": "stderr",
     "output_type": "stream",
     "text": [
      " 10%|█         | 3/29 [00:00<00:00, 29.61it/s]"
     ]
    },
    {
     "name": "stdout",
     "output_type": "stream",
     "text": [
      "['benzoic acid', 'uric acid', '5-hydroxynorvaline NIST', 'alpha-ketoglutarate', 'glutamine', 'hypoxanthine', 'malic acid', 'methionine sulfoxide', 'nornicotine', '3-phosphoglycerate', '5-methoxytryptamine', 'adenosine-5-monophosphate', 'aspartic acid', 'lactic acid', 'maltose', 'maltotriose', 'phenol', 'phosphoethanolamine']\n"
     ]
    },
    {
     "name": "stderr",
     "output_type": "stream",
     "text": [
      "100%|██████████| 29/29 [00:00<00:00, 48.65it/s]\n",
      "100%|██████████| 29/29 [00:00<00:00, 46.33it/s]\n",
      "100%|██████████| 29/29 [00:00<00:00, 46.48it/s]\n",
      "100%|██████████| 29/29 [00:00<00:00, 45.79it/s]\n",
      "100%|██████████| 29/29 [00:00<00:00, 46.51it/s]\n",
      "100%|██████████| 29/29 [00:00<00:00, 46.04it/s]\n",
      "100%|██████████| 29/29 [00:00<00:00, 46.37it/s]\n",
      "100%|██████████| 29/29 [00:00<00:00, 44.76it/s]\n",
      "100%|██████████| 29/29 [00:00<00:00, 44.28it/s]\n",
      "100%|██████████| 29/29 [00:00<00:00, 45.02it/s]\n"
     ]
    },
    {
     "name": "stdout",
     "output_type": "stream",
     "text": [
      "[[1, 0.7227059052059053], [2, 0.6848144910644909], [3, 0.6892968142968143], [4, 0.6146853146853146], [5, 0.7657439782439782], [6, 0.7102564102564102], [7, 0.7784965034965035], [8, 0.7521406371406372], [9, 0.7987266899766899], [10, 0.810595376845377], [11, 0.8195852758352757], [12, 0.8022620435120436], [13, 0.8115141802641801], [14, 0.8271658896658897], [15, 0.7906759906759906], [16, 0.7923756798756798], [17, 0.8125825563325565], [18, 0.8348630536130536]]\n"
     ]
    },
    {
     "name": "stderr",
     "output_type": "stream",
     "text": [
      " 10%|█         | 3/29 [00:00<00:00, 29.75it/s]"
     ]
    },
    {
     "name": "stdout",
     "output_type": "stream",
     "text": [
      "['asparagine', 'benzoic acid', 'uric acid', '5-hydroxynorvaline NIST', 'hypoxanthine', 'malic acid', 'methionine sulfoxide', 'nornicotine', 'octadecanol', '3-phosphoglycerate', '5-methoxytryptamine', 'adenosine-5-monophosphate', 'aspartic acid', 'lactic acid', 'maltose', 'maltotriose', 'phenol', 'phosphoethanolamine', 'pyrophosphate']\n"
     ]
    },
    {
     "name": "stderr",
     "output_type": "stream",
     "text": [
      "100%|██████████| 29/29 [00:00<00:00, 46.28it/s]\n",
      "100%|██████████| 29/29 [00:00<00:00, 44.41it/s]\n",
      "100%|██████████| 29/29 [00:00<00:00, 45.10it/s]\n",
      "100%|██████████| 29/29 [00:00<00:00, 45.13it/s]\n",
      "100%|██████████| 29/29 [00:00<00:00, 45.57it/s]\n",
      "100%|██████████| 29/29 [00:00<00:00, 44.92it/s]\n",
      "100%|██████████| 29/29 [00:00<00:00, 45.61it/s]\n",
      "100%|██████████| 29/29 [00:00<00:00, 45.38it/s]\n",
      "100%|██████████| 29/29 [00:00<00:00, 45.44it/s]\n",
      "100%|██████████| 29/29 [00:00<00:00, 45.24it/s]\n"
     ]
    },
    {
     "name": "stdout",
     "output_type": "stream",
     "text": [
      "[[1, 0.7227059052059053], [2, 0.6848144910644909], [3, 0.6892968142968143], [4, 0.6146853146853146], [5, 0.7657439782439782], [6, 0.7102564102564102], [7, 0.7784965034965035], [8, 0.7521406371406372], [9, 0.7987266899766899], [10, 0.810595376845377], [11, 0.8195852758352757], [12, 0.8022620435120436], [13, 0.8115141802641801], [14, 0.8271658896658897], [15, 0.7906759906759906], [16, 0.7923756798756798], [17, 0.8125825563325565], [18, 0.8348630536130536], [19, 0.8543123543123542]]\n"
     ]
    },
    {
     "name": "stderr",
     "output_type": "stream",
     "text": [
      " 10%|█         | 3/29 [00:00<00:00, 29.51it/s]"
     ]
    },
    {
     "name": "stdout",
     "output_type": "stream",
     "text": [
      "['tryptophan', '5-hydroxynorvaline NIST', 'alpha-ketoglutarate', 'glutamine', 'hypoxanthine', 'malic acid', 'methionine sulfoxide', 'nornicotine', '3-phosphoglycerate', '5-methoxytryptamine', 'adenosine-5-monophosphate', 'aspartic acid', 'lactic acid', 'maltose', 'N-methylalanine', 'phenol', 'phosphoethanolamine', 'pyrophosphate', 'pyruvic acid', 'taurine']\n"
     ]
    },
    {
     "name": "stderr",
     "output_type": "stream",
     "text": [
      "100%|██████████| 29/29 [00:00<00:00, 47.43it/s]\n",
      "100%|██████████| 29/29 [00:00<00:00, 45.62it/s]\n",
      "100%|██████████| 29/29 [00:00<00:00, 44.58it/s]\n",
      "100%|██████████| 29/29 [00:00<00:00, 45.87it/s]\n",
      "100%|██████████| 29/29 [00:00<00:00, 45.39it/s]\n",
      "100%|██████████| 29/29 [00:00<00:00, 44.88it/s]\n",
      "100%|██████████| 29/29 [00:00<00:00, 45.73it/s]\n",
      "100%|██████████| 29/29 [00:00<00:00, 46.26it/s]\n",
      "100%|██████████| 29/29 [00:00<00:00, 39.53it/s]\n",
      "100%|██████████| 29/29 [00:00<00:00, 45.38it/s]\n"
     ]
    },
    {
     "name": "stdout",
     "output_type": "stream",
     "text": [
      "[[1, 0.7227059052059053], [2, 0.6848144910644909], [3, 0.6892968142968143], [4, 0.6146853146853146], [5, 0.7657439782439782], [6, 0.7102564102564102], [7, 0.7784965034965035], [8, 0.7521406371406372], [9, 0.7987266899766899], [10, 0.810595376845377], [11, 0.8195852758352757], [12, 0.8022620435120436], [13, 0.8115141802641801], [14, 0.8271658896658897], [15, 0.7906759906759906], [16, 0.7923756798756798], [17, 0.8125825563325565], [18, 0.8348630536130536], [19, 0.8543123543123542], [20, 0.7916229603729603]]\n"
     ]
    },
    {
     "name": "stderr",
     "output_type": "stream",
     "text": [
      " 10%|█         | 3/29 [00:00<00:00, 29.41it/s]"
     ]
    },
    {
     "name": "stdout",
     "output_type": "stream",
     "text": [
      "['asparagine', 'benzoic acid', 'tryptophan', 'uric acid', '5-hydroxynorvaline NIST', 'alpha-ketoglutarate', 'citrulline', 'glutamine', 'hypoxanthine', 'malic acid', 'methionine sulfoxide', 'nornicotine', 'octadecanol', '3-phosphoglycerate', '5-methoxytryptamine', 'adenosine-5-monophosphate', 'aspartic acid', 'lactic acid', 'maltose', 'maltotriose', 'N-methylalanine']\n"
     ]
    },
    {
     "name": "stderr",
     "output_type": "stream",
     "text": [
      "100%|██████████| 29/29 [00:00<00:00, 46.99it/s]\n",
      "100%|██████████| 29/29 [00:00<00:00, 45.06it/s]\n",
      "100%|██████████| 29/29 [00:00<00:00, 44.78it/s]\n",
      "100%|██████████| 29/29 [00:00<00:00, 42.25it/s]\n",
      "100%|██████████| 29/29 [00:00<00:00, 45.65it/s]\n",
      "100%|██████████| 29/29 [00:00<00:00, 30.78it/s]\n",
      "100%|██████████| 29/29 [00:00<00:00, 43.95it/s]\n",
      "100%|██████████| 29/29 [00:00<00:00, 45.49it/s]\n",
      "100%|██████████| 29/29 [00:00<00:00, 44.44it/s]\n",
      "100%|██████████| 29/29 [00:00<00:00, 45.68it/s]\n"
     ]
    },
    {
     "name": "stdout",
     "output_type": "stream",
     "text": [
      "[[1, 0.7227059052059053], [2, 0.6848144910644909], [3, 0.6892968142968143], [4, 0.6146853146853146], [5, 0.7657439782439782], [6, 0.7102564102564102], [7, 0.7784965034965035], [8, 0.7521406371406372], [9, 0.7987266899766899], [10, 0.810595376845377], [11, 0.8195852758352757], [12, 0.8022620435120436], [13, 0.8115141802641801], [14, 0.8271658896658897], [15, 0.7906759906759906], [16, 0.7923756798756798], [17, 0.8125825563325565], [18, 0.8348630536130536], [19, 0.8543123543123542], [20, 0.7916229603729603], [21, 0.8285499222999222]]\n"
     ]
    },
    {
     "name": "stderr",
     "output_type": "stream",
     "text": [
      "  7%|▋         | 2/29 [00:00<00:01, 19.40it/s]"
     ]
    },
    {
     "name": "stdout",
     "output_type": "stream",
     "text": [
      "['benzoic acid', 'tryptophan', 'uric acid', '5-hydroxynorvaline NIST', 'alpha-ketoglutarate', 'hypoxanthine', 'malic acid', 'methionine sulfoxide', 'nornicotine', 'octadecanol', '3-phosphoglycerate', '5-methoxytryptamine', 'adenosine-5-monophosphate', 'aspartic acid', 'lactic acid', 'maltose', 'maltotriose', 'phenol', 'phosphoethanolamine', 'pyrophosphate', 'pyruvic acid', 'taurine']\n"
     ]
    },
    {
     "name": "stderr",
     "output_type": "stream",
     "text": [
      "100%|██████████| 29/29 [00:00<00:00, 44.42it/s]\n",
      "100%|██████████| 29/29 [00:00<00:00, 45.39it/s]\n",
      "100%|██████████| 29/29 [00:00<00:00, 46.27it/s]\n",
      "100%|██████████| 29/29 [00:00<00:00, 44.28it/s]\n",
      "100%|██████████| 29/29 [00:00<00:00, 44.78it/s]\n",
      "100%|██████████| 29/29 [00:00<00:00, 45.78it/s]\n",
      "100%|██████████| 29/29 [00:00<00:00, 44.82it/s]\n",
      "100%|██████████| 29/29 [00:00<00:00, 45.35it/s]\n",
      "100%|██████████| 29/29 [00:00<00:00, 45.91it/s]\n",
      "100%|██████████| 29/29 [00:00<00:00, 44.34it/s]\n"
     ]
    },
    {
     "name": "stdout",
     "output_type": "stream",
     "text": [
      "[[1, 0.7227059052059053], [2, 0.6848144910644909], [3, 0.6892968142968143], [4, 0.6146853146853146], [5, 0.7657439782439782], [6, 0.7102564102564102], [7, 0.7784965034965035], [8, 0.7521406371406372], [9, 0.7987266899766899], [10, 0.810595376845377], [11, 0.8195852758352757], [12, 0.8022620435120436], [13, 0.8115141802641801], [14, 0.8271658896658897], [15, 0.7906759906759906], [16, 0.7923756798756798], [17, 0.8125825563325565], [18, 0.8348630536130536], [19, 0.8543123543123542], [20, 0.7916229603729603], [21, 0.8285499222999222], [22, 0.7906177156177157]]\n"
     ]
    },
    {
     "name": "stderr",
     "output_type": "stream",
     "text": [
      " 10%|█         | 3/29 [00:00<00:00, 28.99it/s]"
     ]
    },
    {
     "name": "stdout",
     "output_type": "stream",
     "text": [
      "['benzoic acid', 'tryptophan', 'uric acid', '5-hydroxynorvaline NIST', 'alpha-ketoglutarate', 'glutamine', 'hypoxanthine', 'malic acid', 'methionine sulfoxide', 'nornicotine', 'octadecanol', '3-phosphoglycerate', '5-methoxytryptamine', 'adenosine-5-monophosphate', 'aspartic acid', 'lactic acid', 'maltose', 'N-methylalanine', 'phenol', 'phosphoethanolamine', 'pyrophosphate', 'pyruvic acid', 'taurine']\n"
     ]
    },
    {
     "name": "stderr",
     "output_type": "stream",
     "text": [
      "100%|██████████| 29/29 [00:00<00:00, 46.04it/s]\n",
      "100%|██████████| 29/29 [00:00<00:00, 45.61it/s]\n",
      "100%|██████████| 29/29 [00:00<00:00, 45.26it/s]\n",
      "100%|██████████| 29/29 [00:00<00:00, 43.71it/s]\n",
      "100%|██████████| 29/29 [00:00<00:00, 45.32it/s]\n",
      "100%|██████████| 29/29 [00:00<00:00, 44.76it/s]\n",
      "100%|██████████| 29/29 [00:00<00:00, 45.22it/s]\n",
      "100%|██████████| 29/29 [00:00<00:00, 39.05it/s]\n",
      "100%|██████████| 29/29 [00:00<00:00, 41.21it/s]\n",
      "100%|██████████| 29/29 [00:00<00:00, 45.34it/s]\n"
     ]
    },
    {
     "name": "stdout",
     "output_type": "stream",
     "text": [
      "[[1, 0.7227059052059053], [2, 0.6848144910644909], [3, 0.6892968142968143], [4, 0.6146853146853146], [5, 0.7657439782439782], [6, 0.7102564102564102], [7, 0.7784965034965035], [8, 0.7521406371406372], [9, 0.7987266899766899], [10, 0.810595376845377], [11, 0.8195852758352757], [12, 0.8022620435120436], [13, 0.8115141802641801], [14, 0.8271658896658897], [15, 0.7906759906759906], [16, 0.7923756798756798], [17, 0.8125825563325565], [18, 0.8348630536130536], [19, 0.8543123543123542], [20, 0.7916229603729603], [21, 0.8285499222999222], [22, 0.7906177156177157], [23, 0.7978778166278165]]\n"
     ]
    },
    {
     "name": "stderr",
     "output_type": "stream",
     "text": [
      " 10%|█         | 3/29 [00:00<00:00, 29.29it/s]"
     ]
    },
    {
     "name": "stdout",
     "output_type": "stream",
     "text": [
      "['benzoic acid', 'tryptophan', 'uric acid', '5-hydroxynorvaline NIST', 'citrulline', 'glutamine', 'hypoxanthine', 'malic acid', 'methionine sulfoxide', 'nornicotine', 'octadecanol', '3-phosphoglycerate', '5-methoxytryptamine', 'adenosine-5-monophosphate', 'aspartic acid', 'lactic acid', 'maltose', 'maltotriose', 'N-methylalanine', 'phenol', 'phosphoethanolamine', 'pyrophosphate', 'pyruvic acid', 'taurine']\n"
     ]
    },
    {
     "name": "stderr",
     "output_type": "stream",
     "text": [
      "100%|██████████| 29/29 [00:00<00:00, 47.70it/s]\n",
      "100%|██████████| 29/29 [00:00<00:00, 43.69it/s]\n",
      "100%|██████████| 29/29 [00:00<00:00, 44.72it/s]\n",
      "100%|██████████| 29/29 [00:00<00:00, 43.67it/s]\n",
      "100%|██████████| 29/29 [00:00<00:00, 43.93it/s]\n",
      "100%|██████████| 29/29 [00:00<00:00, 44.24it/s]\n",
      "100%|██████████| 29/29 [00:00<00:00, 45.16it/s]\n",
      "100%|██████████| 29/29 [00:00<00:00, 41.17it/s]\n",
      "100%|██████████| 29/29 [00:00<00:00, 43.67it/s]\n",
      "100%|██████████| 29/29 [00:00<00:00, 43.02it/s]\n"
     ]
    },
    {
     "name": "stdout",
     "output_type": "stream",
     "text": [
      "[[1, 0.7227059052059053], [2, 0.6848144910644909], [3, 0.6892968142968143], [4, 0.6146853146853146], [5, 0.7657439782439782], [6, 0.7102564102564102], [7, 0.7784965034965035], [8, 0.7521406371406372], [9, 0.7987266899766899], [10, 0.810595376845377], [11, 0.8195852758352757], [12, 0.8022620435120436], [13, 0.8115141802641801], [14, 0.8271658896658897], [15, 0.7906759906759906], [16, 0.7923756798756798], [17, 0.8125825563325565], [18, 0.8348630536130536], [19, 0.8543123543123542], [20, 0.7916229603729603], [21, 0.8285499222999222], [22, 0.7906177156177157], [23, 0.7978778166278165], [24, 0.7906177156177155]]\n"
     ]
    },
    {
     "name": "stderr",
     "output_type": "stream",
     "text": [
      " 10%|█         | 3/29 [00:00<00:00, 29.61it/s]"
     ]
    },
    {
     "name": "stdout",
     "output_type": "stream",
     "text": [
      "['asparagine', 'benzoic acid', 'tryptophan', 'uric acid', '5-hydroxynorvaline NIST', 'alpha-ketoglutarate', 'citrulline', 'glutamine', 'hypoxanthine', 'malic acid', 'methionine sulfoxide', 'nornicotine', '3-phosphoglycerate', '5-methoxytryptamine', 'adenosine-5-monophosphate', 'aspartic acid', 'lactic acid', 'maltose', 'maltotriose', 'N-methylalanine', 'phenol', 'phosphoethanolamine', 'pyrophosphate', 'pyruvic acid', 'taurine']\n"
     ]
    },
    {
     "name": "stderr",
     "output_type": "stream",
     "text": [
      "100%|██████████| 29/29 [00:00<00:00, 47.43it/s]\n",
      "100%|██████████| 29/29 [00:00<00:00, 44.96it/s]\n",
      "100%|██████████| 29/29 [00:00<00:00, 44.52it/s]\n",
      "100%|██████████| 29/29 [00:00<00:00, 44.94it/s]\n",
      "100%|██████████| 29/29 [00:00<00:00, 44.63it/s]\n",
      "100%|██████████| 29/29 [00:00<00:00, 44.78it/s]\n",
      "100%|██████████| 29/29 [00:00<00:00, 44.09it/s]\n",
      "100%|██████████| 29/29 [00:00<00:00, 44.35it/s]\n",
      "100%|██████████| 29/29 [00:00<00:00, 44.55it/s]\n",
      "100%|██████████| 29/29 [00:00<00:00, 44.41it/s]\n"
     ]
    },
    {
     "name": "stdout",
     "output_type": "stream",
     "text": [
      "[[1, 0.7227059052059053], [2, 0.6848144910644909], [3, 0.6892968142968143], [4, 0.6146853146853146], [5, 0.7657439782439782], [6, 0.7102564102564102], [7, 0.7784965034965035], [8, 0.7521406371406372], [9, 0.7987266899766899], [10, 0.810595376845377], [11, 0.8195852758352757], [12, 0.8022620435120436], [13, 0.8115141802641801], [14, 0.8271658896658897], [15, 0.7906759906759906], [16, 0.7923756798756798], [17, 0.8125825563325565], [18, 0.8348630536130536], [19, 0.8543123543123542], [20, 0.7916229603729603], [21, 0.8285499222999222], [22, 0.7906177156177157], [23, 0.7978778166278165], [24, 0.7906177156177155], [25, 0.7920066045066045]]\n"
     ]
    },
    {
     "name": "stderr",
     "output_type": "stream",
     "text": [
      " 14%|█▍        | 4/29 [00:00<00:00, 33.06it/s]"
     ]
    },
    {
     "name": "stdout",
     "output_type": "stream",
     "text": [
      "['asparagine', 'benzoic acid', 'tryptophan', 'uric acid', '5-hydroxynorvaline NIST', 'alpha-ketoglutarate', 'citrulline', 'glutamine', 'hypoxanthine', 'malic acid', 'methionine sulfoxide', 'nornicotine', 'octadecanol', '3-phosphoglycerate', '5-methoxytryptamine', 'adenosine-5-monophosphate', 'aspartic acid', 'lactic acid', 'maltose', 'maltotriose', 'N-methylalanine', 'phenol', 'phosphoethanolamine', 'pyrophosphate', 'pyruvic acid', 'taurine']\n"
     ]
    },
    {
     "name": "stderr",
     "output_type": "stream",
     "text": [
      "100%|██████████| 29/29 [00:00<00:00, 46.68it/s]\n",
      "100%|██████████| 29/29 [00:00<00:00, 44.48it/s]\n",
      "100%|██████████| 29/29 [00:00<00:00, 42.73it/s]\n",
      "100%|██████████| 29/29 [00:00<00:00, 43.45it/s]\n",
      "100%|██████████| 29/29 [00:00<00:00, 43.74it/s]\n",
      "100%|██████████| 29/29 [00:00<00:00, 44.18it/s]\n",
      "100%|██████████| 29/29 [00:00<00:00, 44.25it/s]\n",
      "100%|██████████| 29/29 [00:00<00:00, 44.44it/s]\n",
      "100%|██████████| 29/29 [00:00<00:00, 43.25it/s]\n",
      "100%|██████████| 29/29 [00:00<00:00, 43.43it/s]\n"
     ]
    },
    {
     "name": "stdout",
     "output_type": "stream",
     "text": [
      "[[1, 0.7227059052059053], [2, 0.6848144910644909], [3, 0.6892968142968143], [4, 0.6146853146853146], [5, 0.7657439782439782], [6, 0.7102564102564102], [7, 0.7784965034965035], [8, 0.7521406371406372], [9, 0.7987266899766899], [10, 0.810595376845377], [11, 0.8195852758352757], [12, 0.8022620435120436], [13, 0.8115141802641801], [14, 0.8271658896658897], [15, 0.7906759906759906], [16, 0.7923756798756798], [17, 0.8125825563325565], [18, 0.8348630536130536], [19, 0.8543123543123542], [20, 0.7916229603729603], [21, 0.8285499222999222], [22, 0.7906177156177157], [23, 0.7978778166278165], [24, 0.7906177156177155], [25, 0.7920066045066045], [26, 0.8083576146076148]]\n"
     ]
    },
    {
     "data": {
      "image/png": "[encoded data removed]",
      "text/plain": [
       "<Figure size 432x288 with 1 Axes>"
      ]
     },
     "metadata": {
      "needs_background": "light"
     },
     "output_type": "display_data"
    }
   ],
   "source": [
    "accuracy2(plasma, 'SVC')"
   ]
  },
  {
   "cell_type": "markdown",
   "metadata": {},
   "source": [
    "### DT"
   ]
  },
  {
   "cell_type": "code",
   "execution_count": 32,
   "metadata": {},
   "outputs": [
    {
     "name": "stderr",
     "output_type": "stream",
     "text": [
      " 14%|█▍        | 4/29 [00:00<00:00, 33.94it/s]"
     ]
    },
    {
     "name": "stdout",
     "output_type": "stream",
     "text": [
      "['benzoic acid']\n"
     ]
    },
    {
     "name": "stderr",
     "output_type": "stream",
     "text": [
      "100%|██████████| 29/29 [00:00<00:00, 49.64it/s]\n",
      "100%|██████████| 29/29 [00:00<00:00, 47.97it/s]\n",
      "100%|██████████| 29/29 [00:00<00:00, 48.91it/s]\n",
      "100%|██████████| 29/29 [00:00<00:00, 47.47it/s]\n",
      "100%|██████████| 29/29 [00:00<00:00, 48.46it/s]\n",
      "100%|██████████| 29/29 [00:00<00:00, 48.84it/s]\n",
      "100%|██████████| 29/29 [00:00<00:00, 46.84it/s]\n",
      "100%|██████████| 29/29 [00:00<00:00, 48.34it/s]\n",
      "100%|██████████| 29/29 [00:00<00:00, 48.91it/s]\n",
      "100%|██████████| 29/29 [00:00<00:00, 48.52it/s]\n"
     ]
    },
    {
     "name": "stdout",
     "output_type": "stream",
     "text": [
      "[[1, 0.6213908313908314]]\n"
     ]
    },
    {
     "name": "stderr",
     "output_type": "stream",
     "text": [
      " 14%|█▍        | 4/29 [00:00<00:00, 34.24it/s]"
     ]
    },
    {
     "name": "stdout",
     "output_type": "stream",
     "text": [
      "['uric acid', '5-hydroxynorvaline NIST']\n"
     ]
    },
    {
     "name": "stderr",
     "output_type": "stream",
     "text": [
      "100%|██████████| 29/29 [00:00<00:00, 50.60it/s]\n",
      "100%|██████████| 29/29 [00:00<00:00, 49.13it/s]\n",
      "100%|██████████| 29/29 [00:00<00:00, 47.89it/s]\n",
      "100%|██████████| 29/29 [00:00<00:00, 48.30it/s]\n",
      "100%|██████████| 29/29 [00:00<00:00, 48.16it/s]\n",
      "100%|██████████| 29/29 [00:00<00:00, 47.51it/s]\n",
      "100%|██████████| 29/29 [00:00<00:00, 47.61it/s]\n",
      "100%|██████████| 29/29 [00:00<00:00, 47.95it/s]\n",
      "100%|██████████| 29/29 [00:00<00:00, 46.44it/s]\n",
      "100%|██████████| 29/29 [00:00<00:00, 48.33it/s]\n"
     ]
    },
    {
     "name": "stdout",
     "output_type": "stream",
     "text": [
      "[[1, 0.6213908313908314], [2, 0.5226126651126651]]\n"
     ]
    },
    {
     "name": "stderr",
     "output_type": "stream",
     "text": [
      " 14%|█▍        | 4/29 [00:00<00:00, 33.86it/s]"
     ]
    },
    {
     "name": "stdout",
     "output_type": "stream",
     "text": [
      "['hypoxanthine', 'methionine sulfoxide', 'nornicotine']\n"
     ]
    },
    {
     "name": "stderr",
     "output_type": "stream",
     "text": [
      "100%|██████████| 29/29 [00:00<00:00, 49.69it/s]\n",
      "100%|██████████| 29/29 [00:00<00:00, 47.61it/s]\n",
      "100%|██████████| 29/29 [00:00<00:00, 48.08it/s]\n",
      "100%|██████████| 29/29 [00:00<00:00, 47.98it/s]\n",
      "100%|██████████| 29/29 [00:00<00:00, 47.70it/s]\n",
      "100%|██████████| 29/29 [00:00<00:00, 47.92it/s]\n",
      "100%|██████████| 29/29 [00:00<00:00, 47.59it/s]\n",
      "100%|██████████| 29/29 [00:00<00:00, 47.80it/s]\n",
      "100%|██████████| 29/29 [00:00<00:00, 46.19it/s]\n",
      "100%|██████████| 29/29 [00:00<00:00, 48.26it/s]\n"
     ]
    },
    {
     "name": "stdout",
     "output_type": "stream",
     "text": [
      "[[1, 0.6213908313908314], [2, 0.5226126651126651], [3, 0.778428515928516]]\n"
     ]
    },
    {
     "name": "stderr",
     "output_type": "stream",
     "text": [
      " 14%|█▍        | 4/29 [00:00<00:00, 33.91it/s]"
     ]
    },
    {
     "name": "stdout",
     "output_type": "stream",
     "text": [
      "['benzoic acid', 'tryptophan', 'uric acid', '5-hydroxynorvaline NIST']\n"
     ]
    },
    {
     "name": "stderr",
     "output_type": "stream",
     "text": [
      "100%|██████████| 29/29 [00:00<00:00, 50.01it/s]\n",
      "100%|██████████| 29/29 [00:00<00:00, 47.06it/s]\n",
      "100%|██████████| 29/29 [00:00<00:00, 46.44it/s]\n",
      "100%|██████████| 29/29 [00:00<00:00, 47.61it/s]\n",
      "100%|██████████| 29/29 [00:00<00:00, 47.64it/s]\n",
      "100%|██████████| 29/29 [00:00<00:00, 47.61it/s]\n",
      "100%|██████████| 29/29 [00:00<00:00, 46.10it/s]\n",
      "100%|██████████| 29/29 [00:00<00:00, 47.36it/s]\n",
      "100%|██████████| 29/29 [00:00<00:00, 46.51it/s]\n",
      "100%|██████████| 29/29 [00:00<00:00, 45.91it/s]\n"
     ]
    },
    {
     "name": "stdout",
     "output_type": "stream",
     "text": [
      "[[1, 0.6213908313908314], [2, 0.5226126651126651], [3, 0.778428515928516], [4, 0.6702088189588189]]\n"
     ]
    },
    {
     "name": "stderr",
     "output_type": "stream",
     "text": [
      " 14%|█▍        | 4/29 [00:00<00:00, 33.90it/s]"
     ]
    },
    {
     "name": "stdout",
     "output_type": "stream",
     "text": [
      "['benzoic acid', 'uric acid', '5-hydroxynorvaline NIST', 'hypoxanthine', 'methionine sulfoxide']\n"
     ]
    },
    {
     "name": "stderr",
     "output_type": "stream",
     "text": [
      "100%|██████████| 29/29 [00:00<00:00, 49.82it/s]\n",
      "100%|██████████| 29/29 [00:00<00:00, 47.23it/s]\n",
      "100%|██████████| 29/29 [00:00<00:00, 47.74it/s]\n",
      "100%|██████████| 29/29 [00:00<00:00, 47.76it/s]\n",
      "100%|██████████| 29/29 [00:00<00:00, 47.53it/s]\n",
      "100%|██████████| 29/29 [00:00<00:00, 47.61it/s]\n",
      "100%|██████████| 29/29 [00:00<00:00, 47.80it/s]\n",
      "100%|██████████| 29/29 [00:00<00:00, 46.41it/s]\n",
      "100%|██████████| 29/29 [00:00<00:00, 46.70it/s]\n",
      "100%|██████████| 29/29 [00:00<00:00, 47.26it/s]\n"
     ]
    },
    {
     "name": "stdout",
     "output_type": "stream",
     "text": [
      "[[1, 0.6213908313908314], [2, 0.5226126651126651], [3, 0.778428515928516], [4, 0.6702088189588189], [5, 0.773688811188811]]\n"
     ]
    },
    {
     "name": "stderr",
     "output_type": "stream",
     "text": [
      " 14%|█▍        | 4/29 [00:00<00:00, 33.85it/s]"
     ]
    },
    {
     "name": "stdout",
     "output_type": "stream",
     "text": [
      "['benzoic acid', 'tryptophan', 'uric acid', '5-hydroxynorvaline NIST', 'citrulline', 'hypoxanthine']\n"
     ]
    },
    {
     "name": "stderr",
     "output_type": "stream",
     "text": [
      "100%|██████████| 29/29 [00:00<00:00, 49.98it/s]\n",
      "100%|██████████| 29/29 [00:00<00:00, 46.91it/s]\n",
      "100%|██████████| 29/29 [00:00<00:00, 45.70it/s]\n",
      "100%|██████████| 29/29 [00:00<00:00, 47.58it/s]\n",
      "100%|██████████| 29/29 [00:00<00:00, 46.54it/s]\n",
      "100%|██████████| 29/29 [00:00<00:00, 47.58it/s]\n",
      "100%|██████████| 29/29 [00:00<00:00, 47.32it/s]\n",
      "100%|██████████| 29/29 [00:00<00:00, 47.35it/s]\n",
      "100%|██████████| 29/29 [00:00<00:00, 47.15it/s]\n",
      "100%|██████████| 29/29 [00:00<00:00, 46.35it/s]\n"
     ]
    },
    {
     "name": "stdout",
     "output_type": "stream",
     "text": [
      "[[1, 0.6213908313908314], [2, 0.5226126651126651], [3, 0.778428515928516], [4, 0.6702088189588189], [5, 0.773688811188811], [6, 0.7116783216783219]]\n"
     ]
    },
    {
     "name": "stderr",
     "output_type": "stream",
     "text": [
      " 14%|█▍        | 4/29 [00:00<00:00, 34.20it/s]"
     ]
    },
    {
     "name": "stdout",
     "output_type": "stream",
     "text": [
      "['5-hydroxynorvaline NIST', 'methionine sulfoxide', 'nornicotine', '5-methoxytryptamine', 'adenosine-5-monophosphate', 'aspartic acid', 'lactic acid']\n"
     ]
    },
    {
     "name": "stderr",
     "output_type": "stream",
     "text": [
      "100%|██████████| 29/29 [00:00<00:00, 49.80it/s]\n",
      "100%|██████████| 29/29 [00:00<00:00, 47.10it/s]\n",
      "100%|██████████| 29/29 [00:00<00:00, 46.68it/s]\n",
      "100%|██████████| 29/29 [00:00<00:00, 46.77it/s]\n",
      "100%|██████████| 29/29 [00:00<00:00, 46.72it/s]\n",
      "100%|██████████| 29/29 [00:00<00:00, 46.91it/s]\n",
      "100%|██████████| 29/29 [00:00<00:00, 47.37it/s]\n",
      "100%|██████████| 29/29 [00:00<00:00, 47.27it/s]\n",
      "100%|██████████| 29/29 [00:00<00:00, 47.52it/s]\n",
      "100%|██████████| 29/29 [00:00<00:00, 46.88it/s]\n"
     ]
    },
    {
     "name": "stdout",
     "output_type": "stream",
     "text": [
      "[[1, 0.6213908313908314], [2, 0.5226126651126651], [3, 0.778428515928516], [4, 0.6702088189588189], [5, 0.773688811188811], [6, 0.7116783216783219], [7, 0.7679535742035744]]\n"
     ]
    },
    {
     "name": "stderr",
     "output_type": "stream",
     "text": [
      " 14%|█▍        | 4/29 [00:00<00:00, 33.63it/s]"
     ]
    },
    {
     "name": "stdout",
     "output_type": "stream",
     "text": [
      "['benzoic acid', '5-hydroxynorvaline NIST', 'hypoxanthine', 'methionine sulfoxide', 'nornicotine', '3-phosphoglycerate', '5-methoxytryptamine', 'adenosine-5-monophosphate']\n"
     ]
    },
    {
     "name": "stderr",
     "output_type": "stream",
     "text": [
      "100%|██████████| 29/29 [00:00<00:00, 50.00it/s]\n",
      "100%|██████████| 29/29 [00:00<00:00, 47.08it/s]\n",
      "100%|██████████| 29/29 [00:00<00:00, 47.43it/s]\n",
      "100%|██████████| 29/29 [00:00<00:00, 46.87it/s]\n",
      "100%|██████████| 29/29 [00:00<00:00, 44.58it/s]\n",
      "100%|██████████| 29/29 [00:00<00:00, 45.74it/s]\n",
      "100%|██████████| 29/29 [00:00<00:00, 45.61it/s]\n",
      "100%|██████████| 29/29 [00:00<00:00, 45.11it/s]\n",
      "100%|██████████| 29/29 [00:00<00:00, 45.77it/s]\n",
      "100%|██████████| 29/29 [00:00<00:00, 46.80it/s]\n"
     ]
    },
    {
     "name": "stdout",
     "output_type": "stream",
     "text": [
      "[[1, 0.6213908313908314], [2, 0.5226126651126651], [3, 0.778428515928516], [4, 0.6702088189588189], [5, 0.773688811188811], [6, 0.7116783216783219], [7, 0.7679535742035744], [8, 0.7815802253302253]]\n"
     ]
    },
    {
     "name": "stderr",
     "output_type": "stream",
     "text": [
      " 14%|█▍        | 4/29 [00:00<00:00, 33.66it/s]"
     ]
    },
    {
     "name": "stdout",
     "output_type": "stream",
     "text": [
      "['benzoic acid', 'uric acid', '5-hydroxynorvaline NIST', 'alpha-ketoglutarate', 'citrulline', 'hypoxanthine', 'malic acid', 'methionine sulfoxide', 'nornicotine']\n"
     ]
    },
    {
     "name": "stderr",
     "output_type": "stream",
     "text": [
      "100%|██████████| 29/29 [00:00<00:00, 48.98it/s]\n",
      "100%|██████████| 29/29 [00:00<00:00, 46.70it/s]\n",
      "100%|██████████| 29/29 [00:00<00:00, 47.37it/s]\n",
      "100%|██████████| 29/29 [00:00<00:00, 46.25it/s]\n",
      "100%|██████████| 29/29 [00:00<00:00, 42.08it/s]\n",
      "100%|██████████| 29/29 [00:00<00:00, 44.27it/s]\n",
      "100%|██████████| 29/29 [00:00<00:00, 45.42it/s]\n",
      "100%|██████████| 29/29 [00:00<00:00, 45.50it/s]\n",
      "100%|██████████| 29/29 [00:00<00:00, 44.99it/s]\n",
      "100%|██████████| 29/29 [00:00<00:00, 44.03it/s]\n"
     ]
    },
    {
     "name": "stdout",
     "output_type": "stream",
     "text": [
      "[[1, 0.6213908313908314], [2, 0.5226126651126651], [3, 0.778428515928516], [4, 0.6702088189588189], [5, 0.773688811188811], [6, 0.7116783216783219], [7, 0.7679535742035744], [8, 0.7815802253302253], [9, 0.655662393162393]]\n"
     ]
    },
    {
     "name": "stderr",
     "output_type": "stream",
     "text": [
      " 10%|█         | 3/29 [00:00<00:00, 28.21it/s]"
     ]
    },
    {
     "name": "stdout",
     "output_type": "stream",
     "text": [
      "['5-hydroxynorvaline NIST', 'nornicotine', '3-phosphoglycerate', '5-methoxytryptamine', 'adenosine-5-monophosphate', 'aspartic acid', 'lactic acid', 'phenol', 'pyrophosphate', 'taurine']\n"
     ]
    },
    {
     "name": "stderr",
     "output_type": "stream",
     "text": [
      "100%|██████████| 29/29 [00:00<00:00, 47.40it/s]\n",
      "100%|██████████| 29/29 [00:00<00:00, 42.26it/s]\n",
      "100%|██████████| 29/29 [00:00<00:00, 47.14it/s]\n",
      "100%|██████████| 29/29 [00:00<00:00, 46.55it/s]\n",
      "100%|██████████| 29/29 [00:00<00:00, 46.80it/s]\n",
      "100%|██████████| 29/29 [00:00<00:00, 41.71it/s]\n",
      "100%|██████████| 29/29 [00:00<00:00, 43.04it/s]\n",
      "100%|██████████| 29/29 [00:00<00:00, 44.19it/s]\n",
      "100%|██████████| 29/29 [00:00<00:00, 46.30it/s]\n",
      "100%|██████████| 29/29 [00:00<00:00, 46.15it/s]\n"
     ]
    },
    {
     "name": "stdout",
     "output_type": "stream",
     "text": [
      "[[1, 0.6213908313908314], [2, 0.5226126651126651], [3, 0.778428515928516], [4, 0.6702088189588189], [5, 0.773688811188811], [6, 0.7116783216783219], [7, 0.7679535742035744], [8, 0.7815802253302253], [9, 0.655662393162393], [10, 0.7735188422688423]]\n"
     ]
    },
    {
     "name": "stderr",
     "output_type": "stream",
     "text": [
      " 14%|█▍        | 4/29 [00:00<00:00, 33.88it/s]"
     ]
    },
    {
     "name": "stdout",
     "output_type": "stream",
     "text": [
      "['5-hydroxynorvaline NIST', 'nornicotine', '3-phosphoglycerate', '5-methoxytryptamine', 'adenosine-5-monophosphate', 'aspartic acid', 'lactic acid', 'phenol', 'pyrophosphate', 'pyruvic acid', 'taurine']\n"
     ]
    },
    {
     "name": "stderr",
     "output_type": "stream",
     "text": [
      "100%|██████████| 29/29 [00:00<00:00, 49.21it/s]\n",
      "100%|██████████| 29/29 [00:00<00:00, 46.96it/s]\n",
      "100%|██████████| 29/29 [00:00<00:00, 46.77it/s]\n",
      "100%|██████████| 29/29 [00:00<00:00, 46.21it/s]\n",
      "100%|██████████| 29/29 [00:00<00:00, 46.31it/s]\n",
      "100%|██████████| 29/29 [00:00<00:00, 46.75it/s]\n",
      "100%|██████████| 29/29 [00:00<00:00, 46.11it/s]\n",
      "100%|██████████| 29/29 [00:00<00:00, 44.63it/s]\n",
      "100%|██████████| 29/29 [00:00<00:00, 44.20it/s]\n",
      "100%|██████████| 29/29 [00:00<00:00, 45.18it/s]\n"
     ]
    },
    {
     "name": "stdout",
     "output_type": "stream",
     "text": [
      "[[1, 0.6213908313908314], [2, 0.5226126651126651], [3, 0.778428515928516], [4, 0.6702088189588189], [5, 0.773688811188811], [6, 0.7116783216783219], [7, 0.7679535742035744], [8, 0.7815802253302253], [9, 0.655662393162393], [10, 0.7735188422688423], [11, 0.7443900543900542]]\n"
     ]
    },
    {
     "name": "stderr",
     "output_type": "stream",
     "text": [
      " 14%|█▍        | 4/29 [00:00<00:00, 33.65it/s]"
     ]
    },
    {
     "name": "stdout",
     "output_type": "stream",
     "text": [
      "['5-hydroxynorvaline NIST', 'methionine sulfoxide', 'nornicotine', '3-phosphoglycerate', '5-methoxytryptamine', 'adenosine-5-monophosphate', 'aspartic acid', 'lactic acid', 'maltose', 'phenol', 'pyrophosphate', 'taurine']\n"
     ]
    },
    {
     "name": "stderr",
     "output_type": "stream",
     "text": [
      "100%|██████████| 29/29 [00:00<00:00, 46.76it/s]\n",
      "100%|██████████| 29/29 [00:00<00:00, 44.84it/s]\n",
      "100%|██████████| 29/29 [00:00<00:00, 46.10it/s]\n",
      "100%|██████████| 29/29 [00:00<00:00, 46.03it/s]\n",
      "100%|██████████| 29/29 [00:00<00:00, 44.21it/s]\n",
      "100%|██████████| 29/29 [00:00<00:00, 44.41it/s]\n",
      "100%|██████████| 29/29 [00:00<00:00, 44.48it/s]\n",
      "100%|██████████| 29/29 [00:00<00:00, 43.98it/s]\n",
      "100%|██████████| 29/29 [00:00<00:00, 46.02it/s]\n",
      "100%|██████████| 29/29 [00:00<00:00, 46.81it/s]\n"
     ]
    },
    {
     "name": "stdout",
     "output_type": "stream",
     "text": [
      "[[1, 0.6213908313908314], [2, 0.5226126651126651], [3, 0.778428515928516], [4, 0.6702088189588189], [5, 0.773688811188811], [6, 0.7116783216783219], [7, 0.7679535742035744], [8, 0.7815802253302253], [9, 0.655662393162393], [10, 0.7735188422688423], [11, 0.7443900543900542], [12, 0.7864986402486402]]\n"
     ]
    },
    {
     "name": "stderr",
     "output_type": "stream",
     "text": [
      " 10%|█         | 3/29 [00:00<00:00, 29.75it/s]"
     ]
    },
    {
     "name": "stdout",
     "output_type": "stream",
     "text": [
      "['asparagine', 'benzoic acid', 'tryptophan', 'uric acid', '5-hydroxynorvaline NIST', 'alpha-ketoglutarate', 'citrulline', 'glutamine', 'hypoxanthine', 'malic acid', 'methionine sulfoxide', 'nornicotine', 'octadecanol']\n"
     ]
    },
    {
     "name": "stderr",
     "output_type": "stream",
     "text": [
      "100%|██████████| 29/29 [00:00<00:00, 48.35it/s]\n",
      "100%|██████████| 29/29 [00:00<00:00, 46.39it/s]\n",
      "100%|██████████| 29/29 [00:00<00:00, 44.90it/s]\n",
      "100%|██████████| 29/29 [00:00<00:00, 40.11it/s]\n",
      "100%|██████████| 29/29 [00:00<00:00, 45.60it/s]\n",
      "100%|██████████| 29/29 [00:00<00:00, 40.84it/s]\n",
      "100%|██████████| 29/29 [00:00<00:00, 46.26it/s]\n",
      "100%|██████████| 29/29 [00:00<00:00, 46.92it/s]\n",
      "100%|██████████| 29/29 [00:00<00:00, 47.08it/s]\n",
      "100%|██████████| 29/29 [00:00<00:00, 46.68it/s]\n"
     ]
    },
    {
     "name": "stdout",
     "output_type": "stream",
     "text": [
      "[[1, 0.6213908313908314], [2, 0.5226126651126651], [3, 0.778428515928516], [4, 0.6702088189588189], [5, 0.773688811188811], [6, 0.7116783216783219], [7, 0.7679535742035744], [8, 0.7815802253302253], [9, 0.655662393162393], [10, 0.7735188422688423], [11, 0.7443900543900542], [12, 0.7864986402486402], [13, 0.6656954156954156]]\n"
     ]
    },
    {
     "name": "stderr",
     "output_type": "stream",
     "text": [
      " 10%|█         | 3/29 [00:00<00:00, 29.33it/s]"
     ]
    },
    {
     "name": "stdout",
     "output_type": "stream",
     "text": [
      "['asparagine', 'benzoic acid', 'tryptophan', 'uric acid', '5-hydroxynorvaline NIST', 'alpha-ketoglutarate', 'citrulline', 'glutamine', 'hypoxanthine', 'malic acid', 'methionine sulfoxide', 'nornicotine', 'octadecanol', '3-phosphoglycerate']\n"
     ]
    },
    {
     "name": "stderr",
     "output_type": "stream",
     "text": [
      "100%|██████████| 29/29 [00:00<00:00, 47.67it/s]\n",
      "100%|██████████| 29/29 [00:00<00:00, 46.50it/s]\n",
      "100%|██████████| 29/29 [00:00<00:00, 45.24it/s]\n",
      "100%|██████████| 29/29 [00:00<00:00, 42.70it/s]\n",
      "100%|██████████| 29/29 [00:00<00:00, 45.93it/s]\n",
      "100%|██████████| 29/29 [00:00<00:00, 44.68it/s]\n",
      "100%|██████████| 29/29 [00:00<00:00, 43.50it/s]\n",
      "100%|██████████| 29/29 [00:00<00:00, 46.04it/s]\n",
      "100%|██████████| 29/29 [00:00<00:00, 45.78it/s]\n",
      "100%|██████████| 29/29 [00:00<00:00, 46.49it/s]\n"
     ]
    },
    {
     "name": "stdout",
     "output_type": "stream",
     "text": [
      "[[1, 0.6213908313908314], [2, 0.5226126651126651], [3, 0.778428515928516], [4, 0.6702088189588189], [5, 0.773688811188811], [6, 0.7116783216783219], [7, 0.7679535742035744], [8, 0.7815802253302253], [9, 0.655662393162393], [10, 0.7735188422688423], [11, 0.7443900543900542], [12, 0.7864986402486402], [13, 0.6656954156954156], [14, 0.6526078088578089]]\n"
     ]
    },
    {
     "name": "stderr",
     "output_type": "stream",
     "text": [
      " 14%|█▍        | 4/29 [00:00<00:00, 32.79it/s]"
     ]
    },
    {
     "name": "stdout",
     "output_type": "stream",
     "text": [
      "['5-hydroxynorvaline NIST', 'hypoxanthine', 'methionine sulfoxide', 'nornicotine', '3-phosphoglycerate', '5-methoxytryptamine', 'adenosine-5-monophosphate', 'aspartic acid', 'lactic acid', 'maltose', 'phenol', 'phosphoethanolamine', 'pyrophosphate', 'pyruvic acid', 'taurine']\n"
     ]
    },
    {
     "name": "stderr",
     "output_type": "stream",
     "text": [
      "100%|██████████| 29/29 [00:00<00:00, 48.34it/s]\n",
      "100%|██████████| 29/29 [00:00<00:00, 45.53it/s]\n",
      "100%|██████████| 29/29 [00:00<00:00, 46.14it/s]\n",
      "100%|██████████| 29/29 [00:00<00:00, 45.93it/s]\n",
      "100%|██████████| 29/29 [00:00<00:00, 46.49it/s]\n",
      "100%|██████████| 29/29 [00:00<00:00, 47.22it/s]\n",
      "100%|██████████| 29/29 [00:00<00:00, 45.98it/s]\n",
      "100%|██████████| 29/29 [00:00<00:00, 46.68it/s]\n",
      "100%|██████████| 29/29 [00:00<00:00, 45.86it/s]\n",
      "100%|██████████| 29/29 [00:00<00:00, 45.45it/s]\n"
     ]
    },
    {
     "name": "stdout",
     "output_type": "stream",
     "text": [
      "[[1, 0.6213908313908314], [2, 0.5226126651126651], [3, 0.778428515928516], [4, 0.6702088189588189], [5, 0.773688811188811], [6, 0.7116783216783219], [7, 0.7679535742035744], [8, 0.7815802253302253], [9, 0.655662393162393], [10, 0.7735188422688423], [11, 0.7443900543900542], [12, 0.7864986402486402], [13, 0.6656954156954156], [14, 0.6526078088578089], [15, 0.7844055944055944]]\n"
     ]
    },
    {
     "name": "stderr",
     "output_type": "stream",
     "text": [
      " 10%|█         | 3/29 [00:00<00:00, 28.66it/s]"
     ]
    },
    {
     "name": "stdout",
     "output_type": "stream",
     "text": [
      "['asparagine', 'benzoic acid', 'tryptophan', 'uric acid', '5-hydroxynorvaline NIST', 'alpha-ketoglutarate', 'citrulline', 'glutamine', 'hypoxanthine', 'malic acid', 'methionine sulfoxide', 'nornicotine', 'octadecanol', '3-phosphoglycerate', '5-methoxytryptamine', 'adenosine-5-monophosphate']\n"
     ]
    },
    {
     "name": "stderr",
     "output_type": "stream",
     "text": [
      "100%|██████████| 29/29 [00:00<00:00, 46.12it/s]\n",
      "100%|██████████| 29/29 [00:00<00:00, 44.76it/s]\n",
      "100%|██████████| 29/29 [00:00<00:00, 46.70it/s]\n",
      "100%|██████████| 29/29 [00:00<00:00, 44.55it/s]\n",
      "100%|██████████| 29/29 [00:00<00:00, 45.88it/s]\n",
      "100%|██████████| 29/29 [00:00<00:00, 44.14it/s]\n",
      "100%|██████████| 29/29 [00:00<00:00, 45.09it/s]\n",
      "100%|██████████| 29/29 [00:00<00:00, 46.39it/s]\n",
      "100%|██████████| 29/29 [00:00<00:00, 45.76it/s]\n",
      "100%|██████████| 29/29 [00:00<00:00, 46.23it/s]\n"
     ]
    },
    {
     "name": "stdout",
     "output_type": "stream",
     "text": [
      "[[1, 0.6213908313908314], [2, 0.5226126651126651], [3, 0.778428515928516], [4, 0.6702088189588189], [5, 0.773688811188811], [6, 0.7116783216783219], [7, 0.7679535742035744], [8, 0.7815802253302253], [9, 0.655662393162393], [10, 0.7735188422688423], [11, 0.7443900543900542], [12, 0.7864986402486402], [13, 0.6656954156954156], [14, 0.6526078088578089], [15, 0.7844055944055944], [16, 0.7674611499611499]]\n"
     ]
    },
    {
     "name": "stderr",
     "output_type": "stream",
     "text": [
      " 10%|█         | 3/29 [00:00<00:00, 28.42it/s]"
     ]
    },
    {
     "name": "stdout",
     "output_type": "stream",
     "text": [
      "['benzoic acid', 'tryptophan', 'uric acid', '5-hydroxynorvaline NIST', 'alpha-ketoglutarate', 'glutamine', 'hypoxanthine', 'malic acid', 'methionine sulfoxide', 'nornicotine', '3-phosphoglycerate', '5-methoxytryptamine', 'adenosine-5-monophosphate', 'aspartic acid', 'lactic acid', 'maltose', 'phenol']\n"
     ]
    },
    {
     "name": "stderr",
     "output_type": "stream",
     "text": [
      "100%|██████████| 29/29 [00:00<00:00, 46.43it/s]\n",
      "100%|██████████| 29/29 [00:00<00:00, 44.05it/s]\n",
      "100%|██████████| 29/29 [00:00<00:00, 45.36it/s]\n",
      "100%|██████████| 29/29 [00:00<00:00, 43.52it/s]\n",
      "100%|██████████| 29/29 [00:00<00:00, 46.32it/s]\n",
      "100%|██████████| 29/29 [00:00<00:00, 46.14it/s]\n",
      "100%|██████████| 29/29 [00:00<00:00, 46.30it/s]\n",
      "100%|██████████| 29/29 [00:00<00:00, 45.96it/s]\n",
      "100%|██████████| 29/29 [00:00<00:00, 46.25it/s]\n",
      "100%|██████████| 29/29 [00:00<00:00, 45.82it/s]\n"
     ]
    },
    {
     "name": "stdout",
     "output_type": "stream",
     "text": [
      "[[1, 0.6213908313908314], [2, 0.5226126651126651], [3, 0.778428515928516], [4, 0.6702088189588189], [5, 0.773688811188811], [6, 0.7116783216783219], [7, 0.7679535742035744], [8, 0.7815802253302253], [9, 0.655662393162393], [10, 0.7735188422688423], [11, 0.7443900543900542], [12, 0.7864986402486402], [13, 0.6656954156954156], [14, 0.6526078088578089], [15, 0.7844055944055944], [16, 0.7674611499611499], [17, 0.7633197358197359]]\n"
     ]
    },
    {
     "name": "stderr",
     "output_type": "stream",
     "text": [
      " 10%|█         | 3/29 [00:00<00:00, 29.71it/s]"
     ]
    },
    {
     "name": "stdout",
     "output_type": "stream",
     "text": [
      "['benzoic acid', 'tryptophan', 'uric acid', '5-hydroxynorvaline NIST', 'alpha-ketoglutarate', 'hypoxanthine', 'malic acid', 'methionine sulfoxide', 'nornicotine', '3-phosphoglycerate', '5-methoxytryptamine', 'adenosine-5-monophosphate', 'aspartic acid', 'lactic acid', 'maltose', 'maltotriose', 'phenol', 'phosphoethanolamine']\n"
     ]
    },
    {
     "name": "stderr",
     "output_type": "stream",
     "text": [
      "100%|██████████| 29/29 [00:00<00:00, 47.65it/s]\n",
      "100%|██████████| 29/29 [00:00<00:00, 46.48it/s]\n",
      "100%|██████████| 29/29 [00:00<00:00, 45.61it/s]\n",
      "100%|██████████| 29/29 [00:00<00:00, 44.18it/s]\n",
      "100%|██████████| 29/29 [00:00<00:00, 46.06it/s]\n",
      "100%|██████████| 29/29 [00:00<00:00, 46.17it/s]\n",
      "100%|██████████| 29/29 [00:00<00:00, 42.27it/s]\n",
      "100%|██████████| 29/29 [00:00<00:00, 46.34it/s]\n",
      "100%|██████████| 29/29 [00:00<00:00, 45.76it/s]\n",
      "100%|██████████| 29/29 [00:00<00:00, 45.86it/s]\n"
     ]
    },
    {
     "name": "stdout",
     "output_type": "stream",
     "text": [
      "[[1, 0.6213908313908314], [2, 0.5226126651126651], [3, 0.778428515928516], [4, 0.6702088189588189], [5, 0.773688811188811], [6, 0.7116783216783219], [7, 0.7679535742035744], [8, 0.7815802253302253], [9, 0.655662393162393], [10, 0.7735188422688423], [11, 0.7443900543900542], [12, 0.7864986402486402], [13, 0.6656954156954156], [14, 0.6526078088578089], [15, 0.7844055944055944], [16, 0.7674611499611499], [17, 0.7633197358197359], [18, 0.7079487179487179]]\n"
     ]
    },
    {
     "name": "stderr",
     "output_type": "stream",
     "text": [
      " 10%|█         | 3/29 [00:00<00:00, 28.64it/s]"
     ]
    },
    {
     "name": "stdout",
     "output_type": "stream",
     "text": [
      "['asparagine', 'benzoic acid', 'tryptophan', 'uric acid', '5-hydroxynorvaline NIST', 'alpha-ketoglutarate', 'citrulline', 'glutamine', 'hypoxanthine', 'malic acid', 'methionine sulfoxide', 'nornicotine', 'octadecanol', '3-phosphoglycerate', '5-methoxytryptamine', 'adenosine-5-monophosphate', 'aspartic acid', 'lactic acid', 'maltose']\n"
     ]
    },
    {
     "name": "stderr",
     "output_type": "stream",
     "text": [
      "100%|██████████| 29/29 [00:00<00:00, 47.91it/s]\n",
      "100%|██████████| 29/29 [00:00<00:00, 45.79it/s]\n",
      "100%|██████████| 29/29 [00:00<00:00, 45.74it/s]\n",
      "100%|██████████| 29/29 [00:00<00:00, 45.84it/s]\n",
      "100%|██████████| 29/29 [00:00<00:00, 46.38it/s]\n",
      "100%|██████████| 29/29 [00:00<00:00, 45.04it/s]\n",
      "100%|██████████| 29/29 [00:00<00:00, 46.00it/s]\n",
      "100%|██████████| 29/29 [00:00<00:00, 44.30it/s]\n",
      "100%|██████████| 29/29 [00:00<00:00, 45.67it/s]\n",
      "100%|██████████| 29/29 [00:00<00:00, 45.85it/s]\n"
     ]
    },
    {
     "name": "stdout",
     "output_type": "stream",
     "text": [
      "[[1, 0.6213908313908314], [2, 0.5226126651126651], [3, 0.778428515928516], [4, 0.6702088189588189], [5, 0.773688811188811], [6, 0.7116783216783219], [7, 0.7679535742035744], [8, 0.7815802253302253], [9, 0.655662393162393], [10, 0.7735188422688423], [11, 0.7443900543900542], [12, 0.7864986402486402], [13, 0.6656954156954156], [14, 0.6526078088578089], [15, 0.7844055944055944], [16, 0.7674611499611499], [17, 0.7633197358197359], [18, 0.7079487179487179], [19, 0.758180846930847]]\n"
     ]
    },
    {
     "name": "stderr",
     "output_type": "stream",
     "text": [
      " 10%|█         | 3/29 [00:00<00:00, 29.44it/s]"
     ]
    },
    {
     "name": "stdout",
     "output_type": "stream",
     "text": [
      "['benzoic acid', 'uric acid', '5-hydroxynorvaline NIST', 'alpha-ketoglutarate', 'glutamine', 'hypoxanthine', 'malic acid', 'methionine sulfoxide', 'nornicotine', '3-phosphoglycerate', '5-methoxytryptamine', 'adenosine-5-monophosphate', 'aspartic acid', 'lactic acid', 'maltose', 'phenol', 'phosphoethanolamine', 'pyrophosphate', 'pyruvic acid', 'taurine']\n"
     ]
    },
    {
     "name": "stderr",
     "output_type": "stream",
     "text": [
      "100%|██████████| 29/29 [00:00<00:00, 47.70it/s]\n",
      "100%|██████████| 29/29 [00:00<00:00, 46.08it/s]\n",
      "100%|██████████| 29/29 [00:00<00:00, 46.59it/s]\n",
      "100%|██████████| 29/29 [00:00<00:00, 44.79it/s]\n",
      "100%|██████████| 29/29 [00:00<00:00, 44.89it/s]\n",
      "100%|██████████| 29/29 [00:00<00:00, 46.28it/s]\n",
      "100%|██████████| 29/29 [00:00<00:00, 45.66it/s]\n",
      "100%|██████████| 29/29 [00:00<00:00, 45.98it/s]\n",
      "100%|██████████| 29/29 [00:00<00:00, 45.58it/s]\n",
      "100%|██████████| 29/29 [00:00<00:00, 44.73it/s]\n"
     ]
    },
    {
     "name": "stdout",
     "output_type": "stream",
     "text": [
      "[[1, 0.6213908313908314], [2, 0.5226126651126651], [3, 0.778428515928516], [4, 0.6702088189588189], [5, 0.773688811188811], [6, 0.7116783216783219], [7, 0.7679535742035744], [8, 0.7815802253302253], [9, 0.655662393162393], [10, 0.7735188422688423], [11, 0.7443900543900542], [12, 0.7864986402486402], [13, 0.6656954156954156], [14, 0.6526078088578089], [15, 0.7844055944055944], [16, 0.7674611499611499], [17, 0.7633197358197359], [18, 0.7079487179487179], [19, 0.758180846930847], [20, 0.7506934731934732]]\n"
     ]
    },
    {
     "name": "stderr",
     "output_type": "stream",
     "text": [
      " 10%|█         | 3/29 [00:00<00:00, 28.64it/s]"
     ]
    },
    {
     "name": "stdout",
     "output_type": "stream",
     "text": [
      "['asparagine', 'benzoic acid', 'tryptophan', 'uric acid', '5-hydroxynorvaline NIST', 'alpha-ketoglutarate', 'citrulline', 'glutamine', 'hypoxanthine', 'malic acid', 'methionine sulfoxide', 'nornicotine', 'octadecanol', '3-phosphoglycerate', '5-methoxytryptamine', 'adenosine-5-monophosphate', 'aspartic acid', 'lactic acid', 'maltose', 'maltotriose', 'N-methylalanine']\n"
     ]
    },
    {
     "name": "stderr",
     "output_type": "stream",
     "text": [
      "100%|██████████| 29/29 [00:00<00:00, 47.19it/s]\n",
      "100%|██████████| 29/29 [00:00<00:00, 45.14it/s]\n",
      "100%|██████████| 29/29 [00:00<00:00, 44.96it/s]\n",
      "100%|██████████| 29/29 [00:00<00:00, 44.21it/s]\n",
      "100%|██████████| 29/29 [00:00<00:00, 43.83it/s]\n",
      "100%|██████████| 29/29 [00:00<00:00, 44.31it/s]\n",
      "100%|██████████| 29/29 [00:00<00:00, 44.69it/s]\n",
      "100%|██████████| 29/29 [00:00<00:00, 45.32it/s]\n",
      "100%|██████████| 29/29 [00:00<00:00, 45.70it/s]\n",
      "100%|██████████| 29/29 [00:00<00:00, 45.57it/s]\n"
     ]
    },
    {
     "name": "stdout",
     "output_type": "stream",
     "text": [
      "[[1, 0.6213908313908314], [2, 0.5226126651126651], [3, 0.778428515928516], [4, 0.6702088189588189], [5, 0.773688811188811], [6, 0.7116783216783219], [7, 0.7679535742035744], [8, 0.7815802253302253], [9, 0.655662393162393], [10, 0.7735188422688423], [11, 0.7443900543900542], [12, 0.7864986402486402], [13, 0.6656954156954156], [14, 0.6526078088578089], [15, 0.7844055944055944], [16, 0.7674611499611499], [17, 0.7633197358197359], [18, 0.7079487179487179], [19, 0.758180846930847], [20, 0.7506934731934732], [21, 0.7477010489510489]]\n"
     ]
    },
    {
     "name": "stderr",
     "output_type": "stream",
     "text": [
      " 10%|█         | 3/29 [00:00<00:00, 28.24it/s]"
     ]
    },
    {
     "name": "stdout",
     "output_type": "stream",
     "text": [
      "['benzoic acid', 'uric acid', '5-hydroxynorvaline NIST', 'alpha-ketoglutarate', 'citrulline', 'glutamine', 'hypoxanthine', 'malic acid', 'methionine sulfoxide', 'nornicotine', '3-phosphoglycerate', '5-methoxytryptamine', 'adenosine-5-monophosphate', 'aspartic acid', 'lactic acid', 'maltose', 'maltotriose', 'phenol', 'phosphoethanolamine', 'pyrophosphate', 'pyruvic acid', 'taurine']\n"
     ]
    },
    {
     "name": "stderr",
     "output_type": "stream",
     "text": [
      "100%|██████████| 29/29 [00:00<00:00, 47.73it/s]\n",
      "100%|██████████| 29/29 [00:00<00:00, 45.95it/s]\n",
      "100%|██████████| 29/29 [00:00<00:00, 45.95it/s]\n",
      "100%|██████████| 29/29 [00:00<00:00, 45.39it/s]\n",
      "100%|██████████| 29/29 [00:00<00:00, 46.03it/s]\n",
      "100%|██████████| 29/29 [00:00<00:00, 45.94it/s]\n",
      "100%|██████████| 29/29 [00:00<00:00, 44.54it/s]\n",
      "100%|██████████| 29/29 [00:00<00:00, 44.03it/s]\n",
      "100%|██████████| 29/29 [00:00<00:00, 46.37it/s]\n",
      "100%|██████████| 29/29 [00:00<00:00, 46.18it/s]\n"
     ]
    },
    {
     "name": "stdout",
     "output_type": "stream",
     "text": [
      "[[1, 0.6213908313908314], [2, 0.5226126651126651], [3, 0.778428515928516], [4, 0.6702088189588189], [5, 0.773688811188811], [6, 0.7116783216783219], [7, 0.7679535742035744], [8, 0.7815802253302253], [9, 0.655662393162393], [10, 0.7735188422688423], [11, 0.7443900543900542], [12, 0.7864986402486402], [13, 0.6656954156954156], [14, 0.6526078088578089], [15, 0.7844055944055944], [16, 0.7674611499611499], [17, 0.7633197358197359], [18, 0.7079487179487179], [19, 0.758180846930847], [20, 0.7506934731934732], [21, 0.7477010489510489], [22, 0.7409178321678322]]\n"
     ]
    },
    {
     "name": "stderr",
     "output_type": "stream",
     "text": [
      " 10%|█         | 3/29 [00:00<00:00, 29.13it/s]"
     ]
    },
    {
     "name": "stdout",
     "output_type": "stream",
     "text": [
      "['asparagine', 'benzoic acid', 'tryptophan', 'uric acid', '5-hydroxynorvaline NIST', 'alpha-ketoglutarate', 'citrulline', 'glutamine', 'hypoxanthine', 'malic acid', 'methionine sulfoxide', 'nornicotine', 'octadecanol', '3-phosphoglycerate', '5-methoxytryptamine', 'adenosine-5-monophosphate', 'aspartic acid', 'lactic acid', 'maltose', 'maltotriose', 'N-methylalanine', 'phenol', 'phosphoethanolamine']\n"
     ]
    },
    {
     "name": "stderr",
     "output_type": "stream",
     "text": [
      "100%|██████████| 29/29 [00:00<00:00, 47.84it/s]\n",
      "100%|██████████| 29/29 [00:00<00:00, 45.20it/s]\n",
      "100%|██████████| 29/29 [00:00<00:00, 45.74it/s]\n",
      "100%|██████████| 29/29 [00:00<00:00, 46.10it/s]\n",
      "100%|██████████| 29/29 [00:00<00:00, 46.02it/s]\n",
      "100%|██████████| 29/29 [00:00<00:00, 45.31it/s]\n",
      "100%|██████████| 29/29 [00:00<00:00, 44.34it/s]\n",
      "100%|██████████| 29/29 [00:00<00:00, 45.25it/s]\n",
      "100%|██████████| 29/29 [00:00<00:00, 43.94it/s]\n",
      "100%|██████████| 29/29 [00:00<00:00, 45.60it/s]\n"
     ]
    },
    {
     "name": "stdout",
     "output_type": "stream",
     "text": [
      "[[1, 0.6213908313908314], [2, 0.5226126651126651], [3, 0.778428515928516], [4, 0.6702088189588189], [5, 0.773688811188811], [6, 0.7116783216783219], [7, 0.7679535742035744], [8, 0.7815802253302253], [9, 0.655662393162393], [10, 0.7735188422688423], [11, 0.7443900543900542], [12, 0.7864986402486402], [13, 0.6656954156954156], [14, 0.6526078088578089], [15, 0.7844055944055944], [16, 0.7674611499611499], [17, 0.7633197358197359], [18, 0.7079487179487179], [19, 0.758180846930847], [20, 0.7506934731934732], [21, 0.7477010489510489], [22, 0.7409178321678322], [23, 0.7107944832944834]]\n"
     ]
    },
    {
     "name": "stderr",
     "output_type": "stream",
     "text": [
      " 10%|█         | 3/29 [00:00<00:00, 29.40it/s]"
     ]
    },
    {
     "name": "stdout",
     "output_type": "stream",
     "text": [
      "['asparagine', 'benzoic acid', 'uric acid', '5-hydroxynorvaline NIST', 'alpha-ketoglutarate', 'citrulline', 'glutamine', 'hypoxanthine', 'malic acid', 'methionine sulfoxide', 'nornicotine', 'octadecanol', '3-phosphoglycerate', '5-methoxytryptamine', 'adenosine-5-monophosphate', 'aspartic acid', 'lactic acid', 'maltose', 'N-methylalanine', 'phenol', 'phosphoethanolamine', 'pyrophosphate', 'pyruvic acid', 'taurine']\n"
     ]
    },
    {
     "name": "stderr",
     "output_type": "stream",
     "text": [
      "100%|██████████| 29/29 [00:00<00:00, 48.19it/s]\n",
      "100%|██████████| 29/29 [00:00<00:00, 46.17it/s]\n",
      "100%|██████████| 29/29 [00:00<00:00, 46.25it/s]\n",
      "100%|██████████| 29/29 [00:00<00:00, 45.46it/s]\n",
      "100%|██████████| 29/29 [00:00<00:00, 45.67it/s]\n",
      "100%|██████████| 29/29 [00:00<00:00, 45.96it/s]\n",
      "100%|██████████| 29/29 [00:00<00:00, 45.60it/s]\n",
      "100%|██████████| 29/29 [00:00<00:00, 45.50it/s]\n",
      "100%|██████████| 29/29 [00:00<00:00, 45.81it/s]\n",
      "100%|██████████| 29/29 [00:00<00:00, 42.70it/s]\n"
     ]
    },
    {
     "name": "stdout",
     "output_type": "stream",
     "text": [
      "[[1, 0.6213908313908314], [2, 0.5226126651126651], [3, 0.778428515928516], [4, 0.6702088189588189], [5, 0.773688811188811], [6, 0.7116783216783219], [7, 0.7679535742035744], [8, 0.7815802253302253], [9, 0.655662393162393], [10, 0.7735188422688423], [11, 0.7443900543900542], [12, 0.7864986402486402], [13, 0.6656954156954156], [14, 0.6526078088578089], [15, 0.7844055944055944], [16, 0.7674611499611499], [17, 0.7633197358197359], [18, 0.7079487179487179], [19, 0.758180846930847], [20, 0.7506934731934732], [21, 0.7477010489510489], [22, 0.7409178321678322], [23, 0.7107944832944834], [24, 0.726965811965812]]\n"
     ]
    },
    {
     "name": "stderr",
     "output_type": "stream",
     "text": [
      "  7%|▋         | 2/29 [00:00<00:01, 16.26it/s]"
     ]
    },
    {
     "name": "stdout",
     "output_type": "stream",
     "text": [
      "['asparagine', 'benzoic acid', 'tryptophan', 'uric acid', '5-hydroxynorvaline NIST', 'alpha-ketoglutarate', 'citrulline', 'glutamine', 'hypoxanthine', 'malic acid', 'methionine sulfoxide', 'nornicotine', 'octadecanol', '3-phosphoglycerate', '5-methoxytryptamine', 'adenosine-5-monophosphate', 'aspartic acid', 'lactic acid', 'maltose', 'maltotriose', 'N-methylalanine', 'phenol', 'phosphoethanolamine', 'pyrophosphate', 'pyruvic acid']\n"
     ]
    },
    {
     "name": "stderr",
     "output_type": "stream",
     "text": [
      "100%|██████████| 29/29 [00:00<00:00, 42.46it/s]\n",
      "100%|██████████| 29/29 [00:00<00:00, 45.31it/s]\n",
      "100%|██████████| 29/29 [00:00<00:00, 45.45it/s]\n",
      "100%|██████████| 29/29 [00:00<00:00, 45.49it/s]\n",
      "100%|██████████| 29/29 [00:00<00:00, 45.10it/s]\n",
      "100%|██████████| 29/29 [00:00<00:00, 45.54it/s]\n",
      "100%|██████████| 29/29 [00:00<00:00, 46.01it/s]\n",
      "100%|██████████| 29/29 [00:00<00:00, 46.65it/s]\n",
      "100%|██████████| 29/29 [00:00<00:00, 46.37it/s]\n",
      "100%|██████████| 29/29 [00:00<00:00, 46.80it/s]\n"
     ]
    },
    {
     "name": "stdout",
     "output_type": "stream",
     "text": [
      "[[1, 0.6213908313908314], [2, 0.5226126651126651], [3, 0.778428515928516], [4, 0.6702088189588189], [5, 0.773688811188811], [6, 0.7116783216783219], [7, 0.7679535742035744], [8, 0.7815802253302253], [9, 0.655662393162393], [10, 0.7735188422688423], [11, 0.7443900543900542], [12, 0.7864986402486402], [13, 0.6656954156954156], [14, 0.6526078088578089], [15, 0.7844055944055944], [16, 0.7674611499611499], [17, 0.7633197358197359], [18, 0.7079487179487179], [19, 0.758180846930847], [20, 0.7506934731934732], [21, 0.7477010489510489], [22, 0.7409178321678322], [23, 0.7107944832944834], [24, 0.726965811965812], [25, 0.722221250971251]]\n"
     ]
    },
    {
     "name": "stderr",
     "output_type": "stream",
     "text": [
      " 10%|█         | 3/29 [00:00<00:00, 27.90it/s]"
     ]
    },
    {
     "name": "stdout",
     "output_type": "stream",
     "text": [
      "['asparagine', 'benzoic acid', 'tryptophan', 'uric acid', '5-hydroxynorvaline NIST', 'alpha-ketoglutarate', 'citrulline', 'glutamine', 'hypoxanthine', 'malic acid', 'methionine sulfoxide', 'nornicotine', 'octadecanol', '3-phosphoglycerate', '5-methoxytryptamine', 'adenosine-5-monophosphate', 'aspartic acid', 'lactic acid', 'maltose', 'maltotriose', 'N-methylalanine', 'phenol', 'phosphoethanolamine', 'pyrophosphate', 'pyruvic acid', 'taurine']\n"
     ]
    },
    {
     "name": "stderr",
     "output_type": "stream",
     "text": [
      "100%|██████████| 29/29 [00:00<00:00, 48.19it/s]\n",
      "100%|██████████| 29/29 [00:00<00:00, 46.30it/s]\n",
      "100%|██████████| 29/29 [00:00<00:00, 47.31it/s]\n",
      "100%|██████████| 29/29 [00:00<00:00, 43.25it/s]\n",
      "100%|██████████| 29/29 [00:00<00:00, 43.55it/s]\n",
      "100%|██████████| 29/29 [00:00<00:00, 45.03it/s]\n",
      "100%|██████████| 29/29 [00:00<00:00, 44.85it/s]\n",
      "100%|██████████| 29/29 [00:00<00:00, 45.34it/s]\n",
      "100%|██████████| 29/29 [00:00<00:00, 44.85it/s]\n",
      "100%|██████████| 29/29 [00:00<00:00, 45.19it/s]\n"
     ]
    },
    {
     "name": "stdout",
     "output_type": "stream",
     "text": [
      "[[1, 0.6213908313908314], [2, 0.5226126651126651], [3, 0.778428515928516], [4, 0.6702088189588189], [5, 0.773688811188811], [6, 0.7116783216783219], [7, 0.7679535742035744], [8, 0.7815802253302253], [9, 0.655662393162393], [10, 0.7735188422688423], [11, 0.7443900543900542], [12, 0.7864986402486402], [13, 0.6656954156954156], [14, 0.6526078088578089], [15, 0.7844055944055944], [16, 0.7674611499611499], [17, 0.7633197358197359], [18, 0.7079487179487179], [19, 0.758180846930847], [20, 0.7506934731934732], [21, 0.7477010489510489], [22, 0.7409178321678322], [23, 0.7107944832944834], [24, 0.726965811965812], [25, 0.722221250971251], [26, 0.752786519036519]]\n"
     ]
    },
    {
     "data": {
      "image/png": "[encoded data removed]",
      "text/plain": [
       "<Figure size 432x288 with 1 Axes>"
      ]
     },
     "metadata": {
      "needs_background": "light"
     },
     "output_type": "display_data"
    }
   ],
   "source": [
    "accuracy2(plasma, 'DecisionTreeClassifier')"
   ]
  },
  {
   "cell_type": "markdown",
   "metadata": {},
   "source": [
    "### NB"
   ]
  },
  {
   "cell_type": "code",
   "execution_count": 33,
   "metadata": {},
   "outputs": [
    {
     "name": "stderr",
     "output_type": "stream",
     "text": [
      " 14%|█▍        | 4/29 [00:00<00:00, 33.70it/s]"
     ]
    },
    {
     "name": "stdout",
     "output_type": "stream",
     "text": [
      "['benzoic acid']\n"
     ]
    },
    {
     "name": "stderr",
     "output_type": "stream",
     "text": [
      "100%|██████████| 29/29 [00:00<00:00, 49.93it/s]\n",
      "100%|██████████| 29/29 [00:00<00:00, 47.81it/s]\n",
      "100%|██████████| 29/29 [00:00<00:00, 45.82it/s]\n",
      "100%|██████████| 29/29 [00:00<00:00, 47.99it/s]\n",
      "100%|██████████| 29/29 [00:00<00:00, 46.44it/s]\n",
      "100%|██████████| 29/29 [00:00<00:00, 48.71it/s]\n",
      "100%|██████████| 29/29 [00:00<00:00, 47.90it/s]\n",
      "100%|██████████| 29/29 [00:00<00:00, 48.73it/s]\n",
      "100%|██████████| 29/29 [00:00<00:00, 48.16it/s]\n",
      "100%|██████████| 29/29 [00:00<00:00, 48.21it/s]\n"
     ]
    },
    {
     "name": "stdout",
     "output_type": "stream",
     "text": [
      "[[1, 0.5789180264180265]]\n"
     ]
    },
    {
     "name": "stderr",
     "output_type": "stream",
     "text": [
      " 14%|█▍        | 4/29 [00:00<00:00, 34.15it/s]"
     ]
    },
    {
     "name": "stdout",
     "output_type": "stream",
     "text": [
      "['uric acid', '5-hydroxynorvaline NIST']\n"
     ]
    },
    {
     "name": "stderr",
     "output_type": "stream",
     "text": [
      "100%|██████████| 29/29 [00:00<00:00, 50.91it/s]\n",
      "100%|██████████| 29/29 [00:00<00:00, 47.53it/s]\n",
      "100%|██████████| 29/29 [00:00<00:00, 48.05it/s]\n",
      "100%|██████████| 29/29 [00:00<00:00, 47.64it/s]\n",
      "100%|██████████| 29/29 [00:00<00:00, 48.23it/s]\n",
      "100%|██████████| 29/29 [00:00<00:00, 47.84it/s]\n",
      "100%|██████████| 29/29 [00:00<00:00, 48.15it/s]\n",
      "100%|██████████| 29/29 [00:00<00:00, 46.59it/s]\n",
      "100%|██████████| 29/29 [00:00<00:00, 48.26it/s]\n",
      "100%|██████████| 29/29 [00:00<00:00, 48.36it/s]\n"
     ]
    },
    {
     "name": "stdout",
     "output_type": "stream",
     "text": [
      "[[1, 0.5789180264180265], [2, 0.5759935897435897]]\n"
     ]
    },
    {
     "name": "stderr",
     "output_type": "stream",
     "text": [
      " 14%|█▍        | 4/29 [00:00<00:00, 34.10it/s]"
     ]
    },
    {
     "name": "stdout",
     "output_type": "stream",
     "text": [
      "['5-hydroxynorvaline NIST', 'alpha-ketoglutarate', 'hypoxanthine']\n"
     ]
    },
    {
     "name": "stderr",
     "output_type": "stream",
     "text": [
      "100%|██████████| 29/29 [00:00<00:00, 49.50it/s]\n",
      "100%|██████████| 29/29 [00:00<00:00, 48.33it/s]\n",
      "100%|██████████| 29/29 [00:00<00:00, 47.62it/s]\n",
      "100%|██████████| 29/29 [00:00<00:00, 47.65it/s]\n",
      "100%|██████████| 29/29 [00:00<00:00, 48.00it/s]\n",
      "100%|██████████| 29/29 [00:00<00:00, 47.63it/s]\n",
      "100%|██████████| 29/29 [00:00<00:00, 47.96it/s]\n",
      "100%|██████████| 29/29 [00:00<00:00, 48.52it/s]\n",
      "100%|██████████| 29/29 [00:00<00:00, 45.97it/s]\n",
      "100%|██████████| 29/29 [00:00<00:00, 46.88it/s]\n"
     ]
    },
    {
     "name": "stdout",
     "output_type": "stream",
     "text": [
      "[[1, 0.5789180264180265], [2, 0.5759935897435897], [3, 0.6670192307692308]]\n"
     ]
    },
    {
     "name": "stderr",
     "output_type": "stream",
     "text": [
      " 14%|█▍        | 4/29 [00:00<00:00, 34.89it/s]"
     ]
    },
    {
     "name": "stdout",
     "output_type": "stream",
     "text": [
      "['benzoic acid', 'tryptophan', 'uric acid', 'alpha-ketoglutarate']\n"
     ]
    },
    {
     "name": "stderr",
     "output_type": "stream",
     "text": [
      "100%|██████████| 29/29 [00:00<00:00, 50.28it/s]\n",
      "100%|██████████| 29/29 [00:00<00:00, 47.85it/s]\n",
      "100%|██████████| 29/29 [00:00<00:00, 47.58it/s]\n",
      "100%|██████████| 29/29 [00:00<00:00, 47.67it/s]\n",
      "100%|██████████| 29/29 [00:00<00:00, 46.10it/s]\n",
      "100%|██████████| 29/29 [00:00<00:00, 46.55it/s]\n",
      "100%|██████████| 29/29 [00:00<00:00, 47.47it/s]\n",
      "100%|██████████| 29/29 [00:00<00:00, 46.92it/s]\n",
      "100%|██████████| 29/29 [00:00<00:00, 46.25it/s]\n",
      "100%|██████████| 29/29 [00:00<00:00, 47.20it/s]\n"
     ]
    },
    {
     "name": "stdout",
     "output_type": "stream",
     "text": [
      "[[1, 0.5789180264180265], [2, 0.5759935897435897], [3, 0.6670192307692308], [4, 0.6235266122766123]]\n"
     ]
    },
    {
     "name": "stderr",
     "output_type": "stream",
     "text": [
      " 14%|█▍        | 4/29 [00:00<00:00, 33.58it/s]"
     ]
    },
    {
     "name": "stdout",
     "output_type": "stream",
     "text": [
      "['5-hydroxynorvaline NIST', 'hypoxanthine', 'methionine sulfoxide', 'nornicotine', '3-phosphoglycerate']\n"
     ]
    },
    {
     "name": "stderr",
     "output_type": "stream",
     "text": [
      "100%|██████████| 29/29 [00:00<00:00, 50.27it/s]\n",
      "100%|██████████| 29/29 [00:00<00:00, 47.14it/s]\n",
      "100%|██████████| 29/29 [00:00<00:00, 46.94it/s]\n",
      "100%|██████████| 29/29 [00:00<00:00, 44.66it/s]\n",
      "100%|██████████| 29/29 [00:00<00:00, 46.96it/s]\n",
      "100%|██████████| 29/29 [00:00<00:00, 47.51it/s]\n",
      "100%|██████████| 29/29 [00:00<00:00, 47.03it/s]\n",
      "100%|██████████| 29/29 [00:00<00:00, 47.37it/s]\n",
      "100%|██████████| 29/29 [00:00<00:00, 47.50it/s]\n",
      "100%|██████████| 29/29 [00:00<00:00, 47.70it/s]\n"
     ]
    },
    {
     "name": "stdout",
     "output_type": "stream",
     "text": [
      "[[1, 0.5789180264180265], [2, 0.5759935897435897], [3, 0.6670192307692308], [4, 0.6235266122766123], [5, 0.7123397435897435]]\n"
     ]
    },
    {
     "name": "stderr",
     "output_type": "stream",
     "text": [
      " 14%|█▍        | 4/29 [00:00<00:00, 34.03it/s]"
     ]
    },
    {
     "name": "stdout",
     "output_type": "stream",
     "text": [
      "['asparagine', 'benzoic acid', 'tryptophan', 'uric acid', '5-hydroxynorvaline NIST', 'alpha-ketoglutarate']\n"
     ]
    },
    {
     "name": "stderr",
     "output_type": "stream",
     "text": [
      "100%|██████████| 29/29 [00:00<00:00, 49.41it/s]\n",
      "100%|██████████| 29/29 [00:00<00:00, 45.96it/s]\n",
      "100%|██████████| 29/29 [00:00<00:00, 47.44it/s]\n",
      "100%|██████████| 29/29 [00:00<00:00, 47.27it/s]\n",
      "100%|██████████| 29/29 [00:00<00:00, 47.14it/s]\n",
      "100%|██████████| 29/29 [00:00<00:00, 47.85it/s]\n",
      "100%|██████████| 29/29 [00:00<00:00, 46.67it/s]\n",
      "100%|██████████| 29/29 [00:00<00:00, 47.17it/s]\n",
      "100%|██████████| 29/29 [00:00<00:00, 47.43it/s]\n",
      "100%|██████████| 29/29 [00:00<00:00, 47.82it/s]\n"
     ]
    },
    {
     "name": "stdout",
     "output_type": "stream",
     "text": [
      "[[1, 0.5789180264180265], [2, 0.5759935897435897], [3, 0.6670192307692308], [4, 0.6235266122766123], [5, 0.7123397435897435], [6, 0.6526981351981351]]\n"
     ]
    },
    {
     "name": "stderr",
     "output_type": "stream",
     "text": [
      " 14%|█▍        | 4/29 [00:00<00:00, 33.96it/s]"
     ]
    },
    {
     "name": "stdout",
     "output_type": "stream",
     "text": [
      "['5-hydroxynorvaline NIST', 'hypoxanthine', 'methionine sulfoxide', 'nornicotine', '3-phosphoglycerate', '5-methoxytryptamine', 'adenosine-5-monophosphate']\n"
     ]
    },
    {
     "name": "stderr",
     "output_type": "stream",
     "text": [
      "100%|██████████| 29/29 [00:00<00:00, 50.30it/s]\n",
      "100%|██████████| 29/29 [00:00<00:00, 47.35it/s]\n",
      "100%|██████████| 29/29 [00:00<00:00, 48.47it/s]\n",
      "100%|██████████| 29/29 [00:00<00:00, 47.25it/s]\n",
      "100%|██████████| 29/29 [00:00<00:00, 47.43it/s]\n",
      "100%|██████████| 29/29 [00:00<00:00, 47.05it/s]\n",
      "100%|██████████| 29/29 [00:00<00:00, 47.64it/s]\n",
      "100%|██████████| 29/29 [00:00<00:00, 48.03it/s]\n",
      "100%|██████████| 29/29 [00:00<00:00, 46.91it/s]\n",
      "100%|██████████| 29/29 [00:00<00:00, 46.52it/s]\n"
     ]
    },
    {
     "name": "stdout",
     "output_type": "stream",
     "text": [
      "[[1, 0.5789180264180265], [2, 0.5759935897435897], [3, 0.6670192307692308], [4, 0.6235266122766123], [5, 0.7123397435897435], [6, 0.6526981351981351], [7, 0.782031857031857]]\n"
     ]
    },
    {
     "name": "stderr",
     "output_type": "stream",
     "text": [
      " 10%|█         | 3/29 [00:00<00:00, 28.85it/s]"
     ]
    },
    {
     "name": "stdout",
     "output_type": "stream",
     "text": [
      "['5-hydroxynorvaline NIST', 'alpha-ketoglutarate', 'hypoxanthine', 'methionine sulfoxide', 'nornicotine', '3-phosphoglycerate', '5-methoxytryptamine', 'adenosine-5-monophosphate']\n"
     ]
    },
    {
     "name": "stderr",
     "output_type": "stream",
     "text": [
      "100%|██████████| 29/29 [00:00<00:00, 48.91it/s]\n",
      "100%|██████████| 29/29 [00:00<00:00, 46.86it/s]\n",
      "100%|██████████| 29/29 [00:00<00:00, 47.04it/s]\n",
      "100%|██████████| 29/29 [00:00<00:00, 47.39it/s]\n",
      "100%|██████████| 29/29 [00:00<00:00, 46.67it/s]\n",
      "100%|██████████| 29/29 [00:00<00:00, 45.58it/s]\n",
      "100%|██████████| 29/29 [00:00<00:00, 44.96it/s]\n",
      "100%|██████████| 29/29 [00:00<00:00, 46.28it/s]\n",
      "100%|██████████| 29/29 [00:00<00:00, 45.88it/s]\n",
      "100%|██████████| 29/29 [00:00<00:00, 46.67it/s]\n"
     ]
    },
    {
     "name": "stdout",
     "output_type": "stream",
     "text": [
      "[[1, 0.5789180264180265], [2, 0.5759935897435897], [3, 0.6670192307692308], [4, 0.6235266122766123], [5, 0.7123397435897435], [6, 0.6526981351981351], [7, 0.782031857031857], [8, 0.7608197358197358]]\n"
     ]
    },
    {
     "name": "stderr",
     "output_type": "stream",
     "text": [
      " 14%|█▍        | 4/29 [00:00<00:00, 33.80it/s]"
     ]
    },
    {
     "name": "stdout",
     "output_type": "stream",
     "text": [
      "['methionine sulfoxide', 'nornicotine', '3-phosphoglycerate', '5-methoxytryptamine', 'adenosine-5-monophosphate', 'aspartic acid', 'lactic acid', 'phenol', 'pyrophosphate']\n"
     ]
    },
    {
     "name": "stderr",
     "output_type": "stream",
     "text": [
      "100%|██████████| 29/29 [00:00<00:00, 49.45it/s]\n",
      "100%|██████████| 29/29 [00:00<00:00, 46.68it/s]\n",
      "100%|██████████| 29/29 [00:00<00:00, 46.55it/s]\n",
      "100%|██████████| 29/29 [00:00<00:00, 46.45it/s]\n",
      "100%|██████████| 29/29 [00:00<00:00, 46.73it/s]\n",
      "100%|██████████| 29/29 [00:00<00:00, 47.30it/s]\n",
      "100%|██████████| 29/29 [00:00<00:00, 47.64it/s]\n",
      "100%|██████████| 29/29 [00:00<00:00, 47.15it/s]\n",
      "100%|██████████| 29/29 [00:00<00:00, 45.65it/s]\n",
      "100%|██████████| 29/29 [00:00<00:00, 45.04it/s]\n"
     ]
    },
    {
     "name": "stdout",
     "output_type": "stream",
     "text": [
      "[[1, 0.5789180264180265], [2, 0.5759935897435897], [3, 0.6670192307692308], [4, 0.6235266122766123], [5, 0.7123397435897435], [6, 0.6526981351981351], [7, 0.782031857031857], [8, 0.7608197358197358], [9, 0.809489121989122]]\n"
     ]
    },
    {
     "name": "stderr",
     "output_type": "stream",
     "text": [
      " 14%|█▍        | 4/29 [00:00<00:00, 33.96it/s]"
     ]
    },
    {
     "name": "stdout",
     "output_type": "stream",
     "text": [
      "['asparagine', 'benzoic acid', 'tryptophan', 'uric acid', '5-hydroxynorvaline NIST', 'alpha-ketoglutarate', 'citrulline', 'glutamine', 'hypoxanthine', 'malic acid']\n"
     ]
    },
    {
     "name": "stderr",
     "output_type": "stream",
     "text": [
      "100%|██████████| 29/29 [00:00<00:00, 48.05it/s]\n",
      "100%|██████████| 29/29 [00:00<00:00, 44.31it/s]\n",
      "100%|██████████| 29/29 [00:00<00:00, 44.90it/s]\n",
      "100%|██████████| 29/29 [00:00<00:00, 44.91it/s]\n",
      "100%|██████████| 29/29 [00:00<00:00, 45.08it/s]\n",
      "100%|██████████| 29/29 [00:00<00:00, 44.14it/s]\n",
      "100%|██████████| 29/29 [00:00<00:00, 45.12it/s]\n",
      "100%|██████████| 29/29 [00:00<00:00, 43.59it/s]\n",
      "100%|██████████| 29/29 [00:00<00:00, 43.61it/s]\n",
      "100%|██████████| 29/29 [00:00<00:00, 44.69it/s]\n"
     ]
    },
    {
     "name": "stdout",
     "output_type": "stream",
     "text": [
      "[[1, 0.5789180264180265], [2, 0.5759935897435897], [3, 0.6670192307692308], [4, 0.6235266122766123], [5, 0.7123397435897435], [6, 0.6526981351981351], [7, 0.782031857031857], [8, 0.7608197358197358], [9, 0.809489121989122], [10, 0.7385771173271172]]\n"
     ]
    },
    {
     "name": "stderr",
     "output_type": "stream",
     "text": [
      " 10%|█         | 3/29 [00:00<00:00, 29.58it/s]"
     ]
    },
    {
     "name": "stdout",
     "output_type": "stream",
     "text": [
      "['benzoic acid', '5-hydroxynorvaline NIST', 'hypoxanthine', 'malic acid', 'methionine sulfoxide', '3-phosphoglycerate', '5-methoxytryptamine', 'adenosine-5-monophosphate', 'aspartic acid', 'lactic acid', 'maltose']\n"
     ]
    },
    {
     "name": "stderr",
     "output_type": "stream",
     "text": [
      "100%|██████████| 29/29 [00:00<00:00, 49.07it/s]\n",
      "100%|██████████| 29/29 [00:00<00:00, 43.40it/s]\n",
      "100%|██████████| 29/29 [00:00<00:00, 44.03it/s]\n",
      "100%|██████████| 29/29 [00:00<00:00, 45.82it/s]\n",
      "100%|██████████| 29/29 [00:00<00:00, 44.34it/s]\n",
      "100%|██████████| 29/29 [00:00<00:00, 43.45it/s]\n",
      "100%|██████████| 29/29 [00:00<00:00, 44.64it/s]\n",
      "100%|██████████| 29/29 [00:00<00:00, 45.87it/s]\n",
      "100%|██████████| 29/29 [00:00<00:00, 45.86it/s]\n",
      "100%|██████████| 29/29 [00:00<00:00, 45.92it/s]\n"
     ]
    },
    {
     "name": "stdout",
     "output_type": "stream",
     "text": [
      "[[1, 0.5789180264180265], [2, 0.5759935897435897], [3, 0.6670192307692308], [4, 0.6235266122766123], [5, 0.7123397435897435], [6, 0.6526981351981351], [7, 0.782031857031857], [8, 0.7608197358197358], [9, 0.809489121989122], [10, 0.7385771173271172], [11, 0.8038752913752912]]\n"
     ]
    },
    {
     "name": "stderr",
     "output_type": "stream",
     "text": [
      " 14%|█▍        | 4/29 [00:00<00:00, 33.18it/s]"
     ]
    },
    {
     "name": "stdout",
     "output_type": "stream",
     "text": [
      "['hypoxanthine', 'methionine sulfoxide', 'nornicotine', '3-phosphoglycerate', '5-methoxytryptamine', 'adenosine-5-monophosphate', 'lactic acid', 'maltose', 'phenol', 'phosphoethanolamine', 'pyrophosphate', 'taurine']\n"
     ]
    },
    {
     "name": "stderr",
     "output_type": "stream",
     "text": [
      "100%|██████████| 29/29 [00:00<00:00, 46.54it/s]\n",
      "100%|██████████| 29/29 [00:00<00:00, 45.62it/s]\n",
      "100%|██████████| 29/29 [00:00<00:00, 43.65it/s]\n",
      "100%|██████████| 29/29 [00:00<00:00, 46.24it/s]\n",
      "100%|██████████| 29/29 [00:00<00:00, 46.38it/s]\n",
      "100%|██████████| 29/29 [00:00<00:00, 46.12it/s]\n",
      "100%|██████████| 29/29 [00:00<00:00, 46.34it/s]\n",
      "100%|██████████| 29/29 [00:00<00:00, 46.27it/s]\n",
      "100%|██████████| 29/29 [00:00<00:00, 45.69it/s]\n",
      "100%|██████████| 29/29 [00:00<00:00, 46.76it/s]\n"
     ]
    },
    {
     "name": "stdout",
     "output_type": "stream",
     "text": [
      "[[1, 0.5789180264180265], [2, 0.5759935897435897], [3, 0.6670192307692308], [4, 0.6235266122766123], [5, 0.7123397435897435], [6, 0.6526981351981351], [7, 0.782031857031857], [8, 0.7608197358197358], [9, 0.809489121989122], [10, 0.7385771173271172], [11, 0.8038752913752912], [12, 0.7959158896658897]]\n"
     ]
    },
    {
     "name": "stderr",
     "output_type": "stream",
     "text": [
      " 14%|█▍        | 4/29 [00:00<00:00, 33.26it/s]"
     ]
    },
    {
     "name": "stdout",
     "output_type": "stream",
     "text": [
      "['5-hydroxynorvaline NIST', 'methionine sulfoxide', 'nornicotine', '3-phosphoglycerate', '5-methoxytryptamine', 'adenosine-5-monophosphate', 'aspartic acid', 'lactic acid', 'maltose', 'phenol', 'phosphoethanolamine', 'pyrophosphate', 'taurine']\n"
     ]
    },
    {
     "name": "stderr",
     "output_type": "stream",
     "text": [
      "100%|██████████| 29/29 [00:00<00:00, 41.93it/s]\n",
      "100%|██████████| 29/29 [00:00<00:00, 45.46it/s]\n",
      "100%|██████████| 29/29 [00:00<00:00, 45.85it/s]\n",
      "100%|██████████| 29/29 [00:00<00:00, 43.84it/s]\n",
      "100%|██████████| 29/29 [00:00<00:00, 44.48it/s]\n",
      "100%|██████████| 29/29 [00:00<00:00, 45.31it/s]\n",
      "100%|██████████| 29/29 [00:00<00:00, 44.68it/s]\n",
      "100%|██████████| 29/29 [00:00<00:00, 44.82it/s]\n",
      "100%|██████████| 29/29 [00:00<00:00, 44.68it/s]\n",
      "100%|██████████| 29/29 [00:00<00:00, 45.08it/s]\n"
     ]
    },
    {
     "name": "stdout",
     "output_type": "stream",
     "text": [
      "[[1, 0.5789180264180265], [2, 0.5759935897435897], [3, 0.6670192307692308], [4, 0.6235266122766123], [5, 0.7123397435897435], [6, 0.6526981351981351], [7, 0.782031857031857], [8, 0.7608197358197358], [9, 0.809489121989122], [10, 0.7385771173271172], [11, 0.8038752913752912], [12, 0.7959158896658897], [13, 0.7875242812742813]]\n"
     ]
    },
    {
     "name": "stderr",
     "output_type": "stream",
     "text": [
      " 10%|█         | 3/29 [00:00<00:00, 29.99it/s]"
     ]
    },
    {
     "name": "stdout",
     "output_type": "stream",
     "text": [
      "['asparagine', 'benzoic acid', 'tryptophan', 'uric acid', '5-hydroxynorvaline NIST', 'alpha-ketoglutarate', 'citrulline', 'glutamine', 'hypoxanthine', 'malic acid', 'methionine sulfoxide', 'nornicotine', 'octadecanol', '3-phosphoglycerate']\n"
     ]
    },
    {
     "name": "stderr",
     "output_type": "stream",
     "text": [
      "100%|██████████| 29/29 [00:00<00:00, 48.39it/s]\n",
      "100%|██████████| 29/29 [00:00<00:00, 45.61it/s]\n",
      "100%|██████████| 29/29 [00:00<00:00, 45.38it/s]\n",
      "100%|██████████| 29/29 [00:00<00:00, 46.00it/s]\n",
      "100%|██████████| 29/29 [00:00<00:00, 44.72it/s]\n",
      "100%|██████████| 29/29 [00:00<00:00, 46.64it/s]\n",
      "100%|██████████| 29/29 [00:00<00:00, 44.33it/s]\n",
      "100%|██████████| 29/29 [00:00<00:00, 44.10it/s]\n",
      "100%|██████████| 29/29 [00:00<00:00, 45.50it/s]\n",
      "100%|██████████| 29/29 [00:00<00:00, 45.29it/s]\n"
     ]
    },
    {
     "name": "stdout",
     "output_type": "stream",
     "text": [
      "[[1, 0.5789180264180265], [2, 0.5759935897435897], [3, 0.6670192307692308], [4, 0.6235266122766123], [5, 0.7123397435897435], [6, 0.6526981351981351], [7, 0.782031857031857], [8, 0.7608197358197358], [9, 0.809489121989122], [10, 0.7385771173271172], [11, 0.8038752913752912], [12, 0.7959158896658897], [13, 0.7875242812742813], [14, 0.7465899378399378]]\n"
     ]
    },
    {
     "name": "stderr",
     "output_type": "stream",
     "text": [
      " 10%|█         | 3/29 [00:00<00:00, 29.96it/s]"
     ]
    },
    {
     "name": "stdout",
     "output_type": "stream",
     "text": [
      "['5-hydroxynorvaline NIST', 'hypoxanthine', 'malic acid', 'methionine sulfoxide', 'nornicotine', '3-phosphoglycerate', '5-methoxytryptamine', 'adenosine-5-monophosphate', 'aspartic acid', 'lactic acid', 'maltose', 'phenol', 'phosphoethanolamine', 'pyrophosphate', 'taurine']\n"
     ]
    },
    {
     "name": "stderr",
     "output_type": "stream",
     "text": [
      "100%|██████████| 29/29 [00:00<00:00, 47.66it/s]\n",
      "100%|██████████| 29/29 [00:00<00:00, 44.24it/s]\n",
      "100%|██████████| 29/29 [00:00<00:00, 45.46it/s]\n",
      "100%|██████████| 29/29 [00:00<00:00, 45.70it/s]\n",
      "100%|██████████| 29/29 [00:00<00:00, 45.47it/s]\n",
      "100%|██████████| 29/29 [00:00<00:00, 45.36it/s]\n",
      "100%|██████████| 29/29 [00:00<00:00, 45.90it/s]\n",
      "100%|██████████| 29/29 [00:00<00:00, 45.93it/s]\n",
      "100%|██████████| 29/29 [00:00<00:00, 45.35it/s]\n",
      "100%|██████████| 29/29 [00:00<00:00, 46.33it/s]\n"
     ]
    },
    {
     "name": "stdout",
     "output_type": "stream",
     "text": [
      "[[1, 0.5789180264180265], [2, 0.5759935897435897], [3, 0.6670192307692308], [4, 0.6235266122766123], [5, 0.7123397435897435], [6, 0.6526981351981351], [7, 0.782031857031857], [8, 0.7608197358197358], [9, 0.809489121989122], [10, 0.7385771173271172], [11, 0.8038752913752912], [12, 0.7959158896658897], [13, 0.7875242812742813], [14, 0.7465899378399378], [15, 0.7976204351204352]]\n"
     ]
    },
    {
     "name": "stderr",
     "output_type": "stream",
     "text": [
      " 14%|█▍        | 4/29 [00:00<00:00, 32.05it/s]"
     ]
    },
    {
     "name": "stdout",
     "output_type": "stream",
     "text": [
      "['uric acid', '5-hydroxynorvaline NIST', 'citrulline', 'hypoxanthine', 'methionine sulfoxide', 'nornicotine', '3-phosphoglycerate', '5-methoxytryptamine', 'adenosine-5-monophosphate', 'aspartic acid', 'lactic acid', 'maltotriose', 'phenol', 'phosphoethanolamine', 'pyrophosphate', 'taurine']\n"
     ]
    },
    {
     "name": "stderr",
     "output_type": "stream",
     "text": [
      "100%|██████████| 29/29 [00:00<00:00, 48.28it/s]\n",
      "100%|██████████| 29/29 [00:00<00:00, 45.27it/s]\n",
      "100%|██████████| 29/29 [00:00<00:00, 46.17it/s]\n",
      "100%|██████████| 29/29 [00:00<00:00, 45.79it/s]\n",
      "100%|██████████| 29/29 [00:00<00:00, 46.04it/s]\n",
      "100%|██████████| 29/29 [00:00<00:00, 46.17it/s]\n",
      "100%|██████████| 29/29 [00:00<00:00, 45.84it/s]\n",
      "100%|██████████| 29/29 [00:00<00:00, 46.39it/s]\n",
      "100%|██████████| 29/29 [00:00<00:00, 45.73it/s]\n",
      "100%|██████████| 29/29 [00:00<00:00, 45.78it/s]\n"
     ]
    },
    {
     "name": "stdout",
     "output_type": "stream",
     "text": [
      "[[1, 0.5789180264180265], [2, 0.5759935897435897], [3, 0.6670192307692308], [4, 0.6235266122766123], [5, 0.7123397435897435], [6, 0.6526981351981351], [7, 0.782031857031857], [8, 0.7608197358197358], [9, 0.809489121989122], [10, 0.7385771173271172], [11, 0.8038752913752912], [12, 0.7959158896658897], [13, 0.7875242812742813], [14, 0.7465899378399378], [15, 0.7976204351204352], [16, 0.790739121989122]]\n"
     ]
    },
    {
     "name": "stderr",
     "output_type": "stream",
     "text": [
      " 10%|█         | 3/29 [00:00<00:00, 27.76it/s]"
     ]
    },
    {
     "name": "stdout",
     "output_type": "stream",
     "text": [
      "['asparagine', 'benzoic acid', 'tryptophan', 'uric acid', '5-hydroxynorvaline NIST', 'alpha-ketoglutarate', 'citrulline', 'glutamine', 'hypoxanthine', 'malic acid', 'methionine sulfoxide', 'nornicotine', 'octadecanol', '3-phosphoglycerate', '5-methoxytryptamine', 'adenosine-5-monophosphate', 'aspartic acid']\n"
     ]
    },
    {
     "name": "stderr",
     "output_type": "stream",
     "text": [
      "100%|██████████| 29/29 [00:00<00:00, 46.65it/s]\n",
      "100%|██████████| 29/29 [00:00<00:00, 45.49it/s]\n",
      "100%|██████████| 29/29 [00:00<00:00, 44.33it/s]\n",
      "100%|██████████| 29/29 [00:00<00:00, 43.74it/s]\n",
      "100%|██████████| 29/29 [00:00<00:00, 44.27it/s]\n",
      "100%|██████████| 29/29 [00:00<00:00, 44.47it/s]\n",
      "100%|██████████| 29/29 [00:00<00:00, 45.26it/s]\n",
      "100%|██████████| 29/29 [00:00<00:00, 45.56it/s]\n",
      "100%|██████████| 29/29 [00:00<00:00, 44.69it/s]\n",
      "100%|██████████| 29/29 [00:00<00:00, 45.45it/s]\n"
     ]
    },
    {
     "name": "stdout",
     "output_type": "stream",
     "text": [
      "[[1, 0.5789180264180265], [2, 0.5759935897435897], [3, 0.6670192307692308], [4, 0.6235266122766123], [5, 0.7123397435897435], [6, 0.6526981351981351], [7, 0.782031857031857], [8, 0.7608197358197358], [9, 0.809489121989122], [10, 0.7385771173271172], [11, 0.8038752913752912], [12, 0.7959158896658897], [13, 0.7875242812742813], [14, 0.7465899378399378], [15, 0.7976204351204352], [16, 0.790739121989122], [17, 0.7889714452214452]]\n"
     ]
    },
    {
     "name": "stderr",
     "output_type": "stream",
     "text": [
      " 10%|█         | 3/29 [00:00<00:00, 28.73it/s]"
     ]
    },
    {
     "name": "stdout",
     "output_type": "stream",
     "text": [
      "['benzoic acid', 'uric acid', '5-hydroxynorvaline NIST', 'glutamine', 'hypoxanthine', 'malic acid', 'methionine sulfoxide', 'nornicotine', '3-phosphoglycerate', '5-methoxytryptamine', 'adenosine-5-monophosphate', 'aspartic acid', 'lactic acid', 'maltotriose', 'phenol', 'phosphoethanolamine', 'pyrophosphate', 'taurine']\n"
     ]
    },
    {
     "name": "stderr",
     "output_type": "stream",
     "text": [
      "100%|██████████| 29/29 [00:00<00:00, 47.82it/s]\n",
      "100%|██████████| 29/29 [00:00<00:00, 45.66it/s]\n",
      "100%|██████████| 29/29 [00:00<00:00, 45.15it/s]\n",
      "100%|██████████| 29/29 [00:00<00:00, 45.54it/s]\n",
      "100%|██████████| 29/29 [00:00<00:00, 45.70it/s]\n",
      "100%|██████████| 29/29 [00:00<00:00, 44.27it/s]\n",
      "100%|██████████| 29/29 [00:00<00:00, 45.95it/s]\n",
      "100%|██████████| 29/29 [00:00<00:00, 45.74it/s]\n",
      "100%|██████████| 29/29 [00:00<00:00, 46.22it/s]\n",
      "100%|██████████| 29/29 [00:00<00:00, 45.51it/s]\n"
     ]
    },
    {
     "name": "stdout",
     "output_type": "stream",
     "text": [
      "[[1, 0.5789180264180265], [2, 0.5759935897435897], [3, 0.6670192307692308], [4, 0.6235266122766123], [5, 0.7123397435897435], [6, 0.6526981351981351], [7, 0.782031857031857], [8, 0.7608197358197358], [9, 0.809489121989122], [10, 0.7385771173271172], [11, 0.8038752913752912], [12, 0.7959158896658897], [13, 0.7875242812742813], [14, 0.7465899378399378], [15, 0.7976204351204352], [16, 0.790739121989122], [17, 0.7889714452214452], [18, 0.7777972027972029]]\n"
     ]
    },
    {
     "name": "stderr",
     "output_type": "stream",
     "text": [
      " 10%|█         | 3/29 [00:00<00:00, 29.10it/s]"
     ]
    },
    {
     "name": "stdout",
     "output_type": "stream",
     "text": [
      "['asparagine', 'benzoic acid', 'tryptophan', 'uric acid', '5-hydroxynorvaline NIST', 'alpha-ketoglutarate', 'citrulline', 'glutamine', 'hypoxanthine', 'malic acid', 'methionine sulfoxide', 'nornicotine', 'octadecanol', '3-phosphoglycerate', '5-methoxytryptamine', 'adenosine-5-monophosphate', 'aspartic acid', 'lactic acid', 'maltose']\n"
     ]
    },
    {
     "name": "stderr",
     "output_type": "stream",
     "text": [
      "100%|██████████| 29/29 [00:00<00:00, 47.07it/s]\n",
      "100%|██████████| 29/29 [00:00<00:00, 45.56it/s]\n",
      "100%|██████████| 29/29 [00:00<00:00, 45.03it/s]\n",
      "100%|██████████| 29/29 [00:00<00:00, 45.12it/s]\n",
      "100%|██████████| 29/29 [00:00<00:00, 45.99it/s]\n",
      "100%|██████████| 29/29 [00:00<00:00, 45.09it/s]\n",
      "100%|██████████| 29/29 [00:00<00:00, 44.79it/s]\n",
      "100%|██████████| 29/29 [00:00<00:00, 45.80it/s]\n",
      "100%|██████████| 29/29 [00:00<00:00, 45.02it/s]\n",
      "100%|██████████| 29/29 [00:00<00:00, 43.65it/s]\n"
     ]
    },
    {
     "name": "stdout",
     "output_type": "stream",
     "text": [
      "[[1, 0.5789180264180265], [2, 0.5759935897435897], [3, 0.6670192307692308], [4, 0.6235266122766123], [5, 0.7123397435897435], [6, 0.6526981351981351], [7, 0.782031857031857], [8, 0.7608197358197358], [9, 0.809489121989122], [10, 0.7385771173271172], [11, 0.8038752913752912], [12, 0.7959158896658897], [13, 0.7875242812742813], [14, 0.7465899378399378], [15, 0.7976204351204352], [16, 0.790739121989122], [17, 0.7889714452214452], [18, 0.7777972027972029], [19, 0.7615093240093239]]\n"
     ]
    },
    {
     "name": "stderr",
     "output_type": "stream",
     "text": [
      " 10%|█         | 3/29 [00:00<00:00, 28.06it/s]"
     ]
    },
    {
     "name": "stdout",
     "output_type": "stream",
     "text": [
      "['benzoic acid', 'uric acid', '5-hydroxynorvaline NIST', 'alpha-ketoglutarate', 'citrulline', 'glutamine', 'hypoxanthine', 'malic acid', 'methionine sulfoxide', 'nornicotine', '3-phosphoglycerate', '5-methoxytryptamine', 'adenosine-5-monophosphate', 'aspartic acid', 'lactic acid', 'maltose', 'phenol', 'phosphoethanolamine', 'pyrophosphate', 'pyruvic acid']\n"
     ]
    },
    {
     "name": "stderr",
     "output_type": "stream",
     "text": [
      "100%|██████████| 29/29 [00:00<00:00, 47.39it/s]\n",
      "100%|██████████| 29/29 [00:00<00:00, 44.44it/s]\n",
      "100%|██████████| 29/29 [00:00<00:00, 45.08it/s]\n",
      "100%|██████████| 29/29 [00:00<00:00, 45.36it/s]\n",
      "100%|██████████| 29/29 [00:00<00:00, 45.13it/s]\n",
      "100%|██████████| 29/29 [00:00<00:00, 44.33it/s]\n",
      "100%|██████████| 29/29 [00:00<00:00, 45.22it/s]\n",
      "100%|██████████| 29/29 [00:00<00:00, 44.63it/s]\n",
      "100%|██████████| 29/29 [00:00<00:00, 44.44it/s]\n",
      "100%|██████████| 29/29 [00:00<00:00, 43.73it/s]\n"
     ]
    },
    {
     "name": "stdout",
     "output_type": "stream",
     "text": [
      "[[1, 0.5789180264180265], [2, 0.5759935897435897], [3, 0.6670192307692308], [4, 0.6235266122766123], [5, 0.7123397435897435], [6, 0.6526981351981351], [7, 0.782031857031857], [8, 0.7608197358197358], [9, 0.809489121989122], [10, 0.7385771173271172], [11, 0.8038752913752912], [12, 0.7959158896658897], [13, 0.7875242812742813], [14, 0.7465899378399378], [15, 0.7976204351204352], [16, 0.790739121989122], [17, 0.7889714452214452], [18, 0.7777972027972029], [19, 0.7615093240093239], [20, 0.7417871017871016]]\n"
     ]
    },
    {
     "name": "stderr",
     "output_type": "stream",
     "text": [
      " 10%|█         | 3/29 [00:00<00:00, 28.43it/s]"
     ]
    },
    {
     "name": "stdout",
     "output_type": "stream",
     "text": [
      "['benzoic acid', 'tryptophan', 'uric acid', '5-hydroxynorvaline NIST', 'citrulline', 'glutamine', 'hypoxanthine', 'methionine sulfoxide', 'nornicotine', '3-phosphoglycerate', '5-methoxytryptamine', 'adenosine-5-monophosphate', 'aspartic acid', 'lactic acid', 'maltose', 'maltotriose', 'phenol', 'phosphoethanolamine', 'pyrophosphate', 'pyruvic acid', 'taurine']\n"
     ]
    },
    {
     "name": "stderr",
     "output_type": "stream",
     "text": [
      "100%|██████████| 29/29 [00:00<00:00, 46.90it/s]\n",
      "100%|██████████| 29/29 [00:00<00:00, 44.88it/s]\n",
      "100%|██████████| 29/29 [00:00<00:00, 45.50it/s]\n",
      "100%|██████████| 29/29 [00:00<00:00, 45.17it/s]\n",
      "100%|██████████| 29/29 [00:00<00:00, 45.37it/s]\n",
      "100%|██████████| 29/29 [00:00<00:00, 44.16it/s]\n",
      "100%|██████████| 29/29 [00:00<00:00, 41.90it/s]\n",
      "100%|██████████| 29/29 [00:00<00:00, 45.13it/s]\n",
      "100%|██████████| 29/29 [00:00<00:00, 45.39it/s]\n",
      "100%|██████████| 29/29 [00:00<00:00, 45.02it/s]\n"
     ]
    },
    {
     "name": "stdout",
     "output_type": "stream",
     "text": [
      "[[1, 0.5789180264180265], [2, 0.5759935897435897], [3, 0.6670192307692308], [4, 0.6235266122766123], [5, 0.7123397435897435], [6, 0.6526981351981351], [7, 0.782031857031857], [8, 0.7608197358197358], [9, 0.809489121989122], [10, 0.7385771173271172], [11, 0.8038752913752912], [12, 0.7959158896658897], [13, 0.7875242812742813], [14, 0.7465899378399378], [15, 0.7976204351204352], [16, 0.790739121989122], [17, 0.7889714452214452], [18, 0.7777972027972029], [19, 0.7615093240093239], [20, 0.7417871017871016], [21, 0.7659965034965035]]\n"
     ]
    },
    {
     "name": "stderr",
     "output_type": "stream",
     "text": [
      " 10%|█         | 3/29 [00:00<00:00, 29.20it/s]"
     ]
    },
    {
     "name": "stdout",
     "output_type": "stream",
     "text": [
      "['uric acid', '5-hydroxynorvaline NIST', 'alpha-ketoglutarate', 'citrulline', 'glutamine', 'hypoxanthine', 'malic acid', 'methionine sulfoxide', 'nornicotine', '3-phosphoglycerate', '5-methoxytryptamine', 'adenosine-5-monophosphate', 'aspartic acid', 'lactic acid', 'maltose', 'maltotriose', 'N-methylalanine', 'phenol', 'phosphoethanolamine', 'pyrophosphate', 'pyruvic acid', 'taurine']\n"
     ]
    },
    {
     "name": "stderr",
     "output_type": "stream",
     "text": [
      "100%|██████████| 29/29 [00:00<00:00, 46.56it/s]\n",
      "100%|██████████| 29/29 [00:00<00:00, 42.89it/s]\n",
      "100%|██████████| 29/29 [00:00<00:00, 44.06it/s]\n",
      "100%|██████████| 29/29 [00:00<00:00, 44.69it/s]\n",
      "100%|██████████| 29/29 [00:00<00:00, 44.71it/s]\n",
      "100%|██████████| 29/29 [00:00<00:00, 44.60it/s]\n",
      "100%|██████████| 29/29 [00:00<00:00, 44.98it/s]\n",
      "100%|██████████| 29/29 [00:00<00:00, 44.84it/s]\n",
      "100%|██████████| 29/29 [00:00<00:00, 45.01it/s]\n",
      "100%|██████████| 29/29 [00:00<00:00, 44.39it/s]\n"
     ]
    },
    {
     "name": "stdout",
     "output_type": "stream",
     "text": [
      "[[1, 0.5789180264180265], [2, 0.5759935897435897], [3, 0.6670192307692308], [4, 0.6235266122766123], [5, 0.7123397435897435], [6, 0.6526981351981351], [7, 0.782031857031857], [8, 0.7608197358197358], [9, 0.809489121989122], [10, 0.7385771173271172], [11, 0.8038752913752912], [12, 0.7959158896658897], [13, 0.7875242812742813], [14, 0.7465899378399378], [15, 0.7976204351204352], [16, 0.790739121989122], [17, 0.7889714452214452], [18, 0.7777972027972029], [19, 0.7615093240093239], [20, 0.7417871017871016], [21, 0.7659965034965035], [22, 0.7600621600621601]]\n"
     ]
    },
    {
     "name": "stderr",
     "output_type": "stream",
     "text": [
      " 10%|█         | 3/29 [00:00<00:00, 28.79it/s]"
     ]
    },
    {
     "name": "stdout",
     "output_type": "stream",
     "text": [
      "['asparagine', 'benzoic acid', 'tryptophan', 'uric acid', '5-hydroxynorvaline NIST', 'alpha-ketoglutarate', 'citrulline', 'glutamine', 'hypoxanthine', 'malic acid', 'methionine sulfoxide', 'nornicotine', 'octadecanol', '3-phosphoglycerate', '5-methoxytryptamine', 'adenosine-5-monophosphate', 'aspartic acid', 'lactic acid', 'maltose', 'maltotriose', 'N-methylalanine', 'phenol', 'phosphoethanolamine']\n"
     ]
    },
    {
     "name": "stderr",
     "output_type": "stream",
     "text": [
      "100%|██████████| 29/29 [00:00<00:00, 45.84it/s]\n",
      "100%|██████████| 29/29 [00:00<00:00, 45.24it/s]\n",
      "100%|██████████| 29/29 [00:00<00:00, 45.03it/s]\n",
      "100%|██████████| 29/29 [00:00<00:00, 44.84it/s]\n",
      "100%|██████████| 29/29 [00:00<00:00, 44.06it/s]\n",
      "100%|██████████| 29/29 [00:00<00:00, 44.70it/s]\n",
      "100%|██████████| 29/29 [00:00<00:00, 45.16it/s]\n",
      "100%|██████████| 29/29 [00:00<00:00, 45.27it/s]\n",
      "100%|██████████| 29/29 [00:00<00:00, 44.58it/s]\n",
      "100%|██████████| 29/29 [00:00<00:00, 44.11it/s]\n"
     ]
    },
    {
     "name": "stdout",
     "output_type": "stream",
     "text": [
      "[[1, 0.5789180264180265], [2, 0.5759935897435897], [3, 0.6670192307692308], [4, 0.6235266122766123], [5, 0.7123397435897435], [6, 0.6526981351981351], [7, 0.782031857031857], [8, 0.7608197358197358], [9, 0.809489121989122], [10, 0.7385771173271172], [11, 0.8038752913752912], [12, 0.7959158896658897], [13, 0.7875242812742813], [14, 0.7465899378399378], [15, 0.7976204351204352], [16, 0.790739121989122], [17, 0.7889714452214452], [18, 0.7777972027972029], [19, 0.7615093240093239], [20, 0.7417871017871016], [21, 0.7659965034965035], [22, 0.7600621600621601], [23, 0.7772037684537683]]\n"
     ]
    },
    {
     "name": "stderr",
     "output_type": "stream",
     "text": [
      " 10%|█         | 3/29 [00:00<00:00, 28.43it/s]"
     ]
    },
    {
     "name": "stdout",
     "output_type": "stream",
     "text": [
      "['asparagine', 'benzoic acid', 'tryptophan', 'uric acid', '5-hydroxynorvaline NIST', 'alpha-ketoglutarate', 'citrulline', 'glutamine', 'hypoxanthine', 'malic acid', 'methionine sulfoxide', 'nornicotine', 'octadecanol', '3-phosphoglycerate', '5-methoxytryptamine', 'adenosine-5-monophosphate', 'aspartic acid', 'lactic acid', 'maltose', 'maltotriose', 'N-methylalanine', 'phenol', 'phosphoethanolamine', 'pyrophosphate']\n"
     ]
    },
    {
     "name": "stderr",
     "output_type": "stream",
     "text": [
      "100%|██████████| 29/29 [00:00<00:00, 47.13it/s]\n",
      "100%|██████████| 29/29 [00:00<00:00, 44.59it/s]\n",
      "100%|██████████| 29/29 [00:00<00:00, 45.57it/s]\n",
      "100%|██████████| 29/29 [00:00<00:00, 45.06it/s]\n",
      "100%|██████████| 29/29 [00:00<00:00, 44.44it/s]\n",
      "100%|██████████| 29/29 [00:00<00:00, 44.84it/s]\n",
      "100%|██████████| 29/29 [00:00<00:00, 44.51it/s]\n",
      "100%|██████████| 29/29 [00:00<00:00, 43.61it/s]\n",
      "100%|██████████| 29/29 [00:00<00:00, 41.60it/s]\n",
      "100%|██████████| 29/29 [00:00<00:00, 44.60it/s]\n"
     ]
    },
    {
     "name": "stdout",
     "output_type": "stream",
     "text": [
      "[[1, 0.5789180264180265], [2, 0.5759935897435897], [3, 0.6670192307692308], [4, 0.6235266122766123], [5, 0.7123397435897435], [6, 0.6526981351981351], [7, 0.782031857031857], [8, 0.7608197358197358], [9, 0.809489121989122], [10, 0.7385771173271172], [11, 0.8038752913752912], [12, 0.7959158896658897], [13, 0.7875242812742813], [14, 0.7465899378399378], [15, 0.7976204351204352], [16, 0.790739121989122], [17, 0.7889714452214452], [18, 0.7777972027972029], [19, 0.7615093240093239], [20, 0.7417871017871016], [21, 0.7659965034965035], [22, 0.7600621600621601], [23, 0.7772037684537683], [24, 0.7772037684537683]]\n"
     ]
    },
    {
     "name": "stderr",
     "output_type": "stream",
     "text": [
      " 10%|█         | 3/29 [00:00<00:00, 28.95it/s]"
     ]
    },
    {
     "name": "stdout",
     "output_type": "stream",
     "text": [
      "['asparagine', 'benzoic acid', 'tryptophan', 'uric acid', '5-hydroxynorvaline NIST', 'alpha-ketoglutarate', 'citrulline', 'glutamine', 'hypoxanthine', 'malic acid', 'methionine sulfoxide', 'nornicotine', 'octadecanol', '3-phosphoglycerate', '5-methoxytryptamine', 'adenosine-5-monophosphate', 'aspartic acid', 'lactic acid', 'maltose', 'maltotriose', 'N-methylalanine', 'phenol', 'phosphoethanolamine', 'pyrophosphate', 'pyruvic acid']\n"
     ]
    },
    {
     "name": "stderr",
     "output_type": "stream",
     "text": [
      "100%|██████████| 29/29 [00:00<00:00, 47.23it/s]\n",
      "100%|██████████| 29/29 [00:00<00:00, 43.28it/s]\n",
      "100%|██████████| 29/29 [00:00<00:00, 38.85it/s]\n",
      "100%|██████████| 29/29 [00:00<00:00, 39.53it/s]\n",
      "100%|██████████| 29/29 [00:00<00:00, 44.24it/s]\n",
      "100%|██████████| 29/29 [00:00<00:00, 44.39it/s]\n",
      "100%|██████████| 29/29 [00:00<00:00, 44.16it/s]\n",
      "100%|██████████| 29/29 [00:00<00:00, 37.92it/s]\n",
      "100%|██████████| 29/29 [00:00<00:00, 31.09it/s]\n",
      "100%|██████████| 29/29 [00:00<00:00, 37.74it/s]\n"
     ]
    },
    {
     "name": "stdout",
     "output_type": "stream",
     "text": [
      "[[1, 0.5789180264180265], [2, 0.5759935897435897], [3, 0.6670192307692308], [4, 0.6235266122766123], [5, 0.7123397435897435], [6, 0.6526981351981351], [7, 0.782031857031857], [8, 0.7608197358197358], [9, 0.809489121989122], [10, 0.7385771173271172], [11, 0.8038752913752912], [12, 0.7959158896658897], [13, 0.7875242812742813], [14, 0.7465899378399378], [15, 0.7976204351204352], [16, 0.790739121989122], [17, 0.7889714452214452], [18, 0.7777972027972029], [19, 0.7615093240093239], [20, 0.7417871017871016], [21, 0.7659965034965035], [22, 0.7600621600621601], [23, 0.7772037684537683], [24, 0.7772037684537683], [25, 0.7695697358197358]]\n"
     ]
    },
    {
     "name": "stderr",
     "output_type": "stream",
     "text": [
      "  3%|▎         | 1/29 [00:00<00:03,  9.20it/s]"
     ]
    },
    {
     "name": "stdout",
     "output_type": "stream",
     "text": [
      "['asparagine', 'benzoic acid', 'tryptophan', 'uric acid', '5-hydroxynorvaline NIST', 'alpha-ketoglutarate', 'citrulline', 'glutamine', 'hypoxanthine', 'malic acid', 'methionine sulfoxide', 'nornicotine', 'octadecanol', '3-phosphoglycerate', '5-methoxytryptamine', 'adenosine-5-monophosphate', 'aspartic acid', 'lactic acid', 'maltose', 'maltotriose', 'N-methylalanine', 'phenol', 'phosphoethanolamine', 'pyrophosphate', 'pyruvic acid', 'taurine']\n"
     ]
    },
    {
     "name": "stderr",
     "output_type": "stream",
     "text": [
      "100%|██████████| 29/29 [00:00<00:00, 31.57it/s]\n",
      "100%|██████████| 29/29 [00:01<00:00, 28.68it/s]\n",
      "100%|██████████| 29/29 [00:00<00:00, 39.82it/s]\n",
      "100%|██████████| 29/29 [00:00<00:00, 42.21it/s]\n",
      "100%|██████████| 29/29 [00:00<00:00, 44.36it/s]\n",
      "100%|██████████| 29/29 [00:00<00:00, 44.70it/s]\n",
      "100%|██████████| 29/29 [00:00<00:00, 44.78it/s]\n",
      "100%|██████████| 29/29 [00:00<00:00, 43.89it/s]\n",
      "100%|██████████| 29/29 [00:00<00:00, 43.79it/s]\n",
      "100%|██████████| 29/29 [00:00<00:00, 42.62it/s]\n"
     ]
    },
    {
     "name": "stdout",
     "output_type": "stream",
     "text": [
      "[[1, 0.5789180264180265], [2, 0.5759935897435897], [3, 0.6670192307692308], [4, 0.6235266122766123], [5, 0.7123397435897435], [6, 0.6526981351981351], [7, 0.782031857031857], [8, 0.7608197358197358], [9, 0.809489121989122], [10, 0.7385771173271172], [11, 0.8038752913752912], [12, 0.7959158896658897], [13, 0.7875242812742813], [14, 0.7465899378399378], [15, 0.7976204351204352], [16, 0.790739121989122], [17, 0.7889714452214452], [18, 0.7777972027972029], [19, 0.7615093240093239], [20, 0.7417871017871016], [21, 0.7659965034965035], [22, 0.7600621600621601], [23, 0.7772037684537683], [24, 0.7772037684537683], [25, 0.7695697358197358], [26, 0.7600621600621601]]\n"
     ]
    },
    {
     "data": {
      "image/png": "[encoded data removed]",
      "text/plain": [
       "<Figure size 432x288 with 1 Axes>"
      ]
     },
     "metadata": {
      "needs_background": "light"
     },
     "output_type": "display_data"
    }
   ],
   "source": [
    "accuracy2(plasma, 'GaussianNB')"
   ]
  },
  {
   "cell_type": "markdown",
   "metadata": {},
   "source": [
    "# Serum"
   ]
  },
  {
   "cell_type": "code",
   "execution_count": 25,
   "metadata": {},
   "outputs": [],
   "source": [
    "def accuracy2_serum(classifier):\n",
    "    serum_accuracy = rfecv_accuracy(serum, 16, classifier)\n",
    "    serum_accuracy = pd.DataFrame(serum_accuracy, columns= [\"Number of Metabolites\", \"Accuracy\"])\n",
    "    serum_accuracy.to_csv(f\"Serum Accuracy {classifier}.csv\", index=False)\n",
    "    fig = plt.gcf()\n",
    "    # plt.figure(figsize=(10, 6))\n",
    "    plt.plot(serum_accuracy[\"Number of Metabolites\"], serum_accuracy.Accuracy, 'o-')\n",
    "    plt.ylim([0.55, 0.95])\n",
    "    plt.ylabel('Accuracy')\n",
    "    plt.xlabel('Number of Metabolites')\n",
    "    # plt.title('Serum RFECV Accuracy Plot')\n",
    "    plt.xticks(np.arange(0, 16+1, 2))\n",
    "    plt.show()\n",
    "    fig.savefig(f'Serum RFECV Accuracy Plot {classifier}.png', dpi=500)"
   ]
  },
  {
   "cell_type": "code",
   "execution_count": 26,
   "metadata": {},
   "outputs": [
    {
     "name": "stderr",
     "output_type": "stream",
     "text": [
      " 10%|█         | 3/29 [00:00<00:00, 28.07it/s]"
     ]
    },
    {
     "name": "stdout",
     "output_type": "stream",
     "text": [
      "['cholesterol']\n"
     ]
    },
    {
     "name": "stderr",
     "output_type": "stream",
     "text": [
      "100%|██████████| 29/29 [00:00<00:00, 51.84it/s]\n",
      "100%|██████████| 29/29 [00:00<00:00, 51.47it/s]\n",
      "100%|██████████| 29/29 [00:00<00:00, 50.20it/s]\n",
      "100%|██████████| 29/29 [00:00<00:00, 48.23it/s]\n",
      "100%|██████████| 29/29 [00:00<00:00, 51.23it/s]\n",
      "100%|██████████| 29/29 [00:00<00:00, 48.25it/s]\n",
      "100%|██████████| 29/29 [00:00<00:00, 48.88it/s]\n",
      "100%|██████████| 29/29 [00:00<00:00, 47.77it/s]\n",
      "100%|██████████| 29/29 [00:00<00:00, 48.74it/s]\n",
      "100%|██████████| 29/29 [00:00<00:00, 49.52it/s]\n"
     ]
    },
    {
     "name": "stdout",
     "output_type": "stream",
     "text": [
      "[[1, 0.6347008547008546]]\n"
     ]
    },
    {
     "name": "stderr",
     "output_type": "stream",
     "text": [
      "  7%|▋         | 2/29 [00:00<00:01, 16.61it/s]"
     ]
    },
    {
     "name": "stdout",
     "output_type": "stream",
     "text": [
      "['cholesterol', 'threonine']\n"
     ]
    },
    {
     "name": "stderr",
     "output_type": "stream",
     "text": [
      "100%|██████████| 29/29 [00:00<00:00, 40.21it/s]\n",
      "100%|██████████| 29/29 [00:00<00:00, 49.73it/s]\n",
      "100%|██████████| 29/29 [00:00<00:00, 47.22it/s]\n",
      "100%|██████████| 29/29 [00:00<00:00, 46.10it/s]\n",
      "100%|██████████| 29/29 [00:00<00:00, 49.86it/s]\n",
      "100%|██████████| 29/29 [00:00<00:00, 50.02it/s]\n",
      "100%|██████████| 29/29 [00:00<00:00, 50.83it/s]\n",
      "100%|██████████| 29/29 [00:00<00:00, 49.82it/s]\n",
      "100%|██████████| 29/29 [00:00<00:00, 50.76it/s]\n",
      "100%|██████████| 29/29 [00:00<00:00, 48.90it/s]\n"
     ]
    },
    {
     "name": "stdout",
     "output_type": "stream",
     "text": [
      "[[1, 0.6347008547008546], [2, 0.638231351981352]]\n"
     ]
    },
    {
     "name": "stderr",
     "output_type": "stream",
     "text": [
      " 10%|█         | 3/29 [00:00<00:00, 28.85it/s]"
     ]
    },
    {
     "name": "stdout",
     "output_type": "stream",
     "text": [
      "['cholesterol', 'threonine', 'uric acid']\n"
     ]
    },
    {
     "name": "stderr",
     "output_type": "stream",
     "text": [
      "100%|██████████| 29/29 [00:00<00:00, 45.80it/s]\n",
      "100%|██████████| 29/29 [00:00<00:00, 44.08it/s]\n",
      "100%|██████████| 29/29 [00:00<00:00, 51.21it/s]\n",
      "100%|██████████| 29/29 [00:00<00:00, 45.39it/s]\n",
      "100%|██████████| 29/29 [00:00<00:00, 48.84it/s]\n",
      "100%|██████████| 29/29 [00:00<00:00, 46.65it/s]\n",
      "100%|██████████| 29/29 [00:00<00:00, 47.83it/s]\n",
      "100%|██████████| 29/29 [00:00<00:00, 48.94it/s]\n",
      "100%|██████████| 29/29 [00:00<00:00, 50.09it/s]\n",
      "100%|██████████| 29/29 [00:00<00:00, 47.77it/s]\n"
     ]
    },
    {
     "name": "stdout",
     "output_type": "stream",
     "text": [
      "[[1, 0.6347008547008546], [2, 0.638231351981352], [3, 0.6796503496503496]]\n"
     ]
    },
    {
     "name": "stderr",
     "output_type": "stream",
     "text": [
      "  7%|▋         | 2/29 [00:00<00:01, 16.81it/s]"
     ]
    },
    {
     "name": "stdout",
     "output_type": "stream",
     "text": [
      "['cholesterol', '3-hydroxybutanoic acid', '5-hydroxynorvaline NIST', 'inosine']\n"
     ]
    },
    {
     "name": "stderr",
     "output_type": "stream",
     "text": [
      "100%|██████████| 29/29 [00:00<00:00, 37.47it/s]\n",
      "100%|██████████| 29/29 [00:00<00:00, 43.37it/s]\n",
      "100%|██████████| 29/29 [00:00<00:00, 42.34it/s]\n",
      "100%|██████████| 29/29 [00:00<00:00, 33.26it/s]\n",
      "100%|██████████| 29/29 [00:00<00:00, 39.23it/s]\n",
      "100%|██████████| 29/29 [00:01<00:00, 26.88it/s]\n",
      "100%|██████████| 29/29 [00:00<00:00, 29.12it/s]\n",
      "100%|██████████| 29/29 [00:01<00:00, 26.46it/s]\n",
      "100%|██████████| 29/29 [00:00<00:00, 34.16it/s]\n",
      "100%|██████████| 29/29 [00:00<00:00, 34.68it/s]\n"
     ]
    },
    {
     "name": "stdout",
     "output_type": "stream",
     "text": [
      "[[1, 0.6347008547008546], [2, 0.638231351981352], [3, 0.6796503496503496], [4, 0.7315646853146852]]\n"
     ]
    },
    {
     "name": "stderr",
     "output_type": "stream",
     "text": [
      "  3%|▎         | 1/29 [00:00<00:03,  9.18it/s]"
     ]
    },
    {
     "name": "stdout",
     "output_type": "stream",
     "text": [
      "['cholesterol', 'threonine', 'uric acid', '3-hydroxybutanoic acid', '5-hydroxynorvaline NIST']\n"
     ]
    },
    {
     "name": "stderr",
     "output_type": "stream",
     "text": [
      "100%|██████████| 29/29 [00:01<00:00, 28.59it/s]\n",
      "100%|██████████| 29/29 [00:00<00:00, 33.99it/s]\n",
      "100%|██████████| 29/29 [00:00<00:00, 29.53it/s]\n",
      "100%|██████████| 29/29 [00:00<00:00, 34.15it/s]\n",
      "100%|██████████| 29/29 [00:00<00:00, 35.20it/s]\n",
      "100%|██████████| 29/29 [00:00<00:00, 34.27it/s]\n",
      "100%|██████████| 29/29 [00:00<00:00, 35.25it/s]\n",
      "100%|██████████| 29/29 [00:00<00:00, 37.13it/s]\n",
      "100%|██████████| 29/29 [00:00<00:00, 29.87it/s]\n",
      "100%|██████████| 29/29 [00:00<00:00, 33.09it/s]\n"
     ]
    },
    {
     "name": "stdout",
     "output_type": "stream",
     "text": [
      "[[1, 0.6347008547008546], [2, 0.638231351981352], [3, 0.6796503496503496], [4, 0.7315646853146852], [5, 0.6403146853146853]]\n"
     ]
    },
    {
     "name": "stderr",
     "output_type": "stream",
     "text": [
      " 14%|█▍        | 4/29 [00:00<00:00, 33.61it/s]"
     ]
    },
    {
     "name": "stdout",
     "output_type": "stream",
     "text": [
      "['cholesterol', 'threonine', 'uric acid', '3-hydroxybutanoic acid', '5-hydroxynorvaline NIST', 'inosine']\n"
     ]
    },
    {
     "name": "stderr",
     "output_type": "stream",
     "text": [
      "100%|██████████| 29/29 [00:00<00:00, 48.30it/s]\n",
      "100%|██████████| 29/29 [00:00<00:00, 46.95it/s]\n",
      "100%|██████████| 29/29 [00:00<00:00, 47.18it/s]\n",
      "100%|██████████| 29/29 [00:00<00:00, 47.30it/s]\n",
      "100%|██████████| 29/29 [00:00<00:00, 47.83it/s]\n",
      "100%|██████████| 29/29 [00:00<00:00, 47.35it/s]\n",
      "100%|██████████| 29/29 [00:00<00:00, 41.09it/s]\n",
      "100%|██████████| 29/29 [00:00<00:00, 42.76it/s]\n",
      "100%|██████████| 29/29 [00:00<00:00, 39.97it/s]\n",
      "100%|██████████| 29/29 [00:00<00:00, 46.91it/s]\n"
     ]
    },
    {
     "name": "stdout",
     "output_type": "stream",
     "text": [
      "[[1, 0.6347008547008546], [2, 0.638231351981352], [3, 0.6796503496503496], [4, 0.7315646853146852], [5, 0.6403146853146853], [6, 0.6705545843045843]]\n"
     ]
    },
    {
     "name": "stderr",
     "output_type": "stream",
     "text": [
      "  7%|▋         | 2/29 [00:00<00:01, 18.72it/s]"
     ]
    },
    {
     "name": "stdout",
     "output_type": "stream",
     "text": [
      "['cholesterol', 'threonine', 'uric acid', '3-hydroxybutanoic acid', '5-hydroxynorvaline NIST', 'inosine', 'lactic acid']\n"
     ]
    },
    {
     "name": "stderr",
     "output_type": "stream",
     "text": [
      "100%|██████████| 29/29 [00:00<00:00, 47.39it/s]\n",
      "100%|██████████| 29/29 [00:00<00:00, 46.10it/s]\n",
      "100%|██████████| 29/29 [00:00<00:00, 35.29it/s]\n",
      "100%|██████████| 29/29 [00:00<00:00, 45.37it/s]\n",
      "100%|██████████| 29/29 [00:00<00:00, 47.60it/s]\n",
      "100%|██████████| 29/29 [00:00<00:00, 47.54it/s]\n",
      "100%|██████████| 29/29 [00:00<00:00, 48.04it/s]\n",
      "100%|██████████| 29/29 [00:00<00:00, 48.07it/s]\n",
      "100%|██████████| 29/29 [00:00<00:00, 47.73it/s]\n",
      "100%|██████████| 29/29 [00:00<00:00, 48.00it/s]\n"
     ]
    },
    {
     "name": "stdout",
     "output_type": "stream",
     "text": [
      "[[1, 0.6347008547008546], [2, 0.638231351981352], [3, 0.6796503496503496], [4, 0.7315646853146852], [5, 0.6403146853146853], [6, 0.6705545843045843], [7, 0.6916656954156953]]\n"
     ]
    },
    {
     "name": "stderr",
     "output_type": "stream",
     "text": [
      " 10%|█         | 3/29 [00:00<00:00, 28.58it/s]"
     ]
    },
    {
     "name": "stdout",
     "output_type": "stream",
     "text": [
      "['cholesterol', 'threonine', 'uric acid', '3-hydroxybutanoic acid', '5-hydroxynorvaline NIST', 'inosine', 'lactic acid', 'N-methylalanine']\n"
     ]
    },
    {
     "name": "stderr",
     "output_type": "stream",
     "text": [
      "100%|██████████| 29/29 [00:00<00:00, 47.99it/s]\n",
      "100%|██████████| 29/29 [00:00<00:00, 47.91it/s]\n",
      "100%|██████████| 29/29 [00:00<00:00, 47.76it/s]\n",
      "100%|██████████| 29/29 [00:00<00:00, 45.67it/s]\n",
      "100%|██████████| 29/29 [00:00<00:00, 43.77it/s]\n",
      "100%|██████████| 29/29 [00:00<00:00, 40.92it/s]\n",
      "100%|██████████| 29/29 [00:00<00:00, 41.08it/s]\n",
      "100%|██████████| 29/29 [00:00<00:00, 44.42it/s]\n",
      "100%|██████████| 29/29 [00:00<00:00, 45.55it/s]\n",
      "100%|██████████| 29/29 [00:00<00:00, 47.55it/s]\n"
     ]
    },
    {
     "name": "stdout",
     "output_type": "stream",
     "text": [
      "[[1, 0.6347008547008546], [2, 0.638231351981352], [3, 0.6796503496503496], [4, 0.7315646853146852], [5, 0.6403146853146853], [6, 0.6705545843045843], [7, 0.6916656954156953], [8, 0.6798601398601398]]\n"
     ]
    },
    {
     "name": "stderr",
     "output_type": "stream",
     "text": [
      " 10%|█         | 3/29 [00:00<00:00, 27.78it/s]"
     ]
    },
    {
     "name": "stdout",
     "output_type": "stream",
     "text": [
      "['cholesterol', 'threonine', 'uric acid', '3-hydroxybutanoic acid', '5-hydroxynorvaline NIST', 'inosine', 'lactic acid', 'N-methylalanine', 'phenylalanine']\n"
     ]
    },
    {
     "name": "stderr",
     "output_type": "stream",
     "text": [
      "100%|██████████| 29/29 [00:00<00:00, 40.06it/s]\n",
      "100%|██████████| 29/29 [00:00<00:00, 42.75it/s]\n",
      "100%|██████████| 29/29 [00:00<00:00, 38.08it/s]\n",
      "100%|██████████| 29/29 [00:00<00:00, 43.73it/s]\n",
      "100%|██████████| 29/29 [00:00<00:00, 39.96it/s]\n",
      "100%|██████████| 29/29 [00:00<00:00, 44.83it/s]\n",
      "100%|██████████| 29/29 [00:00<00:00, 29.50it/s]\n",
      "100%|██████████| 29/29 [00:00<00:00, 39.98it/s]\n",
      "100%|██████████| 29/29 [00:00<00:00, 41.37it/s]\n",
      "100%|██████████| 29/29 [00:00<00:00, 45.47it/s]\n"
     ]
    },
    {
     "name": "stdout",
     "output_type": "stream",
     "text": [
      "[[1, 0.6347008547008546], [2, 0.638231351981352], [3, 0.6796503496503496], [4, 0.7315646853146852], [5, 0.6403146853146853], [6, 0.6705545843045843], [7, 0.6916656954156953], [8, 0.6798601398601398], [9, 0.6704584304584305]]\n"
     ]
    },
    {
     "name": "stderr",
     "output_type": "stream",
     "text": [
      " 14%|█▍        | 4/29 [00:00<00:00, 33.30it/s]"
     ]
    },
    {
     "name": "stdout",
     "output_type": "stream",
     "text": [
      "['cholesterol', 'threonine', 'uric acid', '3-hydroxybutanoic acid', '5-hydroxynorvaline NIST', 'inosine', 'lactic acid', 'N-methylalanine', 'phenylalanine', 'quinic acid']\n"
     ]
    },
    {
     "name": "stderr",
     "output_type": "stream",
     "text": [
      "100%|██████████| 29/29 [00:00<00:00, 50.26it/s]\n",
      "100%|██████████| 29/29 [00:00<00:00, 47.14it/s]\n",
      "100%|██████████| 29/29 [00:00<00:00, 47.15it/s]\n",
      "100%|██████████| 29/29 [00:00<00:00, 47.59it/s]\n",
      "100%|██████████| 29/29 [00:00<00:00, 47.87it/s]\n",
      "100%|██████████| 29/29 [00:00<00:00, 47.28it/s]\n",
      "100%|██████████| 29/29 [00:00<00:00, 47.35it/s]\n",
      "100%|██████████| 29/29 [00:00<00:00, 48.08it/s]\n",
      "100%|██████████| 29/29 [00:00<00:00, 47.85it/s]\n",
      "100%|██████████| 29/29 [00:00<00:00, 47.47it/s]\n"
     ]
    },
    {
     "name": "stdout",
     "output_type": "stream",
     "text": [
      "[[1, 0.6347008547008546], [2, 0.638231351981352], [3, 0.6796503496503496], [4, 0.7315646853146852], [5, 0.6403146853146853], [6, 0.6705545843045843], [7, 0.6916656954156953], [8, 0.6798601398601398], [9, 0.6704584304584305], [10, 0.7087111499611499]]\n"
     ]
    },
    {
     "name": "stderr",
     "output_type": "stream",
     "text": [
      " 14%|█▍        | 4/29 [00:00<00:00, 33.71it/s]"
     ]
    },
    {
     "name": "stdout",
     "output_type": "stream",
     "text": [
      "['cholesterol', 'threonine', 'uric acid', '3-hydroxybutanoic acid', '5-hydroxynorvaline NIST', 'inosine', 'lactic acid', 'N-methylalanine', 'phenylalanine', 'quinic acid', 'aspartic acid']\n"
     ]
    },
    {
     "name": "stderr",
     "output_type": "stream",
     "text": [
      "100%|██████████| 29/29 [00:00<00:00, 48.87it/s]\n",
      "100%|██████████| 29/29 [00:00<00:00, 47.46it/s]\n",
      "100%|██████████| 29/29 [00:00<00:00, 40.94it/s]\n",
      "100%|██████████| 29/29 [00:00<00:00, 40.95it/s]\n",
      "100%|██████████| 29/29 [00:00<00:00, 46.81it/s]\n",
      "100%|██████████| 29/29 [00:00<00:00, 47.40it/s]\n",
      "100%|██████████| 29/29 [00:00<00:00, 46.88it/s]\n",
      "100%|██████████| 29/29 [00:00<00:00, 46.01it/s]\n",
      "100%|██████████| 29/29 [00:00<00:00, 46.19it/s]\n",
      "100%|██████████| 29/29 [00:00<00:00, 45.75it/s]\n"
     ]
    },
    {
     "name": "stdout",
     "output_type": "stream",
     "text": [
      "[[1, 0.6347008547008546], [2, 0.638231351981352], [3, 0.6796503496503496], [4, 0.7315646853146852], [5, 0.6403146853146853], [6, 0.6705545843045843], [7, 0.6916656954156953], [8, 0.6798601398601398], [9, 0.6704584304584305], [10, 0.7087111499611499], [11, 0.7441278166278166]]\n"
     ]
    },
    {
     "name": "stderr",
     "output_type": "stream",
     "text": [
      " 14%|█▍        | 4/29 [00:00<00:00, 34.20it/s]"
     ]
    },
    {
     "name": "stdout",
     "output_type": "stream",
     "text": [
      "['cholesterol', 'uric acid', '3-hydroxybutanoic acid', '5-hydroxynorvaline NIST', 'inosine', 'N-methylalanine', 'aspartic acid', 'deoxypentitol', 'glutamic acid', 'malic acid', 'phenol', 'taurine']\n"
     ]
    },
    {
     "name": "stderr",
     "output_type": "stream",
     "text": [
      "100%|██████████| 29/29 [00:00<00:00, 49.45it/s]\n",
      "100%|██████████| 29/29 [00:00<00:00, 45.53it/s]\n",
      "100%|██████████| 29/29 [00:00<00:00, 45.16it/s]\n",
      "100%|██████████| 29/29 [00:00<00:00, 46.30it/s]\n",
      "100%|██████████| 29/29 [00:00<00:00, 42.22it/s]\n",
      "100%|██████████| 29/29 [00:00<00:00, 47.20it/s]\n",
      "100%|██████████| 29/29 [00:00<00:00, 46.25it/s]\n",
      "100%|██████████| 29/29 [00:00<00:00, 46.10it/s]\n",
      "100%|██████████| 29/29 [00:00<00:00, 47.05it/s]\n",
      "100%|██████████| 29/29 [00:00<00:00, 47.12it/s]\n"
     ]
    },
    {
     "name": "stdout",
     "output_type": "stream",
     "text": [
      "[[1, 0.6347008547008546], [2, 0.638231351981352], [3, 0.6796503496503496], [4, 0.7315646853146852], [5, 0.6403146853146853], [6, 0.6705545843045843], [7, 0.6916656954156953], [8, 0.6798601398601398], [9, 0.6704584304584305], [10, 0.7087111499611499], [11, 0.7441278166278166], [12, 0.6996406371406371]]\n"
     ]
    },
    {
     "name": "stderr",
     "output_type": "stream",
     "text": [
      " 14%|█▍        | 4/29 [00:00<00:00, 33.32it/s]"
     ]
    },
    {
     "name": "stdout",
     "output_type": "stream",
     "text": [
      "['cholesterol', 'threonine', 'uric acid', '3-hydroxybutanoic acid', '5-hydroxynorvaline NIST', 'inosine', 'lactic acid', 'N-methylalanine', 'phenylalanine', 'quinic acid', 'aspartic acid', 'deoxypentitol', 'glutamic acid']\n"
     ]
    },
    {
     "name": "stderr",
     "output_type": "stream",
     "text": [
      "100%|██████████| 29/29 [00:00<00:00, 49.66it/s]\n",
      "100%|██████████| 29/29 [00:00<00:00, 46.55it/s]\n",
      "100%|██████████| 29/29 [00:00<00:00, 46.52it/s]\n",
      "100%|██████████| 29/29 [00:00<00:00, 42.87it/s]\n",
      "100%|██████████| 29/29 [00:00<00:00, 47.31it/s]\n",
      "100%|██████████| 29/29 [00:00<00:00, 44.24it/s]\n",
      "100%|██████████| 29/29 [00:00<00:00, 45.94it/s]\n",
      "100%|██████████| 29/29 [00:00<00:00, 46.18it/s]\n",
      "100%|██████████| 29/29 [00:00<00:00, 36.32it/s]\n",
      "100%|██████████| 29/29 [00:00<00:00, 41.11it/s]\n"
     ]
    },
    {
     "name": "stdout",
     "output_type": "stream",
     "text": [
      "[[1, 0.6347008547008546], [2, 0.638231351981352], [3, 0.6796503496503496], [4, 0.7315646853146852], [5, 0.6403146853146853], [6, 0.6705545843045843], [7, 0.6916656954156953], [8, 0.6798601398601398], [9, 0.6704584304584305], [10, 0.7087111499611499], [11, 0.7441278166278166], [12, 0.6996406371406371], [13, 0.7540646853146854]]\n"
     ]
    },
    {
     "name": "stderr",
     "output_type": "stream",
     "text": [
      " 10%|█         | 3/29 [00:00<00:00, 27.87it/s]"
     ]
    },
    {
     "name": "stdout",
     "output_type": "stream",
     "text": [
      "['cholesterol', 'threonine', 'uric acid', '3-hydroxybutanoic acid', '5-hydroxynorvaline NIST', 'inosine', 'lactic acid', 'N-methylalanine', 'quinic acid', 'aspartic acid', 'deoxypentitol', 'malic acid', 'phenol', 'taurine']\n"
     ]
    },
    {
     "name": "stderr",
     "output_type": "stream",
     "text": [
      "100%|██████████| 29/29 [00:00<00:00, 46.06it/s]\n",
      "100%|██████████| 29/29 [00:00<00:00, 42.41it/s]\n",
      "100%|██████████| 29/29 [00:00<00:00, 42.62it/s]\n",
      "100%|██████████| 29/29 [00:00<00:00, 43.74it/s]\n",
      "100%|██████████| 29/29 [00:00<00:00, 42.69it/s]\n",
      "100%|██████████| 29/29 [00:00<00:00, 41.84it/s]\n",
      "100%|██████████| 29/29 [00:00<00:00, 42.88it/s]\n",
      "100%|██████████| 29/29 [00:00<00:00, 43.13it/s]\n",
      "100%|██████████| 29/29 [00:00<00:00, 42.78it/s]\n",
      "100%|██████████| 29/29 [00:00<00:00, 40.96it/s]\n"
     ]
    },
    {
     "name": "stdout",
     "output_type": "stream",
     "text": [
      "[[1, 0.6347008547008546], [2, 0.638231351981352], [3, 0.6796503496503496], [4, 0.7315646853146852], [5, 0.6403146853146853], [6, 0.6705545843045843], [7, 0.6916656954156953], [8, 0.6798601398601398], [9, 0.6704584304584305], [10, 0.7087111499611499], [11, 0.7441278166278166], [12, 0.6996406371406371], [13, 0.7540646853146854], [14, 0.7204632867132869]]\n"
     ]
    },
    {
     "name": "stderr",
     "output_type": "stream",
     "text": [
      " 10%|█         | 3/29 [00:00<00:00, 28.17it/s]"
     ]
    },
    {
     "name": "stdout",
     "output_type": "stream",
     "text": [
      "['cholesterol', 'threonine', '3-hydroxybutanoic acid', '5-hydroxynorvaline NIST', 'inosine', 'lactic acid', 'N-methylalanine', 'phenylalanine', 'quinic acid', 'aspartic acid', 'deoxypentitol', 'glutamic acid', 'malic acid', 'phenol', 'taurine']\n"
     ]
    },
    {
     "name": "stderr",
     "output_type": "stream",
     "text": [
      "100%|██████████| 29/29 [00:00<00:00, 42.66it/s]\n",
      "100%|██████████| 29/29 [00:00<00:00, 44.09it/s]\n",
      "100%|██████████| 29/29 [00:00<00:00, 43.16it/s]\n",
      "100%|██████████| 29/29 [00:00<00:00, 43.94it/s]\n",
      "100%|██████████| 29/29 [00:00<00:00, 45.08it/s]\n",
      "100%|██████████| 29/29 [00:00<00:00, 47.07it/s]\n",
      "100%|██████████| 29/29 [00:00<00:00, 46.25it/s]\n",
      "100%|██████████| 29/29 [00:00<00:00, 45.97it/s]\n",
      "100%|██████████| 29/29 [00:00<00:00, 43.47it/s]\n",
      "100%|██████████| 29/29 [00:00<00:00, 45.72it/s]\n"
     ]
    },
    {
     "name": "stdout",
     "output_type": "stream",
     "text": [
      "[[1, 0.6347008547008546], [2, 0.638231351981352], [3, 0.6796503496503496], [4, 0.7315646853146852], [5, 0.6403146853146853], [6, 0.6705545843045843], [7, 0.6916656954156953], [8, 0.6798601398601398], [9, 0.6704584304584305], [10, 0.7087111499611499], [11, 0.7441278166278166], [12, 0.6996406371406371], [13, 0.7540646853146854], [14, 0.7204632867132869], [15, 0.7210470085470086]]\n"
     ]
    },
    {
     "name": "stderr",
     "output_type": "stream",
     "text": [
      " 10%|█         | 3/29 [00:00<00:00, 29.48it/s]"
     ]
    },
    {
     "name": "stdout",
     "output_type": "stream",
     "text": [
      "['cholesterol', 'threonine', 'uric acid', '3-hydroxybutanoic acid', '5-hydroxynorvaline NIST', 'inosine', 'lactic acid', 'N-methylalanine', 'phenylalanine', 'quinic acid', 'aspartic acid', 'deoxypentitol', 'glutamic acid', 'malic acid', 'phenol', 'taurine']\n"
     ]
    },
    {
     "name": "stderr",
     "output_type": "stream",
     "text": [
      "100%|██████████| 29/29 [00:00<00:00, 46.95it/s]\n",
      "100%|██████████| 29/29 [00:00<00:00, 44.65it/s]\n",
      "100%|██████████| 29/29 [00:00<00:00, 45.69it/s]\n",
      "100%|██████████| 29/29 [00:00<00:00, 44.41it/s]\n",
      "100%|██████████| 29/29 [00:00<00:00, 44.28it/s]\n",
      "100%|██████████| 29/29 [00:00<00:00, 45.66it/s]\n",
      "100%|██████████| 29/29 [00:00<00:00, 45.78it/s]\n",
      "100%|██████████| 29/29 [00:00<00:00, 44.38it/s]\n",
      "100%|██████████| 29/29 [00:00<00:00, 46.26it/s]\n",
      "100%|██████████| 29/29 [00:00<00:00, 44.36it/s]\n"
     ]
    },
    {
     "name": "stdout",
     "output_type": "stream",
     "text": [
      "[[1, 0.6347008547008546], [2, 0.638231351981352], [3, 0.6796503496503496], [4, 0.7315646853146852], [5, 0.6403146853146853], [6, 0.6705545843045843], [7, 0.6916656954156953], [8, 0.6798601398601398], [9, 0.6704584304584305], [10, 0.7087111499611499], [11, 0.7441278166278166], [12, 0.6996406371406371], [13, 0.7540646853146854], [14, 0.7204632867132869], [15, 0.7210470085470086], [16, 0.6748397435897436]]\n"
     ]
    },
    {
     "data": {
      "image/png": "[encoded data removed]",
      "text/plain": [
       "<Figure size 432x288 with 1 Axes>"
      ]
     },
     "metadata": {
      "needs_background": "light"
     },
     "output_type": "display_data"
    }
   ],
   "source": [
    "accuracy2_serum('RidgeClassifier')"
   ]
  },
  {
   "cell_type": "code",
   "execution_count": 27,
   "metadata": {},
   "outputs": [
    {
     "name": "stderr",
     "output_type": "stream",
     "text": [
      " 14%|█▍        | 4/29 [00:00<00:00, 33.92it/s]"
     ]
    },
    {
     "name": "stdout",
     "output_type": "stream",
     "text": [
      "['cholesterol']\n"
     ]
    },
    {
     "name": "stderr",
     "output_type": "stream",
     "text": [
      "100%|██████████| 29/29 [00:00<00:00, 50.81it/s]\n",
      "100%|██████████| 29/29 [00:00<00:00, 48.17it/s]\n",
      "100%|██████████| 29/29 [00:00<00:00, 48.95it/s]\n",
      "100%|██████████| 29/29 [00:00<00:00, 49.33it/s]\n",
      "100%|██████████| 29/29 [00:00<00:00, 48.33it/s]\n",
      "100%|██████████| 29/29 [00:00<00:00, 47.47it/s]\n",
      "100%|██████████| 29/29 [00:00<00:00, 47.09it/s]\n",
      "100%|██████████| 29/29 [00:00<00:00, 47.12it/s]\n",
      "100%|██████████| 29/29 [00:00<00:00, 48.44it/s]\n",
      "100%|██████████| 29/29 [00:00<00:00, 47.98it/s]\n"
     ]
    },
    {
     "name": "stdout",
     "output_type": "stream",
     "text": [
      "[[1, 0.6287082362082361]]\n"
     ]
    },
    {
     "name": "stderr",
     "output_type": "stream",
     "text": [
      " 14%|█▍        | 4/29 [00:00<00:00, 35.07it/s]"
     ]
    },
    {
     "name": "stdout",
     "output_type": "stream",
     "text": [
      "['cholesterol', 'threonine']\n"
     ]
    },
    {
     "name": "stderr",
     "output_type": "stream",
     "text": [
      "100%|██████████| 29/29 [00:00<00:00, 50.87it/s]\n",
      "100%|██████████| 29/29 [00:00<00:00, 47.20it/s]\n",
      "100%|██████████| 29/29 [00:00<00:00, 45.92it/s]\n",
      "100%|██████████| 29/29 [00:00<00:00, 47.70it/s]\n",
      "100%|██████████| 29/29 [00:00<00:00, 48.25it/s]\n",
      "100%|██████████| 29/29 [00:00<00:00, 46.47it/s]\n",
      "100%|██████████| 29/29 [00:00<00:00, 45.97it/s]\n",
      "100%|██████████| 29/29 [00:00<00:00, 47.31it/s]\n",
      "100%|██████████| 29/29 [00:00<00:00, 48.68it/s]\n",
      "100%|██████████| 29/29 [00:00<00:00, 47.91it/s]\n"
     ]
    },
    {
     "name": "stdout",
     "output_type": "stream",
     "text": [
      "[[1, 0.6287082362082361], [2, 0.5616627816627815]]\n"
     ]
    },
    {
     "name": "stderr",
     "output_type": "stream",
     "text": [
      " 14%|█▍        | 4/29 [00:00<00:00, 34.52it/s]"
     ]
    },
    {
     "name": "stdout",
     "output_type": "stream",
     "text": [
      "['threonine', '3-hydroxybutanoic acid', '5-hydroxynorvaline NIST']\n"
     ]
    },
    {
     "name": "stderr",
     "output_type": "stream",
     "text": [
      "100%|██████████| 29/29 [00:00<00:00, 50.76it/s]\n",
      "100%|██████████| 29/29 [00:00<00:00, 47.99it/s]\n",
      "100%|██████████| 29/29 [00:00<00:00, 46.79it/s]\n",
      "100%|██████████| 29/29 [00:00<00:00, 47.96it/s]\n",
      "100%|██████████| 29/29 [00:00<00:00, 48.53it/s]\n",
      "100%|██████████| 29/29 [00:00<00:00, 45.92it/s]\n",
      "100%|██████████| 29/29 [00:00<00:00, 46.04it/s]\n",
      "100%|██████████| 29/29 [00:00<00:00, 45.70it/s]\n",
      "100%|██████████| 29/29 [00:00<00:00, 47.05it/s]\n",
      "100%|██████████| 29/29 [00:00<00:00, 47.55it/s]\n"
     ]
    },
    {
     "name": "stdout",
     "output_type": "stream",
     "text": [
      "[[1, 0.6287082362082361], [2, 0.5616627816627815], [3, 0.6103651903651903]]\n"
     ]
    },
    {
     "name": "stderr",
     "output_type": "stream",
     "text": [
      " 14%|█▍        | 4/29 [00:00<00:00, 34.21it/s]"
     ]
    },
    {
     "name": "stdout",
     "output_type": "stream",
     "text": [
      "['cholesterol', 'threonine', 'uric acid', '3-hydroxybutanoic acid']\n"
     ]
    },
    {
     "name": "stderr",
     "output_type": "stream",
     "text": [
      "100%|██████████| 29/29 [00:00<00:00, 48.66it/s]\n",
      "100%|██████████| 29/29 [00:00<00:00, 47.26it/s]\n",
      "100%|██████████| 29/29 [00:00<00:00, 46.81it/s]\n",
      "100%|██████████| 29/29 [00:00<00:00, 47.40it/s]\n",
      "100%|██████████| 29/29 [00:00<00:00, 47.31it/s]\n",
      "100%|██████████| 29/29 [00:00<00:00, 48.40it/s]\n",
      "100%|██████████| 29/29 [00:00<00:00, 46.53it/s]\n",
      "100%|██████████| 29/29 [00:00<00:00, 47.32it/s]\n",
      "100%|██████████| 29/29 [00:00<00:00, 46.47it/s]\n",
      "100%|██████████| 29/29 [00:00<00:00, 47.24it/s]\n"
     ]
    },
    {
     "name": "stdout",
     "output_type": "stream",
     "text": [
      "[[1, 0.6287082362082361], [2, 0.5616627816627815], [3, 0.6103651903651903], [4, 0.5801884226884226]]\n"
     ]
    },
    {
     "name": "stderr",
     "output_type": "stream",
     "text": [
      " 14%|█▍        | 4/29 [00:00<00:00, 35.09it/s]"
     ]
    },
    {
     "name": "stdout",
     "output_type": "stream",
     "text": [
      "['cholesterol', 'threonine', 'uric acid', '3-hydroxybutanoic acid', '5-hydroxynorvaline NIST']\n"
     ]
    },
    {
     "name": "stderr",
     "output_type": "stream",
     "text": [
      "100%|██████████| 29/29 [00:00<00:00, 50.88it/s]\n",
      "100%|██████████| 29/29 [00:00<00:00, 46.94it/s]\n",
      "100%|██████████| 29/29 [00:00<00:00, 45.89it/s]\n",
      "100%|██████████| 29/29 [00:00<00:00, 45.17it/s]\n",
      "100%|██████████| 29/29 [00:00<00:00, 47.24it/s]\n",
      "100%|██████████| 29/29 [00:00<00:00, 46.59it/s]\n",
      "100%|██████████| 29/29 [00:00<00:00, 46.97it/s]\n",
      "100%|██████████| 29/29 [00:00<00:00, 47.90it/s]\n",
      "100%|██████████| 29/29 [00:00<00:00, 46.22it/s]\n",
      "100%|██████████| 29/29 [00:00<00:00, 47.28it/s]\n"
     ]
    },
    {
     "name": "stdout",
     "output_type": "stream",
     "text": [
      "[[1, 0.6287082362082361], [2, 0.5616627816627815], [3, 0.6103651903651903], [4, 0.5801884226884226], [5, 0.6899106449106449]]\n"
     ]
    },
    {
     "name": "stderr",
     "output_type": "stream",
     "text": [
      " 10%|█         | 3/29 [00:00<00:00, 29.10it/s]"
     ]
    },
    {
     "name": "stdout",
     "output_type": "stream",
     "text": [
      "['cholesterol', 'threonine', 'uric acid', '3-hydroxybutanoic acid', '5-hydroxynorvaline NIST', 'inosine']\n"
     ]
    },
    {
     "name": "stderr",
     "output_type": "stream",
     "text": [
      "100%|██████████| 29/29 [00:00<00:00, 46.69it/s]\n",
      "100%|██████████| 29/29 [00:00<00:00, 46.93it/s]\n",
      "100%|██████████| 29/29 [00:00<00:00, 47.60it/s]\n",
      "100%|██████████| 29/29 [00:00<00:00, 47.26it/s]\n",
      "100%|██████████| 29/29 [00:00<00:00, 47.46it/s]\n",
      "100%|██████████| 29/29 [00:00<00:00, 47.61it/s]\n",
      "100%|██████████| 29/29 [00:00<00:00, 46.23it/s]\n",
      "100%|██████████| 29/29 [00:00<00:00, 46.12it/s]\n",
      "100%|██████████| 29/29 [00:00<00:00, 46.62it/s]\n",
      "100%|██████████| 29/29 [00:00<00:00, 46.26it/s]\n"
     ]
    },
    {
     "name": "stdout",
     "output_type": "stream",
     "text": [
      "[[1, 0.6287082362082361], [2, 0.5616627816627815], [3, 0.6103651903651903], [4, 0.5801884226884226], [5, 0.6899106449106449], [6, 0.7177039627039628]]\n"
     ]
    },
    {
     "name": "stderr",
     "output_type": "stream",
     "text": [
      " 10%|█         | 3/29 [00:00<00:00, 27.30it/s]"
     ]
    },
    {
     "name": "stdout",
     "output_type": "stream",
     "text": [
      "['threonine', 'uric acid', '3-hydroxybutanoic acid', '5-hydroxynorvaline NIST', 'inosine', 'lactic acid', 'N-methylalanine']\n"
     ]
    },
    {
     "name": "stderr",
     "output_type": "stream",
     "text": [
      "100%|██████████| 29/29 [00:00<00:00, 46.42it/s]\n",
      "100%|██████████| 29/29 [00:00<00:00, 46.74it/s]\n",
      "100%|██████████| 29/29 [00:00<00:00, 46.50it/s]\n",
      "100%|██████████| 29/29 [00:00<00:00, 47.00it/s]\n",
      "100%|██████████| 29/29 [00:00<00:00, 47.38it/s]\n",
      "100%|██████████| 29/29 [00:00<00:00, 47.74it/s]\n",
      "100%|██████████| 29/29 [00:00<00:00, 46.14it/s]\n",
      "100%|██████████| 29/29 [00:00<00:00, 46.71it/s]\n",
      "100%|██████████| 29/29 [00:00<00:00, 42.76it/s]\n",
      "100%|██████████| 29/29 [00:00<00:00, 46.79it/s]\n"
     ]
    },
    {
     "name": "stdout",
     "output_type": "stream",
     "text": [
      "[[1, 0.6287082362082361], [2, 0.5616627816627815], [3, 0.6103651903651903], [4, 0.5801884226884226], [5, 0.6899106449106449], [6, 0.7177039627039628], [7, 0.7965268065268066]]\n"
     ]
    },
    {
     "name": "stderr",
     "output_type": "stream",
     "text": [
      " 14%|█▍        | 4/29 [00:00<00:00, 33.03it/s]"
     ]
    },
    {
     "name": "stdout",
     "output_type": "stream",
     "text": [
      "['cholesterol', 'threonine', 'uric acid', '3-hydroxybutanoic acid', '5-hydroxynorvaline NIST', 'inosine', 'lactic acid', 'N-methylalanine']\n"
     ]
    },
    {
     "name": "stderr",
     "output_type": "stream",
     "text": [
      "100%|██████████| 29/29 [00:00<00:00, 48.27it/s]\n",
      "100%|██████████| 29/29 [00:00<00:00, 47.06it/s]\n",
      "100%|██████████| 29/29 [00:00<00:00, 46.32it/s]\n",
      "100%|██████████| 29/29 [00:00<00:00, 46.41it/s]\n",
      "100%|██████████| 29/29 [00:00<00:00, 40.42it/s]\n",
      "100%|██████████| 29/29 [00:00<00:00, 47.49it/s]\n",
      "100%|██████████| 29/29 [00:00<00:00, 47.45it/s]\n",
      "100%|██████████| 29/29 [00:00<00:00, 46.58it/s]\n",
      "100%|██████████| 29/29 [00:00<00:00, 47.40it/s]\n",
      "100%|██████████| 29/29 [00:00<00:00, 44.18it/s]\n"
     ]
    },
    {
     "name": "stdout",
     "output_type": "stream",
     "text": [
      "[[1, 0.6287082362082361], [2, 0.5616627816627815], [3, 0.6103651903651903], [4, 0.5801884226884226], [5, 0.6899106449106449], [6, 0.7177039627039628], [7, 0.7965268065268066], [8, 0.7833906371406373]]\n"
     ]
    },
    {
     "name": "stderr",
     "output_type": "stream",
     "text": [
      " 14%|█▍        | 4/29 [00:00<00:00, 33.04it/s]"
     ]
    },
    {
     "name": "stdout",
     "output_type": "stream",
     "text": [
      "['cholesterol', 'threonine', '5-hydroxynorvaline NIST', 'inosine', 'lactic acid', 'N-methylalanine', 'aspartic acid', 'deoxypentitol', 'malic acid']\n"
     ]
    },
    {
     "name": "stderr",
     "output_type": "stream",
     "text": [
      "100%|██████████| 29/29 [00:00<00:00, 49.27it/s]\n",
      "100%|██████████| 29/29 [00:00<00:00, 46.28it/s]\n",
      "100%|██████████| 29/29 [00:00<00:00, 44.58it/s]\n",
      "100%|██████████| 29/29 [00:00<00:00, 45.88it/s]\n",
      "100%|██████████| 29/29 [00:00<00:00, 46.12it/s]\n",
      "100%|██████████| 29/29 [00:00<00:00, 46.59it/s]\n",
      "100%|██████████| 29/29 [00:00<00:00, 46.50it/s]\n",
      "100%|██████████| 29/29 [00:00<00:00, 46.61it/s]\n",
      "100%|██████████| 29/29 [00:00<00:00, 47.53it/s]\n",
      "100%|██████████| 29/29 [00:00<00:00, 47.72it/s]\n"
     ]
    },
    {
     "name": "stdout",
     "output_type": "stream",
     "text": [
      "[[1, 0.6287082362082361], [2, 0.5616627816627815], [3, 0.6103651903651903], [4, 0.5801884226884226], [5, 0.6899106449106449], [6, 0.7177039627039628], [7, 0.7965268065268066], [8, 0.7833906371406373], [9, 0.8047639860139861]]\n"
     ]
    },
    {
     "name": "stderr",
     "output_type": "stream",
     "text": [
      " 14%|█▍        | 4/29 [00:00<00:00, 33.06it/s]"
     ]
    },
    {
     "name": "stdout",
     "output_type": "stream",
     "text": [
      "['cholesterol', 'threonine', 'uric acid', '3-hydroxybutanoic acid', '5-hydroxynorvaline NIST', 'inosine', 'lactic acid', 'N-methylalanine', 'phenylalanine', 'quinic acid']\n"
     ]
    },
    {
     "name": "stderr",
     "output_type": "stream",
     "text": [
      "100%|██████████| 29/29 [00:00<00:00, 49.11it/s]\n",
      "100%|██████████| 29/29 [00:00<00:00, 47.39it/s]\n",
      "100%|██████████| 29/29 [00:00<00:00, 47.07it/s]\n",
      "100%|██████████| 29/29 [00:00<00:00, 46.09it/s]\n",
      "100%|██████████| 29/29 [00:00<00:00, 47.16it/s]\n",
      "100%|██████████| 29/29 [00:00<00:00, 47.54it/s]\n",
      "100%|██████████| 29/29 [00:00<00:00, 45.83it/s]\n",
      "100%|██████████| 29/29 [00:00<00:00, 47.37it/s]\n",
      "100%|██████████| 29/29 [00:00<00:00, 47.18it/s]\n",
      "100%|██████████| 29/29 [00:00<00:00, 47.32it/s]\n"
     ]
    },
    {
     "name": "stdout",
     "output_type": "stream",
     "text": [
      "[[1, 0.6287082362082361], [2, 0.5616627816627815], [3, 0.6103651903651903], [4, 0.5801884226884226], [5, 0.6899106449106449], [6, 0.7177039627039628], [7, 0.7965268065268066], [8, 0.7833906371406373], [9, 0.8047639860139861], [10, 0.791029526029526]]\n"
     ]
    },
    {
     "name": "stderr",
     "output_type": "stream",
     "text": [
      " 14%|█▍        | 4/29 [00:00<00:00, 32.96it/s]"
     ]
    },
    {
     "name": "stdout",
     "output_type": "stream",
     "text": [
      "['cholesterol', 'threonine', 'uric acid', '3-hydroxybutanoic acid', '5-hydroxynorvaline NIST', 'inosine', 'lactic acid', 'N-methylalanine', 'phenylalanine', 'quinic acid', 'aspartic acid']\n"
     ]
    },
    {
     "name": "stderr",
     "output_type": "stream",
     "text": [
      "100%|██████████| 29/29 [00:00<00:00, 49.40it/s]\n",
      "100%|██████████| 29/29 [00:00<00:00, 47.96it/s]\n",
      "100%|██████████| 29/29 [00:00<00:00, 47.66it/s]\n",
      "100%|██████████| 29/29 [00:00<00:00, 47.84it/s]\n",
      "100%|██████████| 29/29 [00:00<00:00, 47.18it/s]\n",
      "100%|██████████| 29/29 [00:00<00:00, 46.90it/s]\n",
      "100%|██████████| 29/29 [00:00<00:00, 47.41it/s]\n",
      "100%|██████████| 29/29 [00:00<00:00, 47.69it/s]\n",
      "100%|██████████| 29/29 [00:00<00:00, 47.15it/s]\n",
      "100%|██████████| 29/29 [00:00<00:00, 46.52it/s]\n"
     ]
    },
    {
     "name": "stdout",
     "output_type": "stream",
     "text": [
      "[[1, 0.6287082362082361], [2, 0.5616627816627815], [3, 0.6103651903651903], [4, 0.5801884226884226], [5, 0.6899106449106449], [6, 0.7177039627039628], [7, 0.7965268065268066], [8, 0.7833906371406373], [9, 0.8047639860139861], [10, 0.791029526029526], [11, 0.8327214452214452]]\n"
     ]
    },
    {
     "name": "stderr",
     "output_type": "stream",
     "text": [
      " 10%|█         | 3/29 [00:00<00:00, 30.00it/s]"
     ]
    },
    {
     "name": "stdout",
     "output_type": "stream",
     "text": [
      "['cholesterol', 'threonine', 'uric acid', '3-hydroxybutanoic acid', '5-hydroxynorvaline NIST', 'inosine', 'lactic acid', 'N-methylalanine', 'phenylalanine', 'quinic acid', 'aspartic acid', 'deoxypentitol']\n"
     ]
    },
    {
     "name": "stderr",
     "output_type": "stream",
     "text": [
      "100%|██████████| 29/29 [00:00<00:00, 49.02it/s]\n",
      "100%|██████████| 29/29 [00:00<00:00, 43.84it/s]\n",
      "100%|██████████| 29/29 [00:00<00:00, 47.27it/s]\n",
      "100%|██████████| 29/29 [00:00<00:00, 47.55it/s]\n",
      "100%|██████████| 29/29 [00:00<00:00, 47.38it/s]\n",
      "100%|██████████| 29/29 [00:00<00:00, 46.98it/s]\n",
      "100%|██████████| 29/29 [00:00<00:00, 46.88it/s]\n",
      "100%|██████████| 29/29 [00:00<00:00, 47.38it/s]\n",
      "100%|██████████| 29/29 [00:00<00:00, 47.08it/s]\n",
      "100%|██████████| 29/29 [00:00<00:00, 45.30it/s]\n"
     ]
    },
    {
     "name": "stdout",
     "output_type": "stream",
     "text": [
      "[[1, 0.6287082362082361], [2, 0.5616627816627815], [3, 0.6103651903651903], [4, 0.5801884226884226], [5, 0.6899106449106449], [6, 0.7177039627039628], [7, 0.7965268065268066], [8, 0.7833906371406373], [9, 0.8047639860139861], [10, 0.791029526029526], [11, 0.8327214452214452], [12, 0.8041229603729605]]\n"
     ]
    },
    {
     "name": "stderr",
     "output_type": "stream",
     "text": [
      "  3%|▎         | 1/29 [00:00<00:03,  9.01it/s]"
     ]
    },
    {
     "name": "stdout",
     "output_type": "stream",
     "text": [
      "['cholesterol', 'threonine', 'uric acid', '5-hydroxynorvaline NIST', 'inosine', 'lactic acid', 'N-methylalanine', 'aspartic acid', 'deoxypentitol', 'glutamic acid', 'malic acid', 'phenol', 'taurine']\n"
     ]
    },
    {
     "name": "stderr",
     "output_type": "stream",
     "text": [
      "100%|██████████| 29/29 [00:00<00:00, 39.49it/s]\n",
      "100%|██████████| 29/29 [00:00<00:00, 44.55it/s]\n",
      "100%|██████████| 29/29 [00:00<00:00, 47.05it/s]\n",
      "100%|██████████| 29/29 [00:00<00:00, 45.92it/s]\n",
      "100%|██████████| 29/29 [00:00<00:00, 45.91it/s]\n",
      "100%|██████████| 29/29 [00:00<00:00, 47.01it/s]\n",
      "100%|██████████| 29/29 [00:00<00:00, 45.93it/s]\n",
      "100%|██████████| 29/29 [00:00<00:00, 47.52it/s]\n",
      "100%|██████████| 29/29 [00:00<00:00, 46.06it/s]\n",
      "100%|██████████| 29/29 [00:00<00:00, 43.54it/s]\n"
     ]
    },
    {
     "name": "stdout",
     "output_type": "stream",
     "text": [
      "[[1, 0.6287082362082361], [2, 0.5616627816627815], [3, 0.6103651903651903], [4, 0.5801884226884226], [5, 0.6899106449106449], [6, 0.7177039627039628], [7, 0.7965268065268066], [8, 0.7833906371406373], [9, 0.8047639860139861], [10, 0.791029526029526], [11, 0.8327214452214452], [12, 0.8041229603729605], [13, 0.820158313908314]]\n"
     ]
    },
    {
     "name": "stderr",
     "output_type": "stream",
     "text": [
      "  7%|▋         | 2/29 [00:00<00:01, 19.16it/s]"
     ]
    },
    {
     "name": "stdout",
     "output_type": "stream",
     "text": [
      "['cholesterol', 'threonine', '3-hydroxybutanoic acid', '5-hydroxynorvaline NIST', 'inosine', 'lactic acid', 'N-methylalanine', 'phenylalanine', 'quinic acid', 'aspartic acid', 'deoxypentitol', 'malic acid', 'phenol', 'taurine']\n"
     ]
    },
    {
     "name": "stderr",
     "output_type": "stream",
     "text": [
      "100%|██████████| 29/29 [00:00<00:00, 44.03it/s]\n",
      "100%|██████████| 29/29 [00:00<00:00, 46.94it/s]\n",
      "100%|██████████| 29/29 [00:00<00:00, 47.21it/s]\n",
      "100%|██████████| 29/29 [00:00<00:00, 47.46it/s]\n",
      "100%|██████████| 29/29 [00:00<00:00, 46.56it/s]\n",
      "100%|██████████| 29/29 [00:00<00:00, 46.54it/s]\n",
      "100%|██████████| 29/29 [00:00<00:00, 45.09it/s]\n",
      "100%|██████████| 29/29 [00:00<00:00, 43.79it/s]\n",
      "100%|██████████| 29/29 [00:00<00:00, 45.63it/s]\n",
      "100%|██████████| 29/29 [00:00<00:00, 45.71it/s]\n"
     ]
    },
    {
     "name": "stdout",
     "output_type": "stream",
     "text": [
      "[[1, 0.6287082362082361], [2, 0.5616627816627815], [3, 0.6103651903651903], [4, 0.5801884226884226], [5, 0.6899106449106449], [6, 0.7177039627039628], [7, 0.7965268065268066], [8, 0.7833906371406373], [9, 0.8047639860139861], [10, 0.791029526029526], [11, 0.8327214452214452], [12, 0.8041229603729605], [13, 0.820158313908314], [14, 0.7881555944055945]]\n"
     ]
    },
    {
     "name": "stderr",
     "output_type": "stream",
     "text": [
      " 10%|█         | 3/29 [00:00<00:00, 29.33it/s]"
     ]
    },
    {
     "name": "stdout",
     "output_type": "stream",
     "text": [
      "['cholesterol', 'threonine', 'uric acid', '3-hydroxybutanoic acid', '5-hydroxynorvaline NIST', 'inosine', 'lactic acid', 'N-methylalanine', 'phenylalanine', 'quinic acid', 'aspartic acid', 'deoxypentitol', 'glutamic acid', 'malic acid', 'phenol']\n"
     ]
    },
    {
     "name": "stderr",
     "output_type": "stream",
     "text": [
      "100%|██████████| 29/29 [00:00<00:00, 48.45it/s]\n",
      "100%|██████████| 29/29 [00:00<00:00, 47.42it/s]\n",
      "100%|██████████| 29/29 [00:00<00:00, 47.08it/s]\n",
      "100%|██████████| 29/29 [00:00<00:00, 44.82it/s]\n",
      "100%|██████████| 29/29 [00:00<00:00, 45.89it/s]\n",
      "100%|██████████| 29/29 [00:00<00:00, 46.48it/s]\n",
      "100%|██████████| 29/29 [00:00<00:00, 45.14it/s]\n",
      "100%|██████████| 29/29 [00:00<00:00, 46.36it/s]\n",
      "100%|██████████| 29/29 [00:00<00:00, 47.02it/s]\n",
      "100%|██████████| 29/29 [00:00<00:00, 47.63it/s]\n"
     ]
    },
    {
     "name": "stdout",
     "output_type": "stream",
     "text": [
      "[[1, 0.6287082362082361], [2, 0.5616627816627815], [3, 0.6103651903651903], [4, 0.5801884226884226], [5, 0.6899106449106449], [6, 0.7177039627039628], [7, 0.7965268065268066], [8, 0.7833906371406373], [9, 0.8047639860139861], [10, 0.791029526029526], [11, 0.8327214452214452], [12, 0.8041229603729605], [13, 0.820158313908314], [14, 0.7881555944055945], [15, 0.8170648795648795]]\n"
     ]
    },
    {
     "name": "stderr",
     "output_type": "stream",
     "text": [
      "  7%|▋         | 2/29 [00:00<00:01, 19.76it/s]"
     ]
    },
    {
     "name": "stdout",
     "output_type": "stream",
     "text": [
      "['cholesterol', 'threonine', 'uric acid', '3-hydroxybutanoic acid', '5-hydroxynorvaline NIST', 'inosine', 'lactic acid', 'N-methylalanine', 'phenylalanine', 'quinic acid', 'aspartic acid', 'deoxypentitol', 'glutamic acid', 'malic acid', 'phenol', 'taurine']\n"
     ]
    },
    {
     "name": "stderr",
     "output_type": "stream",
     "text": [
      "100%|██████████| 29/29 [00:00<00:00, 41.79it/s]\n",
      "100%|██████████| 29/29 [00:00<00:00, 46.70it/s]\n",
      "100%|██████████| 29/29 [00:00<00:00, 46.69it/s]\n",
      "100%|██████████| 29/29 [00:00<00:00, 47.08it/s]\n",
      "100%|██████████| 29/29 [00:00<00:00, 45.77it/s]\n",
      "100%|██████████| 29/29 [00:00<00:00, 46.13it/s]\n",
      "100%|██████████| 29/29 [00:00<00:00, 46.51it/s]\n",
      "100%|██████████| 29/29 [00:00<00:00, 46.56it/s]\n",
      "100%|██████████| 29/29 [00:00<00:00, 46.67it/s]\n",
      "100%|██████████| 29/29 [00:00<00:00, 46.65it/s]"
     ]
    },
    {
     "name": "stdout",
     "output_type": "stream",
     "text": [
      "[[1, 0.6287082362082361], [2, 0.5616627816627815], [3, 0.6103651903651903], [4, 0.5801884226884226], [5, 0.6899106449106449], [6, 0.7177039627039628], [7, 0.7965268065268066], [8, 0.7833906371406373], [9, 0.8047639860139861], [10, 0.791029526029526], [11, 0.8327214452214452], [12, 0.8041229603729605], [13, 0.820158313908314], [14, 0.7881555944055945], [15, 0.8170648795648795], [16, 0.7915695415695417]]\n"
     ]
    },
    {
     "name": "stderr",
     "output_type": "stream",
     "text": [
      "\n"
     ]
    },
    {
     "data": {
      "image/png": "[encoded data removed]",
      "text/plain": [
       "<Figure size 432x288 with 1 Axes>"
      ]
     },
     "metadata": {
      "needs_background": "light"
     },
     "output_type": "display_data"
    }
   ],
   "source": [
    "accuracy2_serum('RandomForestClassifier')"
   ]
  },
  {
   "cell_type": "code",
   "execution_count": 28,
   "metadata": {},
   "outputs": [
    {
     "name": "stderr",
     "output_type": "stream",
     "text": [
      " 14%|█▍        | 4/29 [00:00<00:00, 34.76it/s]"
     ]
    },
    {
     "name": "stdout",
     "output_type": "stream",
     "text": [
      "['cholesterol']\n"
     ]
    },
    {
     "name": "stderr",
     "output_type": "stream",
     "text": [
      "100%|██████████| 29/29 [00:00<00:00, 52.30it/s]\n",
      "100%|██████████| 29/29 [00:00<00:00, 49.74it/s]\n",
      "100%|██████████| 29/29 [00:00<00:00, 48.36it/s]\n",
      "100%|██████████| 29/29 [00:00<00:00, 49.08it/s]\n",
      "100%|██████████| 29/29 [00:00<00:00, 48.46it/s]\n",
      "100%|██████████| 29/29 [00:00<00:00, 49.45it/s]\n",
      "100%|██████████| 29/29 [00:00<00:00, 47.25it/s]\n",
      "100%|██████████| 29/29 [00:00<00:00, 48.82it/s]\n",
      "100%|██████████| 29/29 [00:00<00:00, 49.66it/s]\n",
      "100%|██████████| 29/29 [00:00<00:00, 48.50it/s]\n"
     ]
    },
    {
     "name": "stdout",
     "output_type": "stream",
     "text": [
      "[[1, 0.6299028749028749]]\n"
     ]
    },
    {
     "name": "stderr",
     "output_type": "stream",
     "text": [
      " 10%|█         | 3/29 [00:00<00:00, 29.13it/s]"
     ]
    },
    {
     "name": "stdout",
     "output_type": "stream",
     "text": [
      "['cholesterol', 'threonine']\n"
     ]
    },
    {
     "name": "stderr",
     "output_type": "stream",
     "text": [
      "100%|██████████| 29/29 [00:00<00:00, 47.31it/s]\n",
      "100%|██████████| 29/29 [00:00<00:00, 48.07it/s]\n",
      "100%|██████████| 29/29 [00:00<00:00, 46.88it/s]\n",
      "100%|██████████| 29/29 [00:00<00:00, 47.69it/s]\n",
      "100%|██████████| 29/29 [00:00<00:00, 48.26it/s]\n",
      "100%|██████████| 29/29 [00:00<00:00, 48.11it/s]\n",
      "100%|██████████| 29/29 [00:00<00:00, 46.16it/s]\n",
      "100%|██████████| 29/29 [00:00<00:00, 45.18it/s]\n",
      "100%|██████████| 29/29 [00:00<00:00, 47.72it/s]\n",
      "100%|██████████| 29/29 [00:00<00:00, 48.39it/s]\n"
     ]
    },
    {
     "name": "stdout",
     "output_type": "stream",
     "text": [
      "[[1, 0.6299028749028749], [2, 0.608564491064491]]\n"
     ]
    },
    {
     "name": "stderr",
     "output_type": "stream",
     "text": [
      "  7%|▋         | 2/29 [00:00<00:01, 15.33it/s]"
     ]
    },
    {
     "name": "stdout",
     "output_type": "stream",
     "text": [
      "['cholesterol', 'threonine', 'uric acid']\n"
     ]
    },
    {
     "name": "stderr",
     "output_type": "stream",
     "text": [
      "100%|██████████| 29/29 [00:00<00:00, 42.02it/s]\n",
      "100%|██████████| 29/29 [00:00<00:00, 48.18it/s]\n",
      "100%|██████████| 29/29 [00:00<00:00, 46.62it/s]\n",
      "100%|██████████| 29/29 [00:00<00:00, 47.30it/s]\n",
      "100%|██████████| 29/29 [00:00<00:00, 48.41it/s]\n",
      "100%|██████████| 29/29 [00:00<00:00, 47.57it/s]\n",
      "100%|██████████| 29/29 [00:00<00:00, 48.12it/s]\n",
      "100%|██████████| 29/29 [00:00<00:00, 49.00it/s]\n",
      "100%|██████████| 29/29 [00:00<00:00, 47.67it/s]\n",
      "100%|██████████| 29/29 [00:00<00:00, 46.68it/s]\n"
     ]
    },
    {
     "name": "stdout",
     "output_type": "stream",
     "text": [
      "[[1, 0.6299028749028749], [2, 0.608564491064491], [3, 0.5898776223776224]]\n"
     ]
    },
    {
     "name": "stderr",
     "output_type": "stream",
     "text": [
      " 14%|█▍        | 4/29 [00:00<00:00, 34.52it/s]"
     ]
    },
    {
     "name": "stdout",
     "output_type": "stream",
     "text": [
      "['cholesterol', 'threonine', 'uric acid', '3-hydroxybutanoic acid']\n"
     ]
    },
    {
     "name": "stderr",
     "output_type": "stream",
     "text": [
      "100%|██████████| 29/29 [00:00<00:00, 49.51it/s]\n",
      "100%|██████████| 29/29 [00:00<00:00, 48.26it/s]\n",
      "100%|██████████| 29/29 [00:00<00:00, 47.99it/s]\n",
      "100%|██████████| 29/29 [00:00<00:00, 48.20it/s]\n",
      "100%|██████████| 29/29 [00:00<00:00, 45.52it/s]\n",
      "100%|██████████| 29/29 [00:00<00:00, 46.42it/s]\n",
      "100%|██████████| 29/29 [00:00<00:00, 47.43it/s]\n",
      "100%|██████████| 29/29 [00:00<00:00, 48.33it/s]\n",
      "100%|██████████| 29/29 [00:00<00:00, 47.09it/s]\n",
      "100%|██████████| 29/29 [00:00<00:00, 46.77it/s]\n"
     ]
    },
    {
     "name": "stdout",
     "output_type": "stream",
     "text": [
      "[[1, 0.6299028749028749], [2, 0.608564491064491], [3, 0.5898776223776224], [4, 0.6283197358197359]]\n"
     ]
    },
    {
     "name": "stderr",
     "output_type": "stream",
     "text": [
      " 10%|█         | 3/29 [00:00<00:00, 28.09it/s]"
     ]
    },
    {
     "name": "stdout",
     "output_type": "stream",
     "text": [
      "['cholesterol', 'threonine', 'uric acid', '3-hydroxybutanoic acid', '5-hydroxynorvaline NIST']\n"
     ]
    },
    {
     "name": "stderr",
     "output_type": "stream",
     "text": [
      "100%|██████████| 29/29 [00:00<00:00, 48.05it/s]\n",
      "100%|██████████| 29/29 [00:00<00:00, 47.09it/s]\n",
      "100%|██████████| 29/29 [00:00<00:00, 46.01it/s]\n",
      "100%|██████████| 29/29 [00:00<00:00, 47.69it/s]\n",
      "100%|██████████| 29/29 [00:00<00:00, 47.27it/s]\n",
      "100%|██████████| 29/29 [00:00<00:00, 45.04it/s]\n",
      "100%|██████████| 29/29 [00:00<00:00, 47.89it/s]\n",
      "100%|██████████| 29/29 [00:00<00:00, 48.14it/s]\n",
      "100%|██████████| 29/29 [00:00<00:00, 47.61it/s]\n",
      "100%|██████████| 29/29 [00:00<00:00, 45.67it/s]\n"
     ]
    },
    {
     "name": "stdout",
     "output_type": "stream",
     "text": [
      "[[1, 0.6299028749028749], [2, 0.608564491064491], [3, 0.5898776223776224], [4, 0.6283197358197359], [5, 0.669291958041958]]\n"
     ]
    },
    {
     "name": "stderr",
     "output_type": "stream",
     "text": [
      " 14%|█▍        | 4/29 [00:00<00:00, 34.50it/s]"
     ]
    },
    {
     "name": "stdout",
     "output_type": "stream",
     "text": [
      "['cholesterol', 'threonine', 'uric acid', '3-hydroxybutanoic acid', '5-hydroxynorvaline NIST', 'inosine']\n"
     ]
    },
    {
     "name": "stderr",
     "output_type": "stream",
     "text": [
      "100%|██████████| 29/29 [00:00<00:00, 50.51it/s]\n",
      "100%|██████████| 29/29 [00:00<00:00, 47.87it/s]\n",
      "100%|██████████| 29/29 [00:00<00:00, 48.63it/s]\n",
      "100%|██████████| 29/29 [00:00<00:00, 47.50it/s]\n",
      "100%|██████████| 29/29 [00:00<00:00, 46.98it/s]\n",
      "100%|██████████| 29/29 [00:00<00:00, 48.10it/s]\n",
      "100%|██████████| 29/29 [00:00<00:00, 45.70it/s]\n",
      "100%|██████████| 29/29 [00:00<00:00, 47.58it/s]\n",
      "100%|██████████| 29/29 [00:00<00:00, 48.06it/s]\n",
      "100%|██████████| 29/29 [00:00<00:00, 47.92it/s]\n"
     ]
    },
    {
     "name": "stdout",
     "output_type": "stream",
     "text": [
      "[[1, 0.6299028749028749], [2, 0.608564491064491], [3, 0.5898776223776224], [4, 0.6283197358197359], [5, 0.669291958041958], [6, 0.6859634809634809]]\n"
     ]
    },
    {
     "name": "stderr",
     "output_type": "stream",
     "text": [
      " 14%|█▍        | 4/29 [00:00<00:00, 33.90it/s]"
     ]
    },
    {
     "name": "stdout",
     "output_type": "stream",
     "text": [
      "['cholesterol', 'threonine', 'uric acid', '3-hydroxybutanoic acid', '5-hydroxynorvaline NIST', 'inosine', 'lactic acid']\n"
     ]
    },
    {
     "name": "stderr",
     "output_type": "stream",
     "text": [
      "100%|██████████| 29/29 [00:00<00:00, 50.11it/s]\n",
      "100%|██████████| 29/29 [00:00<00:00, 47.32it/s]\n",
      "100%|██████████| 29/29 [00:00<00:00, 48.09it/s]\n",
      "100%|██████████| 29/29 [00:00<00:00, 46.81it/s]\n",
      "100%|██████████| 29/29 [00:00<00:00, 47.12it/s]\n",
      "100%|██████████| 29/29 [00:00<00:00, 46.38it/s]\n",
      "100%|██████████| 29/29 [00:00<00:00, 47.72it/s]\n",
      "100%|██████████| 29/29 [00:00<00:00, 42.67it/s]\n",
      "100%|██████████| 29/29 [00:00<00:00, 46.84it/s]\n",
      "100%|██████████| 29/29 [00:00<00:00, 48.05it/s]\n"
     ]
    },
    {
     "name": "stdout",
     "output_type": "stream",
     "text": [
      "[[1, 0.6299028749028749], [2, 0.608564491064491], [3, 0.5898776223776224], [4, 0.6283197358197359], [5, 0.669291958041958], [6, 0.6859634809634809], [7, 0.6983780108780108]]\n"
     ]
    },
    {
     "name": "stderr",
     "output_type": "stream",
     "text": [
      " 14%|█▍        | 4/29 [00:00<00:00, 34.01it/s]"
     ]
    },
    {
     "name": "stdout",
     "output_type": "stream",
     "text": [
      "['cholesterol', 'threonine', 'uric acid', '3-hydroxybutanoic acid', '5-hydroxynorvaline NIST', 'inosine', 'lactic acid', 'N-methylalanine']\n"
     ]
    },
    {
     "name": "stderr",
     "output_type": "stream",
     "text": [
      "100%|██████████| 29/29 [00:00<00:00, 49.79it/s]\n",
      "100%|██████████| 29/29 [00:00<00:00, 47.06it/s]\n",
      "100%|██████████| 29/29 [00:00<00:00, 46.49it/s]\n",
      "100%|██████████| 29/29 [00:00<00:00, 46.05it/s]\n",
      "100%|██████████| 29/29 [00:00<00:00, 47.95it/s]\n",
      "100%|██████████| 29/29 [00:00<00:00, 47.51it/s]\n",
      "100%|██████████| 29/29 [00:00<00:00, 46.33it/s]\n",
      "100%|██████████| 29/29 [00:00<00:00, 46.41it/s]\n",
      "100%|██████████| 29/29 [00:00<00:00, 47.53it/s]\n",
      "100%|██████████| 29/29 [00:00<00:00, 45.99it/s]\n"
     ]
    },
    {
     "name": "stdout",
     "output_type": "stream",
     "text": [
      "[[1, 0.6299028749028749], [2, 0.608564491064491], [3, 0.5898776223776224], [4, 0.6283197358197359], [5, 0.669291958041958], [6, 0.6859634809634809], [7, 0.6983780108780108], [8, 0.7144182206682206]]\n"
     ]
    },
    {
     "name": "stderr",
     "output_type": "stream",
     "text": [
      " 14%|█▍        | 4/29 [00:00<00:00, 33.16it/s]"
     ]
    },
    {
     "name": "stdout",
     "output_type": "stream",
     "text": [
      "['cholesterol', 'threonine', 'uric acid', '3-hydroxybutanoic acid', '5-hydroxynorvaline NIST', 'inosine', 'lactic acid', 'N-methylalanine', 'phenylalanine']\n"
     ]
    },
    {
     "name": "stderr",
     "output_type": "stream",
     "text": [
      "100%|██████████| 29/29 [00:00<00:00, 50.05it/s]\n",
      "100%|██████████| 29/29 [00:00<00:00, 45.26it/s]\n",
      "100%|██████████| 29/29 [00:00<00:00, 43.88it/s]\n",
      "100%|██████████| 29/29 [00:00<00:00, 45.73it/s]\n",
      "100%|██████████| 29/29 [00:00<00:00, 45.82it/s]\n",
      "100%|██████████| 29/29 [00:00<00:00, 46.33it/s]\n",
      "100%|██████████| 29/29 [00:00<00:00, 46.24it/s]\n",
      "100%|██████████| 29/29 [00:00<00:00, 41.35it/s]\n",
      "100%|██████████| 29/29 [00:00<00:00, 45.00it/s]\n",
      "100%|██████████| 29/29 [00:00<00:00, 45.90it/s]\n"
     ]
    },
    {
     "name": "stdout",
     "output_type": "stream",
     "text": [
      "[[1, 0.6299028749028749], [2, 0.608564491064491], [3, 0.5898776223776224], [4, 0.6283197358197359], [5, 0.669291958041958], [6, 0.6859634809634809], [7, 0.6983780108780108], [8, 0.7144182206682206], [9, 0.684814491064491]]\n"
     ]
    },
    {
     "name": "stderr",
     "output_type": "stream",
     "text": [
      " 10%|█         | 3/29 [00:00<00:00, 29.11it/s]"
     ]
    },
    {
     "name": "stdout",
     "output_type": "stream",
     "text": [
      "['cholesterol', 'threonine', '3-hydroxybutanoic acid', '5-hydroxynorvaline NIST', 'inosine', 'lactic acid', 'aspartic acid', 'deoxypentitol', 'glutamic acid', 'malic acid']\n"
     ]
    },
    {
     "name": "stderr",
     "output_type": "stream",
     "text": [
      "100%|██████████| 29/29 [00:00<00:00, 48.69it/s]\n",
      "100%|██████████| 29/29 [00:00<00:00, 44.32it/s]\n",
      "100%|██████████| 29/29 [00:00<00:00, 39.96it/s]\n",
      "100%|██████████| 29/29 [00:00<00:00, 42.21it/s]\n",
      "100%|██████████| 29/29 [00:00<00:00, 44.07it/s]\n",
      "100%|██████████| 29/29 [00:00<00:00, 45.76it/s]\n",
      "100%|██████████| 29/29 [00:00<00:00, 44.76it/s]\n",
      "100%|██████████| 29/29 [00:00<00:00, 46.24it/s]\n",
      "100%|██████████| 29/29 [00:00<00:00, 45.22it/s]\n",
      "100%|██████████| 29/29 [00:00<00:00, 47.15it/s]\n"
     ]
    },
    {
     "name": "stdout",
     "output_type": "stream",
     "text": [
      "[[1, 0.6299028749028749], [2, 0.608564491064491], [3, 0.5898776223776224], [4, 0.6283197358197359], [5, 0.669291958041958], [6, 0.6859634809634809], [7, 0.6983780108780108], [8, 0.7144182206682206], [9, 0.684814491064491], [10, 0.7446629759129759]]\n"
     ]
    },
    {
     "name": "stderr",
     "output_type": "stream",
     "text": [
      " 10%|█         | 3/29 [00:00<00:00, 29.13it/s]"
     ]
    },
    {
     "name": "stdout",
     "output_type": "stream",
     "text": [
      "['threonine', 'uric acid', '3-hydroxybutanoic acid', '5-hydroxynorvaline NIST', 'inosine', 'lactic acid', 'N-methylalanine', 'aspartic acid', 'malic acid', 'phenol', 'taurine']\n"
     ]
    },
    {
     "name": "stderr",
     "output_type": "stream",
     "text": [
      "100%|██████████| 29/29 [00:00<00:00, 48.79it/s]\n",
      "100%|██████████| 29/29 [00:00<00:00, 46.07it/s]\n",
      "100%|██████████| 29/29 [00:00<00:00, 43.29it/s]\n",
      "100%|██████████| 29/29 [00:00<00:00, 45.85it/s]\n",
      "100%|██████████| 29/29 [00:00<00:00, 46.30it/s]\n",
      "100%|██████████| 29/29 [00:00<00:00, 43.86it/s]\n",
      "100%|██████████| 29/29 [00:00<00:00, 43.56it/s]\n",
      "100%|██████████| 29/29 [00:00<00:00, 44.80it/s]\n",
      "100%|██████████| 29/29 [00:00<00:00, 44.45it/s]\n",
      "100%|██████████| 29/29 [00:00<00:00, 47.42it/s]\n"
     ]
    },
    {
     "name": "stdout",
     "output_type": "stream",
     "text": [
      "[[1, 0.6299028749028749], [2, 0.608564491064491], [3, 0.5898776223776224], [4, 0.6283197358197359], [5, 0.669291958041958], [6, 0.6859634809634809], [7, 0.6983780108780108], [8, 0.7144182206682206], [9, 0.684814491064491], [10, 0.7446629759129759], [11, 0.7123193473193473]]\n"
     ]
    },
    {
     "name": "stderr",
     "output_type": "stream",
     "text": [
      " 10%|█         | 3/29 [00:00<00:00, 29.11it/s]"
     ]
    },
    {
     "name": "stdout",
     "output_type": "stream",
     "text": [
      "['cholesterol', 'threonine', 'uric acid', '3-hydroxybutanoic acid', '5-hydroxynorvaline NIST', 'inosine', 'lactic acid', 'N-methylalanine', 'phenylalanine', 'quinic acid', 'aspartic acid', 'deoxypentitol']\n"
     ]
    },
    {
     "name": "stderr",
     "output_type": "stream",
     "text": [
      "100%|██████████| 29/29 [00:00<00:00, 46.41it/s]\n",
      "100%|██████████| 29/29 [00:00<00:00, 46.97it/s]\n",
      "100%|██████████| 29/29 [00:00<00:00, 47.76it/s]\n",
      "100%|██████████| 29/29 [00:00<00:00, 47.76it/s]\n",
      "100%|██████████| 29/29 [00:00<00:00, 45.84it/s]\n",
      "100%|██████████| 29/29 [00:00<00:00, 46.77it/s]\n",
      "100%|██████████| 29/29 [00:00<00:00, 46.89it/s]\n",
      "100%|██████████| 29/29 [00:00<00:00, 46.36it/s]\n",
      "100%|██████████| 29/29 [00:00<00:00, 42.85it/s]\n",
      "100%|██████████| 29/29 [00:00<00:00, 44.55it/s]\n"
     ]
    },
    {
     "name": "stdout",
     "output_type": "stream",
     "text": [
      "[[1, 0.6299028749028749], [2, 0.608564491064491], [3, 0.5898776223776224], [4, 0.6283197358197359], [5, 0.669291958041958], [6, 0.6859634809634809], [7, 0.6983780108780108], [8, 0.7144182206682206], [9, 0.684814491064491], [10, 0.7446629759129759], [11, 0.7123193473193473], [12, 0.7759663947163947]]\n"
     ]
    },
    {
     "name": "stderr",
     "output_type": "stream",
     "text": [
      " 10%|█         | 3/29 [00:00<00:00, 29.01it/s]"
     ]
    },
    {
     "name": "stdout",
     "output_type": "stream",
     "text": [
      "['cholesterol', 'uric acid', '3-hydroxybutanoic acid', '5-hydroxynorvaline NIST', 'inosine', 'lactic acid', 'quinic acid', 'aspartic acid', 'deoxypentitol', 'glutamic acid', 'malic acid', 'phenol', 'taurine']\n"
     ]
    },
    {
     "name": "stderr",
     "output_type": "stream",
     "text": [
      "100%|██████████| 29/29 [00:00<00:00, 47.18it/s]\n",
      "100%|██████████| 29/29 [00:00<00:00, 45.94it/s]\n",
      "100%|██████████| 29/29 [00:00<00:00, 46.90it/s]\n",
      "100%|██████████| 29/29 [00:00<00:00, 45.05it/s]\n",
      "100%|██████████| 29/29 [00:00<00:00, 45.19it/s]\n",
      "100%|██████████| 29/29 [00:00<00:00, 45.03it/s]\n",
      "100%|██████████| 29/29 [00:00<00:00, 44.77it/s]\n",
      "100%|██████████| 29/29 [00:00<00:00, 44.27it/s]\n",
      "100%|██████████| 29/29 [00:00<00:00, 44.92it/s]\n",
      "100%|██████████| 29/29 [00:00<00:00, 45.26it/s]\n"
     ]
    },
    {
     "name": "stdout",
     "output_type": "stream",
     "text": [
      "[[1, 0.6299028749028749], [2, 0.608564491064491], [3, 0.5898776223776224], [4, 0.6283197358197359], [5, 0.669291958041958], [6, 0.6859634809634809], [7, 0.6983780108780108], [8, 0.7144182206682206], [9, 0.684814491064491], [10, 0.7446629759129759], [11, 0.7123193473193473], [12, 0.7759663947163947], [13, 0.7624077311577311]]\n"
     ]
    },
    {
     "name": "stderr",
     "output_type": "stream",
     "text": [
      " 10%|█         | 3/29 [00:00<00:00, 29.48it/s]"
     ]
    },
    {
     "name": "stdout",
     "output_type": "stream",
     "text": [
      "['cholesterol', 'threonine', 'uric acid', '3-hydroxybutanoic acid', '5-hydroxynorvaline NIST', 'inosine', 'lactic acid', 'N-methylalanine', 'quinic acid', 'aspartic acid', 'deoxypentitol', 'malic acid', 'phenol', 'taurine']\n"
     ]
    },
    {
     "name": "stderr",
     "output_type": "stream",
     "text": [
      "100%|██████████| 29/29 [00:00<00:00, 49.28it/s]\n",
      "100%|██████████| 29/29 [00:00<00:00, 42.00it/s]\n",
      "100%|██████████| 29/29 [00:00<00:00, 45.71it/s]\n",
      "100%|██████████| 29/29 [00:00<00:00, 46.74it/s]\n",
      "100%|██████████| 29/29 [00:00<00:00, 45.58it/s]\n",
      "100%|██████████| 29/29 [00:00<00:00, 47.67it/s]\n",
      "100%|██████████| 29/29 [00:00<00:00, 46.65it/s]\n",
      "100%|██████████| 29/29 [00:00<00:00, 46.30it/s]\n",
      "100%|██████████| 29/29 [00:00<00:00, 43.83it/s]\n",
      "100%|██████████| 29/29 [00:00<00:00, 46.47it/s]\n"
     ]
    },
    {
     "name": "stdout",
     "output_type": "stream",
     "text": [
      "[[1, 0.6299028749028749], [2, 0.608564491064491], [3, 0.5898776223776224], [4, 0.6283197358197359], [5, 0.669291958041958], [6, 0.6859634809634809], [7, 0.6983780108780108], [8, 0.7144182206682206], [9, 0.684814491064491], [10, 0.7446629759129759], [11, 0.7123193473193473], [12, 0.7759663947163947], [13, 0.7624077311577311], [14, 0.777685508935509]]\n"
     ]
    },
    {
     "name": "stderr",
     "output_type": "stream",
     "text": [
      " 10%|█         | 3/29 [00:00<00:00, 29.64it/s]"
     ]
    },
    {
     "name": "stdout",
     "output_type": "stream",
     "text": [
      "['cholesterol', 'threonine', 'uric acid', '3-hydroxybutanoic acid', '5-hydroxynorvaline NIST', 'inosine', 'lactic acid', 'N-methylalanine', 'phenylalanine', 'quinic acid', 'aspartic acid', 'deoxypentitol', 'glutamic acid', 'malic acid', 'phenol']\n"
     ]
    },
    {
     "name": "stderr",
     "output_type": "stream",
     "text": [
      "100%|██████████| 29/29 [00:00<00:00, 48.69it/s]\n",
      "100%|██████████| 29/29 [00:00<00:00, 44.63it/s]\n",
      "100%|██████████| 29/29 [00:00<00:00, 47.26it/s]\n",
      "100%|██████████| 29/29 [00:00<00:00, 45.66it/s]\n",
      "100%|██████████| 29/29 [00:00<00:00, 45.73it/s]\n",
      "100%|██████████| 29/29 [00:00<00:00, 46.20it/s]\n",
      "100%|██████████| 29/29 [00:00<00:00, 44.32it/s]\n",
      "100%|██████████| 29/29 [00:00<00:00, 44.30it/s]\n",
      "100%|██████████| 29/29 [00:00<00:00, 44.72it/s]\n",
      "100%|██████████| 29/29 [00:00<00:00, 47.47it/s]\n"
     ]
    },
    {
     "name": "stdout",
     "output_type": "stream",
     "text": [
      "[[1, 0.6299028749028749], [2, 0.608564491064491], [3, 0.5898776223776224], [4, 0.6283197358197359], [5, 0.669291958041958], [6, 0.6859634809634809], [7, 0.6983780108780108], [8, 0.7144182206682206], [9, 0.684814491064491], [10, 0.7446629759129759], [11, 0.7123193473193473], [12, 0.7759663947163947], [13, 0.7624077311577311], [14, 0.777685508935509], [15, 0.764806721056721]]\n"
     ]
    },
    {
     "name": "stderr",
     "output_type": "stream",
     "text": [
      " 14%|█▍        | 4/29 [00:00<00:00, 32.90it/s]"
     ]
    },
    {
     "name": "stdout",
     "output_type": "stream",
     "text": [
      "['cholesterol', 'threonine', 'uric acid', '3-hydroxybutanoic acid', '5-hydroxynorvaline NIST', 'inosine', 'lactic acid', 'N-methylalanine', 'phenylalanine', 'quinic acid', 'aspartic acid', 'deoxypentitol', 'glutamic acid', 'malic acid', 'phenol', 'taurine']\n"
     ]
    },
    {
     "name": "stderr",
     "output_type": "stream",
     "text": [
      "100%|██████████| 29/29 [00:00<00:00, 48.91it/s]\n",
      "100%|██████████| 29/29 [00:00<00:00, 46.81it/s]\n",
      "100%|██████████| 29/29 [00:00<00:00, 42.50it/s]\n",
      "100%|██████████| 29/29 [00:00<00:00, 46.93it/s]\n",
      "100%|██████████| 29/29 [00:00<00:00, 41.31it/s]\n",
      "100%|██████████| 29/29 [00:00<00:00, 43.79it/s]\n",
      "100%|██████████| 29/29 [00:00<00:00, 34.02it/s]\n",
      "100%|██████████| 29/29 [00:00<00:00, 41.05it/s]\n",
      "100%|██████████| 29/29 [00:00<00:00, 46.39it/s]\n",
      "100%|██████████| 29/29 [00:00<00:00, 43.43it/s]\n"
     ]
    },
    {
     "name": "stdout",
     "output_type": "stream",
     "text": [
      "[[1, 0.6299028749028749], [2, 0.608564491064491], [3, 0.5898776223776224], [4, 0.6283197358197359], [5, 0.669291958041958], [6, 0.6859634809634809], [7, 0.6983780108780108], [8, 0.7144182206682206], [9, 0.684814491064491], [10, 0.7446629759129759], [11, 0.7123193473193473], [12, 0.7759663947163947], [13, 0.7624077311577311], [14, 0.777685508935509], [15, 0.764806721056721], [16, 0.7506021756021756]]\n"
     ]
    },
    {
     "data": {
      "image/png": "[encoded data removed]",
      "text/plain": [
       "<Figure size 432x288 with 1 Axes>"
      ]
     },
     "metadata": {
      "needs_background": "light"
     },
     "output_type": "display_data"
    }
   ],
   "source": [
    "accuracy2_serum('SVC')"
   ]
  },
  {
   "cell_type": "code",
   "execution_count": 29,
   "metadata": {},
   "outputs": [
    {
     "name": "stderr",
     "output_type": "stream",
     "text": [
      " 10%|█         | 3/29 [00:00<00:00, 28.35it/s]"
     ]
    },
    {
     "name": "stdout",
     "output_type": "stream",
     "text": [
      "['cholesterol']\n"
     ]
    },
    {
     "name": "stderr",
     "output_type": "stream",
     "text": [
      "100%|██████████| 29/29 [00:00<00:00, 48.80it/s]\n",
      "100%|██████████| 29/29 [00:00<00:00, 45.99it/s]\n",
      "100%|██████████| 29/29 [00:00<00:00, 48.46it/s]\n",
      "100%|██████████| 29/29 [00:00<00:00, 47.59it/s]\n",
      "100%|██████████| 29/29 [00:00<00:00, 47.57it/s]\n",
      "100%|██████████| 29/29 [00:00<00:00, 47.85it/s]\n",
      "100%|██████████| 29/29 [00:00<00:00, 48.66it/s]\n",
      "100%|██████████| 29/29 [00:00<00:00, 49.13it/s]\n",
      "100%|██████████| 29/29 [00:00<00:00, 38.77it/s]\n",
      "100%|██████████| 29/29 [00:00<00:00, 48.82it/s]\n"
     ]
    },
    {
     "name": "stdout",
     "output_type": "stream",
     "text": [
      "[[1, 0.6287082362082361]]\n"
     ]
    },
    {
     "name": "stderr",
     "output_type": "stream",
     "text": [
      " 14%|█▍        | 4/29 [00:00<00:00, 33.85it/s]"
     ]
    },
    {
     "name": "stdout",
     "output_type": "stream",
     "text": [
      "['cholesterol', 'threonine']\n"
     ]
    },
    {
     "name": "stderr",
     "output_type": "stream",
     "text": [
      "100%|██████████| 29/29 [00:00<00:00, 51.34it/s]\n",
      "100%|██████████| 29/29 [00:00<00:00, 46.69it/s]\n",
      "100%|██████████| 29/29 [00:00<00:00, 49.50it/s]\n",
      "100%|██████████| 29/29 [00:00<00:00, 47.78it/s]\n",
      "100%|██████████| 29/29 [00:00<00:00, 47.08it/s]\n",
      "100%|██████████| 29/29 [00:00<00:00, 46.63it/s]\n",
      "100%|██████████| 29/29 [00:00<00:00, 46.97it/s]\n",
      "100%|██████████| 29/29 [00:00<00:00, 48.46it/s]\n",
      "100%|██████████| 29/29 [00:00<00:00, 48.58it/s]\n",
      "100%|██████████| 29/29 [00:00<00:00, 48.63it/s]\n"
     ]
    },
    {
     "name": "stdout",
     "output_type": "stream",
     "text": [
      "[[1, 0.6287082362082361], [2, 0.5572338772338772]]\n"
     ]
    },
    {
     "name": "stderr",
     "output_type": "stream",
     "text": [
      " 14%|█▍        | 4/29 [00:00<00:00, 35.09it/s]"
     ]
    },
    {
     "name": "stdout",
     "output_type": "stream",
     "text": [
      "['cholesterol', 'threonine', 'uric acid']\n"
     ]
    },
    {
     "name": "stderr",
     "output_type": "stream",
     "text": [
      "100%|██████████| 29/29 [00:00<00:00, 50.61it/s]\n",
      "100%|██████████| 29/29 [00:00<00:00, 47.85it/s]\n",
      "100%|██████████| 29/29 [00:00<00:00, 48.29it/s]\n",
      "100%|██████████| 29/29 [00:00<00:00, 48.54it/s]\n",
      "100%|██████████| 29/29 [00:00<00:00, 48.10it/s]\n",
      "100%|██████████| 29/29 [00:00<00:00, 46.60it/s]\n",
      "100%|██████████| 29/29 [00:00<00:00, 48.60it/s]\n",
      "100%|██████████| 29/29 [00:00<00:00, 47.26it/s]\n",
      "100%|██████████| 29/29 [00:00<00:00, 48.35it/s]\n",
      "100%|██████████| 29/29 [00:00<00:00, 46.78it/s]\n"
     ]
    },
    {
     "name": "stdout",
     "output_type": "stream",
     "text": [
      "[[1, 0.6287082362082361], [2, 0.5572338772338772], [3, 0.6001194638694639]]\n"
     ]
    },
    {
     "name": "stderr",
     "output_type": "stream",
     "text": [
      " 14%|█▍        | 4/29 [00:00<00:00, 34.80it/s]"
     ]
    },
    {
     "name": "stdout",
     "output_type": "stream",
     "text": [
      "['cholesterol', 'threonine', 'uric acid', '3-hydroxybutanoic acid']\n"
     ]
    },
    {
     "name": "stderr",
     "output_type": "stream",
     "text": [
      "100%|██████████| 29/29 [00:00<00:00, 50.45it/s]\n",
      "100%|██████████| 29/29 [00:00<00:00, 48.81it/s]\n",
      "100%|██████████| 29/29 [00:00<00:00, 47.72it/s]\n",
      "100%|██████████| 29/29 [00:00<00:00, 45.91it/s]\n",
      "100%|██████████| 29/29 [00:00<00:00, 46.97it/s]\n",
      "100%|██████████| 29/29 [00:00<00:00, 48.23it/s]\n",
      "100%|██████████| 29/29 [00:00<00:00, 48.55it/s]\n",
      "100%|██████████| 29/29 [00:00<00:00, 47.93it/s]\n",
      "100%|██████████| 29/29 [00:00<00:00, 45.93it/s]\n",
      "100%|██████████| 29/29 [00:00<00:00, 47.34it/s]\n"
     ]
    },
    {
     "name": "stdout",
     "output_type": "stream",
     "text": [
      "[[1, 0.6287082362082361], [2, 0.5572338772338772], [3, 0.6001194638694639], [4, 0.5908576146076145]]\n"
     ]
    },
    {
     "name": "stderr",
     "output_type": "stream",
     "text": [
      " 14%|█▍        | 4/29 [00:00<00:00, 34.19it/s]"
     ]
    },
    {
     "name": "stdout",
     "output_type": "stream",
     "text": [
      "['cholesterol', 'threonine', 'uric acid', '3-hydroxybutanoic acid', '5-hydroxynorvaline NIST']\n"
     ]
    },
    {
     "name": "stderr",
     "output_type": "stream",
     "text": [
      "100%|██████████| 29/29 [00:00<00:00, 49.91it/s]\n",
      "100%|██████████| 29/29 [00:00<00:00, 48.36it/s]\n",
      "100%|██████████| 29/29 [00:00<00:00, 47.25it/s]\n",
      "100%|██████████| 29/29 [00:00<00:00, 46.80it/s]\n",
      "100%|██████████| 29/29 [00:00<00:00, 47.36it/s]\n",
      "100%|██████████| 29/29 [00:00<00:00, 46.93it/s]\n",
      "100%|██████████| 29/29 [00:00<00:00, 47.47it/s]\n",
      "100%|██████████| 29/29 [00:00<00:00, 47.74it/s]\n",
      "100%|██████████| 29/29 [00:00<00:00, 44.08it/s]\n",
      "100%|██████████| 29/29 [00:00<00:00, 47.74it/s]\n"
     ]
    },
    {
     "name": "stdout",
     "output_type": "stream",
     "text": [
      "[[1, 0.6287082362082361], [2, 0.5572338772338772], [3, 0.6001194638694639], [4, 0.5908576146076145], [5, 0.567503885003885]]\n"
     ]
    },
    {
     "name": "stderr",
     "output_type": "stream",
     "text": [
      " 10%|█         | 3/29 [00:00<00:00, 28.85it/s]"
     ]
    },
    {
     "name": "stdout",
     "output_type": "stream",
     "text": [
      "['cholesterol', 'threonine', 'uric acid', '3-hydroxybutanoic acid', '5-hydroxynorvaline NIST', 'inosine']\n"
     ]
    },
    {
     "name": "stderr",
     "output_type": "stream",
     "text": [
      "100%|██████████| 29/29 [00:00<00:00, 47.06it/s]\n",
      "100%|██████████| 29/29 [00:00<00:00, 47.04it/s]\n",
      "100%|██████████| 29/29 [00:00<00:00, 44.63it/s]\n",
      "100%|██████████| 29/29 [00:00<00:00, 45.19it/s]\n",
      "100%|██████████| 29/29 [00:00<00:00, 45.96it/s]\n",
      "100%|██████████| 29/29 [00:00<00:00, 45.61it/s]\n",
      "100%|██████████| 29/29 [00:00<00:00, 46.40it/s]\n",
      "100%|██████████| 29/29 [00:00<00:00, 47.51it/s]\n",
      "100%|██████████| 29/29 [00:00<00:00, 47.19it/s]\n",
      "100%|██████████| 29/29 [00:00<00:00, 47.65it/s]\n"
     ]
    },
    {
     "name": "stdout",
     "output_type": "stream",
     "text": [
      "[[1, 0.6287082362082361], [2, 0.5572338772338772], [3, 0.6001194638694639], [4, 0.5908576146076145], [5, 0.567503885003885], [6, 0.7272717560217561]]\n"
     ]
    },
    {
     "name": "stderr",
     "output_type": "stream",
     "text": [
      " 14%|█▍        | 4/29 [00:00<00:00, 33.33it/s]"
     ]
    },
    {
     "name": "stdout",
     "output_type": "stream",
     "text": [
      "['cholesterol', 'threonine', '3-hydroxybutanoic acid', '5-hydroxynorvaline NIST', 'inosine', 'lactic acid', 'aspartic acid']\n"
     ]
    },
    {
     "name": "stderr",
     "output_type": "stream",
     "text": [
      "100%|██████████| 29/29 [00:00<00:00, 49.92it/s]\n",
      "100%|██████████| 29/29 [00:00<00:00, 48.23it/s]\n",
      "100%|██████████| 29/29 [00:00<00:00, 47.85it/s]\n",
      "100%|██████████| 29/29 [00:00<00:00, 46.75it/s]\n",
      "100%|██████████| 29/29 [00:00<00:00, 47.22it/s]\n",
      "100%|██████████| 29/29 [00:00<00:00, 46.08it/s]\n",
      "100%|██████████| 29/29 [00:00<00:00, 45.32it/s]\n",
      "100%|██████████| 29/29 [00:00<00:00, 46.68it/s]\n",
      "100%|██████████| 29/29 [00:00<00:00, 42.58it/s]\n",
      "100%|██████████| 29/29 [00:00<00:00, 46.35it/s]\n"
     ]
    },
    {
     "name": "stdout",
     "output_type": "stream",
     "text": [
      "[[1, 0.6287082362082361], [2, 0.5572338772338772], [3, 0.6001194638694639], [4, 0.5908576146076145], [5, 0.567503885003885], [6, 0.7272717560217561], [7, 0.8312548562548562]]\n"
     ]
    },
    {
     "name": "stderr",
     "output_type": "stream",
     "text": [
      " 14%|█▍        | 4/29 [00:00<00:00, 33.45it/s]"
     ]
    },
    {
     "name": "stdout",
     "output_type": "stream",
     "text": [
      "['cholesterol', 'threonine', '3-hydroxybutanoic acid', '5-hydroxynorvaline NIST', 'inosine', 'lactic acid', 'N-methylalanine', 'aspartic acid']\n"
     ]
    },
    {
     "name": "stderr",
     "output_type": "stream",
     "text": [
      "100%|██████████| 29/29 [00:00<00:00, 50.03it/s]\n",
      "100%|██████████| 29/29 [00:00<00:00, 47.71it/s]\n",
      "100%|██████████| 29/29 [00:00<00:00, 47.49it/s]\n",
      "100%|██████████| 29/29 [00:00<00:00, 46.87it/s]\n",
      "100%|██████████| 29/29 [00:00<00:00, 47.98it/s]\n",
      "100%|██████████| 29/29 [00:00<00:00, 47.47it/s]\n",
      "100%|██████████| 29/29 [00:00<00:00, 47.42it/s]\n",
      "100%|██████████| 29/29 [00:00<00:00, 46.59it/s]\n",
      "100%|██████████| 29/29 [00:00<00:00, 47.57it/s]\n",
      "100%|██████████| 29/29 [00:00<00:00, 48.29it/s]\n"
     ]
    },
    {
     "name": "stdout",
     "output_type": "stream",
     "text": [
      "[[1, 0.6287082362082361], [2, 0.5572338772338772], [3, 0.6001194638694639], [4, 0.5908576146076145], [5, 0.567503885003885], [6, 0.7272717560217561], [7, 0.8312548562548562], [8, 0.8219745532245533]]\n"
     ]
    },
    {
     "name": "stderr",
     "output_type": "stream",
     "text": [
      " 10%|█         | 3/29 [00:00<00:00, 29.99it/s]"
     ]
    },
    {
     "name": "stdout",
     "output_type": "stream",
     "text": [
      "['cholesterol', 'threonine', 'uric acid', '3-hydroxybutanoic acid', '5-hydroxynorvaline NIST', 'inosine', 'lactic acid', 'N-methylalanine', 'phenylalanine']\n"
     ]
    },
    {
     "name": "stderr",
     "output_type": "stream",
     "text": [
      "100%|██████████| 29/29 [00:00<00:00, 50.19it/s]\n",
      "100%|██████████| 29/29 [00:00<00:00, 47.94it/s]\n",
      "100%|██████████| 29/29 [00:00<00:00, 47.59it/s]\n",
      "100%|██████████| 29/29 [00:00<00:00, 47.70it/s]\n",
      "100%|██████████| 29/29 [00:00<00:00, 47.71it/s]\n",
      "100%|██████████| 29/29 [00:00<00:00, 47.23it/s]\n",
      "100%|██████████| 29/29 [00:00<00:00, 43.94it/s]\n",
      "100%|██████████| 29/29 [00:00<00:00, 46.84it/s]\n",
      "100%|██████████| 29/29 [00:00<00:00, 45.96it/s]\n",
      "100%|██████████| 29/29 [00:00<00:00, 46.82it/s]\n"
     ]
    },
    {
     "name": "stdout",
     "output_type": "stream",
     "text": [
      "[[1, 0.6287082362082361], [2, 0.5572338772338772], [3, 0.6001194638694639], [4, 0.5908576146076145], [5, 0.567503885003885], [6, 0.7272717560217561], [7, 0.8312548562548562], [8, 0.8219745532245533], [9, 0.7444104506604506]]\n"
     ]
    },
    {
     "name": "stderr",
     "output_type": "stream",
     "text": [
      " 10%|█         | 3/29 [00:00<00:00, 29.45it/s]"
     ]
    },
    {
     "name": "stdout",
     "output_type": "stream",
     "text": [
      "['cholesterol', 'threonine', '3-hydroxybutanoic acid', '5-hydroxynorvaline NIST', 'inosine', 'lactic acid', 'aspartic acid', 'deoxypentitol', 'phenol', 'taurine']\n"
     ]
    },
    {
     "name": "stderr",
     "output_type": "stream",
     "text": [
      "100%|██████████| 29/29 [00:00<00:00, 47.70it/s]\n",
      "100%|██████████| 29/29 [00:00<00:00, 45.99it/s]\n",
      "100%|██████████| 29/29 [00:00<00:00, 46.43it/s]\n",
      "100%|██████████| 29/29 [00:00<00:00, 43.04it/s]\n",
      "100%|██████████| 29/29 [00:00<00:00, 45.82it/s]\n",
      "100%|██████████| 29/29 [00:00<00:00, 45.54it/s]\n",
      "100%|██████████| 29/29 [00:00<00:00, 45.36it/s]\n",
      "100%|██████████| 29/29 [00:00<00:00, 46.13it/s]\n",
      "100%|██████████| 29/29 [00:00<00:00, 44.40it/s]\n",
      "100%|██████████| 29/29 [00:00<00:00, 46.69it/s]\n"
     ]
    },
    {
     "name": "stdout",
     "output_type": "stream",
     "text": [
      "[[1, 0.6287082362082361], [2, 0.5572338772338772], [3, 0.6001194638694639], [4, 0.5908576146076145], [5, 0.567503885003885], [6, 0.7272717560217561], [7, 0.8312548562548562], [8, 0.8219745532245533], [9, 0.7444104506604506], [10, 0.7632371794871794]]\n"
     ]
    },
    {
     "name": "stderr",
     "output_type": "stream",
     "text": [
      " 10%|█         | 3/29 [00:00<00:00, 29.89it/s]"
     ]
    },
    {
     "name": "stdout",
     "output_type": "stream",
     "text": [
      "['cholesterol', 'threonine', 'uric acid', '3-hydroxybutanoic acid', '5-hydroxynorvaline NIST', 'inosine', 'lactic acid', 'N-methylalanine', 'phenylalanine', 'quinic acid', 'aspartic acid']\n"
     ]
    },
    {
     "name": "stderr",
     "output_type": "stream",
     "text": [
      "100%|██████████| 29/29 [00:00<00:00, 49.63it/s]\n",
      "100%|██████████| 29/29 [00:00<00:00, 46.70it/s]\n",
      "100%|██████████| 29/29 [00:00<00:00, 44.99it/s]\n",
      "100%|██████████| 29/29 [00:00<00:00, 44.24it/s]\n",
      "100%|██████████| 29/29 [00:00<00:00, 40.12it/s]\n",
      "100%|██████████| 29/29 [00:00<00:00, 45.34it/s]\n",
      "100%|██████████| 29/29 [00:00<00:00, 45.30it/s]\n",
      "100%|██████████| 29/29 [00:00<00:00, 46.33it/s]\n",
      "100%|██████████| 29/29 [00:00<00:00, 45.09it/s]\n",
      "100%|██████████| 29/29 [00:00<00:00, 45.45it/s]\n"
     ]
    },
    {
     "name": "stdout",
     "output_type": "stream",
     "text": [
      "[[1, 0.6287082362082361], [2, 0.5572338772338772], [3, 0.6001194638694639], [4, 0.5908576146076145], [5, 0.567503885003885], [6, 0.7272717560217561], [7, 0.8312548562548562], [8, 0.8219745532245533], [9, 0.7444104506604506], [10, 0.7632371794871794], [11, 0.8369745532245533]]\n"
     ]
    },
    {
     "name": "stderr",
     "output_type": "stream",
     "text": [
      " 14%|█▍        | 4/29 [00:00<00:00, 33.32it/s]"
     ]
    },
    {
     "name": "stdout",
     "output_type": "stream",
     "text": [
      "['cholesterol', 'threonine', 'uric acid', '3-hydroxybutanoic acid', '5-hydroxynorvaline NIST', 'inosine', 'lactic acid', 'N-methylalanine', 'phenylalanine', 'quinic acid', 'aspartic acid', 'deoxypentitol']\n"
     ]
    },
    {
     "name": "stderr",
     "output_type": "stream",
     "text": [
      "100%|██████████| 29/29 [00:00<00:00, 48.34it/s]\n",
      "100%|██████████| 29/29 [00:00<00:00, 46.46it/s]\n",
      "100%|██████████| 29/29 [00:00<00:00, 46.82it/s]\n",
      "100%|██████████| 29/29 [00:00<00:00, 45.27it/s]\n",
      "100%|██████████| 29/29 [00:00<00:00, 46.18it/s]\n",
      "100%|██████████| 29/29 [00:00<00:00, 45.72it/s]\n",
      "100%|██████████| 29/29 [00:00<00:00, 46.62it/s]\n",
      "100%|██████████| 29/29 [00:00<00:00, 44.20it/s]\n",
      "100%|██████████| 29/29 [00:00<00:00, 42.25it/s]\n",
      "100%|██████████| 29/29 [00:00<00:00, 46.48it/s]\n"
     ]
    },
    {
     "name": "stdout",
     "output_type": "stream",
     "text": [
      "[[1, 0.6287082362082361], [2, 0.5572338772338772], [3, 0.6001194638694639], [4, 0.5908576146076145], [5, 0.567503885003885], [6, 0.7272717560217561], [7, 0.8312548562548562], [8, 0.8219745532245533], [9, 0.7444104506604506], [10, 0.7632371794871794], [11, 0.8369745532245533], [12, 0.8201534576534577]]\n"
     ]
    },
    {
     "name": "stderr",
     "output_type": "stream",
     "text": [
      " 10%|█         | 3/29 [00:00<00:00, 29.99it/s]"
     ]
    },
    {
     "name": "stdout",
     "output_type": "stream",
     "text": [
      "['cholesterol', '3-hydroxybutanoic acid', '5-hydroxynorvaline NIST', 'inosine', 'lactic acid', 'N-methylalanine', 'quinic acid', 'aspartic acid', 'deoxypentitol', 'glutamic acid', 'malic acid', 'phenol', 'taurine']\n"
     ]
    },
    {
     "name": "stderr",
     "output_type": "stream",
     "text": [
      "100%|██████████| 29/29 [00:00<00:00, 48.91it/s]\n",
      "100%|██████████| 29/29 [00:00<00:00, 45.41it/s]\n",
      "100%|██████████| 29/29 [00:00<00:00, 45.73it/s]\n",
      "100%|██████████| 29/29 [00:00<00:00, 45.04it/s]\n",
      "100%|██████████| 29/29 [00:00<00:00, 46.60it/s]\n",
      "100%|██████████| 29/29 [00:00<00:00, 46.16it/s]\n",
      "100%|██████████| 29/29 [00:00<00:00, 44.94it/s]\n",
      "100%|██████████| 29/29 [00:00<00:00, 42.99it/s]\n",
      "100%|██████████| 29/29 [00:00<00:00, 46.05it/s]\n",
      "100%|██████████| 29/29 [00:00<00:00, 46.64it/s]\n"
     ]
    },
    {
     "name": "stdout",
     "output_type": "stream",
     "text": [
      "[[1, 0.6287082362082361], [2, 0.5572338772338772], [3, 0.6001194638694639], [4, 0.5908576146076145], [5, 0.567503885003885], [6, 0.7272717560217561], [7, 0.8312548562548562], [8, 0.8219745532245533], [9, 0.7444104506604506], [10, 0.7632371794871794], [11, 0.8369745532245533], [12, 0.8201534576534577], [13, 0.7580701243201242]]\n"
     ]
    },
    {
     "name": "stderr",
     "output_type": "stream",
     "text": [
      " 10%|█         | 3/29 [00:00<00:00, 29.99it/s]"
     ]
    },
    {
     "name": "stdout",
     "output_type": "stream",
     "text": [
      "['cholesterol', 'threonine', '3-hydroxybutanoic acid', '5-hydroxynorvaline NIST', 'inosine', 'lactic acid', 'N-methylalanine', 'quinic acid', 'aspartic acid', 'deoxypentitol', 'glutamic acid', 'malic acid', 'phenol', 'taurine']\n"
     ]
    },
    {
     "name": "stderr",
     "output_type": "stream",
     "text": [
      "100%|██████████| 29/29 [00:00<00:00, 48.83it/s]\n",
      "100%|██████████| 29/29 [00:00<00:00, 46.06it/s]\n",
      "100%|██████████| 29/29 [00:00<00:00, 46.37it/s]\n",
      "100%|██████████| 29/29 [00:00<00:00, 44.39it/s]\n",
      "100%|██████████| 29/29 [00:00<00:00, 46.19it/s]\n",
      "100%|██████████| 29/29 [00:00<00:00, 46.56it/s]\n",
      "100%|██████████| 29/29 [00:00<00:00, 46.56it/s]\n",
      "100%|██████████| 29/29 [00:00<00:00, 45.69it/s]\n",
      "100%|██████████| 29/29 [00:00<00:00, 46.20it/s]\n",
      "100%|██████████| 29/29 [00:00<00:00, 46.62it/s]\n"
     ]
    },
    {
     "name": "stdout",
     "output_type": "stream",
     "text": [
      "[[1, 0.6287082362082361], [2, 0.5572338772338772], [3, 0.6001194638694639], [4, 0.5908576146076145], [5, 0.567503885003885], [6, 0.7272717560217561], [7, 0.8312548562548562], [8, 0.8219745532245533], [9, 0.7444104506604506], [10, 0.7632371794871794], [11, 0.8369745532245533], [12, 0.8201534576534577], [13, 0.7580701243201242], [14, 0.7718482905982906]]\n"
     ]
    },
    {
     "name": "stderr",
     "output_type": "stream",
     "text": [
      " 14%|█▍        | 4/29 [00:00<00:00, 32.90it/s]"
     ]
    },
    {
     "name": "stdout",
     "output_type": "stream",
     "text": [
      "['cholesterol', 'threonine', 'uric acid', '3-hydroxybutanoic acid', '5-hydroxynorvaline NIST', 'inosine', 'lactic acid', 'N-methylalanine', 'phenylalanine', 'aspartic acid', 'deoxypentitol', 'glutamic acid', 'malic acid', 'phenol', 'taurine']\n"
     ]
    },
    {
     "name": "stderr",
     "output_type": "stream",
     "text": [
      "100%|██████████| 29/29 [00:00<00:00, 48.92it/s]\n",
      "100%|██████████| 29/29 [00:00<00:00, 46.41it/s]\n",
      "100%|██████████| 29/29 [00:00<00:00, 46.24it/s]\n",
      "100%|██████████| 29/29 [00:00<00:00, 45.07it/s]\n",
      "100%|██████████| 29/29 [00:00<00:00, 46.07it/s]\n",
      "100%|██████████| 29/29 [00:00<00:00, 46.85it/s]\n",
      "100%|██████████| 29/29 [00:00<00:00, 46.21it/s]\n",
      "100%|██████████| 29/29 [00:00<00:00, 46.43it/s]\n",
      "100%|██████████| 29/29 [00:00<00:00, 46.03it/s]\n",
      "100%|██████████| 29/29 [00:00<00:00, 46.07it/s]\n"
     ]
    },
    {
     "name": "stdout",
     "output_type": "stream",
     "text": [
      "[[1, 0.6287082362082361], [2, 0.5572338772338772], [3, 0.6001194638694639], [4, 0.5908576146076145], [5, 0.567503885003885], [6, 0.7272717560217561], [7, 0.8312548562548562], [8, 0.8219745532245533], [9, 0.7444104506604506], [10, 0.7632371794871794], [11, 0.8369745532245533], [12, 0.8201534576534577], [13, 0.7580701243201242], [14, 0.7718482905982906], [15, 0.789597902097902]]\n"
     ]
    },
    {
     "name": "stderr",
     "output_type": "stream",
     "text": [
      " 10%|█         | 3/29 [00:00<00:00, 29.79it/s]"
     ]
    },
    {
     "name": "stdout",
     "output_type": "stream",
     "text": [
      "['cholesterol', 'threonine', 'uric acid', '3-hydroxybutanoic acid', '5-hydroxynorvaline NIST', 'inosine', 'lactic acid', 'N-methylalanine', 'phenylalanine', 'quinic acid', 'aspartic acid', 'deoxypentitol', 'glutamic acid', 'malic acid', 'phenol', 'taurine']\n"
     ]
    },
    {
     "name": "stderr",
     "output_type": "stream",
     "text": [
      "100%|██████████| 29/29 [00:00<00:00, 47.91it/s]\n",
      "100%|██████████| 29/29 [00:00<00:00, 45.66it/s]\n",
      "100%|██████████| 29/29 [00:00<00:00, 46.31it/s]\n",
      "100%|██████████| 29/29 [00:00<00:00, 46.20it/s]\n",
      "100%|██████████| 29/29 [00:00<00:00, 46.27it/s]\n",
      "100%|██████████| 29/29 [00:00<00:00, 45.96it/s]\n",
      "100%|██████████| 29/29 [00:00<00:00, 46.15it/s]\n",
      "100%|██████████| 29/29 [00:00<00:00, 46.46it/s]\n",
      "100%|██████████| 29/29 [00:00<00:00, 44.04it/s]\n",
      "100%|██████████| 29/29 [00:00<00:00, 46.16it/s]"
     ]
    },
    {
     "name": "stdout",
     "output_type": "stream",
     "text": [
      "[[1, 0.6287082362082361], [2, 0.5572338772338772], [3, 0.6001194638694639], [4, 0.5908576146076145], [5, 0.567503885003885], [6, 0.7272717560217561], [7, 0.8312548562548562], [8, 0.8219745532245533], [9, 0.7444104506604506], [10, 0.7632371794871794], [11, 0.8369745532245533], [12, 0.8201534576534577], [13, 0.7580701243201242], [14, 0.7718482905982906], [15, 0.789597902097902], [16, 0.8094259906759907]]\n"
     ]
    },
    {
     "name": "stderr",
     "output_type": "stream",
     "text": [
      "\n"
     ]
    },
    {
     "data": {
      "image/png": "[encoded data removed]",
      "text/plain": [
       "<Figure size 432x288 with 1 Axes>"
      ]
     },
     "metadata": {
      "needs_background": "light"
     },
     "output_type": "display_data"
    }
   ],
   "source": [
    "accuracy2_serum('DecisionTreeClassifier')"
   ]
  },
  {
   "cell_type": "code",
   "execution_count": 31,
   "metadata": {},
   "outputs": [
    {
     "name": "stderr",
     "output_type": "stream",
     "text": [
      " 14%|█▍        | 4/29 [00:00<00:00, 36.03it/s]"
     ]
    },
    {
     "name": "stdout",
     "output_type": "stream",
     "text": [
      "['cholesterol']\n"
     ]
    },
    {
     "name": "stderr",
     "output_type": "stream",
     "text": [
      "100%|██████████| 29/29 [00:00<00:00, 51.40it/s]\n",
      "100%|██████████| 29/29 [00:00<00:00, 48.85it/s]\n",
      "100%|██████████| 29/29 [00:00<00:00, 49.27it/s]\n",
      "100%|██████████| 29/29 [00:00<00:00, 48.41it/s]\n",
      "100%|██████████| 29/29 [00:00<00:00, 49.99it/s]\n",
      "100%|██████████| 29/29 [00:00<00:00, 49.60it/s]\n",
      "100%|██████████| 29/29 [00:00<00:00, 49.64it/s]\n",
      "100%|██████████| 29/29 [00:00<00:00, 49.52it/s]\n",
      "100%|██████████| 29/29 [00:00<00:00, 48.78it/s]\n",
      "100%|██████████| 29/29 [00:00<00:00, 48.79it/s]\n"
     ]
    },
    {
     "name": "stdout",
     "output_type": "stream",
     "text": [
      "[[1, 0.6252991452991452]]\n"
     ]
    },
    {
     "name": "stderr",
     "output_type": "stream",
     "text": [
      " 14%|█▍        | 4/29 [00:00<00:00, 36.03it/s]"
     ]
    },
    {
     "name": "stdout",
     "output_type": "stream",
     "text": [
      "['cholesterol', 'threonine']\n"
     ]
    },
    {
     "name": "stderr",
     "output_type": "stream",
     "text": [
      "100%|██████████| 29/29 [00:00<00:00, 51.53it/s]\n",
      "100%|██████████| 29/29 [00:00<00:00, 48.98it/s]\n",
      "100%|██████████| 29/29 [00:00<00:00, 48.32it/s]\n",
      "100%|██████████| 29/29 [00:00<00:00, 48.88it/s]\n",
      "100%|██████████| 29/29 [00:00<00:00, 47.78it/s]\n",
      "100%|██████████| 29/29 [00:00<00:00, 47.32it/s]\n",
      "100%|██████████| 29/29 [00:00<00:00, 48.58it/s]\n",
      "100%|██████████| 29/29 [00:00<00:00, 48.43it/s]\n",
      "100%|██████████| 29/29 [00:00<00:00, 47.84it/s]\n",
      "100%|██████████| 29/29 [00:00<00:00, 47.91it/s]\n"
     ]
    },
    {
     "name": "stdout",
     "output_type": "stream",
     "text": [
      "[[1, 0.6252991452991452], [2, 0.6232060994560994]]\n"
     ]
    },
    {
     "name": "stderr",
     "output_type": "stream",
     "text": [
      " 14%|█▍        | 4/29 [00:00<00:00, 32.53it/s]"
     ]
    },
    {
     "name": "stdout",
     "output_type": "stream",
     "text": [
      "['cholesterol', 'threonine', 'uric acid']\n"
     ]
    },
    {
     "name": "stderr",
     "output_type": "stream",
     "text": [
      "100%|██████████| 29/29 [00:00<00:00, 48.01it/s]\n",
      "100%|██████████| 29/29 [00:00<00:00, 47.58it/s]\n",
      "100%|██████████| 29/29 [00:00<00:00, 48.38it/s]\n",
      "100%|██████████| 29/29 [00:00<00:00, 47.45it/s]\n",
      "100%|██████████| 29/29 [00:00<00:00, 46.09it/s]\n",
      "100%|██████████| 29/29 [00:00<00:00, 48.12it/s]\n",
      "100%|██████████| 29/29 [00:00<00:00, 45.81it/s]\n",
      "100%|██████████| 29/29 [00:00<00:00, 45.70it/s]\n",
      "100%|██████████| 29/29 [00:00<00:00, 48.06it/s]\n",
      "100%|██████████| 29/29 [00:00<00:00, 46.14it/s]\n"
     ]
    },
    {
     "name": "stdout",
     "output_type": "stream",
     "text": [
      "[[1, 0.6252991452991452], [2, 0.6232060994560994], [3, 0.6826806526806526]]\n"
     ]
    },
    {
     "name": "stderr",
     "output_type": "stream",
     "text": [
      " 14%|█▍        | 4/29 [00:00<00:00, 33.93it/s]"
     ]
    },
    {
     "name": "stdout",
     "output_type": "stream",
     "text": [
      "['cholesterol', 'threonine', 'uric acid', '3-hydroxybutanoic acid']\n"
     ]
    },
    {
     "name": "stderr",
     "output_type": "stream",
     "text": [
      "100%|██████████| 29/29 [00:00<00:00, 49.95it/s]\n",
      "100%|██████████| 29/29 [00:00<00:00, 46.60it/s]\n",
      "100%|██████████| 29/29 [00:00<00:00, 46.52it/s]\n",
      "100%|██████████| 29/29 [00:00<00:00, 45.53it/s]\n",
      "100%|██████████| 29/29 [00:00<00:00, 46.47it/s]\n",
      "100%|██████████| 29/29 [00:00<00:00, 47.65it/s]\n",
      "100%|██████████| 29/29 [00:00<00:00, 47.86it/s]\n",
      "100%|██████████| 29/29 [00:00<00:00, 48.58it/s]\n",
      "100%|██████████| 29/29 [00:00<00:00, 48.69it/s]\n",
      "100%|██████████| 29/29 [00:00<00:00, 48.53it/s]\n"
     ]
    },
    {
     "name": "stdout",
     "output_type": "stream",
     "text": [
      "[[1, 0.6252991452991452], [2, 0.6232060994560994], [3, 0.6826806526806526], [4, 0.6498572261072262]]\n"
     ]
    },
    {
     "name": "stderr",
     "output_type": "stream",
     "text": [
      " 14%|█▍        | 4/29 [00:00<00:00, 34.06it/s]"
     ]
    },
    {
     "name": "stdout",
     "output_type": "stream",
     "text": [
      "['cholesterol', 'threonine', 'uric acid', '3-hydroxybutanoic acid', '5-hydroxynorvaline NIST']\n"
     ]
    },
    {
     "name": "stderr",
     "output_type": "stream",
     "text": [
      "100%|██████████| 29/29 [00:00<00:00, 50.16it/s]\n",
      "100%|██████████| 29/29 [00:00<00:00, 47.57it/s]\n",
      "100%|██████████| 29/29 [00:00<00:00, 46.08it/s]\n",
      "100%|██████████| 29/29 [00:00<00:00, 43.97it/s]\n",
      "100%|██████████| 29/29 [00:00<00:00, 46.62it/s]\n",
      "100%|██████████| 29/29 [00:00<00:00, 47.39it/s]\n",
      "100%|██████████| 29/29 [00:00<00:00, 44.79it/s]\n",
      "100%|██████████| 29/29 [00:00<00:00, 48.24it/s]\n",
      "100%|██████████| 29/29 [00:00<00:00, 47.81it/s]\n",
      "100%|██████████| 29/29 [00:00<00:00, 45.51it/s]\n"
     ]
    },
    {
     "name": "stdout",
     "output_type": "stream",
     "text": [
      "[[1, 0.6252991452991452], [2, 0.6232060994560994], [3, 0.6826806526806526], [4, 0.6498572261072262], [5, 0.6044560994560993]]\n"
     ]
    },
    {
     "name": "stderr",
     "output_type": "stream",
     "text": [
      " 14%|█▍        | 4/29 [00:00<00:00, 34.49it/s]"
     ]
    },
    {
     "name": "stdout",
     "output_type": "stream",
     "text": [
      "['cholesterol', 'threonine', 'uric acid', '3-hydroxybutanoic acid', '5-hydroxynorvaline NIST', 'inosine']\n"
     ]
    },
    {
     "name": "stderr",
     "output_type": "stream",
     "text": [
      "100%|██████████| 29/29 [00:00<00:00, 49.94it/s]\n",
      "100%|██████████| 29/29 [00:00<00:00, 45.79it/s]\n",
      "100%|██████████| 29/29 [00:00<00:00, 46.46it/s]\n",
      "100%|██████████| 29/29 [00:00<00:00, 46.87it/s]\n",
      "100%|██████████| 29/29 [00:00<00:00, 46.48it/s]\n",
      "100%|██████████| 29/29 [00:00<00:00, 48.01it/s]\n",
      "100%|██████████| 29/29 [00:00<00:00, 47.99it/s]\n",
      "100%|██████████| 29/29 [00:00<00:00, 47.80it/s]\n",
      "100%|██████████| 29/29 [00:00<00:00, 48.09it/s]\n",
      "100%|██████████| 29/29 [00:00<00:00, 47.39it/s]\n"
     ]
    },
    {
     "name": "stdout",
     "output_type": "stream",
     "text": [
      "[[1, 0.6252991452991452], [2, 0.6232060994560994], [3, 0.6826806526806526], [4, 0.6498572261072262], [5, 0.6044560994560993], [6, 0.6040394327894327]]\n"
     ]
    },
    {
     "name": "stderr",
     "output_type": "stream",
     "text": [
      " 14%|█▍        | 4/29 [00:00<00:00, 35.12it/s]"
     ]
    },
    {
     "name": "stdout",
     "output_type": "stream",
     "text": [
      "['cholesterol', 'threonine', 'uric acid', '3-hydroxybutanoic acid', '5-hydroxynorvaline NIST', 'inosine', 'lactic acid']\n"
     ]
    },
    {
     "name": "stderr",
     "output_type": "stream",
     "text": [
      "100%|██████████| 29/29 [00:00<00:00, 47.12it/s]\n",
      "100%|██████████| 29/29 [00:00<00:00, 47.80it/s]\n",
      "100%|██████████| 29/29 [00:00<00:00, 48.77it/s]\n",
      "100%|██████████| 29/29 [00:00<00:00, 45.46it/s]\n",
      "100%|██████████| 29/29 [00:00<00:00, 46.77it/s]\n",
      "100%|██████████| 29/29 [00:00<00:00, 47.29it/s]\n",
      "100%|██████████| 29/29 [00:00<00:00, 48.24it/s]\n",
      "100%|██████████| 29/29 [00:00<00:00, 46.34it/s]\n",
      "100%|██████████| 29/29 [00:00<00:00, 47.01it/s]\n",
      "100%|██████████| 29/29 [00:00<00:00, 47.08it/s]\n"
     ]
    },
    {
     "name": "stdout",
     "output_type": "stream",
     "text": [
      "[[1, 0.6252991452991452], [2, 0.6232060994560994], [3, 0.6826806526806526], [4, 0.6498572261072262], [5, 0.6044560994560993], [6, 0.6040394327894327], [7, 0.6322212509712509]]\n"
     ]
    },
    {
     "name": "stderr",
     "output_type": "stream",
     "text": [
      " 14%|█▍        | 4/29 [00:00<00:00, 33.83it/s]"
     ]
    },
    {
     "name": "stdout",
     "output_type": "stream",
     "text": [
      "['cholesterol', 'threonine', 'uric acid', '3-hydroxybutanoic acid', '5-hydroxynorvaline NIST', 'inosine', 'lactic acid', 'N-methylalanine']\n"
     ]
    },
    {
     "name": "stderr",
     "output_type": "stream",
     "text": [
      "100%|██████████| 29/29 [00:00<00:00, 47.20it/s]\n",
      "100%|██████████| 29/29 [00:00<00:00, 46.09it/s]\n",
      "100%|██████████| 29/29 [00:00<00:00, 45.82it/s]\n",
      "100%|██████████| 29/29 [00:00<00:00, 45.30it/s]\n",
      "100%|██████████| 29/29 [00:00<00:00, 47.01it/s]\n",
      "100%|██████████| 29/29 [00:00<00:00, 45.65it/s]\n",
      "100%|██████████| 29/29 [00:00<00:00, 47.49it/s]\n",
      "100%|██████████| 29/29 [00:00<00:00, 48.23it/s]\n",
      "100%|██████████| 29/29 [00:00<00:00, 47.19it/s]\n",
      "100%|██████████| 29/29 [00:00<00:00, 46.97it/s]\n"
     ]
    },
    {
     "name": "stdout",
     "output_type": "stream",
     "text": [
      "[[1, 0.6252991452991452], [2, 0.6232060994560994], [3, 0.6826806526806526], [4, 0.6498572261072262], [5, 0.6044560994560993], [6, 0.6040394327894327], [7, 0.6322212509712509], [8, 0.6641656954156954]]\n"
     ]
    },
    {
     "name": "stderr",
     "output_type": "stream",
     "text": [
      " 14%|█▍        | 4/29 [00:00<00:00, 34.64it/s]"
     ]
    },
    {
     "name": "stdout",
     "output_type": "stream",
     "text": [
      "['cholesterol', '3-hydroxybutanoic acid', '5-hydroxynorvaline NIST', 'inosine', 'lactic acid', 'N-methylalanine', 'aspartic acid', 'phenol', 'taurine']\n"
     ]
    },
    {
     "name": "stderr",
     "output_type": "stream",
     "text": [
      "100%|██████████| 29/29 [00:00<00:00, 49.81it/s]\n",
      "100%|██████████| 29/29 [00:00<00:00, 47.62it/s]\n",
      "100%|██████████| 29/29 [00:00<00:00, 47.16it/s]\n",
      "100%|██████████| 29/29 [00:00<00:00, 47.54it/s]\n",
      "100%|██████████| 29/29 [00:00<00:00, 47.87it/s]\n",
      "100%|██████████| 29/29 [00:00<00:00, 47.00it/s]\n",
      "100%|██████████| 29/29 [00:00<00:00, 46.77it/s]\n",
      "100%|██████████| 29/29 [00:00<00:00, 47.32it/s]\n",
      "100%|██████████| 29/29 [00:00<00:00, 47.26it/s]\n",
      "100%|██████████| 29/29 [00:00<00:00, 46.87it/s]\n"
     ]
    },
    {
     "name": "stdout",
     "output_type": "stream",
     "text": [
      "[[1, 0.6252991452991452], [2, 0.6232060994560994], [3, 0.6826806526806526], [4, 0.6498572261072262], [5, 0.6044560994560993], [6, 0.6040394327894327], [7, 0.6322212509712509], [8, 0.6641656954156954], [9, 0.786829836829837]]\n"
     ]
    },
    {
     "name": "stderr",
     "output_type": "stream",
     "text": [
      " 14%|█▍        | 4/29 [00:00<00:00, 33.34it/s]"
     ]
    },
    {
     "name": "stdout",
     "output_type": "stream",
     "text": [
      "['cholesterol', 'threonine', 'uric acid', '3-hydroxybutanoic acid', '5-hydroxynorvaline NIST', 'inosine', 'lactic acid', 'N-methylalanine', 'phenylalanine', 'quinic acid']\n"
     ]
    },
    {
     "name": "stderr",
     "output_type": "stream",
     "text": [
      "100%|██████████| 29/29 [00:00<00:00, 50.44it/s]\n",
      "100%|██████████| 29/29 [00:00<00:00, 47.42it/s]\n",
      "100%|██████████| 29/29 [00:00<00:00, 47.34it/s]\n",
      "100%|██████████| 29/29 [00:00<00:00, 47.15it/s]\n",
      "100%|██████████| 29/29 [00:00<00:00, 47.25it/s]\n",
      "100%|██████████| 29/29 [00:00<00:00, 47.00it/s]\n",
      "100%|██████████| 29/29 [00:00<00:00, 44.62it/s]\n",
      "100%|██████████| 29/29 [00:00<00:00, 42.52it/s]\n",
      "100%|██████████| 29/29 [00:00<00:00, 43.69it/s]\n",
      "100%|██████████| 29/29 [00:00<00:00, 42.03it/s]\n"
     ]
    },
    {
     "name": "stdout",
     "output_type": "stream",
     "text": [
      "[[1, 0.6252991452991452], [2, 0.6232060994560994], [3, 0.6826806526806526], [4, 0.6498572261072262], [5, 0.6044560994560993], [6, 0.6040394327894327], [7, 0.6322212509712509], [8, 0.6641656954156954], [9, 0.786829836829837], [10, 0.6515977078477079]]\n"
     ]
    },
    {
     "name": "stderr",
     "output_type": "stream",
     "text": [
      " 10%|█         | 3/29 [00:00<00:00, 28.29it/s]"
     ]
    },
    {
     "name": "stdout",
     "output_type": "stream",
     "text": [
      "['cholesterol', 'threonine', 'uric acid', '3-hydroxybutanoic acid', '5-hydroxynorvaline NIST', 'inosine', 'lactic acid', 'N-methylalanine', 'phenylalanine', 'quinic acid', 'aspartic acid']\n"
     ]
    },
    {
     "name": "stderr",
     "output_type": "stream",
     "text": [
      "100%|██████████| 29/29 [00:00<00:00, 47.49it/s]\n",
      "100%|██████████| 29/29 [00:00<00:00, 45.42it/s]\n",
      "100%|██████████| 29/29 [00:00<00:00, 45.57it/s]\n",
      "100%|██████████| 29/29 [00:00<00:00, 40.98it/s]\n",
      "100%|██████████| 29/29 [00:00<00:00, 42.68it/s]\n",
      "100%|██████████| 29/29 [00:00<00:00, 47.77it/s]\n",
      "100%|██████████| 29/29 [00:00<00:00, 45.59it/s]\n",
      "100%|██████████| 29/29 [00:00<00:00, 46.94it/s]\n",
      "100%|██████████| 29/29 [00:00<00:00, 47.66it/s]\n",
      "100%|██████████| 29/29 [00:00<00:00, 47.42it/s]\n"
     ]
    },
    {
     "name": "stdout",
     "output_type": "stream",
     "text": [
      "[[1, 0.6252991452991452], [2, 0.6232060994560994], [3, 0.6826806526806526], [4, 0.6498572261072262], [5, 0.6044560994560993], [6, 0.6040394327894327], [7, 0.6322212509712509], [8, 0.6641656954156954], [9, 0.786829836829837], [10, 0.6515977078477079], [11, 0.7715520590520591]]\n"
     ]
    },
    {
     "name": "stderr",
     "output_type": "stream",
     "text": [
      " 10%|█         | 3/29 [00:00<00:00, 29.87it/s]"
     ]
    },
    {
     "name": "stdout",
     "output_type": "stream",
     "text": [
      "['cholesterol', 'threonine', 'uric acid', '3-hydroxybutanoic acid', '5-hydroxynorvaline NIST', 'inosine', 'lactic acid', 'N-methylalanine', 'phenylalanine', 'quinic acid', 'aspartic acid', 'deoxypentitol']\n"
     ]
    },
    {
     "name": "stderr",
     "output_type": "stream",
     "text": [
      "100%|██████████| 29/29 [00:00<00:00, 49.19it/s]\n",
      "100%|██████████| 29/29 [00:00<00:00, 46.76it/s]\n",
      "100%|██████████| 29/29 [00:00<00:00, 46.17it/s]\n",
      "100%|██████████| 29/29 [00:00<00:00, 45.36it/s]\n",
      "100%|██████████| 29/29 [00:00<00:00, 46.81it/s]\n",
      "100%|██████████| 29/29 [00:00<00:00, 46.46it/s]\n",
      "100%|██████████| 29/29 [00:00<00:00, 46.14it/s]\n",
      "100%|██████████| 29/29 [00:00<00:00, 46.57it/s]\n",
      "100%|██████████| 29/29 [00:00<00:00, 47.38it/s]\n",
      "100%|██████████| 29/29 [00:00<00:00, 48.08it/s]\n"
     ]
    },
    {
     "name": "stdout",
     "output_type": "stream",
     "text": [
      "[[1, 0.6252991452991452], [2, 0.6232060994560994], [3, 0.6826806526806526], [4, 0.6498572261072262], [5, 0.6044560994560993], [6, 0.6040394327894327], [7, 0.6322212509712509], [8, 0.6641656954156954], [9, 0.786829836829837], [10, 0.6515977078477079], [11, 0.7715520590520591], [12, 0.7457993395493396]]\n"
     ]
    },
    {
     "name": "stderr",
     "output_type": "stream",
     "text": [
      " 14%|█▍        | 4/29 [00:00<00:00, 33.32it/s]"
     ]
    },
    {
     "name": "stdout",
     "output_type": "stream",
     "text": [
      "['threonine', 'uric acid', '3-hydroxybutanoic acid', '5-hydroxynorvaline NIST', 'inosine', 'lactic acid', 'N-methylalanine', 'quinic acid', 'aspartic acid', 'deoxypentitol', 'glutamic acid', 'phenol', 'taurine']\n"
     ]
    },
    {
     "name": "stderr",
     "output_type": "stream",
     "text": [
      "100%|██████████| 29/29 [00:00<00:00, 49.77it/s]\n",
      "100%|██████████| 29/29 [00:00<00:00, 47.23it/s]\n",
      "100%|██████████| 29/29 [00:00<00:00, 46.67it/s]\n",
      "100%|██████████| 29/29 [00:00<00:00, 46.69it/s]\n",
      "100%|██████████| 29/29 [00:00<00:00, 46.82it/s]\n",
      "100%|██████████| 29/29 [00:00<00:00, 47.01it/s]\n",
      "100%|██████████| 29/29 [00:00<00:00, 47.19it/s]\n",
      "100%|██████████| 29/29 [00:00<00:00, 45.54it/s]\n",
      "100%|██████████| 29/29 [00:00<00:00, 46.71it/s]\n",
      "100%|██████████| 29/29 [00:00<00:00, 47.55it/s]\n"
     ]
    },
    {
     "name": "stdout",
     "output_type": "stream",
     "text": [
      "[[1, 0.6252991452991452], [2, 0.6232060994560994], [3, 0.6826806526806526], [4, 0.6498572261072262], [5, 0.6044560994560993], [6, 0.6040394327894327], [7, 0.6322212509712509], [8, 0.6641656954156954], [9, 0.786829836829837], [10, 0.6515977078477079], [11, 0.7715520590520591], [12, 0.7457993395493396], [13, 0.7381983294483294]]\n"
     ]
    },
    {
     "name": "stderr",
     "output_type": "stream",
     "text": [
      " 10%|█         | 3/29 [00:00<00:00, 29.34it/s]"
     ]
    },
    {
     "name": "stdout",
     "output_type": "stream",
     "text": [
      "['cholesterol', 'threonine', '3-hydroxybutanoic acid', '5-hydroxynorvaline NIST', 'inosine', 'lactic acid', 'N-methylalanine', 'phenylalanine', 'quinic acid', 'aspartic acid', 'deoxypentitol', 'malic acid', 'phenol', 'taurine']\n"
     ]
    },
    {
     "name": "stderr",
     "output_type": "stream",
     "text": [
      "100%|██████████| 29/29 [00:00<00:00, 46.58it/s]\n",
      "100%|██████████| 29/29 [00:00<00:00, 45.40it/s]\n",
      "100%|██████████| 29/29 [00:00<00:00, 46.42it/s]\n",
      "100%|██████████| 29/29 [00:00<00:00, 46.46it/s]\n",
      "100%|██████████| 29/29 [00:00<00:00, 46.42it/s]\n",
      "100%|██████████| 29/29 [00:00<00:00, 46.18it/s]\n",
      "100%|██████████| 29/29 [00:00<00:00, 46.43it/s]\n",
      "100%|██████████| 29/29 [00:00<00:00, 45.69it/s]\n",
      "100%|██████████| 29/29 [00:00<00:00, 45.98it/s]\n",
      "100%|██████████| 29/29 [00:00<00:00, 46.00it/s]\n"
     ]
    },
    {
     "name": "stdout",
     "output_type": "stream",
     "text": [
      "[[1, 0.6252991452991452], [2, 0.6232060994560994], [3, 0.6826806526806526], [4, 0.6498572261072262], [5, 0.6044560994560993], [6, 0.6040394327894327], [7, 0.6322212509712509], [8, 0.6641656954156954], [9, 0.786829836829837], [10, 0.6515977078477079], [11, 0.7715520590520591], [12, 0.7457993395493396], [13, 0.7381983294483294], [14, 0.7860722610722611]]\n"
     ]
    },
    {
     "name": "stderr",
     "output_type": "stream",
     "text": [
      "  7%|▋         | 2/29 [00:00<00:01, 19.87it/s]"
     ]
    },
    {
     "name": "stdout",
     "output_type": "stream",
     "text": [
      "['cholesterol', 'threonine', 'uric acid', '3-hydroxybutanoic acid', '5-hydroxynorvaline NIST', 'inosine', 'lactic acid', 'N-methylalanine', 'phenylalanine', 'quinic acid', 'aspartic acid', 'deoxypentitol', 'glutamic acid', 'malic acid', 'phenol']\n"
     ]
    },
    {
     "name": "stderr",
     "output_type": "stream",
     "text": [
      "100%|██████████| 29/29 [00:00<00:00, 47.35it/s]\n",
      "100%|██████████| 29/29 [00:00<00:00, 45.77it/s]\n",
      "100%|██████████| 29/29 [00:00<00:00, 46.18it/s]\n",
      "100%|██████████| 29/29 [00:00<00:00, 45.95it/s]\n",
      "100%|██████████| 29/29 [00:00<00:00, 44.83it/s]\n",
      "100%|██████████| 29/29 [00:00<00:00, 45.58it/s]\n",
      "100%|██████████| 29/29 [00:00<00:00, 44.91it/s]\n",
      "100%|██████████| 29/29 [00:00<00:00, 46.09it/s]\n",
      "100%|██████████| 29/29 [00:00<00:00, 45.35it/s]\n",
      "100%|██████████| 29/29 [00:00<00:00, 46.53it/s]\n"
     ]
    },
    {
     "name": "stdout",
     "output_type": "stream",
     "text": [
      "[[1, 0.6252991452991452], [2, 0.6232060994560994], [3, 0.6826806526806526], [4, 0.6498572261072262], [5, 0.6044560994560993], [6, 0.6040394327894327], [7, 0.6322212509712509], [8, 0.6641656954156954], [9, 0.786829836829837], [10, 0.6515977078477079], [11, 0.7715520590520591], [12, 0.7457993395493396], [13, 0.7381983294483294], [14, 0.7860722610722611], [15, 0.7312490287490288]]\n"
     ]
    },
    {
     "name": "stderr",
     "output_type": "stream",
     "text": [
      " 10%|█         | 3/29 [00:00<00:00, 29.95it/s]"
     ]
    },
    {
     "name": "stdout",
     "output_type": "stream",
     "text": [
      "['cholesterol', 'threonine', 'uric acid', '3-hydroxybutanoic acid', '5-hydroxynorvaline NIST', 'inosine', 'lactic acid', 'N-methylalanine', 'phenylalanine', 'quinic acid', 'aspartic acid', 'deoxypentitol', 'glutamic acid', 'malic acid', 'phenol', 'taurine']\n"
     ]
    },
    {
     "name": "stderr",
     "output_type": "stream",
     "text": [
      "100%|██████████| 29/29 [00:00<00:00, 43.04it/s]\n",
      "100%|██████████| 29/29 [00:00<00:00, 46.30it/s]\n",
      "100%|██████████| 29/29 [00:00<00:00, 45.96it/s]\n",
      "100%|██████████| 29/29 [00:00<00:00, 46.38it/s]\n",
      "100%|██████████| 29/29 [00:00<00:00, 44.51it/s]\n",
      "100%|██████████| 29/29 [00:00<00:00, 46.35it/s]\n",
      "100%|██████████| 29/29 [00:00<00:00, 46.19it/s]\n",
      "100%|██████████| 29/29 [00:00<00:00, 45.89it/s]\n",
      "100%|██████████| 29/29 [00:00<00:00, 46.16it/s]\n",
      "100%|██████████| 29/29 [00:00<00:00, 46.45it/s]"
     ]
    },
    {
     "name": "stdout",
     "output_type": "stream",
     "text": [
      "[[1, 0.6252991452991452], [2, 0.6232060994560994], [3, 0.6826806526806526], [4, 0.6498572261072262], [5, 0.6044560994560993], [6, 0.6040394327894327], [7, 0.6322212509712509], [8, 0.6641656954156954], [9, 0.786829836829837], [10, 0.6515977078477079], [11, 0.7715520590520591], [12, 0.7457993395493396], [13, 0.7381983294483294], [14, 0.7860722610722611], [15, 0.7312490287490288], [16, 0.7368045843045843]]\n"
     ]
    },
    {
     "name": "stderr",
     "output_type": "stream",
     "text": [
      "\n"
     ]
    },
    {
     "data": {
      "image/png": "[encoded data removed]",
      "text/plain": [
       "<Figure size 432x288 with 1 Axes>"
      ]
     },
     "metadata": {
      "needs_background": "light"
     },
     "output_type": "display_data"
    }
   ],
   "source": [
    "accuracy2_serum('GaussianNB')"
   ]
  },
  {
   "cell_type": "code",
   "execution_count": null,
   "metadata": {},
   "outputs": [],
   "source": []
  }
 ],
 "metadata": {
  "colab": {
   "collapsed_sections": [],
   "name": "serum-plasma-utshab.ipynb",
   "provenance": []
  },
  "kernelspec": {
   "display_name": "Python 3",
   "language": "python",
   "name": "python3"
  },
  "language_info": {
   "codemirror_mode": {
    "name": "ipython",
    "version": 3
   },
   "file_extension": ".py",
   "mimetype": "text/x-python",
   "name": "python",
   "nbconvert_exporter": "python",
   "pygments_lexer": "ipython3",
   "version": "3.7.9"
  }
 },
 "nbformat": 4,
 "nbformat_minor": 1
}

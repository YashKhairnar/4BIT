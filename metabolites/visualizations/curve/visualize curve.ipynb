{
 "cells": [
  {
   "cell_type": "code",
   "execution_count": 56,
   "id": "regular-compact",
   "metadata": {},
   "outputs": [
    {
     "data": {
      "text/html": [
       "<div>\n",
       "<style scoped>\n",
       "    .dataframe tbody tr th:only-of-type {\n",
       "        vertical-align: middle;\n",
       "    }\n",
       "\n",
       "    .dataframe tbody tr th {\n",
       "        vertical-align: top;\n",
       "    }\n",
       "\n",
       "    .dataframe thead th {\n",
       "        text-align: right;\n",
       "    }\n",
       "</style>\n",
       "<table border=\"1\" class=\"dataframe\">\n",
       "  <thead>\n",
       "    <tr style=\"text-align: right;\">\n",
       "      <th></th>\n",
       "      <th>Method</th>\n",
       "      <th>Accuracy</th>\n",
       "    </tr>\n",
       "  </thead>\n",
       "  <tbody>\n",
       "    <tr>\n",
       "      <th>0</th>\n",
       "      <td>Plasma(Raw)</td>\n",
       "      <td>0.825758</td>\n",
       "    </tr>\n",
       "    <tr>\n",
       "      <th>1</th>\n",
       "      <td>pca2_plasma(Exploratory)</td>\n",
       "      <td>0.772727</td>\n",
       "    </tr>\n",
       "    <tr>\n",
       "      <th>2</th>\n",
       "      <td>pca3_plasma(Exploratory)</td>\n",
       "      <td>0.772727</td>\n",
       "    </tr>\n",
       "    <tr>\n",
       "      <th>3</th>\n",
       "      <td>pca4_plasma(Exploratory)</td>\n",
       "      <td>0.772727</td>\n",
       "    </tr>\n",
       "    <tr>\n",
       "      <th>4</th>\n",
       "      <td>pca5_plasma(Exploratory)</td>\n",
       "      <td>0.772727</td>\n",
       "    </tr>\n",
       "  </tbody>\n",
       "</table>\n",
       "</div>"
      ],
      "text/plain": [
       "                     Method  Accuracy\n",
       "0               Plasma(Raw)  0.825758\n",
       "1  pca2_plasma(Exploratory)  0.772727\n",
       "2  pca3_plasma(Exploratory)  0.772727\n",
       "3  pca4_plasma(Exploratory)  0.772727\n",
       "4  pca5_plasma(Exploratory)  0.772727"
      ]
     },
     "execution_count": 56,
     "metadata": {},
     "output_type": "execute_result"
    }
   ],
   "source": [
    "import numpy as np\n",
    "import pandas as pd\n",
    "import matplotlib.pyplot as plt\n",
    "\n",
    "\n",
    "mashrur = pd.read_csv('prev_plasma.csv')\n",
    "latest = pd.read_csv('ours_plasma.csv')\n",
    "\n",
    "mashrur.head()"
   ]
  },
  {
   "cell_type": "code",
   "execution_count": 57,
   "id": "likely-swedish",
   "metadata": {},
   "outputs": [
    {
     "data": {
      "text/html": [
       "<div>\n",
       "<style scoped>\n",
       "    .dataframe tbody tr th:only-of-type {\n",
       "        vertical-align: middle;\n",
       "    }\n",
       "\n",
       "    .dataframe tbody tr th {\n",
       "        vertical-align: top;\n",
       "    }\n",
       "\n",
       "    .dataframe thead th {\n",
       "        text-align: right;\n",
       "    }\n",
       "</style>\n",
       "<table border=\"1\" class=\"dataframe\">\n",
       "  <thead>\n",
       "    <tr style=\"text-align: right;\">\n",
       "      <th></th>\n",
       "      <th>Method</th>\n",
       "      <th>Accuracy</th>\n",
       "    </tr>\n",
       "  </thead>\n",
       "  <tbody>\n",
       "    <tr>\n",
       "      <th>0</th>\n",
       "      <td>Before PCA</td>\n",
       "      <td>0.825758</td>\n",
       "    </tr>\n",
       "    <tr>\n",
       "      <th>1</th>\n",
       "      <td>PCA2</td>\n",
       "      <td>0.772727</td>\n",
       "    </tr>\n",
       "    <tr>\n",
       "      <th>2</th>\n",
       "      <td>PCA3</td>\n",
       "      <td>0.772727</td>\n",
       "    </tr>\n",
       "    <tr>\n",
       "      <th>3</th>\n",
       "      <td>PCA4</td>\n",
       "      <td>0.772727</td>\n",
       "    </tr>\n",
       "    <tr>\n",
       "      <th>4</th>\n",
       "      <td>PCA5</td>\n",
       "      <td>0.772727</td>\n",
       "    </tr>\n",
       "  </tbody>\n",
       "</table>\n",
       "</div>"
      ],
      "text/plain": [
       "       Method  Accuracy\n",
       "0  Before PCA  0.825758\n",
       "1        PCA2  0.772727\n",
       "2        PCA3  0.772727\n",
       "3        PCA4  0.772727\n",
       "4        PCA5  0.772727"
      ]
     },
     "execution_count": 57,
     "metadata": {},
     "output_type": "execute_result"
    }
   ],
   "source": [
    "renames = ['Before PCA', 'PCA2', 'PCA3', 'PCA4', 'PCA5']\n",
    "\n",
    "for i in range(5):\n",
    "    mashrur.loc[i, 'Method'] = renames[i]\n",
    "    latest.loc[i, 'Method'] = renames[i]\n",
    "mashrur.head()"
   ]
  },
  {
   "cell_type": "code",
   "execution_count": 58,
   "id": "worst-exchange",
   "metadata": {},
   "outputs": [
    {
     "data": {
      "image/png": "[encoded data removed]",
      "text/plain": [
       "<Figure size 432x288 with 1 Axes>"
      ]
     },
     "metadata": {
      "needs_background": "light"
     },
     "output_type": "display_data"
    }
   ],
   "source": [
    "import matplotlib.pyplot as plt\n",
    "from scipy.misc import electrocardiogram\n",
    "from scipy.signal import find_peaks\n",
    "\n",
    "plt.plot(latest.Method, latest.Accuracy, 'o-', label='Our Approach')\n",
    "plt.plot(mashrur.Method, mashrur.Accuracy, 'o-', label='Mashrur et al.[9]', color='gray')\n",
    "\n",
    "plt.ylabel('Accuracy')\n",
    "plt.xlabel('Methods')\n",
    "plt.title('Plasma Sample Comparison')\n",
    "plt.legend()\n",
    "plt.show()"
   ]
  },
  {
   "cell_type": "code",
   "execution_count": 59,
   "id": "british-density",
   "metadata": {},
   "outputs": [
    {
     "data": {
      "image/png": "[encoded data removed]",
      "text/plain": [
       "<Figure size 432x288 with 1 Axes>"
      ]
     },
     "metadata": {
      "needs_background": "light"
     },
     "output_type": "display_data"
    }
   ],
   "source": [
    "mashrur = pd.read_csv('prev_serum.csv')\n",
    "latest = pd.read_csv('ours_serum.csv')\n",
    "\n",
    "renames = ['Before PCA', 'PCA2', 'PCA3', 'PCA4', 'PCA5']\n",
    "\n",
    "for i in range(5):\n",
    "    mashrur.loc[i, 'Method'] = renames[i]\n",
    "    latest.loc[i, 'Method'] = renames[i]\n",
    "\n",
    "# plot both overlayed\n",
    "plt.plot(latest.Method, latest.Accuracy, 'o-', label='Our Approach')\n",
    "plt.plot(mashrur.Method, mashrur.Accuracy, 'o-', label='Mashrur et al.[9]', color='gray')\n",
    "plt.ylabel('Accuracy')\n",
    "plt.xlabel('Methods')\n",
    "plt.title('Serum Sample Comparison')\n",
    "plt.legend()\n",
    "plt.show()"
   ]
  },
  {
   "cell_type": "code",
   "execution_count": null,
   "id": "cosmetic-senior",
   "metadata": {},
   "outputs": [],
   "source": []
  }
 ],
 "metadata": {
  "kernelspec": {
   "display_name": "Python 3",
   "language": "python",
   "name": "python3"
  },
  "language_info": {
   "codemirror_mode": {
    "name": "ipython",
    "version": 3
   },
   "file_extension": ".py",
   "mimetype": "text/x-python",
   "name": "python",
   "nbconvert_exporter": "python",
   "pygments_lexer": "ipython3",
   "version": "3.7.9"
  }
 },
 "nbformat": 4,
 "nbformat_minor": 5
}

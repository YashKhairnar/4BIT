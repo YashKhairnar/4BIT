{
 "cells": [
  {
   "cell_type": "markdown",
   "metadata": {
    "id": "h5DK5J8m_7J9"
   },
   "source": [
    "[Download DATASETS from here](https://drive.google.com/drive/folders/1cBv9fiBQE2PedVPvTu56tOMIOtJTjTj1?usp=sharing)"
   ]
  },
  {
   "cell_type": "code",
   "execution_count": 44,
   "metadata": {
    "colab": {
     "base_uri": "https://localhost:8080/",
     "height": 304
    },
    "id": "mbm_F-i_bhGw",
    "outputId": "7c5e5df4-605e-4d06-8a29-1c996c3d345b"
   },
   "outputs": [
    {
     "data": {
      "text/html": [
       "<div>\n",
       "<style scoped>\n",
       "    .dataframe tbody tr th:only-of-type {\n",
       "        vertical-align: middle;\n",
       "    }\n",
       "\n",
       "    .dataframe tbody tr th {\n",
       "        vertical-align: top;\n",
       "    }\n",
       "\n",
       "    .dataframe thead th {\n",
       "        text-align: right;\n",
       "    }\n",
       "</style>\n",
       "<table border=\"1\" class=\"dataframe\">\n",
       "  <thead>\n",
       "    <tr style=\"text-align: right;\">\n",
       "      <th></th>\n",
       "      <th>1_5-anhydroglucitol</th>\n",
       "      <th>1-monostearin</th>\n",
       "      <th>2_3-dihydroxybutanoic acid NIST</th>\n",
       "      <th>2_4-diaminobutyric acid</th>\n",
       "      <th>2-deoxyerythritol</th>\n",
       "      <th>2-deoxytetronic acid</th>\n",
       "      <th>2-hydroxybutanoic acid</th>\n",
       "      <th>2-hydroxyglutaric acid</th>\n",
       "      <th>2-hydroxyhippuric acid</th>\n",
       "      <th>2-hydroxyvaleric acid</th>\n",
       "      <th>...</th>\n",
       "      <th>tryptophan</th>\n",
       "      <th>tyrosine</th>\n",
       "      <th>UDP-glucuronic acid</th>\n",
       "      <th>urea</th>\n",
       "      <th>uric acid</th>\n",
       "      <th>uridine</th>\n",
       "      <th>valine</th>\n",
       "      <th>xylitol</th>\n",
       "      <th>xylose</th>\n",
       "      <th>Class</th>\n",
       "    </tr>\n",
       "  </thead>\n",
       "  <tbody>\n",
       "    <tr>\n",
       "      <th>0</th>\n",
       "      <td>9582</td>\n",
       "      <td>279</td>\n",
       "      <td>82</td>\n",
       "      <td>61</td>\n",
       "      <td>357</td>\n",
       "      <td>122</td>\n",
       "      <td>24944</td>\n",
       "      <td>56</td>\n",
       "      <td>32</td>\n",
       "      <td>966</td>\n",
       "      <td>...</td>\n",
       "      <td>34239</td>\n",
       "      <td>54924</td>\n",
       "      <td>43</td>\n",
       "      <td>226295</td>\n",
       "      <td>11606</td>\n",
       "      <td>68</td>\n",
       "      <td>153849</td>\n",
       "      <td>194</td>\n",
       "      <td>811</td>\n",
       "      <td>disease</td>\n",
       "    </tr>\n",
       "    <tr>\n",
       "      <th>1</th>\n",
       "      <td>28847</td>\n",
       "      <td>161</td>\n",
       "      <td>78</td>\n",
       "      <td>84</td>\n",
       "      <td>205</td>\n",
       "      <td>258</td>\n",
       "      <td>10680</td>\n",
       "      <td>104</td>\n",
       "      <td>49</td>\n",
       "      <td>1076</td>\n",
       "      <td>...</td>\n",
       "      <td>20080</td>\n",
       "      <td>37597</td>\n",
       "      <td>203</td>\n",
       "      <td>96226</td>\n",
       "      <td>10188</td>\n",
       "      <td>71</td>\n",
       "      <td>110735</td>\n",
       "      <td>294</td>\n",
       "      <td>910</td>\n",
       "      <td>disease</td>\n",
       "    </tr>\n",
       "    <tr>\n",
       "      <th>2</th>\n",
       "      <td>13627</td>\n",
       "      <td>162</td>\n",
       "      <td>53</td>\n",
       "      <td>133</td>\n",
       "      <td>139</td>\n",
       "      <td>159</td>\n",
       "      <td>27201</td>\n",
       "      <td>160</td>\n",
       "      <td>80</td>\n",
       "      <td>1117</td>\n",
       "      <td>...</td>\n",
       "      <td>29191</td>\n",
       "      <td>28707</td>\n",
       "      <td>211</td>\n",
       "      <td>155596</td>\n",
       "      <td>16617</td>\n",
       "      <td>123</td>\n",
       "      <td>95509</td>\n",
       "      <td>253</td>\n",
       "      <td>804</td>\n",
       "      <td>disease</td>\n",
       "    </tr>\n",
       "    <tr>\n",
       "      <th>3</th>\n",
       "      <td>20758</td>\n",
       "      <td>6671</td>\n",
       "      <td>93</td>\n",
       "      <td>78</td>\n",
       "      <td>335</td>\n",
       "      <td>225</td>\n",
       "      <td>32347</td>\n",
       "      <td>242</td>\n",
       "      <td>59</td>\n",
       "      <td>304</td>\n",
       "      <td>...</td>\n",
       "      <td>16637</td>\n",
       "      <td>27873</td>\n",
       "      <td>71</td>\n",
       "      <td>191671</td>\n",
       "      <td>15214</td>\n",
       "      <td>84</td>\n",
       "      <td>96219</td>\n",
       "      <td>157</td>\n",
       "      <td>806</td>\n",
       "      <td>disease</td>\n",
       "    </tr>\n",
       "    <tr>\n",
       "      <th>4</th>\n",
       "      <td>15692</td>\n",
       "      <td>108</td>\n",
       "      <td>98</td>\n",
       "      <td>69</td>\n",
       "      <td>250</td>\n",
       "      <td>120</td>\n",
       "      <td>18357</td>\n",
       "      <td>60</td>\n",
       "      <td>25</td>\n",
       "      <td>1220</td>\n",
       "      <td>...</td>\n",
       "      <td>29820</td>\n",
       "      <td>30132</td>\n",
       "      <td>200</td>\n",
       "      <td>333019</td>\n",
       "      <td>20281</td>\n",
       "      <td>62</td>\n",
       "      <td>159853</td>\n",
       "      <td>188</td>\n",
       "      <td>1226</td>\n",
       "      <td>disease</td>\n",
       "    </tr>\n",
       "  </tbody>\n",
       "</table>\n",
       "<p>5 rows × 159 columns</p>\n",
       "</div>"
      ],
      "text/plain": [
       "   1_5-anhydroglucitol  1-monostearin  2_3-dihydroxybutanoic acid NIST  \\\n",
       "0                 9582            279                               82   \n",
       "1                28847            161                               78   \n",
       "2                13627            162                               53   \n",
       "3                20758           6671                               93   \n",
       "4                15692            108                               98   \n",
       "\n",
       "   2_4-diaminobutyric acid  2-deoxyerythritol  2-deoxytetronic acid  \\\n",
       "0                       61                357                   122   \n",
       "1                       84                205                   258   \n",
       "2                      133                139                   159   \n",
       "3                       78                335                   225   \n",
       "4                       69                250                   120   \n",
       "\n",
       "   2-hydroxybutanoic acid  2-hydroxyglutaric acid  2-hydroxyhippuric acid  \\\n",
       "0                   24944                      56                      32   \n",
       "1                   10680                     104                      49   \n",
       "2                   27201                     160                      80   \n",
       "3                   32347                     242                      59   \n",
       "4                   18357                      60                      25   \n",
       "\n",
       "   2-hydroxyvaleric acid  ...  tryptophan  tyrosine  UDP-glucuronic acid  \\\n",
       "0                    966  ...       34239     54924                   43   \n",
       "1                   1076  ...       20080     37597                  203   \n",
       "2                   1117  ...       29191     28707                  211   \n",
       "3                    304  ...       16637     27873                   71   \n",
       "4                   1220  ...       29820     30132                  200   \n",
       "\n",
       "     urea  uric acid  uridine  valine  xylitol  xylose    Class  \n",
       "0  226295      11606       68  153849      194     811  disease  \n",
       "1   96226      10188       71  110735      294     910  disease  \n",
       "2  155596      16617      123   95509      253     804  disease  \n",
       "3  191671      15214       84   96219      157     806  disease  \n",
       "4  333019      20281       62  159853      188    1226  disease  \n",
       "\n",
       "[5 rows x 159 columns]"
      ]
     },
     "execution_count": 44,
     "metadata": {},
     "output_type": "execute_result"
    }
   ],
   "source": [
    "import pandas as pd\n",
    "%matplotlib inline\n",
    "import numpy as np\n",
    "import matplotlib.pyplot as plt\n",
    "df0 = pd.read_csv('G:\\Research\\SM Sir\\LungCancer_Biomarker\\dataset\\serum_processed.csv')\n",
    "df0 = df0.drop('Unnamed: 0', axis=1)\n",
    "df0.head()"
   ]
  },
  {
   "cell_type": "code",
   "execution_count": 45,
   "metadata": {
    "id": "jmgP6AChQcGd"
   },
   "outputs": [],
   "source": [
    "labels = np.reshape(df0.Class.to_numpy(), (82,1))\n",
    "# labels"
   ]
  },
  {
   "cell_type": "markdown",
   "metadata": {
    "id": "bWNBij8TxxCw"
   },
   "source": [
    "# Preprocessing"
   ]
  },
  {
   "cell_type": "code",
   "execution_count": 46,
   "metadata": {
    "colab": {
     "base_uri": "https://localhost:8080/",
     "height": 473
    },
    "id": "BRJWRVtsarKu",
    "outputId": "fe7475a3-15da-4da7-9b9b-c641b9110f0d"
   },
   "outputs": [
    {
     "data": {
      "text/html": [
       "<div>\n",
       "<style scoped>\n",
       "    .dataframe tbody tr th:only-of-type {\n",
       "        vertical-align: middle;\n",
       "    }\n",
       "\n",
       "    .dataframe tbody tr th {\n",
       "        vertical-align: top;\n",
       "    }\n",
       "\n",
       "    .dataframe thead th {\n",
       "        text-align: right;\n",
       "    }\n",
       "</style>\n",
       "<table border=\"1\" class=\"dataframe\">\n",
       "  <thead>\n",
       "    <tr style=\"text-align: right;\">\n",
       "      <th></th>\n",
       "      <th>1_5-anhydroglucitol</th>\n",
       "      <th>1-monostearin</th>\n",
       "      <th>2_3-dihydroxybutanoic acid NIST</th>\n",
       "      <th>2_4-diaminobutyric acid</th>\n",
       "      <th>2-deoxyerythritol</th>\n",
       "      <th>2-deoxytetronic acid</th>\n",
       "      <th>2-hydroxybutanoic acid</th>\n",
       "      <th>2-hydroxyglutaric acid</th>\n",
       "      <th>2-hydroxyhippuric acid</th>\n",
       "      <th>2-hydroxyvaleric acid</th>\n",
       "      <th>...</th>\n",
       "      <th>tryptophan</th>\n",
       "      <th>tyrosine</th>\n",
       "      <th>UDP-glucuronic acid</th>\n",
       "      <th>urea</th>\n",
       "      <th>uric acid</th>\n",
       "      <th>uridine</th>\n",
       "      <th>valine</th>\n",
       "      <th>xylitol</th>\n",
       "      <th>xylose</th>\n",
       "      <th>Class</th>\n",
       "    </tr>\n",
       "  </thead>\n",
       "  <tbody>\n",
       "    <tr>\n",
       "      <th>0</th>\n",
       "      <td>-1.259794</td>\n",
       "      <td>-0.138838</td>\n",
       "      <td>-0.621626</td>\n",
       "      <td>-0.622613</td>\n",
       "      <td>0.295096</td>\n",
       "      <td>-0.931814</td>\n",
       "      <td>0.859699</td>\n",
       "      <td>-0.801984</td>\n",
       "      <td>-0.470732</td>\n",
       "      <td>-0.170024</td>\n",
       "      <td>...</td>\n",
       "      <td>0.707152</td>\n",
       "      <td>1.990466</td>\n",
       "      <td>-0.509527</td>\n",
       "      <td>0.322589</td>\n",
       "      <td>-0.944967</td>\n",
       "      <td>-0.196688</td>\n",
       "      <td>1.542466</td>\n",
       "      <td>-0.351356</td>\n",
       "      <td>0.002295</td>\n",
       "      <td>disease</td>\n",
       "    </tr>\n",
       "    <tr>\n",
       "      <th>1</th>\n",
       "      <td>0.828579</td>\n",
       "      <td>-0.170872</td>\n",
       "      <td>-0.724447</td>\n",
       "      <td>-0.417612</td>\n",
       "      <td>-0.583565</td>\n",
       "      <td>0.355070</td>\n",
       "      <td>-0.864481</td>\n",
       "      <td>-0.027166</td>\n",
       "      <td>-0.372528</td>\n",
       "      <td>0.027454</td>\n",
       "      <td>...</td>\n",
       "      <td>-1.325690</td>\n",
       "      <td>0.178488</td>\n",
       "      <td>-0.025493</td>\n",
       "      <td>-1.355050</td>\n",
       "      <td>-1.170035</td>\n",
       "      <td>-0.086721</td>\n",
       "      <td>-0.218158</td>\n",
       "      <td>-0.045440</td>\n",
       "      <td>0.244268</td>\n",
       "      <td>disease</td>\n",
       "    </tr>\n",
       "    <tr>\n",
       "      <th>2</th>\n",
       "      <td>-0.821306</td>\n",
       "      <td>-0.170600</td>\n",
       "      <td>-1.367077</td>\n",
       "      <td>0.019131</td>\n",
       "      <td>-0.965089</td>\n",
       "      <td>-0.581706</td>\n",
       "      <td>1.132517</td>\n",
       "      <td>0.876789</td>\n",
       "      <td>-0.193450</td>\n",
       "      <td>0.101060</td>\n",
       "      <td>...</td>\n",
       "      <td>-0.017602</td>\n",
       "      <td>-0.751187</td>\n",
       "      <td>-0.001291</td>\n",
       "      <td>-0.589292</td>\n",
       "      <td>-0.149613</td>\n",
       "      <td>1.819363</td>\n",
       "      <td>-0.839934</td>\n",
       "      <td>-0.170865</td>\n",
       "      <td>-0.014814</td>\n",
       "      <td>disease</td>\n",
       "    </tr>\n",
       "    <tr>\n",
       "      <th>3</th>\n",
       "      <td>-0.048288</td>\n",
       "      <td>1.596447</td>\n",
       "      <td>-0.338869</td>\n",
       "      <td>-0.471090</td>\n",
       "      <td>0.167921</td>\n",
       "      <td>0.042811</td>\n",
       "      <td>1.754546</td>\n",
       "      <td>2.200437</td>\n",
       "      <td>-0.314761</td>\n",
       "      <td>-1.358484</td>\n",
       "      <td>...</td>\n",
       "      <td>-1.820009</td>\n",
       "      <td>-0.838402</td>\n",
       "      <td>-0.424821</td>\n",
       "      <td>-0.123994</td>\n",
       "      <td>-0.372299</td>\n",
       "      <td>0.389800</td>\n",
       "      <td>-0.810940</td>\n",
       "      <td>-0.464545</td>\n",
       "      <td>-0.009926</td>\n",
       "      <td>disease</td>\n",
       "    </tr>\n",
       "    <tr>\n",
       "      <th>4</th>\n",
       "      <td>-0.597455</td>\n",
       "      <td>-0.185260</td>\n",
       "      <td>-0.210344</td>\n",
       "      <td>-0.551308</td>\n",
       "      <td>-0.323435</td>\n",
       "      <td>-0.950738</td>\n",
       "      <td>0.063487</td>\n",
       "      <td>-0.737416</td>\n",
       "      <td>-0.511169</td>\n",
       "      <td>0.285971</td>\n",
       "      <td>...</td>\n",
       "      <td>0.072705</td>\n",
       "      <td>-0.602167</td>\n",
       "      <td>-0.034569</td>\n",
       "      <td>1.699124</td>\n",
       "      <td>0.431944</td>\n",
       "      <td>-0.416621</td>\n",
       "      <td>1.787648</td>\n",
       "      <td>-0.369711</td>\n",
       "      <td>1.016627</td>\n",
       "      <td>disease</td>\n",
       "    </tr>\n",
       "    <tr>\n",
       "      <th>...</th>\n",
       "      <td>...</td>\n",
       "      <td>...</td>\n",
       "      <td>...</td>\n",
       "      <td>...</td>\n",
       "      <td>...</td>\n",
       "      <td>...</td>\n",
       "      <td>...</td>\n",
       "      <td>...</td>\n",
       "      <td>...</td>\n",
       "      <td>...</td>\n",
       "      <td>...</td>\n",
       "      <td>...</td>\n",
       "      <td>...</td>\n",
       "      <td>...</td>\n",
       "      <td>...</td>\n",
       "      <td>...</td>\n",
       "      <td>...</td>\n",
       "      <td>...</td>\n",
       "      <td>...</td>\n",
       "      <td>...</td>\n",
       "      <td>...</td>\n",
       "    </tr>\n",
       "    <tr>\n",
       "      <th>77</th>\n",
       "      <td>0.432585</td>\n",
       "      <td>-0.185260</td>\n",
       "      <td>-0.004702</td>\n",
       "      <td>-0.881093</td>\n",
       "      <td>-1.034457</td>\n",
       "      <td>-0.335684</td>\n",
       "      <td>0.723955</td>\n",
       "      <td>-0.850411</td>\n",
       "      <td>-0.060585</td>\n",
       "      <td>0.490631</td>\n",
       "      <td>...</td>\n",
       "      <td>0.747639</td>\n",
       "      <td>0.008344</td>\n",
       "      <td>-0.361291</td>\n",
       "      <td>0.788893</td>\n",
       "      <td>0.190052</td>\n",
       "      <td>-0.709864</td>\n",
       "      <td>-0.326089</td>\n",
       "      <td>-0.394184</td>\n",
       "      <td>-0.151688</td>\n",
       "      <td>control</td>\n",
       "    </tr>\n",
       "    <tr>\n",
       "      <th>78</th>\n",
       "      <td>0.251662</td>\n",
       "      <td>-0.192047</td>\n",
       "      <td>0.869274</td>\n",
       "      <td>1.160008</td>\n",
       "      <td>-0.803231</td>\n",
       "      <td>-0.373533</td>\n",
       "      <td>-0.657057</td>\n",
       "      <td>-0.656706</td>\n",
       "      <td>-0.430295</td>\n",
       "      <td>0.623480</td>\n",
       "      <td>...</td>\n",
       "      <td>-0.172516</td>\n",
       "      <td>-0.823657</td>\n",
       "      <td>-0.324989</td>\n",
       "      <td>1.402881</td>\n",
       "      <td>1.360942</td>\n",
       "      <td>-0.856486</td>\n",
       "      <td>0.751055</td>\n",
       "      <td>-0.299350</td>\n",
       "      <td>-0.388773</td>\n",
       "      <td>control</td>\n",
       "    </tr>\n",
       "    <tr>\n",
       "      <th>79</th>\n",
       "      <td>0.428249</td>\n",
       "      <td>-0.101102</td>\n",
       "      <td>-0.415985</td>\n",
       "      <td>1.570011</td>\n",
       "      <td>-0.126893</td>\n",
       "      <td>-1.139986</td>\n",
       "      <td>-0.730550</td>\n",
       "      <td>0.295675</td>\n",
       "      <td>-0.043255</td>\n",
       "      <td>-0.114371</td>\n",
       "      <td>...</td>\n",
       "      <td>1.475551</td>\n",
       "      <td>0.146070</td>\n",
       "      <td>-0.137426</td>\n",
       "      <td>1.220747</td>\n",
       "      <td>0.662408</td>\n",
       "      <td>-0.160032</td>\n",
       "      <td>-1.369256</td>\n",
       "      <td>0.453203</td>\n",
       "      <td>-0.149244</td>\n",
       "      <td>control</td>\n",
       "    </tr>\n",
       "    <tr>\n",
       "      <th>80</th>\n",
       "      <td>-0.954641</td>\n",
       "      <td>-0.184717</td>\n",
       "      <td>-0.056113</td>\n",
       "      <td>-0.667179</td>\n",
       "      <td>0.208386</td>\n",
       "      <td>-0.326221</td>\n",
       "      <td>-0.316428</td>\n",
       "      <td>-0.947263</td>\n",
       "      <td>0.089610</td>\n",
       "      <td>-0.245425</td>\n",
       "      <td>...</td>\n",
       "      <td>-0.005829</td>\n",
       "      <td>-1.270403</td>\n",
       "      <td>5.117364</td>\n",
       "      <td>0.966139</td>\n",
       "      <td>-0.045174</td>\n",
       "      <td>-0.196688</td>\n",
       "      <td>-0.128889</td>\n",
       "      <td>2.897473</td>\n",
       "      <td>-0.694294</td>\n",
       "      <td>control</td>\n",
       "    </tr>\n",
       "    <tr>\n",
       "      <th>81</th>\n",
       "      <td>-0.309321</td>\n",
       "      <td>-0.194762</td>\n",
       "      <td>1.871776</td>\n",
       "      <td>-0.399785</td>\n",
       "      <td>-0.155796</td>\n",
       "      <td>-0.222135</td>\n",
       "      <td>-0.211144</td>\n",
       "      <td>-0.737416</td>\n",
       "      <td>0.488203</td>\n",
       "      <td>-0.290306</td>\n",
       "      <td>...</td>\n",
       "      <td>-0.812993</td>\n",
       "      <td>-0.399709</td>\n",
       "      <td>-0.430871</td>\n",
       "      <td>-0.623059</td>\n",
       "      <td>1.079053</td>\n",
       "      <td>-0.453276</td>\n",
       "      <td>0.767390</td>\n",
       "      <td>-0.504314</td>\n",
       "      <td>2.475799</td>\n",
       "      <td>control</td>\n",
       "    </tr>\n",
       "  </tbody>\n",
       "</table>\n",
       "<p>82 rows × 159 columns</p>\n",
       "</div>"
      ],
      "text/plain": [
       "    1_5-anhydroglucitol  1-monostearin  2_3-dihydroxybutanoic acid NIST  \\\n",
       "0             -1.259794      -0.138838                        -0.621626   \n",
       "1              0.828579      -0.170872                        -0.724447   \n",
       "2             -0.821306      -0.170600                        -1.367077   \n",
       "3             -0.048288       1.596447                        -0.338869   \n",
       "4             -0.597455      -0.185260                        -0.210344   \n",
       "..                  ...            ...                              ...   \n",
       "77             0.432585      -0.185260                        -0.004702   \n",
       "78             0.251662      -0.192047                         0.869274   \n",
       "79             0.428249      -0.101102                        -0.415985   \n",
       "80            -0.954641      -0.184717                        -0.056113   \n",
       "81            -0.309321      -0.194762                         1.871776   \n",
       "\n",
       "    2_4-diaminobutyric acid  2-deoxyerythritol  2-deoxytetronic acid  \\\n",
       "0                 -0.622613           0.295096             -0.931814   \n",
       "1                 -0.417612          -0.583565              0.355070   \n",
       "2                  0.019131          -0.965089             -0.581706   \n",
       "3                 -0.471090           0.167921              0.042811   \n",
       "4                 -0.551308          -0.323435             -0.950738   \n",
       "..                      ...                ...                   ...   \n",
       "77                -0.881093          -1.034457             -0.335684   \n",
       "78                 1.160008          -0.803231             -0.373533   \n",
       "79                 1.570011          -0.126893             -1.139986   \n",
       "80                -0.667179           0.208386             -0.326221   \n",
       "81                -0.399785          -0.155796             -0.222135   \n",
       "\n",
       "    2-hydroxybutanoic acid  2-hydroxyglutaric acid  2-hydroxyhippuric acid  \\\n",
       "0                 0.859699               -0.801984               -0.470732   \n",
       "1                -0.864481               -0.027166               -0.372528   \n",
       "2                 1.132517                0.876789               -0.193450   \n",
       "3                 1.754546                2.200437               -0.314761   \n",
       "4                 0.063487               -0.737416               -0.511169   \n",
       "..                     ...                     ...                     ...   \n",
       "77                0.723955               -0.850411               -0.060585   \n",
       "78               -0.657057               -0.656706               -0.430295   \n",
       "79               -0.730550                0.295675               -0.043255   \n",
       "80               -0.316428               -0.947263                0.089610   \n",
       "81               -0.211144               -0.737416                0.488203   \n",
       "\n",
       "    2-hydroxyvaleric acid  ...  tryptophan  tyrosine  UDP-glucuronic acid  \\\n",
       "0               -0.170024  ...    0.707152  1.990466            -0.509527   \n",
       "1                0.027454  ...   -1.325690  0.178488            -0.025493   \n",
       "2                0.101060  ...   -0.017602 -0.751187            -0.001291   \n",
       "3               -1.358484  ...   -1.820009 -0.838402            -0.424821   \n",
       "4                0.285971  ...    0.072705 -0.602167            -0.034569   \n",
       "..                    ...  ...         ...       ...                  ...   \n",
       "77               0.490631  ...    0.747639  0.008344            -0.361291   \n",
       "78               0.623480  ...   -0.172516 -0.823657            -0.324989   \n",
       "79              -0.114371  ...    1.475551  0.146070            -0.137426   \n",
       "80              -0.245425  ...   -0.005829 -1.270403             5.117364   \n",
       "81              -0.290306  ...   -0.812993 -0.399709            -0.430871   \n",
       "\n",
       "        urea  uric acid   uridine    valine   xylitol    xylose    Class  \n",
       "0   0.322589  -0.944967 -0.196688  1.542466 -0.351356  0.002295  disease  \n",
       "1  -1.355050  -1.170035 -0.086721 -0.218158 -0.045440  0.244268  disease  \n",
       "2  -0.589292  -0.149613  1.819363 -0.839934 -0.170865 -0.014814  disease  \n",
       "3  -0.123994  -0.372299  0.389800 -0.810940 -0.464545 -0.009926  disease  \n",
       "4   1.699124   0.431944 -0.416621  1.787648 -0.369711  1.016627  disease  \n",
       "..       ...        ...       ...       ...       ...       ...      ...  \n",
       "77  0.788893   0.190052 -0.709864 -0.326089 -0.394184 -0.151688  control  \n",
       "78  1.402881   1.360942 -0.856486  0.751055 -0.299350 -0.388773  control  \n",
       "79  1.220747   0.662408 -0.160032 -1.369256  0.453203 -0.149244  control  \n",
       "80  0.966139  -0.045174 -0.196688 -0.128889  2.897473 -0.694294  control  \n",
       "81 -0.623059   1.079053 -0.453276  0.767390 -0.504314  2.475799  control  \n",
       "\n",
       "[82 rows x 159 columns]"
      ]
     },
     "execution_count": 46,
     "metadata": {},
     "output_type": "execute_result"
    }
   ],
   "source": [
    "from sklearn.preprocessing import StandardScaler, Normalizer, MinMaxScaler\n",
    "\n",
    "scl = StandardScaler().fit(df0.iloc[:, :-1])\n",
    "stand = scl.transform(df0.iloc[:, :-1])\n",
    "# stand\n",
    "df = pd.DataFrame(stand, columns = df0.columns[:-1])\n",
    "df = pd.concat([df, df0.iloc[:, -1]], axis=1)\n",
    "df"
   ]
  },
  {
   "cell_type": "markdown",
   "metadata": {
    "id": "hHIN4cpOUseh"
   },
   "source": [
    "# Student's   t-Test"
   ]
  },
  {
   "cell_type": "code",
   "execution_count": 47,
   "metadata": {
    "colab": {
     "base_uri": "https://localhost:8080/"
    },
    "id": "SV4dW4amy-lK",
    "outputId": "75eb042b-eb78-4557-8866-b456cdb9de3d"
   },
   "outputs": [
    {
     "data": {
      "text/plain": [
       "((82, 158), (82,))"
      ]
     },
     "execution_count": 47,
     "metadata": {},
     "output_type": "execute_result"
    }
   ],
   "source": [
    "X = df.drop('Class', axis=1)\n",
    "y = df['Class'].copy()\n",
    "y = y.map({\"control\": 1, \"disease\": 0})\n",
    "\n",
    "X.shape, y.shape"
   ]
  },
  {
   "cell_type": "code",
   "execution_count": 48,
   "metadata": {
    "id": "FYjW50hq1Z4e"
   },
   "outputs": [],
   "source": [
    "disease = df[(df['Class']=='disease')]\n",
    "control = df[(df['Class']=='control')]"
   ]
  },
  {
   "cell_type": "code",
   "execution_count": 49,
   "metadata": {
    "id": "FRu2DS5b-lwt"
   },
   "outputs": [],
   "source": [
    "from scipy import stats"
   ]
  },
  {
   "cell_type": "markdown",
   "metadata": {
    "id": "OaLpen8bIDx4"
   },
   "source": [
    "Before the t-test can be conducted, one needs to test the assumptions. First to test for the homogeneity of variances. To do this, I will use Levene’s test for homogeneity of variance. "
   ]
  },
  {
   "cell_type": "code",
   "execution_count": 50,
   "metadata": {
    "colab": {
     "base_uri": "https://localhost:8080/"
    },
    "id": "T5JMMOKPHfXr",
    "outputId": "f567db68-a72f-45cd-9269-b039a0b1f8da"
   },
   "outputs": [
    {
     "data": {
      "text/plain": [
       "LeveneResult(statistic=0.08168201420457542, pvalue=0.7757695323771979)"
      ]
     },
     "execution_count": 50,
     "metadata": {},
     "output_type": "execute_result"
    }
   ],
   "source": [
    "stats.levene(disease['1_5-anhydroglucitol'], control['1_5-anhydroglucitol'])"
   ]
  },
  {
   "cell_type": "markdown",
   "metadata": {
    "id": "U_LhRbcjIFYI"
   },
   "source": [
    "The test is not significant meaning there is homogeneity of variances and we can proceed. If the test were to be significant, a viable alternative would be to conduct a Welch’s t-test. Next to test the assumption of normality. This can be done visually with a histogram and/or as a q-q plot, and by using the Shapiro-Wilk test which is the stats.shaprio() method. First, I will check them visually."
   ]
  },
  {
   "cell_type": "code",
   "execution_count": 51,
   "metadata": {
    "colab": {
     "base_uri": "https://localhost:8080/",
     "height": 295
    },
    "id": "Rm3yBbSgHt3U",
    "outputId": "b7f967b0-e2f7-4822-df6b-aa21a447aa39"
   },
   "outputs": [
    {
     "data": {
      "image/png": "[encoded data removed]",
      "text/plain": [
       "<Figure size 432x288 with 1 Axes>"
      ]
     },
     "metadata": {
      "needs_background": "light"
     },
     "output_type": "display_data"
    }
   ],
   "source": [
    "disease['1_5-anhydroglucitol'].plot(kind=\"hist\", title=\"Disease 1_5-anhydroglucitol\", color='red')\n",
    "plt.xlabel(\"Units\")\n",
    "plt.savefig('disease_1_5-anhydroglucitol')"
   ]
  },
  {
   "cell_type": "code",
   "execution_count": 52,
   "metadata": {
    "colab": {
     "base_uri": "https://localhost:8080/",
     "height": 295
    },
    "id": "hGqs1W3kIjRT",
    "outputId": "746aa4d9-386e-4a37-9648-3a670a488981"
   },
   "outputs": [
    {
     "data": {
      "text/plain": [
       "Text(0.5, 0, 'Units')"
      ]
     },
     "execution_count": 52,
     "metadata": {},
     "output_type": "execute_result"
    },
    {
     "data": {
      "image/png": "[encoded data removed]",
      "text/plain": [
       "<Figure size 432x288 with 1 Axes>"
      ]
     },
     "metadata": {
      "needs_background": "light"
     },
     "output_type": "display_data"
    }
   ],
   "source": [
    "control['1_5-anhydroglucitol'].plot(kind='hist', title='Control 1_5-anhydroglucitol', color='green')\n",
    "plt.xlabel(\"Units\")\n",
    "# plt.savefig('control_1_5-anhydroglucitol')"
   ]
  },
  {
   "cell_type": "markdown",
   "metadata": {
    "id": "_2XGu_JNJIpj"
   },
   "source": [
    "From the looks of the histogram, each variable appears to be fairly normally distributed. Let’s see how it looks on a q-q plot, it’s easier to get a sense of normality visualizing the data as q-q plot. If you are unfamiliar with reading a q-q plot, the data should be on the red line. If there are data points that are far off of it, it’s an indication that there are some deviations from normality."
   ]
  },
  {
   "cell_type": "code",
   "execution_count": 53,
   "metadata": {
    "colab": {
     "base_uri": "https://localhost:8080/",
     "height": 295
    },
    "id": "UJMSrQHCJIaZ",
    "outputId": "77925344-ebbf-4ab9-9a7b-b92ccbca80ab"
   },
   "outputs": [
    {
     "data": {
      "text/plain": [
       "Text(0.5, 1.0, 'Disease 1_5-anhydroglucitol Q_Q Plot')"
      ]
     },
     "execution_count": 53,
     "metadata": {},
     "output_type": "execute_result"
    },
    {
     "data": {
      "image/png": "[encoded data removed]",
      "text/plain": [
       "<Figure size 432x288 with 1 Axes>"
      ]
     },
     "metadata": {
      "needs_background": "light"
     },
     "output_type": "display_data"
    }
   ],
   "source": [
    "stats.probplot(disease['1_5-anhydroglucitol'], dist='norm', plot=plt)\n",
    "plt.title('Disease 1_5-anhydroglucitol Q_Q Plot')\n",
    "# plt.savefig('disease_1_5-anhydroglucitol_qqplot')"
   ]
  },
  {
   "cell_type": "code",
   "execution_count": 54,
   "metadata": {
    "colab": {
     "base_uri": "https://localhost:8080/",
     "height": 295
    },
    "id": "Ys4Lxz4TI7Br",
    "outputId": "144d398f-ad8d-4dc2-83b7-1c057b7d58c6"
   },
   "outputs": [
    {
     "data": {
      "text/plain": [
       "Text(0.5, 1.0, 'Control 1_5-anhydroglucitol Q_Q Plot')"
      ]
     },
     "execution_count": 54,
     "metadata": {},
     "output_type": "execute_result"
    },
    {
     "data": {
      "image/png": "[encoded data removed]",
      "text/plain": [
       "<Figure size 432x288 with 1 Axes>"
      ]
     },
     "metadata": {
      "needs_background": "light"
     },
     "output_type": "display_data"
    }
   ],
   "source": [
    "stats.probplot(control['1_5-anhydroglucitol'], dist='norm', plot=plt)\n",
    "plt.title('Control 1_5-anhydroglucitol Q_Q Plot')\n",
    "# plt.savefig('control_1_5-anhydroglucitol_qqplot')"
   ]
  },
  {
   "cell_type": "markdown",
   "metadata": {
    "id": "0jAzG_lEJ3Br"
   },
   "source": [
    "There is some deviation from normality in the Control q-q plot, but it does not appear to be a large violation. In all, the data looks to have normality. To be sure, we can test it statistically using the Shapiro-Wilk test for normality. The first value is the W test statistic and the second value is the p-value."
   ]
  },
  {
   "cell_type": "code",
   "execution_count": 55,
   "metadata": {
    "colab": {
     "base_uri": "https://localhost:8080/"
    },
    "id": "I0POY3SNJn0C",
    "outputId": "610610d1-7ff3-4aa4-bc67-26e4af37f48c"
   },
   "outputs": [
    {
     "data": {
      "text/plain": [
       "ShapiroResult(statistic=0.9842028021812439, pvalue=0.8295468688011169)"
      ]
     },
     "execution_count": 55,
     "metadata": {},
     "output_type": "execute_result"
    }
   ],
   "source": [
    "stats.shapiro(disease['1_5-anhydroglucitol'])"
   ]
  },
  {
   "cell_type": "code",
   "execution_count": 56,
   "metadata": {
    "colab": {
     "base_uri": "https://localhost:8080/"
    },
    "id": "1MMJrtN7KFHy",
    "outputId": "b32301fd-a14f-47c5-a20c-112b47dc61c9"
   },
   "outputs": [
    {
     "data": {
      "text/plain": [
       "ShapiroResult(statistic=0.8905898928642273, pvalue=0.0008849935256876051)"
      ]
     },
     "execution_count": 56,
     "metadata": {},
     "output_type": "execute_result"
    }
   ],
   "source": [
    "stats.shapiro(control['1_5-anhydroglucitol'])"
   ]
  },
  {
   "cell_type": "markdown",
   "metadata": {
    "id": "p62lC72IKbLb"
   },
   "source": [
    "Neither of the tests for normality we significant meaning neither of the variables violates the assumption of normality. We can continue as planned(Independent t-test)."
   ]
  },
  {
   "cell_type": "code",
   "execution_count": 57,
   "metadata": {
    "colab": {
     "base_uri": "https://localhost:8080/"
    },
    "id": "pDPiObFVKKIh",
    "outputId": "ff0f5cbb-19aa-468f-d304-6ee637757184"
   },
   "outputs": [
    {
     "data": {
      "text/plain": [
       "Ttest_indResult(statistic=-0.6715698446695524, pvalue=0.5037922623669445)"
      ]
     },
     "execution_count": 57,
     "metadata": {},
     "output_type": "execute_result"
    }
   ],
   "source": [
    "stats.ttest_ind(disease['1_5-anhydroglucitol'], control['1_5-anhydroglucitol'])"
   ]
  },
  {
   "cell_type": "code",
   "execution_count": 58,
   "metadata": {
    "id": "m9lFPpZtKo8D"
   },
   "outputs": [],
   "source": [
    "def test(feature):\n",
    "    l_test = stats.levene(disease[feature], control[feature])\n",
    "    disease_shapiro, disease_shapiro_p = stats.shapiro(disease[feature])\n",
    "    control_shapiro, control_shapiro_p = stats.shapiro(control[feature])\n",
    "    t_test, t_test_p = stats.ttest_ind(disease[feature], control[feature])\n",
    "    k_test, k_test_p = stats.kruskal(disease[feature], control[feature])\n",
    "    return feature, l_test, disease_shapiro_p, control_shapiro_p, t_test, t_test_p, k_test, k_test_p"
   ]
  },
  {
   "cell_type": "code",
   "execution_count": 59,
   "metadata": {
    "id": "n6ej7JUkMYtB"
   },
   "outputs": [],
   "source": [
    "result = []\n",
    "for i in range(1, 158):\n",
    "    result.append(test(df.columns[i]))"
   ]
  },
  {
   "cell_type": "code",
   "execution_count": 60,
   "metadata": {
    "colab": {
     "base_uri": "https://localhost:8080/",
     "height": 606
    },
    "id": "qSLaqVsZOCsn",
    "outputId": "0bd3103b-a182-4596-9b41-e27bfd526248"
   },
   "outputs": [
    {
     "data": {
      "text/html": [
       "<div>\n",
       "<style scoped>\n",
       "    .dataframe tbody tr th:only-of-type {\n",
       "        vertical-align: middle;\n",
       "    }\n",
       "\n",
       "    .dataframe tbody tr th {\n",
       "        vertical-align: top;\n",
       "    }\n",
       "\n",
       "    .dataframe thead th {\n",
       "        text-align: right;\n",
       "    }\n",
       "</style>\n",
       "<table border=\"1\" class=\"dataframe\">\n",
       "  <thead>\n",
       "    <tr style=\"text-align: right;\">\n",
       "      <th></th>\n",
       "      <th>Metabolics</th>\n",
       "      <th>Levene test</th>\n",
       "      <th>Disease_shapiro</th>\n",
       "      <th>Control_shapiro</th>\n",
       "      <th>t-Test</th>\n",
       "      <th>p-value(t)</th>\n",
       "      <th>Kruskal-Wallis</th>\n",
       "      <th>p-value(k)</th>\n",
       "    </tr>\n",
       "  </thead>\n",
       "  <tbody>\n",
       "    <tr>\n",
       "      <th>0</th>\n",
       "      <td>1-monostearin</td>\n",
       "      <td>(0.21698530723569232, 0.642612377796838)</td>\n",
       "      <td>2.014247e-12</td>\n",
       "      <td>5.716438e-14</td>\n",
       "      <td>-0.429629</td>\n",
       "      <td>0.668620</td>\n",
       "      <td>1.759166</td>\n",
       "      <td>0.184729</td>\n",
       "    </tr>\n",
       "    <tr>\n",
       "      <th>1</th>\n",
       "      <td>2_3-dihydroxybutanoic acid NIST</td>\n",
       "      <td>(2.1028740841642413, 0.15093194418327313)</td>\n",
       "      <td>4.239427e-01</td>\n",
       "      <td>3.020055e-02</td>\n",
       "      <td>-1.621380</td>\n",
       "      <td>0.108871</td>\n",
       "      <td>2.515488</td>\n",
       "      <td>0.112733</td>\n",
       "    </tr>\n",
       "    <tr>\n",
       "      <th>2</th>\n",
       "      <td>2_4-diaminobutyric acid</td>\n",
       "      <td>(2.005343302606339, 0.1606276376133557)</td>\n",
       "      <td>3.409239e-06</td>\n",
       "      <td>3.953691e-08</td>\n",
       "      <td>-1.276684</td>\n",
       "      <td>0.205407</td>\n",
       "      <td>0.834746</td>\n",
       "      <td>0.360904</td>\n",
       "    </tr>\n",
       "    <tr>\n",
       "      <th>3</th>\n",
       "      <td>2-deoxyerythritol</td>\n",
       "      <td>(1.1703907689463615, 0.28257124687554563)</td>\n",
       "      <td>1.711378e-04</td>\n",
       "      <td>7.184548e-05</td>\n",
       "      <td>0.152612</td>\n",
       "      <td>0.879089</td>\n",
       "      <td>0.055930</td>\n",
       "      <td>0.813049</td>\n",
       "    </tr>\n",
       "    <tr>\n",
       "      <th>4</th>\n",
       "      <td>2-deoxytetronic acid</td>\n",
       "      <td>(6.991701159262785, 0.009852246706221203)</td>\n",
       "      <td>3.238210e-04</td>\n",
       "      <td>4.844769e-05</td>\n",
       "      <td>2.371557</td>\n",
       "      <td>0.020117</td>\n",
       "      <td>3.187560</td>\n",
       "      <td>0.074201</td>\n",
       "    </tr>\n",
       "    <tr>\n",
       "      <th>...</th>\n",
       "      <td>...</td>\n",
       "      <td>...</td>\n",
       "      <td>...</td>\n",
       "      <td>...</td>\n",
       "      <td>...</td>\n",
       "      <td>...</td>\n",
       "      <td>...</td>\n",
       "      <td>...</td>\n",
       "    </tr>\n",
       "    <tr>\n",
       "      <th>152</th>\n",
       "      <td>uric acid</td>\n",
       "      <td>(0.20590803401173297, 0.6512223320349342)</td>\n",
       "      <td>5.867345e-02</td>\n",
       "      <td>3.900889e-01</td>\n",
       "      <td>-2.589983</td>\n",
       "      <td>0.011401</td>\n",
       "      <td>6.815414</td>\n",
       "      <td>0.009037</td>\n",
       "    </tr>\n",
       "    <tr>\n",
       "      <th>153</th>\n",
       "      <td>uridine</td>\n",
       "      <td>(0.05394458709869653, 0.8169294115516839)</td>\n",
       "      <td>4.372554e-01</td>\n",
       "      <td>2.767649e-02</td>\n",
       "      <td>0.649421</td>\n",
       "      <td>0.517926</td>\n",
       "      <td>0.877600</td>\n",
       "      <td>0.348860</td>\n",
       "    </tr>\n",
       "    <tr>\n",
       "      <th>154</th>\n",
       "      <td>valine</td>\n",
       "      <td>(0.9955795056010915, 0.32139100472095594)</td>\n",
       "      <td>2.605328e-01</td>\n",
       "      <td>1.957661e-01</td>\n",
       "      <td>-0.865264</td>\n",
       "      <td>0.389481</td>\n",
       "      <td>1.127578</td>\n",
       "      <td>0.288293</td>\n",
       "    </tr>\n",
       "    <tr>\n",
       "      <th>155</th>\n",
       "      <td>xylitol</td>\n",
       "      <td>(2.078090259471372, 0.15333017586142325)</td>\n",
       "      <td>8.981960e-10</td>\n",
       "      <td>6.845211e-10</td>\n",
       "      <td>-1.184823</td>\n",
       "      <td>0.239595</td>\n",
       "      <td>0.155383</td>\n",
       "      <td>0.693443</td>\n",
       "    </tr>\n",
       "    <tr>\n",
       "      <th>156</th>\n",
       "      <td>xylose</td>\n",
       "      <td>(0.38407708480536706, 0.5371904697061438)</td>\n",
       "      <td>1.999642e-05</td>\n",
       "      <td>1.832855e-06</td>\n",
       "      <td>0.074385</td>\n",
       "      <td>0.940890</td>\n",
       "      <td>1.147372</td>\n",
       "      <td>0.284100</td>\n",
       "    </tr>\n",
       "  </tbody>\n",
       "</table>\n",
       "<p>157 rows × 8 columns</p>\n",
       "</div>"
      ],
      "text/plain": [
       "                          Metabolics  \\\n",
       "0                      1-monostearin   \n",
       "1    2_3-dihydroxybutanoic acid NIST   \n",
       "2            2_4-diaminobutyric acid   \n",
       "3                  2-deoxyerythritol   \n",
       "4               2-deoxytetronic acid   \n",
       "..                               ...   \n",
       "152                        uric acid   \n",
       "153                          uridine   \n",
       "154                           valine   \n",
       "155                          xylitol   \n",
       "156                           xylose   \n",
       "\n",
       "                                   Levene test  Disease_shapiro  \\\n",
       "0     (0.21698530723569232, 0.642612377796838)     2.014247e-12   \n",
       "1    (2.1028740841642413, 0.15093194418327313)     4.239427e-01   \n",
       "2      (2.005343302606339, 0.1606276376133557)     3.409239e-06   \n",
       "3    (1.1703907689463615, 0.28257124687554563)     1.711378e-04   \n",
       "4    (6.991701159262785, 0.009852246706221203)     3.238210e-04   \n",
       "..                                         ...              ...   \n",
       "152  (0.20590803401173297, 0.6512223320349342)     5.867345e-02   \n",
       "153  (0.05394458709869653, 0.8169294115516839)     4.372554e-01   \n",
       "154  (0.9955795056010915, 0.32139100472095594)     2.605328e-01   \n",
       "155   (2.078090259471372, 0.15333017586142325)     8.981960e-10   \n",
       "156  (0.38407708480536706, 0.5371904697061438)     1.999642e-05   \n",
       "\n",
       "     Control_shapiro    t-Test  p-value(t)  Kruskal-Wallis  p-value(k)  \n",
       "0       5.716438e-14 -0.429629    0.668620        1.759166    0.184729  \n",
       "1       3.020055e-02 -1.621380    0.108871        2.515488    0.112733  \n",
       "2       3.953691e-08 -1.276684    0.205407        0.834746    0.360904  \n",
       "3       7.184548e-05  0.152612    0.879089        0.055930    0.813049  \n",
       "4       4.844769e-05  2.371557    0.020117        3.187560    0.074201  \n",
       "..               ...       ...         ...             ...         ...  \n",
       "152     3.900889e-01 -2.589983    0.011401        6.815414    0.009037  \n",
       "153     2.767649e-02  0.649421    0.517926        0.877600    0.348860  \n",
       "154     1.957661e-01 -0.865264    0.389481        1.127578    0.288293  \n",
       "155     6.845211e-10 -1.184823    0.239595        0.155383    0.693443  \n",
       "156     1.832855e-06  0.074385    0.940890        1.147372    0.284100  \n",
       "\n",
       "[157 rows x 8 columns]"
      ]
     },
     "execution_count": 60,
     "metadata": {},
     "output_type": "execute_result"
    }
   ],
   "source": [
    "result_df = pd.DataFrame(result, columns=['Metabolics', 'Levene test', 'Disease_shapiro', 'Control_shapiro', 't-Test', 'p-value(t)', 'Kruskal-Wallis', 'p-value(k)'])\n",
    "result_df.to_csv('test_serum3.csv')\n",
    "result_df"
   ]
  },
  {
   "cell_type": "code",
   "execution_count": 61,
   "metadata": {
    "colab": {
     "base_uri": "https://localhost:8080/"
    },
    "id": "94BhLJS9EM_s",
    "outputId": "877cfd80-e556-48b8-926d-7edfa36d4773"
   },
   "outputs": [
    {
     "data": {
      "text/plain": [
       "8"
      ]
     },
     "execution_count": 61,
     "metadata": {},
     "output_type": "execute_result"
    }
   ],
   "source": [
    "metabolics = result_df[(result_df['p-value(t)'] < 0.01) & (result_df['p-value(k)'] < 0.01) & \\\n",
    "                      ((result_df['Disease_shapiro'] < 0.05) | (result_df['Control_shapiro'] < 0.05))].loc[:, 'Metabolics']\n",
    "metabolics = metabolics.to_numpy()\n",
    "len(metabolics)"
   ]
  },
  {
   "cell_type": "markdown",
   "metadata": {
    "id": "vP09whx-EiIS"
   },
   "source": [
    "Now we keep the data of these metabolics only, from main dataset."
   ]
  },
  {
   "cell_type": "code",
   "execution_count": 62,
   "metadata": {
    "colab": {
     "base_uri": "https://localhost:8080/",
     "height": 473
    },
    "id": "py2QBbQ9EhoZ",
    "outputId": "74ecb0ea-2982-4da3-94b8-a4550c51ba1d"
   },
   "outputs": [
    {
     "data": {
      "text/html": [
       "<div>\n",
       "<style scoped>\n",
       "    .dataframe tbody tr th:only-of-type {\n",
       "        vertical-align: middle;\n",
       "    }\n",
       "\n",
       "    .dataframe tbody tr th {\n",
       "        vertical-align: top;\n",
       "    }\n",
       "\n",
       "    .dataframe thead th {\n",
       "        text-align: right;\n",
       "    }\n",
       "</style>\n",
       "<table border=\"1\" class=\"dataframe\">\n",
       "  <thead>\n",
       "    <tr style=\"text-align: right;\">\n",
       "      <th></th>\n",
       "      <th>aspartic acid</th>\n",
       "      <th>deoxypentitol</th>\n",
       "      <th>glutamic acid</th>\n",
       "      <th>lactic acid</th>\n",
       "      <th>malic acid</th>\n",
       "      <th>N-methylalanine</th>\n",
       "      <th>phenol</th>\n",
       "      <th>phenylalanine</th>\n",
       "      <th>Class</th>\n",
       "    </tr>\n",
       "  </thead>\n",
       "  <tbody>\n",
       "    <tr>\n",
       "      <th>0</th>\n",
       "      <td>-0.413389</td>\n",
       "      <td>-1.267860</td>\n",
       "      <td>-0.211881</td>\n",
       "      <td>0.094923</td>\n",
       "      <td>0.470533</td>\n",
       "      <td>-0.186546</td>\n",
       "      <td>-0.121362</td>\n",
       "      <td>-0.343844</td>\n",
       "      <td>disease</td>\n",
       "    </tr>\n",
       "    <tr>\n",
       "      <th>1</th>\n",
       "      <td>0.176392</td>\n",
       "      <td>0.007955</td>\n",
       "      <td>-0.477977</td>\n",
       "      <td>0.676247</td>\n",
       "      <td>-0.318708</td>\n",
       "      <td>-1.136707</td>\n",
       "      <td>0.446950</td>\n",
       "      <td>0.299430</td>\n",
       "      <td>disease</td>\n",
       "    </tr>\n",
       "    <tr>\n",
       "      <th>2</th>\n",
       "      <td>-0.141775</td>\n",
       "      <td>0.573702</td>\n",
       "      <td>0.751584</td>\n",
       "      <td>1.634194</td>\n",
       "      <td>-0.127763</td>\n",
       "      <td>-0.719219</td>\n",
       "      <td>1.341798</td>\n",
       "      <td>-0.855227</td>\n",
       "      <td>disease</td>\n",
       "    </tr>\n",
       "    <tr>\n",
       "      <th>3</th>\n",
       "      <td>0.282325</td>\n",
       "      <td>-0.038228</td>\n",
       "      <td>-0.312322</td>\n",
       "      <td>0.264560</td>\n",
       "      <td>0.063183</td>\n",
       "      <td>1.632207</td>\n",
       "      <td>0.251028</td>\n",
       "      <td>-0.053586</td>\n",
       "      <td>disease</td>\n",
       "    </tr>\n",
       "    <tr>\n",
       "      <th>4</th>\n",
       "      <td>-0.557444</td>\n",
       "      <td>-0.615520</td>\n",
       "      <td>-0.803098</td>\n",
       "      <td>-0.827738</td>\n",
       "      <td>0.126831</td>\n",
       "      <td>0.855814</td>\n",
       "      <td>-1.471972</td>\n",
       "      <td>-0.041329</td>\n",
       "      <td>disease</td>\n",
       "    </tr>\n",
       "    <tr>\n",
       "      <th>...</th>\n",
       "      <td>...</td>\n",
       "      <td>...</td>\n",
       "      <td>...</td>\n",
       "      <td>...</td>\n",
       "      <td>...</td>\n",
       "      <td>...</td>\n",
       "      <td>...</td>\n",
       "      <td>...</td>\n",
       "      <td>...</td>\n",
       "    </tr>\n",
       "    <tr>\n",
       "      <th>77</th>\n",
       "      <td>-0.613526</td>\n",
       "      <td>0.464016</td>\n",
       "      <td>0.207017</td>\n",
       "      <td>-0.907398</td>\n",
       "      <td>-0.267790</td>\n",
       "      <td>0.526569</td>\n",
       "      <td>-0.764708</td>\n",
       "      <td>-0.124189</td>\n",
       "      <td>control</td>\n",
       "    </tr>\n",
       "    <tr>\n",
       "      <th>78</th>\n",
       "      <td>0.184822</td>\n",
       "      <td>0.198462</td>\n",
       "      <td>0.010182</td>\n",
       "      <td>0.247532</td>\n",
       "      <td>0.317777</td>\n",
       "      <td>0.626430</td>\n",
       "      <td>0.087065</td>\n",
       "      <td>-0.229359</td>\n",
       "      <td>control</td>\n",
       "    </tr>\n",
       "    <tr>\n",
       "      <th>79</th>\n",
       "      <td>-0.677673</td>\n",
       "      <td>-0.240280</td>\n",
       "      <td>-0.639585</td>\n",
       "      <td>-0.612624</td>\n",
       "      <td>0.114102</td>\n",
       "      <td>-0.830203</td>\n",
       "      <td>-0.474300</td>\n",
       "      <td>0.067763</td>\n",
       "      <td>control</td>\n",
       "    </tr>\n",
       "    <tr>\n",
       "      <th>80</th>\n",
       "      <td>-0.424019</td>\n",
       "      <td>-0.471197</td>\n",
       "      <td>-0.492257</td>\n",
       "      <td>-0.257315</td>\n",
       "      <td>-0.496924</td>\n",
       "      <td>1.011784</td>\n",
       "      <td>-1.722085</td>\n",
       "      <td>-0.853511</td>\n",
       "      <td>control</td>\n",
       "    </tr>\n",
       "    <tr>\n",
       "      <th>81</th>\n",
       "      <td>-0.462874</td>\n",
       "      <td>-0.869529</td>\n",
       "      <td>1.092176</td>\n",
       "      <td>-0.291592</td>\n",
       "      <td>-0.382357</td>\n",
       "      <td>-0.685109</td>\n",
       "      <td>-0.402045</td>\n",
       "      <td>1.051550</td>\n",
       "      <td>control</td>\n",
       "    </tr>\n",
       "  </tbody>\n",
       "</table>\n",
       "<p>82 rows × 9 columns</p>\n",
       "</div>"
      ],
      "text/plain": [
       "    aspartic acid  deoxypentitol  glutamic acid  lactic acid  malic acid  \\\n",
       "0       -0.413389      -1.267860      -0.211881     0.094923    0.470533   \n",
       "1        0.176392       0.007955      -0.477977     0.676247   -0.318708   \n",
       "2       -0.141775       0.573702       0.751584     1.634194   -0.127763   \n",
       "3        0.282325      -0.038228      -0.312322     0.264560    0.063183   \n",
       "4       -0.557444      -0.615520      -0.803098    -0.827738    0.126831   \n",
       "..            ...            ...            ...          ...         ...   \n",
       "77      -0.613526       0.464016       0.207017    -0.907398   -0.267790   \n",
       "78       0.184822       0.198462       0.010182     0.247532    0.317777   \n",
       "79      -0.677673      -0.240280      -0.639585    -0.612624    0.114102   \n",
       "80      -0.424019      -0.471197      -0.492257    -0.257315   -0.496924   \n",
       "81      -0.462874      -0.869529       1.092176    -0.291592   -0.382357   \n",
       "\n",
       "    N-methylalanine    phenol  phenylalanine    Class  \n",
       "0         -0.186546 -0.121362      -0.343844  disease  \n",
       "1         -1.136707  0.446950       0.299430  disease  \n",
       "2         -0.719219  1.341798      -0.855227  disease  \n",
       "3          1.632207  0.251028      -0.053586  disease  \n",
       "4          0.855814 -1.471972      -0.041329  disease  \n",
       "..              ...       ...            ...      ...  \n",
       "77         0.526569 -0.764708      -0.124189  control  \n",
       "78         0.626430  0.087065      -0.229359  control  \n",
       "79        -0.830203 -0.474300       0.067763  control  \n",
       "80         1.011784 -1.722085      -0.853511  control  \n",
       "81        -0.685109 -0.402045       1.051550  control  \n",
       "\n",
       "[82 rows x 9 columns]"
      ]
     },
     "execution_count": 62,
     "metadata": {},
     "output_type": "execute_result"
    }
   ],
   "source": [
    "final_df = df.loc[:, metabolics]\n",
    "final_df = pd.concat([final_df, df.loc[:, 'Class']], axis=1)\n",
    "final_df.to_csv('serum(Specific Metabolics)3.csv')\n",
    "final_df"
   ]
  },
  {
   "cell_type": "markdown",
   "metadata": {
    "id": "aGTrZnCm16la"
   },
   "source": [
    "# Heatmap"
   ]
  },
  {
   "cell_type": "code",
   "execution_count": 63,
   "metadata": {
    "colab": {
     "base_uri": "https://localhost:8080/",
     "height": 729
    },
    "id": "MfE7JJltODgw",
    "outputId": "8ca9d895-cc70-470c-dd25-90e684bb6b91"
   },
   "outputs": [
    {
     "data": {
      "image/png": "[encoded data removed]",
      "text/plain": [
       "<Figure size 720x720 with 5 Axes>"
      ]
     },
     "metadata": {
      "needs_background": "light"
     },
     "output_type": "display_data"
    }
   ],
   "source": [
    "# Data set\n",
    "import seaborn as sns\n",
    "final_df1 = final_df.copy()\n",
    "Class = final_df.pop(\"Class\")\n",
    "# final_df = final_df.set_index('Metabolics')\n",
    "\n",
    "lut = dict(zip(Class.unique(), \"grb\"))\n",
    "row_colors = Class.map(lut)\n",
    "df_colors = pd.DataFrame(data={'DISEASE': row_colors[row_colors == 'r'], 'CONTROL': row_colors[row_colors == 'g']}) \n",
    "# Default plot\n",
    "sns.clustermap(final_df, row_colors=df_colors, cmap=\"mako\", z_score=1)      #z_score->standardize; standard_cale->normalize\n",
    "# Show the graph\n",
    "# plt.savefig('clustermap_serum')\n",
    "plt.show()"
   ]
  },
  {
   "cell_type": "code",
   "execution_count": 64,
   "metadata": {
    "id": "cqq1ClttHcpT"
   },
   "outputs": [
    {
     "data": {
      "image/png": "[encoded data removed]",
      "text/plain": [
       "<Figure size 432x288 with 1 Axes>"
      ]
     },
     "metadata": {
      "needs_background": "light"
     },
     "output_type": "display_data"
    },
    {
     "data": {
      "text/plain": [
       "<AxesSubplot:title={'center':'Feature Importances of 8 Features using RandomForestClassifier'}, xlabel='relative importance'>"
      ]
     },
     "execution_count": 64,
     "metadata": {},
     "output_type": "execute_result"
    }
   ],
   "source": [
    "from sklearn.ensemble import RandomForestClassifier\n",
    "from yellowbrick.model_selection import FeatureImportances\n",
    "\n",
    "# Load the classification data set\n",
    "X = final_df1.drop('Class', axis=1)\n",
    "y = final_df1['Class'].copy()\n",
    "y = y.map({\"control\": 1, \"disease\": 0})\n",
    "\n",
    "model = RandomForestClassifier(n_estimators=17)\n",
    "viz = FeatureImportances(model)\n",
    "viz.fit(X, y)\n",
    "viz.show()"
   ]
  }
 ],
 "metadata": {
  "colab": {
   "collapsed_sections": [],
   "name": "serum_test.ipynb",
   "provenance": [],
   "toc_visible": true
  },
  "kernelspec": {
   "display_name": "Python 3",
   "language": "python",
   "name": "python3"
  },
  "language_info": {
   "codemirror_mode": {
    "name": "ipython",
    "version": 3
   },
   "file_extension": ".py",
   "mimetype": "text/x-python",
   "name": "python",
   "nbconvert_exporter": "python",
   "pygments_lexer": "ipython3",
   "version": "3.7.9"
  }
 },
 "nbformat": 4,
 "nbformat_minor": 1
}

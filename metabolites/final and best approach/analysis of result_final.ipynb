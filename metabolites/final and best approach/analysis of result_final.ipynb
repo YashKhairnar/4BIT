{
 "cells": [
  {
   "cell_type": "code",
   "execution_count": 7,
   "id": "abandoned-prompt",
   "metadata": {},
   "outputs": [],
   "source": [
    "import numpy as np\n",
    "import pandas as pd\n",
    "import matplotlib.pyplot as plt\n",
    "import seaborn as sns\n",
    "%matplotlib inline"
   ]
  },
  {
   "cell_type": "code",
   "execution_count": 8,
   "id": "grave-issue",
   "metadata": {},
   "outputs": [
    {
     "data": {
      "text/html": [
       "<div>\n",
       "<style scoped>\n",
       "    .dataframe tbody tr th:only-of-type {\n",
       "        vertical-align: middle;\n",
       "    }\n",
       "\n",
       "    .dataframe tbody tr th {\n",
       "        vertical-align: top;\n",
       "    }\n",
       "\n",
       "    .dataframe thead th {\n",
       "        text-align: right;\n",
       "    }\n",
       "</style>\n",
       "<table border=\"1\" class=\"dataframe\">\n",
       "  <thead>\n",
       "    <tr style=\"text-align: right;\">\n",
       "      <th></th>\n",
       "      <th>Method</th>\n",
       "      <th>Accuracy</th>\n",
       "    </tr>\n",
       "  </thead>\n",
       "  <tbody>\n",
       "    <tr>\n",
       "      <th>0</th>\n",
       "      <td>Ridge Classifier (Without PCA)</td>\n",
       "      <td>90.91</td>\n",
       "    </tr>\n",
       "    <tr>\n",
       "      <th>1</th>\n",
       "      <td>Ridge Classifier (With PCA)</td>\n",
       "      <td>81.82</td>\n",
       "    </tr>\n",
       "    <tr>\n",
       "      <th>2</th>\n",
       "      <td>Random Forest Classifier (Without PCA)</td>\n",
       "      <td>78.03</td>\n",
       "    </tr>\n",
       "    <tr>\n",
       "      <th>3</th>\n",
       "      <td>Random Forest Classifier (With PCA)</td>\n",
       "      <td>86.36</td>\n",
       "    </tr>\n",
       "  </tbody>\n",
       "</table>\n",
       "</div>"
      ],
      "text/plain": [
       "                                   Method  Accuracy\n",
       "0          Ridge Classifier (Without PCA)     90.91\n",
       "1             Ridge Classifier (With PCA)     81.82\n",
       "2  Random Forest Classifier (Without PCA)     78.03\n",
       "3     Random Forest Classifier (With PCA)     86.36"
      ]
     },
     "execution_count": 8,
     "metadata": {},
     "output_type": "execute_result"
    }
   ],
   "source": [
    "result = pd.read_csv('accuracy_1+2.csv')\n",
    "result"
   ]
  },
  {
   "cell_type": "code",
   "execution_count": 10,
   "id": "motivated-reservation",
   "metadata": {},
   "outputs": [
    {
     "data": {
      "text/html": [
       "<div>\n",
       "<style scoped>\n",
       "    .dataframe tbody tr th:only-of-type {\n",
       "        vertical-align: middle;\n",
       "    }\n",
       "\n",
       "    .dataframe tbody tr th {\n",
       "        vertical-align: top;\n",
       "    }\n",
       "\n",
       "    .dataframe thead th {\n",
       "        text-align: right;\n",
       "    }\n",
       "</style>\n",
       "<table border=\"1\" class=\"dataframe\">\n",
       "  <thead>\n",
       "    <tr style=\"text-align: right;\">\n",
       "      <th></th>\n",
       "      <th>Method</th>\n",
       "      <th>Accuracy</th>\n",
       "    </tr>\n",
       "  </thead>\n",
       "  <tbody>\n",
       "    <tr>\n",
       "      <th>0</th>\n",
       "      <td>Ridge Classifier (Without PCA)</td>\n",
       "      <td>90.9100</td>\n",
       "    </tr>\n",
       "    <tr>\n",
       "      <th>1</th>\n",
       "      <td>Ridge Classifier (With PCA)</td>\n",
       "      <td>81.8200</td>\n",
       "    </tr>\n",
       "    <tr>\n",
       "      <th>2</th>\n",
       "      <td>Random Forest Classifier (Without PCA)</td>\n",
       "      <td>78.0300</td>\n",
       "    </tr>\n",
       "    <tr>\n",
       "      <th>3</th>\n",
       "      <td>Random Forest Classifier (With PCA)</td>\n",
       "      <td>86.3600</td>\n",
       "    </tr>\n",
       "    <tr>\n",
       "      <th>4</th>\n",
       "      <td>Plasma(Previous Best)</td>\n",
       "      <td>0.8750</td>\n",
       "    </tr>\n",
       "    <tr>\n",
       "      <th>5</th>\n",
       "      <td>Serum(Previous Best)</td>\n",
       "      <td>0.8333</td>\n",
       "    </tr>\n",
       "  </tbody>\n",
       "</table>\n",
       "</div>"
      ],
      "text/plain": [
       "                                   Method  Accuracy\n",
       "0          Ridge Classifier (Without PCA)   90.9100\n",
       "1             Ridge Classifier (With PCA)   81.8200\n",
       "2  Random Forest Classifier (Without PCA)   78.0300\n",
       "3     Random Forest Classifier (With PCA)   86.3600\n",
       "4                   Plasma(Previous Best)    0.8750\n",
       "5                    Serum(Previous Best)    0.8333"
      ]
     },
     "execution_count": 10,
     "metadata": {},
     "output_type": "execute_result"
    }
   ],
   "source": [
    "result = result.append({'Method': 'Plasma(Previous Best)', 'Accuracy': 0.8750}, ignore_index=True)\n",
    "result = result.append({'Method': 'Serum(Previous Best)', 'Accuracy': 0.8333}, ignore_index=True)\n",
    "result"
   ]
  },
  {
   "cell_type": "code",
   "execution_count": 37,
   "id": "interstate-czech",
   "metadata": {},
   "outputs": [
    {
     "data": {
      "text/html": [
       "<div>\n",
       "<style scoped>\n",
       "    .dataframe tbody tr th:only-of-type {\n",
       "        vertical-align: middle;\n",
       "    }\n",
       "\n",
       "    .dataframe tbody tr th {\n",
       "        vertical-align: top;\n",
       "    }\n",
       "\n",
       "    .dataframe thead th {\n",
       "        text-align: right;\n",
       "    }\n",
       "</style>\n",
       "<table border=\"1\" class=\"dataframe\">\n",
       "  <thead>\n",
       "    <tr style=\"text-align: right;\">\n",
       "      <th></th>\n",
       "      <th>Samples</th>\n",
       "      <th>Masrur et al. [9]</th>\n",
       "      <th>Before PCA</th>\n",
       "      <th>After PCA</th>\n",
       "    </tr>\n",
       "  </thead>\n",
       "  <tbody>\n",
       "    <tr>\n",
       "      <th>0</th>\n",
       "      <td>Plasma</td>\n",
       "      <td>87.50</td>\n",
       "      <td>90.91</td>\n",
       "      <td>78.03</td>\n",
       "    </tr>\n",
       "    <tr>\n",
       "      <th>1</th>\n",
       "      <td>Serum</td>\n",
       "      <td>83.33</td>\n",
       "      <td>81.82</td>\n",
       "      <td>86.36</td>\n",
       "    </tr>\n",
       "  </tbody>\n",
       "</table>\n",
       "</div>"
      ],
      "text/plain": [
       "  Samples  Masrur et al. [9]  Before PCA  After PCA\n",
       "0  Plasma              87.50       90.91      78.03\n",
       "1   Serum              83.33       81.82      86.36"
      ]
     },
     "execution_count": 37,
     "metadata": {},
     "output_type": "execute_result"
    }
   ],
   "source": [
    "both = [['Plasma', 87.50, 90.91, 78.03], ['Serum', 83.33, 81.82, 86.36]]\n",
    "both_df = pd.DataFrame(both, columns = ['Samples', 'Masrur et al. [9]', 'Before PCA', 'After PCA'])\n",
    "both_df"
   ]
  },
  {
   "cell_type": "code",
   "execution_count": 54,
   "id": "olive-casting",
   "metadata": {},
   "outputs": [
    {
     "data": {
      "image/png": "[encoded data removed]",
      "text/plain": [
       "<Figure size 1080x864 with 1 Axes>"
      ]
     },
     "metadata": {
      "needs_background": "light"
     },
     "output_type": "display_data"
    }
   ],
   "source": [
    "both_df.plot(x='Samples', y=['Masrur et al. [9]', 'Before PCA', 'After PCA'], kind=\"bar\", \\\n",
    "             figsize=(15,12), width=0.5, color=['gray','dodgerblue', 'green'], edgecolor='white')\n",
    "\n",
    "# plt.title('Comparison of Accuracy from all the approaches (Previous Best included)')\n",
    "plt.xlabel('Samples', size = 20)\n",
    "plt.xticks(rotation='horizontal', size = 15)\n",
    "plt.yticks(size = 15)\n",
    "plt.ylabel('Accuracy', size = 20)\n",
    "plt.legend(loc=\"upper right\")\n",
    "plt.ylim([60, 100])\n",
    "\n",
    "# location of annotation\n",
    "for i, rows in both_df.iterrows():\n",
    "    plt.annotate(rows[\"Masrur et al. [9]\"], xy=(i-0.23, rows[\"Masrur et al. [9]\"]), rotation=0, color=\"gray\", size = 20)\n",
    "    plt.annotate(rows[\"Before PCA\"], xy=(i-0.07, rows[\"Before PCA\"]), rotation=0, color=\"dodgerblue\", size = 20)\n",
    "    plt.annotate(rows[\"After PCA\"], xy=(i+0.093, rows[\"After PCA\"]), rotation=0, color=\"green\", size = 20)\n",
    "\n",
    "plt.savefig('result.JPG')\n",
    "plt.show()"
   ]
  },
  {
   "cell_type": "code",
   "execution_count": null,
   "id": "falling-liquid",
   "metadata": {},
   "outputs": [],
   "source": []
  }
 ],
 "metadata": {
  "kernelspec": {
   "display_name": "Python 3",
   "language": "python",
   "name": "python3"
  },
  "language_info": {
   "codemirror_mode": {
    "name": "ipython",
    "version": 3
   },
   "file_extension": ".py",
   "mimetype": "text/x-python",
   "name": "python",
   "nbconvert_exporter": "python",
   "pygments_lexer": "ipython3",
   "version": "3.7.9"
  }
 },
 "nbformat": 4,
 "nbformat_minor": 5
}

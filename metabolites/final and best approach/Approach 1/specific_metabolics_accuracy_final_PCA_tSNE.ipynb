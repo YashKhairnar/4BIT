{
 "cells": [
  {
   "cell_type": "markdown",
   "metadata": {},
   "source": [
    "<h3> This notebook is a follow up of plasma_test_final.ipynb and serum_test_final.ipynb</h3>"
   ]
  },
  {
   "cell_type": "markdown",
   "metadata": {},
   "source": [
    "<h1 style=\"background-color:#ff5200;font-family:newtimeroman;font-size:350%;text-align:center;border-radius: 15px 50px;\">Table Of Content</h1>\n",
    "\n",
    "\n",
    "\n",
    "[1. Libraries And Utilities](#1)\n",
    "\n",
    "[2 Processed Dataset from previous Notebook](#2)\n",
    "\n",
    "[3 Models](#3)\n",
    "\n",
    "[4. Visualization](#4)\n"
   ]
  },
  {
   "cell_type": "markdown",
   "metadata": {},
   "source": [
    "<a id=\"1\"></a>\n",
    "\n",
    "<h1 style=\"background-color:#d8f8b7;font-family:newtimeroman;font-size:250%;text-align:center;border-radius: 15px 50px;\">Libraries And Utilities</h1>\n",
    "\n",
    "[Download DATASETS from here](https://github.com/utshabkg/LungCancer_Biomarker/tree/main/dataset)"
   ]
  },
  {
   "cell_type": "code",
   "execution_count": 36,
   "metadata": {
    "id": "_2KKqfz-5Ioi"
   },
   "outputs": [],
   "source": [
    "import pandas as pd\n",
    "import numpy as np\n",
    "import matplotlib.pyplot as plt\n",
    "%matplotlib inline\n",
    "\n",
    "from sklearn.decomposition import PCA\n",
    "from sklearn.manifold import TSNE\n",
    "import lazypredict\n",
    "from lazypredict.Supervised import LazyClassifier\n",
    "\n",
    "from sklearn.metrics import accuracy_score\n",
    "from sklearn.metrics import confusion_matrix\n",
    "from sklearn.metrics import matthews_corrcoef\n",
    "from sklearn.metrics import classification_report\n",
    "\n",
    "from sklearn.model_selection import ShuffleSplit, train_test_split, StratifiedKFold\n",
    "from sklearn.preprocessing import StandardScaler, MinMaxScaler, RobustScaler, LabelEncoder\n",
    "\n",
    "import seaborn as sns\n",
    "from sklearn.ensemble import RandomForestClassifier\n",
    "from sklearn.linear_model import RidgeClassifierCV\n",
    "from yellowbrick.model_selection import FeatureImportances"
   ]
  },
  {
   "cell_type": "markdown",
   "metadata": {
    "id": "OktzdLyrDm34"
   },
   "source": [
    "<a id=\"2\"></a>\n",
    "\n",
    "<h1 style=\"background-color:#d8f8b7;font-family:newtimeroman;font-size:250%;text-align:center;border-radius: 15px 50px;\">Processed Dataset from previous Notebook</h1>\n",
    "\n",
    "[Download DATASETS from here](https://github.com/utshabkg/LungCancer_Biomarker/tree/main/dataset)"
   ]
  },
  {
   "cell_type": "code",
   "execution_count": 37,
   "metadata": {
    "colab": {
     "base_uri": "https://localhost:8080/",
     "height": 294
    },
    "id": "mbm_F-i_bhGw",
    "outputId": "b85d04af-5016-462f-b31f-9724615b3765"
   },
   "outputs": [],
   "source": [
    "plasma = pd.read_csv('plasma(Specific Metabolics)_final.csv')\n",
    "serum = pd.read_csv('serum(Specific Metabolics)_final.csv')\n",
    "plasma.head()\n",
    "plasma = plasma.drop('Unnamed: 0', axis=1)\n",
    "serum = serum.drop('Unnamed: 0', axis=1)"
   ]
  },
  {
   "cell_type": "code",
   "execution_count": 38,
   "metadata": {},
   "outputs": [
    {
     "data": {
      "text/html": [
       "<div>\n",
       "<style scoped>\n",
       "    .dataframe tbody tr th:only-of-type {\n",
       "        vertical-align: middle;\n",
       "    }\n",
       "\n",
       "    .dataframe tbody tr th {\n",
       "        vertical-align: top;\n",
       "    }\n",
       "\n",
       "    .dataframe thead th {\n",
       "        text-align: right;\n",
       "    }\n",
       "</style>\n",
       "<table border=\"1\" class=\"dataframe\">\n",
       "  <thead>\n",
       "    <tr style=\"text-align: right;\">\n",
       "      <th></th>\n",
       "      <th>asparagine</th>\n",
       "      <th>benzoic acid</th>\n",
       "      <th>tryptophan</th>\n",
       "      <th>uric acid</th>\n",
       "      <th>alpha-ketoglutarate</th>\n",
       "      <th>citrulline</th>\n",
       "      <th>glutamine</th>\n",
       "      <th>malic acid</th>\n",
       "      <th>methionine sulfoxide</th>\n",
       "      <th>3-phosphoglycerate</th>\n",
       "      <th>...</th>\n",
       "      <th>aspartic acid</th>\n",
       "      <th>lactic acid</th>\n",
       "      <th>maltose</th>\n",
       "      <th>maltotriose</th>\n",
       "      <th>phenol</th>\n",
       "      <th>phosphoethanolamine</th>\n",
       "      <th>pyrophosphate</th>\n",
       "      <th>pyruvic acid</th>\n",
       "      <th>taurine</th>\n",
       "      <th>Class</th>\n",
       "    </tr>\n",
       "  </thead>\n",
       "  <tbody>\n",
       "    <tr>\n",
       "      <th>0</th>\n",
       "      <td>-0.38</td>\n",
       "      <td>-1.31</td>\n",
       "      <td>0.52</td>\n",
       "      <td>-1.02</td>\n",
       "      <td>0.51</td>\n",
       "      <td>-0.33</td>\n",
       "      <td>-0.19</td>\n",
       "      <td>0.76</td>\n",
       "      <td>0.19</td>\n",
       "      <td>-0.49</td>\n",
       "      <td>...</td>\n",
       "      <td>0.02</td>\n",
       "      <td>-0.04</td>\n",
       "      <td>-0.34</td>\n",
       "      <td>-1.21</td>\n",
       "      <td>-0.10</td>\n",
       "      <td>0.03</td>\n",
       "      <td>-0.27</td>\n",
       "      <td>1.38</td>\n",
       "      <td>0.41</td>\n",
       "      <td>disease</td>\n",
       "    </tr>\n",
       "    <tr>\n",
       "      <th>1</th>\n",
       "      <td>0.95</td>\n",
       "      <td>-0.46</td>\n",
       "      <td>-0.90</td>\n",
       "      <td>-1.24</td>\n",
       "      <td>-0.39</td>\n",
       "      <td>0.69</td>\n",
       "      <td>1.04</td>\n",
       "      <td>0.09</td>\n",
       "      <td>-0.47</td>\n",
       "      <td>0.92</td>\n",
       "      <td>...</td>\n",
       "      <td>0.40</td>\n",
       "      <td>0.15</td>\n",
       "      <td>-0.29</td>\n",
       "      <td>-0.13</td>\n",
       "      <td>0.22</td>\n",
       "      <td>-0.83</td>\n",
       "      <td>-0.41</td>\n",
       "      <td>0.29</td>\n",
       "      <td>-0.16</td>\n",
       "      <td>disease</td>\n",
       "    </tr>\n",
       "    <tr>\n",
       "      <th>2</th>\n",
       "      <td>0.69</td>\n",
       "      <td>-0.49</td>\n",
       "      <td>0.83</td>\n",
       "      <td>-0.23</td>\n",
       "      <td>0.35</td>\n",
       "      <td>-0.56</td>\n",
       "      <td>0.36</td>\n",
       "      <td>0.06</td>\n",
       "      <td>-0.71</td>\n",
       "      <td>0.19</td>\n",
       "      <td>...</td>\n",
       "      <td>0.18</td>\n",
       "      <td>1.06</td>\n",
       "      <td>0.24</td>\n",
       "      <td>0.68</td>\n",
       "      <td>0.98</td>\n",
       "      <td>0.02</td>\n",
       "      <td>0.95</td>\n",
       "      <td>-0.19</td>\n",
       "      <td>0.83</td>\n",
       "      <td>disease</td>\n",
       "    </tr>\n",
       "    <tr>\n",
       "      <th>3</th>\n",
       "      <td>0.35</td>\n",
       "      <td>1.68</td>\n",
       "      <td>-1.11</td>\n",
       "      <td>-0.48</td>\n",
       "      <td>-0.75</td>\n",
       "      <td>-0.99</td>\n",
       "      <td>1.15</td>\n",
       "      <td>-0.41</td>\n",
       "      <td>-0.65</td>\n",
       "      <td>0.33</td>\n",
       "      <td>...</td>\n",
       "      <td>-0.35</td>\n",
       "      <td>0.53</td>\n",
       "      <td>-0.19</td>\n",
       "      <td>-0.38</td>\n",
       "      <td>0.69</td>\n",
       "      <td>-0.19</td>\n",
       "      <td>-0.59</td>\n",
       "      <td>-0.66</td>\n",
       "      <td>1.25</td>\n",
       "      <td>disease</td>\n",
       "    </tr>\n",
       "    <tr>\n",
       "      <th>4</th>\n",
       "      <td>0.30</td>\n",
       "      <td>-1.20</td>\n",
       "      <td>0.01</td>\n",
       "      <td>0.76</td>\n",
       "      <td>-0.14</td>\n",
       "      <td>0.77</td>\n",
       "      <td>-0.31</td>\n",
       "      <td>0.76</td>\n",
       "      <td>0.12</td>\n",
       "      <td>0.60</td>\n",
       "      <td>...</td>\n",
       "      <td>0.01</td>\n",
       "      <td>-0.33</td>\n",
       "      <td>-0.01</td>\n",
       "      <td>1.43</td>\n",
       "      <td>-0.27</td>\n",
       "      <td>0.32</td>\n",
       "      <td>0.52</td>\n",
       "      <td>-0.09</td>\n",
       "      <td>0.08</td>\n",
       "      <td>disease</td>\n",
       "    </tr>\n",
       "    <tr>\n",
       "      <th>...</th>\n",
       "      <td>...</td>\n",
       "      <td>...</td>\n",
       "      <td>...</td>\n",
       "      <td>...</td>\n",
       "      <td>...</td>\n",
       "      <td>...</td>\n",
       "      <td>...</td>\n",
       "      <td>...</td>\n",
       "      <td>...</td>\n",
       "      <td>...</td>\n",
       "      <td>...</td>\n",
       "      <td>...</td>\n",
       "      <td>...</td>\n",
       "      <td>...</td>\n",
       "      <td>...</td>\n",
       "      <td>...</td>\n",
       "      <td>...</td>\n",
       "      <td>...</td>\n",
       "      <td>...</td>\n",
       "      <td>...</td>\n",
       "      <td>...</td>\n",
       "    </tr>\n",
       "    <tr>\n",
       "      <th>77</th>\n",
       "      <td>0.77</td>\n",
       "      <td>-0.63</td>\n",
       "      <td>0.98</td>\n",
       "      <td>0.05</td>\n",
       "      <td>-0.30</td>\n",
       "      <td>0.08</td>\n",
       "      <td>1.06</td>\n",
       "      <td>-0.97</td>\n",
       "      <td>0.33</td>\n",
       "      <td>-0.89</td>\n",
       "      <td>...</td>\n",
       "      <td>-0.82</td>\n",
       "      <td>-0.72</td>\n",
       "      <td>-0.35</td>\n",
       "      <td>-0.38</td>\n",
       "      <td>-0.68</td>\n",
       "      <td>-0.45</td>\n",
       "      <td>-0.96</td>\n",
       "      <td>-0.12</td>\n",
       "      <td>-0.37</td>\n",
       "      <td>control</td>\n",
       "    </tr>\n",
       "    <tr>\n",
       "      <th>78</th>\n",
       "      <td>-0.43</td>\n",
       "      <td>-1.06</td>\n",
       "      <td>-0.03</td>\n",
       "      <td>1.56</td>\n",
       "      <td>-0.64</td>\n",
       "      <td>-0.41</td>\n",
       "      <td>-0.13</td>\n",
       "      <td>-0.67</td>\n",
       "      <td>-0.37</td>\n",
       "      <td>0.36</td>\n",
       "      <td>...</td>\n",
       "      <td>-0.73</td>\n",
       "      <td>0.64</td>\n",
       "      <td>-0.19</td>\n",
       "      <td>-0.60</td>\n",
       "      <td>0.79</td>\n",
       "      <td>-0.42</td>\n",
       "      <td>-0.22</td>\n",
       "      <td>-0.51</td>\n",
       "      <td>-0.23</td>\n",
       "      <td>control</td>\n",
       "    </tr>\n",
       "    <tr>\n",
       "      <th>79</th>\n",
       "      <td>-0.10</td>\n",
       "      <td>1.50</td>\n",
       "      <td>0.94</td>\n",
       "      <td>0.30</td>\n",
       "      <td>0.78</td>\n",
       "      <td>0.91</td>\n",
       "      <td>1.47</td>\n",
       "      <td>1.22</td>\n",
       "      <td>0.38</td>\n",
       "      <td>-0.47</td>\n",
       "      <td>...</td>\n",
       "      <td>-0.52</td>\n",
       "      <td>-0.53</td>\n",
       "      <td>-0.35</td>\n",
       "      <td>0.05</td>\n",
       "      <td>-0.44</td>\n",
       "      <td>-0.24</td>\n",
       "      <td>-0.67</td>\n",
       "      <td>-0.36</td>\n",
       "      <td>-0.54</td>\n",
       "      <td>control</td>\n",
       "    </tr>\n",
       "    <tr>\n",
       "      <th>80</th>\n",
       "      <td>-1.22</td>\n",
       "      <td>0.90</td>\n",
       "      <td>-1.34</td>\n",
       "      <td>-0.01</td>\n",
       "      <td>-0.14</td>\n",
       "      <td>-1.17</td>\n",
       "      <td>-1.39</td>\n",
       "      <td>-0.09</td>\n",
       "      <td>0.38</td>\n",
       "      <td>-0.78</td>\n",
       "      <td>...</td>\n",
       "      <td>-0.67</td>\n",
       "      <td>-0.46</td>\n",
       "      <td>-0.50</td>\n",
       "      <td>-0.83</td>\n",
       "      <td>-0.18</td>\n",
       "      <td>-0.44</td>\n",
       "      <td>-0.92</td>\n",
       "      <td>-0.10</td>\n",
       "      <td>-1.05</td>\n",
       "      <td>control</td>\n",
       "    </tr>\n",
       "    <tr>\n",
       "      <th>81</th>\n",
       "      <td>-1.20</td>\n",
       "      <td>2.20</td>\n",
       "      <td>-0.90</td>\n",
       "      <td>2.02</td>\n",
       "      <td>-1.03</td>\n",
       "      <td>-0.98</td>\n",
       "      <td>-1.32</td>\n",
       "      <td>-0.23</td>\n",
       "      <td>3.11</td>\n",
       "      <td>-0.72</td>\n",
       "      <td>...</td>\n",
       "      <td>0.03</td>\n",
       "      <td>-0.41</td>\n",
       "      <td>-0.01</td>\n",
       "      <td>-0.73</td>\n",
       "      <td>-0.47</td>\n",
       "      <td>-0.58</td>\n",
       "      <td>-0.96</td>\n",
       "      <td>-1.05</td>\n",
       "      <td>-0.62</td>\n",
       "      <td>control</td>\n",
       "    </tr>\n",
       "  </tbody>\n",
       "</table>\n",
       "<p>82 rows × 22 columns</p>\n",
       "</div>"
      ],
      "text/plain": [
       "    asparagine  benzoic acid  tryptophan  uric acid  alpha-ketoglutarate  \\\n",
       "0        -0.38         -1.31        0.52      -1.02                 0.51   \n",
       "1         0.95         -0.46       -0.90      -1.24                -0.39   \n",
       "2         0.69         -0.49        0.83      -0.23                 0.35   \n",
       "3         0.35          1.68       -1.11      -0.48                -0.75   \n",
       "4         0.30         -1.20        0.01       0.76                -0.14   \n",
       "..         ...           ...         ...        ...                  ...   \n",
       "77        0.77         -0.63        0.98       0.05                -0.30   \n",
       "78       -0.43         -1.06       -0.03       1.56                -0.64   \n",
       "79       -0.10          1.50        0.94       0.30                 0.78   \n",
       "80       -1.22          0.90       -1.34      -0.01                -0.14   \n",
       "81       -1.20          2.20       -0.90       2.02                -1.03   \n",
       "\n",
       "    citrulline  glutamine  malic acid  methionine sulfoxide  \\\n",
       "0        -0.33      -0.19        0.76                  0.19   \n",
       "1         0.69       1.04        0.09                 -0.47   \n",
       "2        -0.56       0.36        0.06                 -0.71   \n",
       "3        -0.99       1.15       -0.41                 -0.65   \n",
       "4         0.77      -0.31        0.76                  0.12   \n",
       "..         ...        ...         ...                   ...   \n",
       "77        0.08       1.06       -0.97                  0.33   \n",
       "78       -0.41      -0.13       -0.67                 -0.37   \n",
       "79        0.91       1.47        1.22                  0.38   \n",
       "80       -1.17      -1.39       -0.09                  0.38   \n",
       "81       -0.98      -1.32       -0.23                  3.11   \n",
       "\n",
       "    3-phosphoglycerate  ...  aspartic acid  lactic acid  maltose  maltotriose  \\\n",
       "0                -0.49  ...           0.02        -0.04    -0.34        -1.21   \n",
       "1                 0.92  ...           0.40         0.15    -0.29        -0.13   \n",
       "2                 0.19  ...           0.18         1.06     0.24         0.68   \n",
       "3                 0.33  ...          -0.35         0.53    -0.19        -0.38   \n",
       "4                 0.60  ...           0.01        -0.33    -0.01         1.43   \n",
       "..                 ...  ...            ...          ...      ...          ...   \n",
       "77               -0.89  ...          -0.82        -0.72    -0.35        -0.38   \n",
       "78                0.36  ...          -0.73         0.64    -0.19        -0.60   \n",
       "79               -0.47  ...          -0.52        -0.53    -0.35         0.05   \n",
       "80               -0.78  ...          -0.67        -0.46    -0.50        -0.83   \n",
       "81               -0.72  ...           0.03        -0.41    -0.01        -0.73   \n",
       "\n",
       "    phenol  phosphoethanolamine  pyrophosphate  pyruvic acid  taurine    Class  \n",
       "0    -0.10                 0.03          -0.27          1.38     0.41  disease  \n",
       "1     0.22                -0.83          -0.41          0.29    -0.16  disease  \n",
       "2     0.98                 0.02           0.95         -0.19     0.83  disease  \n",
       "3     0.69                -0.19          -0.59         -0.66     1.25  disease  \n",
       "4    -0.27                 0.32           0.52         -0.09     0.08  disease  \n",
       "..     ...                  ...            ...           ...      ...      ...  \n",
       "77   -0.68                -0.45          -0.96         -0.12    -0.37  control  \n",
       "78    0.79                -0.42          -0.22         -0.51    -0.23  control  \n",
       "79   -0.44                -0.24          -0.67         -0.36    -0.54  control  \n",
       "80   -0.18                -0.44          -0.92         -0.10    -1.05  control  \n",
       "81   -0.47                -0.58          -0.96         -1.05    -0.62  control  \n",
       "\n",
       "[82 rows x 22 columns]"
      ]
     },
     "execution_count": 38,
     "metadata": {},
     "output_type": "execute_result"
    }
   ],
   "source": [
    "plasma"
   ]
  },
  {
   "cell_type": "markdown",
   "metadata": {},
   "source": [
    "Keep labels as an numpy array."
   ]
  },
  {
   "cell_type": "code",
   "execution_count": 39,
   "metadata": {},
   "outputs": [],
   "source": [
    "labels = np.reshape(plasma.Class.to_numpy(), (82,1))\n",
    "targets = plasma.iloc[:, -1].unique()"
   ]
  },
  {
   "cell_type": "markdown",
   "metadata": {
    "id": "O5YQ-9mOzz0x"
   },
   "source": [
    "<a id=\"3\"></a>\n",
    "\n",
    "<h1 style=\"background-color:#d8f8b7;font-family:newtimeroman;font-size:250%;text-align:center;border-radius: 15px 50px;\">Models</h1>"
   ]
  },
  {
   "cell_type": "code",
   "execution_count": 40,
   "metadata": {
    "id": "sLVgPz17wu7w"
   },
   "outputs": [],
   "source": [
    "# !pip install lazypredict"
   ]
  },
  {
   "cell_type": "code",
   "execution_count": 41,
   "metadata": {
    "id": "mFGBwSwYBpsx"
   },
   "outputs": [],
   "source": [
    "def get_xy(df):\n",
    "  X = df.drop('Class', axis=1)\n",
    "  X = X.apply(pd.to_numeric)\n",
    "  y = df['Class'].copy()\n",
    "  y = y.map({\"control\": 0, \"disease\": 1})\n",
    "  return X, y"
   ]
  },
  {
   "cell_type": "code",
   "execution_count": 55,
   "metadata": {},
   "outputs": [
    {
     "name": "stderr",
     "output_type": "stream",
     "text": [
      "100%|██████████| 29/29 [00:00<00:00, 54.30it/s]\n",
      "100%|██████████| 29/29 [00:00<00:00, 53.89it/s]\n",
      "100%|██████████| 29/29 [00:00<00:00, 45.35it/s]\n",
      "100%|██████████| 29/29 [00:00<00:00, 53.80it/s]\n",
      "100%|██████████| 29/29 [00:00<00:00, 53.80it/s]\n",
      "100%|██████████| 29/29 [00:00<00:00, 45.66it/s]\n",
      "100%|██████████| 29/29 [00:00<00:00, 53.48it/s]\n",
      "100%|██████████| 29/29 [00:00<00:00, 52.22it/s]\n",
      "100%|██████████| 29/29 [00:00<00:00, 53.90it/s]\n",
      "100%|██████████| 29/29 [00:00<00:00, 53.67it/s]\n"
     ]
    }
   ],
   "source": [
    "full_result = []\n",
    "accuracy = []\n",
    "for k in [0]:\n",
    "    if k==0:\n",
    "        name = ['Serum(Specific Metabolics)']\n",
    "        dfs = [serum]\n",
    "    \n",
    "    random_state = 42\n",
    "\n",
    "    for idx, data in enumerate(dfs):\n",
    "      result = []\n",
    "      X, y = get_xy(data)\n",
    "      rs = ShuffleSplit(n_splits=10, test_size=.2, random_state=random_state)\n",
    "      raw_x = X\n",
    "      for train_index, test_index in rs.split(X):\n",
    "        clf = LazyClassifier(verbose=0, ignore_warnings=True, custom_metric=matthews_corrcoef, predictions=True)\n",
    "        X_train, X_test = X.iloc[train_index], X.iloc[test_index]\n",
    "        y_train, y_test = y.iloc[train_index], y.iloc[test_index]\n",
    "\n",
    "        models, predictions = clf.fit(X_train, X_test, y_train, y_test)\n",
    "        result.append(models)\n",
    "\n",
    "      acc = []\n",
    "      for i in range(1):\n",
    "        acc.append(result[i].iloc[0]['Balanced Accuracy'])\n",
    "\n",
    "#       print(f'\\n{name[idx]}: {sum(acc)/len(acc)}')\n",
    "#       accuracy.append([f'{name[idx]}', f'{sum(acc)/len(acc)}'])\n",
    "        \n",
    "      full_result.append(result)"
   ]
  },
  {
   "cell_type": "code",
   "execution_count": 43,
   "metadata": {},
   "outputs": [],
   "source": [
    "# full_result"
   ]
  },
  {
   "cell_type": "code",
   "execution_count": 44,
   "metadata": {},
   "outputs": [],
   "source": [
    "# full_result[0][0]"
   ]
  },
  {
   "cell_type": "code",
   "execution_count": 45,
   "metadata": {},
   "outputs": [],
   "source": [
    "model_names = full_result[0][0].index\n",
    "# model_names"
   ]
  },
  {
   "cell_type": "code",
   "execution_count": 56,
   "metadata": {},
   "outputs": [
    {
     "data": {
      "text/plain": [
       "{'AdaBoostClassifier': [0, 0.7348484848484849],\n",
       " 'BaggingClassifier': [0, 0.7424242424242424],\n",
       " 'BernoulliNB': [0, 0.696969696969697],\n",
       " 'CalibratedClassifierCV': [0, 0.7803030303030303],\n",
       " 'DecisionTreeClassifier': [0, 0.7803030303030303],\n",
       " 'DummyClassifier': [0, 0.606060606060606],\n",
       " 'ExtraTreeClassifier': [0, 0.6893939393939394],\n",
       " 'ExtraTreesClassifier': [0, 0.7803030303030303],\n",
       " 'GaussianNB': [0, 0.7727272727272727],\n",
       " 'KNeighborsClassifier': [0, 0.7348484848484849],\n",
       " 'LGBMClassifier': [0, 0.696969696969697],\n",
       " 'LabelPropagation': [0, 0.6515151515151515],\n",
       " 'LabelSpreading': [0, 0.6515151515151515],\n",
       " 'LinearDiscriminantAnalysis': [0, 0.7348484848484849],\n",
       " 'LinearSVC': [0, 0.696969696969697],\n",
       " 'LogisticRegression': [0, 0.696969696969697],\n",
       " 'NearestCentroid': [0, 0.6515151515151515],\n",
       " 'NuSVC': [0, 0.7424242424242424],\n",
       " 'PassiveAggressiveClassifier': [0, 0.6515151515151515],\n",
       " 'Perceptron': [0, 0.7348484848484849],\n",
       " 'QuadraticDiscriminantAnalysis': [0, 0.6515151515151515],\n",
       " 'RandomForestClassifier': [0, 0.7803030303030303],\n",
       " 'RidgeClassifier': [0, 0.7348484848484849],\n",
       " 'RidgeClassifierCV': [0, 0.6893939393939394],\n",
       " 'SGDClassifier': [0, 0.6136363636363636],\n",
       " 'SVC': [0, 0.6515151515151515],\n",
       " 'XGBClassifier': [1, 0.7803030303030303]}"
      ]
     },
     "execution_count": 56,
     "metadata": {},
     "output_type": "execute_result"
    }
   ],
   "source": [
    "model_topper = {}\n",
    "for i in model_names:\n",
    "    vars()[i] = [0, 0.0]\n",
    "    model_topper[i] = vars()[i]\n",
    "for i in range(1):\n",
    "    for j in range(len(model_names)):\n",
    "        if full_result[0][i].index[0] == model_names[j]:\n",
    "            vars()[model_names[j]][0] += 1\n",
    "        vars()[model_names[j]][1] += full_result[0][i].loc[model_names[j]]['Balanced Accuracy']\n",
    "        model_topper[model_names[j]] = vars()[model_names[j]]\n",
    "\n",
    "model_topper"
   ]
  },
  {
   "cell_type": "code",
   "execution_count": 57,
   "metadata": {},
   "outputs": [
    {
     "data": {
      "text/plain": [
       "0.7803030303030303"
      ]
     },
     "execution_count": 57,
     "metadata": {},
     "output_type": "execute_result"
    }
   ],
   "source": [
    "full_result[0][0].iloc[0]['Balanced Accuracy']"
   ]
  },
  {
   "cell_type": "code",
   "execution_count": 48,
   "metadata": {},
   "outputs": [],
   "source": [
    "# necessary functions\n",
    "labels = np.reshape(plasma['Class'].to_numpy(), (82,1))\n",
    "\n",
    "def pca_analysis(df, n_components):\n",
    "    pca = PCA(n_components=n_components)\n",
    "    pca_result = pca.fit_transform(df.iloc[:, :-1].values)\n",
    "\n",
    "    pca_concatenate = np.concatenate([pca_result, labels], axis=1)\n",
    "    return pca_concatenate\n",
    "\n",
    "def make_dataframe(array, n_features):\n",
    "    col = []\n",
    "    for i in range(1, n_features+1):\n",
    "        col.append(f'pc{i}')\n",
    "    col.append('Class')\n",
    "    return pd.DataFrame(array, columns = col)\n",
    "\n",
    "def tsne_analysis(df, n_components):\n",
    "    tsne = TSNE(n_components=n_components)\n",
    "    tsne_result = tsne.fit_transform(df.iloc[:, :-1].values)\n",
    "\n",
    "    tsne_concatenate = np.concatenate([tsne_result, labels], axis=1)\n",
    "    return tsne_concatenate\n",
    "def tsne_dataframe(array, n_features):\n",
    "    col = []\n",
    "    for i in range(1, n_features+1):\n",
    "        col.append(f'tsne{i}')\n",
    "    col.append('Class')\n",
    "    return pd.DataFrame(array, columns = col)\n",
    "\n",
    "def get_xy(df):\n",
    "  X = df.drop('Class', axis=1)\n",
    "  X = X.apply(pd.to_numeric)\n",
    "  y = df['Class'].copy()\n",
    "  y = y.map({\"control\": 0, \"disease\": 1})\n",
    "  return X, y"
   ]
  },
  {
   "cell_type": "code",
   "execution_count": 51,
   "metadata": {},
   "outputs": [
    {
     "name": "stderr",
     "output_type": "stream",
     "text": [
      "100%|██████████| 29/29 [00:00<00:00, 49.23it/s]\n",
      "100%|██████████| 29/29 [00:00<00:00, 46.84it/s]\n",
      "100%|██████████| 29/29 [00:00<00:00, 49.76it/s]\n",
      "100%|██████████| 29/29 [00:00<00:00, 41.05it/s]\n",
      "100%|██████████| 29/29 [00:00<00:00, 41.21it/s]\n",
      "100%|██████████| 29/29 [00:00<00:00, 44.75it/s]\n",
      "100%|██████████| 29/29 [00:00<00:00, 49.61it/s]\n",
      "100%|██████████| 29/29 [00:00<00:00, 40.36it/s]\n",
      "100%|██████████| 29/29 [00:00<00:00, 43.33it/s]\n",
      "100%|██████████| 29/29 [00:00<00:00, 48.71it/s]\n",
      "  7%|▋         | 2/29 [00:00<00:01, 19.36it/s]"
     ]
    },
    {
     "name": "stdout",
     "output_type": "stream",
     "text": [
      "\n",
      "Plasma(Raw): 0.9090909090909092\n"
     ]
    },
    {
     "name": "stderr",
     "output_type": "stream",
     "text": [
      "100%|██████████| 29/29 [00:00<00:00, 42.95it/s]\n",
      "100%|██████████| 29/29 [00:00<00:00, 46.06it/s]\n",
      "100%|██████████| 29/29 [00:00<00:00, 49.31it/s]\n",
      "100%|██████████| 29/29 [00:00<00:00, 41.54it/s]\n",
      "100%|██████████| 29/29 [00:00<00:00, 42.96it/s]\n",
      "100%|██████████| 29/29 [00:00<00:00, 39.73it/s]\n",
      "100%|██████████| 29/29 [00:00<00:00, 38.51it/s]\n",
      "100%|██████████| 29/29 [00:00<00:00, 48.03it/s]\n",
      "100%|██████████| 29/29 [00:00<00:00, 49.07it/s]\n",
      "100%|██████████| 29/29 [00:00<00:00, 49.15it/s]\n",
      "  7%|▋         | 2/29 [00:00<00:01, 19.05it/s]"
     ]
    },
    {
     "name": "stdout",
     "output_type": "stream",
     "text": [
      "\n",
      "Serum(Raw): 0.7348484848484849\n"
     ]
    },
    {
     "name": "stderr",
     "output_type": "stream",
     "text": [
      "100%|██████████| 29/29 [00:00<00:00, 49.99it/s]\n",
      "100%|██████████| 29/29 [00:00<00:00, 50.97it/s]\n",
      "100%|██████████| 29/29 [00:00<00:00, 49.71it/s]\n",
      "100%|██████████| 29/29 [00:00<00:00, 51.70it/s]\n",
      "100%|██████████| 29/29 [00:00<00:00, 52.46it/s]\n",
      "100%|██████████| 29/29 [00:00<00:00, 49.95it/s]\n",
      "100%|██████████| 29/29 [00:00<00:00, 48.66it/s]\n",
      "100%|██████████| 29/29 [00:00<00:00, 46.25it/s]\n",
      "100%|██████████| 29/29 [00:00<00:00, 45.28it/s]\n",
      "100%|██████████| 29/29 [00:00<00:00, 40.12it/s]\n",
      "  7%|▋         | 2/29 [00:00<00:01, 18.42it/s]"
     ]
    },
    {
     "name": "stdout",
     "output_type": "stream",
     "text": [
      "\n",
      "pca2_plasma(Exploratory): 0.8181818181818181\n"
     ]
    },
    {
     "name": "stderr",
     "output_type": "stream",
     "text": [
      "100%|██████████| 29/29 [00:00<00:00, 50.06it/s]\n",
      "100%|██████████| 29/29 [00:00<00:00, 43.47it/s]\n",
      "100%|██████████| 29/29 [00:00<00:00, 52.19it/s]\n",
      "100%|██████████| 29/29 [00:00<00:00, 50.87it/s]\n",
      "100%|██████████| 29/29 [00:00<00:00, 48.94it/s]\n",
      "100%|██████████| 29/29 [00:00<00:00, 41.38it/s]\n",
      "100%|██████████| 29/29 [00:00<00:00, 47.33it/s]\n",
      "100%|██████████| 29/29 [00:00<00:00, 45.22it/s]\n",
      "100%|██████████| 29/29 [00:00<00:00, 39.16it/s]\n",
      "100%|██████████| 29/29 [00:00<00:00, 44.98it/s]\n",
      "  7%|▋         | 2/29 [00:00<00:01, 15.87it/s]"
     ]
    },
    {
     "name": "stdout",
     "output_type": "stream",
     "text": [
      "\n",
      "pca2_serum(Exploratory): 0.6515151515151515\n"
     ]
    },
    {
     "name": "stderr",
     "output_type": "stream",
     "text": [
      "100%|██████████| 29/29 [00:00<00:00, 42.74it/s]\n",
      "100%|██████████| 29/29 [00:00<00:00, 46.73it/s]\n",
      "100%|██████████| 29/29 [00:00<00:00, 50.19it/s]\n",
      "100%|██████████| 29/29 [00:00<00:00, 50.36it/s]\n",
      "100%|██████████| 29/29 [00:00<00:00, 46.00it/s]\n",
      "100%|██████████| 29/29 [00:00<00:00, 46.71it/s]\n",
      "100%|██████████| 29/29 [00:00<00:00, 42.64it/s]\n",
      "100%|██████████| 29/29 [00:00<00:00, 49.77it/s]\n",
      "100%|██████████| 29/29 [00:00<00:00, 41.93it/s]\n",
      "100%|██████████| 29/29 [00:00<00:00, 43.90it/s]\n",
      "  7%|▋         | 2/29 [00:00<00:01, 17.05it/s]"
     ]
    },
    {
     "name": "stdout",
     "output_type": "stream",
     "text": [
      "\n",
      "pca3_plasma(Exploratory): 0.8181818181818181\n"
     ]
    },
    {
     "name": "stderr",
     "output_type": "stream",
     "text": [
      "100%|██████████| 29/29 [00:00<00:00, 49.75it/s]\n",
      "100%|██████████| 29/29 [00:00<00:00, 50.54it/s]\n",
      "100%|██████████| 29/29 [00:00<00:00, 49.02it/s]\n",
      "100%|██████████| 29/29 [00:00<00:00, 43.60it/s]\n",
      "100%|██████████| 29/29 [00:00<00:00, 44.07it/s]\n",
      "100%|██████████| 29/29 [00:00<00:00, 48.94it/s]\n",
      "100%|██████████| 29/29 [00:00<00:00, 49.39it/s]\n",
      "100%|██████████| 29/29 [00:00<00:00, 50.93it/s]\n",
      "100%|██████████| 29/29 [00:00<00:00, 48.81it/s]\n",
      "100%|██████████| 29/29 [00:00<00:00, 46.53it/s]\n",
      "  7%|▋         | 2/29 [00:00<00:01, 18.02it/s]"
     ]
    },
    {
     "name": "stdout",
     "output_type": "stream",
     "text": [
      "\n",
      "pca3_serum(Exploratory): 0.6515151515151515\n"
     ]
    },
    {
     "name": "stderr",
     "output_type": "stream",
     "text": [
      "100%|██████████| 29/29 [00:00<00:00, 46.61it/s]\n",
      "100%|██████████| 29/29 [00:00<00:00, 48.67it/s]\n",
      "100%|██████████| 29/29 [00:00<00:00, 48.39it/s]\n",
      "100%|██████████| 29/29 [00:00<00:00, 48.58it/s]\n",
      "100%|██████████| 29/29 [00:00<00:00, 48.55it/s]\n",
      "100%|██████████| 29/29 [00:00<00:00, 49.24it/s]\n",
      "100%|██████████| 29/29 [00:00<00:00, 48.45it/s]\n",
      "100%|██████████| 29/29 [00:00<00:00, 49.07it/s]\n",
      "100%|██████████| 29/29 [00:00<00:00, 42.80it/s]\n",
      "100%|██████████| 29/29 [00:00<00:00, 49.83it/s]\n",
      "  7%|▋         | 2/29 [00:00<00:01, 15.39it/s]"
     ]
    },
    {
     "name": "stdout",
     "output_type": "stream",
     "text": [
      "\n",
      "pca4_plasma(Exploratory): 0.8181818181818181\n"
     ]
    },
    {
     "name": "stderr",
     "output_type": "stream",
     "text": [
      "100%|██████████| 29/29 [00:00<00:00, 47.16it/s]\n",
      "100%|██████████| 29/29 [00:00<00:00, 49.61it/s]\n",
      "100%|██████████| 29/29 [00:00<00:00, 51.36it/s]\n",
      "100%|██████████| 29/29 [00:00<00:00, 50.18it/s]\n",
      "100%|██████████| 29/29 [00:00<00:00, 50.63it/s]\n",
      "100%|██████████| 29/29 [00:00<00:00, 49.49it/s]\n",
      "100%|██████████| 29/29 [00:00<00:00, 50.11it/s]\n",
      "100%|██████████| 29/29 [00:00<00:00, 49.63it/s]\n",
      "100%|██████████| 29/29 [00:00<00:00, 49.11it/s]\n",
      "100%|██████████| 29/29 [00:00<00:00, 49.88it/s]\n",
      " 10%|█         | 3/29 [00:00<00:01, 25.48it/s]"
     ]
    },
    {
     "name": "stdout",
     "output_type": "stream",
     "text": [
      "\n",
      "pca4_serum(Exploratory): 0.6515151515151515\n"
     ]
    },
    {
     "name": "stderr",
     "output_type": "stream",
     "text": [
      "100%|██████████| 29/29 [00:00<00:00, 41.01it/s]\n",
      "100%|██████████| 29/29 [00:00<00:00, 40.64it/s]\n",
      "100%|██████████| 29/29 [00:00<00:00, 45.05it/s]\n",
      "100%|██████████| 29/29 [00:00<00:00, 47.95it/s]\n",
      "100%|██████████| 29/29 [00:00<00:00, 42.97it/s]\n",
      "100%|██████████| 29/29 [00:00<00:00, 49.24it/s]\n",
      "100%|██████████| 29/29 [00:00<00:00, 48.38it/s]\n",
      "100%|██████████| 29/29 [00:00<00:00, 40.74it/s]\n",
      "100%|██████████| 29/29 [00:00<00:00, 39.28it/s]\n",
      "100%|██████████| 29/29 [00:00<00:00, 46.33it/s]\n",
      " 10%|█         | 3/29 [00:00<00:00, 26.46it/s]"
     ]
    },
    {
     "name": "stdout",
     "output_type": "stream",
     "text": [
      "\n",
      "pca5_plasma(Exploratory): 0.8181818181818181\n"
     ]
    },
    {
     "name": "stderr",
     "output_type": "stream",
     "text": [
      "100%|██████████| 29/29 [00:00<00:00, 49.87it/s]\n",
      "100%|██████████| 29/29 [00:00<00:00, 44.17it/s]\n",
      "100%|██████████| 29/29 [00:00<00:00, 50.08it/s]\n",
      "100%|██████████| 29/29 [00:00<00:00, 50.47it/s]\n",
      "100%|██████████| 29/29 [00:00<00:00, 51.73it/s]\n",
      "100%|██████████| 29/29 [00:00<00:00, 49.82it/s]\n",
      "100%|██████████| 29/29 [00:00<00:00, 51.29it/s]\n",
      "100%|██████████| 29/29 [00:00<00:00, 51.81it/s]\n",
      "100%|██████████| 29/29 [00:00<00:00, 50.82it/s]\n",
      "100%|██████████| 29/29 [00:00<00:00, 51.07it/s]\n"
     ]
    },
    {
     "name": "stdout",
     "output_type": "stream",
     "text": [
      "\n",
      "pca5_serum(Exploratory): 0.6515151515151515\n"
     ]
    },
    {
     "name": "stderr",
     "output_type": "stream",
     "text": [
      "100%|██████████| 29/29 [00:00<00:00, 49.97it/s]\n",
      "100%|██████████| 29/29 [00:00<00:00, 51.18it/s]\n",
      "100%|██████████| 29/29 [00:00<00:00, 51.31it/s]\n",
      "100%|██████████| 29/29 [00:00<00:00, 49.97it/s]\n",
      "100%|██████████| 29/29 [00:00<00:00, 50.15it/s]\n",
      "100%|██████████| 29/29 [00:00<00:00, 51.01it/s]\n",
      "100%|██████████| 29/29 [00:00<00:00, 50.87it/s]\n",
      "100%|██████████| 29/29 [00:00<00:00, 51.60it/s]\n",
      "100%|██████████| 29/29 [00:00<00:00, 51.35it/s]\n",
      "100%|██████████| 29/29 [00:00<00:00, 50.32it/s]\n",
      " 14%|█▍        | 4/29 [00:00<00:00, 34.66it/s]"
     ]
    },
    {
     "name": "stdout",
     "output_type": "stream",
     "text": [
      "\n",
      "tsne2_plasma(Exploratory): 0.8636363636363636\n"
     ]
    },
    {
     "name": "stderr",
     "output_type": "stream",
     "text": [
      "100%|██████████| 29/29 [00:00<00:00, 51.02it/s]\n",
      "100%|██████████| 29/29 [00:00<00:00, 51.33it/s]\n",
      "100%|██████████| 29/29 [00:00<00:00, 50.92it/s]\n",
      "100%|██████████| 29/29 [00:00<00:00, 52.09it/s]\n",
      "100%|██████████| 29/29 [00:00<00:00, 52.52it/s]\n",
      "100%|██████████| 29/29 [00:00<00:00, 49.43it/s]\n",
      "100%|██████████| 29/29 [00:00<00:00, 48.60it/s]\n",
      "100%|██████████| 29/29 [00:00<00:00, 48.80it/s]\n",
      "100%|██████████| 29/29 [00:00<00:00, 49.32it/s]\n",
      "100%|██████████| 29/29 [00:00<00:00, 48.58it/s]\n"
     ]
    },
    {
     "name": "stdout",
     "output_type": "stream",
     "text": [
      "\n",
      "tsne2_serum(Exploratory): 0.6515151515151515\n"
     ]
    },
    {
     "name": "stderr",
     "output_type": "stream",
     "text": [
      "100%|██████████| 29/29 [00:00<00:00, 49.39it/s]\n",
      "100%|██████████| 29/29 [00:00<00:00, 50.40it/s]\n",
      "100%|██████████| 29/29 [00:00<00:00, 50.11it/s]\n",
      "100%|██████████| 29/29 [00:00<00:00, 48.88it/s]\n",
      "100%|██████████| 29/29 [00:00<00:00, 47.91it/s]\n",
      "100%|██████████| 29/29 [00:00<00:00, 48.43it/s]\n",
      "100%|██████████| 29/29 [00:00<00:00, 50.55it/s]\n",
      "100%|██████████| 29/29 [00:00<00:00, 50.64it/s]\n",
      "100%|██████████| 29/29 [00:00<00:00, 50.05it/s]\n",
      "100%|██████████| 29/29 [00:00<00:00, 49.74it/s]\n",
      "  7%|▋         | 2/29 [00:00<00:01, 16.80it/s]"
     ]
    },
    {
     "name": "stdout",
     "output_type": "stream",
     "text": [
      "\n",
      "tsne3_plasma(Exploratory): 0.5984848484848485\n"
     ]
    },
    {
     "name": "stderr",
     "output_type": "stream",
     "text": [
      "100%|██████████| 29/29 [00:00<00:00, 47.73it/s]\n",
      "100%|██████████| 29/29 [00:00<00:00, 49.57it/s]\n",
      "100%|██████████| 29/29 [00:00<00:00, 50.25it/s]\n",
      "100%|██████████| 29/29 [00:00<00:00, 49.84it/s]\n",
      "100%|██████████| 29/29 [00:00<00:00, 50.83it/s]\n",
      "100%|██████████| 29/29 [00:00<00:00, 50.83it/s]\n",
      "100%|██████████| 29/29 [00:00<00:00, 50.09it/s]\n",
      "100%|██████████| 29/29 [00:00<00:00, 50.35it/s]\n",
      "100%|██████████| 29/29 [00:00<00:00, 49.54it/s]\n",
      "100%|██████████| 29/29 [00:00<00:00, 49.43it/s]"
     ]
    },
    {
     "name": "stdout",
     "output_type": "stream",
     "text": [
      "\n",
      "tsne3_serum(Exploratory): 0.6515151515151515\n"
     ]
    },
    {
     "name": "stderr",
     "output_type": "stream",
     "text": [
      "\n"
     ]
    },
    {
     "data": {
      "text/html": [
       "<div>\n",
       "<style scoped>\n",
       "    .dataframe tbody tr th:only-of-type {\n",
       "        vertical-align: middle;\n",
       "    }\n",
       "\n",
       "    .dataframe tbody tr th {\n",
       "        vertical-align: top;\n",
       "    }\n",
       "\n",
       "    .dataframe thead th {\n",
       "        text-align: right;\n",
       "    }\n",
       "</style>\n",
       "<table border=\"1\" class=\"dataframe\">\n",
       "  <thead>\n",
       "    <tr style=\"text-align: right;\">\n",
       "      <th></th>\n",
       "      <th>Processed Dataset</th>\n",
       "      <th>Accuracy</th>\n",
       "    </tr>\n",
       "  </thead>\n",
       "  <tbody>\n",
       "    <tr>\n",
       "      <th>0</th>\n",
       "      <td>Plasma(Raw)</td>\n",
       "      <td>0.9090909090909092</td>\n",
       "    </tr>\n",
       "    <tr>\n",
       "      <th>1</th>\n",
       "      <td>Serum(Raw)</td>\n",
       "      <td>0.7348484848484849</td>\n",
       "    </tr>\n",
       "    <tr>\n",
       "      <th>2</th>\n",
       "      <td>pca2_plasma(Exploratory)</td>\n",
       "      <td>0.8181818181818181</td>\n",
       "    </tr>\n",
       "    <tr>\n",
       "      <th>3</th>\n",
       "      <td>pca2_serum(Exploratory)</td>\n",
       "      <td>0.6515151515151515</td>\n",
       "    </tr>\n",
       "    <tr>\n",
       "      <th>4</th>\n",
       "      <td>pca3_plasma(Exploratory)</td>\n",
       "      <td>0.8181818181818181</td>\n",
       "    </tr>\n",
       "    <tr>\n",
       "      <th>5</th>\n",
       "      <td>pca3_serum(Exploratory)</td>\n",
       "      <td>0.6515151515151515</td>\n",
       "    </tr>\n",
       "    <tr>\n",
       "      <th>6</th>\n",
       "      <td>pca4_plasma(Exploratory)</td>\n",
       "      <td>0.8181818181818181</td>\n",
       "    </tr>\n",
       "    <tr>\n",
       "      <th>7</th>\n",
       "      <td>pca4_serum(Exploratory)</td>\n",
       "      <td>0.6515151515151515</td>\n",
       "    </tr>\n",
       "    <tr>\n",
       "      <th>8</th>\n",
       "      <td>pca5_plasma(Exploratory)</td>\n",
       "      <td>0.8181818181818181</td>\n",
       "    </tr>\n",
       "    <tr>\n",
       "      <th>9</th>\n",
       "      <td>pca5_serum(Exploratory)</td>\n",
       "      <td>0.6515151515151515</td>\n",
       "    </tr>\n",
       "    <tr>\n",
       "      <th>10</th>\n",
       "      <td>tsne2_plasma(Exploratory)</td>\n",
       "      <td>0.8636363636363636</td>\n",
       "    </tr>\n",
       "    <tr>\n",
       "      <th>11</th>\n",
       "      <td>tsne2_serum(Exploratory)</td>\n",
       "      <td>0.6515151515151515</td>\n",
       "    </tr>\n",
       "    <tr>\n",
       "      <th>12</th>\n",
       "      <td>tsne3_plasma(Exploratory)</td>\n",
       "      <td>0.5984848484848485</td>\n",
       "    </tr>\n",
       "    <tr>\n",
       "      <th>13</th>\n",
       "      <td>tsne3_serum(Exploratory)</td>\n",
       "      <td>0.6515151515151515</td>\n",
       "    </tr>\n",
       "  </tbody>\n",
       "</table>\n",
       "</div>"
      ],
      "text/plain": [
       "            Processed Dataset            Accuracy\n",
       "0                 Plasma(Raw)  0.9090909090909092\n",
       "1                  Serum(Raw)  0.7348484848484849\n",
       "2    pca2_plasma(Exploratory)  0.8181818181818181\n",
       "3     pca2_serum(Exploratory)  0.6515151515151515\n",
       "4    pca3_plasma(Exploratory)  0.8181818181818181\n",
       "5     pca3_serum(Exploratory)  0.6515151515151515\n",
       "6    pca4_plasma(Exploratory)  0.8181818181818181\n",
       "7     pca4_serum(Exploratory)  0.6515151515151515\n",
       "8    pca5_plasma(Exploratory)  0.8181818181818181\n",
       "9     pca5_serum(Exploratory)  0.6515151515151515\n",
       "10  tsne2_plasma(Exploratory)  0.8636363636363636\n",
       "11   tsne2_serum(Exploratory)  0.6515151515151515\n",
       "12  tsne3_plasma(Exploratory)  0.5984848484848485\n",
       "13   tsne3_serum(Exploratory)  0.6515151515151515"
      ]
     },
     "execution_count": 51,
     "metadata": {},
     "output_type": "execute_result"
    }
   ],
   "source": [
    "accuracy = []\n",
    "for k in [0, 2, 3, 4, 5, 22, 23]:\n",
    "    \n",
    "    if k==0:\n",
    "        name = ['Plasma(Raw)', 'Serum(Raw)', 'Plasma(Exploratory)', 'Serum(Exploratory)']\n",
    "        dfs = [plasma, serum]\n",
    "    \n",
    "    elif k==22 or k==23:\n",
    "        k -= 20\n",
    "        name = [f'tsne{k}_plasma(Exploratory)', f'tsne{k}_serum(Exploratory)']\n",
    "        vars()[f'tsne{k}_plasma'] = tsne_analysis(plasma, k)\n",
    "        vars()[f'tsne{k}_plasma_df'] = make_dataframe(vars()[f'tsne{k}_plasma'], k)\n",
    "        \n",
    "        vars()[f'tsne{k}_serum'] = pca_analysis(serum, k)\n",
    "        vars()[f'tsne{k}_serum_df'] = make_dataframe(vars()[f'tsne{k}_serum'], k)\n",
    "        \n",
    "        dfs = [vars()[f'tsne{k}_plasma_df'], vars()[f'tsne{k}_serum_df']]\n",
    "    \n",
    "    else:\n",
    "        name = [f'pca{k}_plasma(Exploratory)', f'pca{k}_serum(Exploratory)']\n",
    "        vars()[f'pca{k}_plasma'] = pca_analysis(plasma, k)\n",
    "        vars()[f'pca{k}_plasma_df'] = make_dataframe(vars()[f'pca{k}_plasma'], k)\n",
    "        \n",
    "        vars()[f'pca{k}_serum'] = pca_analysis(serum, k)\n",
    "        vars()[f'pca{k}_serum_df'] = make_dataframe(vars()[f'pca{k}_serum'], k)\n",
    "        \n",
    "        dfs = [vars()[f'pca{k}_plasma_df'], vars()[f'pca{k}_serum_df']]\n",
    "    \n",
    "    random_state = 42\n",
    "\n",
    "    for idx, data in enumerate(dfs):\n",
    "        result = []\n",
    "        if data.columns[-1]=='Class':\n",
    "            X = data.drop('Class', axis=1)\n",
    "        else:\n",
    "            X = data\n",
    "        y = plasma['Class'].copy()\n",
    "        y = y.map({\"control\": 0, \"disease\": 1})\n",
    "        rs = ShuffleSplit(n_splits=10, test_size=.2, random_state=random_state)\n",
    "\n",
    "        for train_index, test_index in rs.split(X):\n",
    "            clf = LazyClassifier(verbose=0, ignore_warnings=True, custom_metric=matthews_corrcoef, predictions=True)\n",
    "            X_train, X_test = X.iloc[train_index], X.iloc[test_index]\n",
    "            y_train, y_test = y.iloc[train_index], y.iloc[test_index]\n",
    "\n",
    "            scaler = RobustScaler()\n",
    "\n",
    "            cols = X_train.columns\n",
    "            X_train = scaler.fit_transform(X_train)\n",
    "            X_test = scaler.transform(X_test)\n",
    "\n",
    "            X_train = pd.DataFrame(X_train, columns=[cols])\n",
    "            X_test = pd.DataFrame(X_test, columns=[cols])\n",
    "\n",
    "            models, predictions = clf.fit(X_train, X_test, y_train, y_test)\n",
    "            result.append(models)\n",
    "        #     print(result)\n",
    "\n",
    "        acc = []\n",
    "        for i in range(1):\n",
    "            for j in range(len(model_names)):\n",
    "                if result[i].index[j] == 'RidgeClassifier':\n",
    "                    acc.append(result[i].loc['RidgeClassifier']['Balanced Accuracy'])\n",
    "#                     print(result[i].index[j], result[i].iloc[j]['Balanced Accuracy'])\n",
    "\n",
    "        print(f'\\n{name[idx]}: {sum(acc)/len(acc)}')\n",
    "        accuracy.append([f'{name[idx]}', f'{sum(acc)/len(acc)}'])\n",
    "\n",
    "accuracy_df1 = pd.DataFrame(accuracy, columns=['Processed Dataset', 'Accuracy'])\n",
    "accuracy_df1"
   ]
  },
  {
   "cell_type": "code",
   "execution_count": 52,
   "metadata": {},
   "outputs": [
    {
     "name": "stderr",
     "output_type": "stream",
     "text": [
      "100%|██████████| 29/29 [00:00<00:00, 47.92it/s]\n",
      "100%|██████████| 29/29 [00:00<00:00, 46.69it/s]\n",
      "100%|██████████| 29/29 [00:00<00:00, 45.28it/s]\n",
      "100%|██████████| 29/29 [00:00<00:00, 47.86it/s]\n",
      "100%|██████████| 29/29 [00:00<00:00, 48.19it/s]\n",
      "100%|██████████| 29/29 [00:00<00:00, 46.65it/s]\n",
      "100%|██████████| 29/29 [00:00<00:00, 47.23it/s]\n",
      "100%|██████████| 29/29 [00:00<00:00, 47.37it/s]\n",
      "100%|██████████| 29/29 [00:00<00:00, 44.08it/s]\n",
      "100%|██████████| 29/29 [00:00<00:00, 47.64it/s]\n",
      "  7%|▋         | 2/29 [00:00<00:01, 18.72it/s]"
     ]
    },
    {
     "name": "stdout",
     "output_type": "stream",
     "text": [
      "\n",
      "Plasma(Raw): 0.8712121212121212\n"
     ]
    },
    {
     "name": "stderr",
     "output_type": "stream",
     "text": [
      "100%|██████████| 29/29 [00:00<00:00, 49.29it/s]\n",
      "100%|██████████| 29/29 [00:00<00:00, 50.35it/s]\n",
      "100%|██████████| 29/29 [00:00<00:00, 48.98it/s]\n",
      "100%|██████████| 29/29 [00:00<00:00, 50.81it/s]\n",
      "100%|██████████| 29/29 [00:00<00:00, 49.42it/s]\n",
      "100%|██████████| 29/29 [00:00<00:00, 49.40it/s]\n",
      "100%|██████████| 29/29 [00:00<00:00, 48.36it/s]\n",
      "100%|██████████| 29/29 [00:00<00:00, 49.91it/s]\n",
      "100%|██████████| 29/29 [00:00<00:00, 47.70it/s]\n",
      "100%|██████████| 29/29 [00:00<00:00, 47.65it/s]\n",
      "  7%|▋         | 2/29 [00:00<00:01, 19.23it/s]"
     ]
    },
    {
     "name": "stdout",
     "output_type": "stream",
     "text": [
      "\n",
      "Serum(Raw): 0.7803030303030303\n"
     ]
    },
    {
     "name": "stderr",
     "output_type": "stream",
     "text": [
      "100%|██████████| 29/29 [00:00<00:00, 50.32it/s]\n",
      "100%|██████████| 29/29 [00:00<00:00, 51.00it/s]\n",
      "100%|██████████| 29/29 [00:00<00:00, 50.40it/s]\n",
      "100%|██████████| 29/29 [00:00<00:00, 51.57it/s]\n",
      "100%|██████████| 29/29 [00:00<00:00, 51.48it/s]\n",
      "100%|██████████| 29/29 [00:00<00:00, 51.51it/s]\n",
      "100%|██████████| 29/29 [00:00<00:00, 50.97it/s]\n",
      "100%|██████████| 29/29 [00:00<00:00, 52.38it/s]\n",
      "100%|██████████| 29/29 [00:00<00:00, 49.93it/s]\n",
      "100%|██████████| 29/29 [00:00<00:00, 50.75it/s]\n",
      "  7%|▋         | 2/29 [00:00<00:01, 19.47it/s]"
     ]
    },
    {
     "name": "stdout",
     "output_type": "stream",
     "text": [
      "\n",
      "pca2_plasma(Exploratory): 0.8712121212121212\n"
     ]
    },
    {
     "name": "stderr",
     "output_type": "stream",
     "text": [
      "100%|██████████| 29/29 [00:00<00:00, 43.54it/s]\n",
      "100%|██████████| 29/29 [00:00<00:00, 40.55it/s]\n",
      "100%|██████████| 29/29 [00:00<00:00, 42.96it/s]\n",
      "100%|██████████| 29/29 [00:00<00:00, 45.66it/s]\n",
      "100%|██████████| 29/29 [00:00<00:00, 49.63it/s]\n",
      "100%|██████████| 29/29 [00:00<00:00, 48.74it/s]\n",
      "100%|██████████| 29/29 [00:00<00:00, 39.25it/s]\n",
      "100%|██████████| 29/29 [00:00<00:00, 39.29it/s]\n",
      "100%|██████████| 29/29 [00:00<00:00, 42.35it/s]\n",
      "100%|██████████| 29/29 [00:00<00:00, 36.13it/s]\n",
      "  7%|▋         | 2/29 [00:00<00:01, 16.98it/s]"
     ]
    },
    {
     "name": "stdout",
     "output_type": "stream",
     "text": [
      "\n",
      "pca2_serum(Exploratory): 0.7878787878787878\n"
     ]
    },
    {
     "name": "stderr",
     "output_type": "stream",
     "text": [
      "100%|██████████| 29/29 [00:00<00:00, 45.37it/s]\n",
      "100%|██████████| 29/29 [00:00<00:00, 45.51it/s]\n",
      "100%|██████████| 29/29 [00:00<00:00, 50.02it/s]\n",
      "100%|██████████| 29/29 [00:00<00:00, 49.22it/s]\n",
      "100%|██████████| 29/29 [00:00<00:00, 47.16it/s]\n",
      "100%|██████████| 29/29 [00:00<00:00, 46.98it/s]\n",
      "100%|██████████| 29/29 [00:00<00:00, 45.10it/s]\n",
      "100%|██████████| 29/29 [00:00<00:00, 50.04it/s]\n",
      "100%|██████████| 29/29 [00:00<00:00, 45.40it/s]\n",
      "100%|██████████| 29/29 [00:00<00:00, 44.67it/s]\n",
      "  7%|▋         | 2/29 [00:00<00:01, 18.66it/s]"
     ]
    },
    {
     "name": "stdout",
     "output_type": "stream",
     "text": [
      "\n",
      "pca3_plasma(Exploratory): 0.8257575757575758\n"
     ]
    },
    {
     "name": "stderr",
     "output_type": "stream",
     "text": [
      "100%|██████████| 29/29 [00:00<00:00, 50.21it/s]\n",
      "100%|██████████| 29/29 [00:00<00:00, 49.06it/s]\n",
      "100%|██████████| 29/29 [00:00<00:00, 51.28it/s]\n",
      "100%|██████████| 29/29 [00:00<00:00, 50.61it/s]\n",
      "100%|██████████| 29/29 [00:00<00:00, 50.19it/s]\n",
      "100%|██████████| 29/29 [00:00<00:00, 49.74it/s]\n",
      "100%|██████████| 29/29 [00:00<00:00, 50.91it/s]\n",
      "100%|██████████| 29/29 [00:00<00:00, 50.15it/s]\n",
      "100%|██████████| 29/29 [00:00<00:00, 50.51it/s]\n",
      "100%|██████████| 29/29 [00:00<00:00, 50.27it/s]\n",
      " 10%|█         | 3/29 [00:00<00:00, 27.33it/s]"
     ]
    },
    {
     "name": "stdout",
     "output_type": "stream",
     "text": [
      "\n",
      "pca3_serum(Exploratory): 0.8636363636363636\n"
     ]
    },
    {
     "name": "stderr",
     "output_type": "stream",
     "text": [
      "100%|██████████| 29/29 [00:00<00:00, 50.37it/s]\n",
      "100%|██████████| 29/29 [00:00<00:00, 50.87it/s]\n",
      "100%|██████████| 29/29 [00:00<00:00, 51.27it/s]\n",
      "100%|██████████| 29/29 [00:00<00:00, 49.82it/s]\n",
      "100%|██████████| 29/29 [00:00<00:00, 51.58it/s]\n",
      "100%|██████████| 29/29 [00:00<00:00, 50.39it/s]\n",
      "100%|██████████| 29/29 [00:00<00:00, 49.01it/s]\n",
      "100%|██████████| 29/29 [00:00<00:00, 49.31it/s]\n",
      "100%|██████████| 29/29 [00:00<00:00, 50.13it/s]\n",
      "100%|██████████| 29/29 [00:00<00:00, 49.68it/s]\n",
      "  7%|▋         | 2/29 [00:00<00:01, 18.80it/s]"
     ]
    },
    {
     "name": "stdout",
     "output_type": "stream",
     "text": [
      "\n",
      "pca4_plasma(Exploratory): 0.8712121212121212\n"
     ]
    },
    {
     "name": "stderr",
     "output_type": "stream",
     "text": [
      "100%|██████████| 29/29 [00:00<00:00, 49.56it/s]\n",
      "100%|██████████| 29/29 [00:00<00:00, 48.66it/s]\n",
      "100%|██████████| 29/29 [00:00<00:00, 49.05it/s]\n",
      "100%|██████████| 29/29 [00:00<00:00, 49.88it/s]\n",
      "100%|██████████| 29/29 [00:00<00:00, 50.76it/s]\n",
      "100%|██████████| 29/29 [00:00<00:00, 46.77it/s]\n",
      "100%|██████████| 29/29 [00:00<00:00, 49.61it/s]\n",
      "100%|██████████| 29/29 [00:00<00:00, 47.58it/s]\n",
      "100%|██████████| 29/29 [00:00<00:00, 49.53it/s]\n",
      "100%|██████████| 29/29 [00:00<00:00, 50.03it/s]\n",
      "  7%|▋         | 2/29 [00:00<00:01, 18.70it/s]"
     ]
    },
    {
     "name": "stdout",
     "output_type": "stream",
     "text": [
      "\n",
      "pca4_serum(Exploratory): 0.7803030303030303\n"
     ]
    },
    {
     "name": "stderr",
     "output_type": "stream",
     "text": [
      "100%|██████████| 29/29 [00:00<00:00, 49.68it/s]\n",
      "100%|██████████| 29/29 [00:00<00:00, 50.04it/s]\n",
      "100%|██████████| 29/29 [00:00<00:00, 49.64it/s]\n",
      "100%|██████████| 29/29 [00:00<00:00, 49.60it/s]\n",
      "100%|██████████| 29/29 [00:00<00:00, 41.68it/s]\n",
      "100%|██████████| 29/29 [00:00<00:00, 47.57it/s]\n",
      "100%|██████████| 29/29 [00:00<00:00, 48.60it/s]\n",
      "100%|██████████| 29/29 [00:00<00:00, 49.34it/s]\n",
      "100%|██████████| 29/29 [00:00<00:00, 50.74it/s]\n",
      "100%|██████████| 29/29 [00:00<00:00, 49.03it/s]\n",
      "  7%|▋         | 2/29 [00:00<00:01, 18.97it/s]"
     ]
    },
    {
     "name": "stdout",
     "output_type": "stream",
     "text": [
      "\n",
      "pca5_plasma(Exploratory): 0.8712121212121212\n"
     ]
    },
    {
     "name": "stderr",
     "output_type": "stream",
     "text": [
      "100%|██████████| 29/29 [00:00<00:00, 49.75it/s]\n",
      "100%|██████████| 29/29 [00:00<00:00, 50.21it/s]\n",
      "100%|██████████| 29/29 [00:00<00:00, 49.07it/s]\n",
      "100%|██████████| 29/29 [00:00<00:00, 49.25it/s]\n",
      "100%|██████████| 29/29 [00:00<00:00, 49.27it/s]\n",
      "100%|██████████| 29/29 [00:00<00:00, 49.06it/s]\n",
      "100%|██████████| 29/29 [00:00<00:00, 47.73it/s]\n",
      "100%|██████████| 29/29 [00:00<00:00, 49.02it/s]\n",
      "100%|██████████| 29/29 [00:00<00:00, 49.60it/s]\n",
      "100%|██████████| 29/29 [00:00<00:00, 49.00it/s]\n"
     ]
    },
    {
     "name": "stdout",
     "output_type": "stream",
     "text": [
      "\n",
      "pca5_serum(Exploratory): 0.7878787878787878\n"
     ]
    },
    {
     "name": "stderr",
     "output_type": "stream",
     "text": [
      "100%|██████████| 29/29 [00:00<00:00, 50.55it/s]\n",
      "100%|██████████| 29/29 [00:00<00:00, 51.67it/s]\n",
      "100%|██████████| 29/29 [00:00<00:00, 51.77it/s]\n",
      "100%|██████████| 29/29 [00:00<00:00, 51.70it/s]\n",
      "100%|██████████| 29/29 [00:00<00:00, 50.85it/s]\n",
      "100%|██████████| 29/29 [00:00<00:00, 50.98it/s]\n",
      "100%|██████████| 29/29 [00:00<00:00, 50.74it/s]\n",
      "100%|██████████| 29/29 [00:00<00:00, 51.65it/s]\n",
      "100%|██████████| 29/29 [00:00<00:00, 49.36it/s]\n",
      "100%|██████████| 29/29 [00:00<00:00, 50.73it/s]\n",
      "  7%|▋         | 2/29 [00:00<00:01, 19.38it/s]"
     ]
    },
    {
     "name": "stdout",
     "output_type": "stream",
     "text": [
      "\n",
      "tsne2_plasma(Exploratory): 0.7803030303030303\n"
     ]
    },
    {
     "name": "stderr",
     "output_type": "stream",
     "text": [
      "100%|██████████| 29/29 [00:00<00:00, 50.16it/s]\n",
      "100%|██████████| 29/29 [00:00<00:00, 50.34it/s]\n",
      "100%|██████████| 29/29 [00:00<00:00, 51.21it/s]\n",
      "100%|██████████| 29/29 [00:00<00:00, 50.07it/s]\n",
      "100%|██████████| 29/29 [00:00<00:00, 50.76it/s]\n",
      "100%|██████████| 29/29 [00:00<00:00, 49.73it/s]\n",
      "100%|██████████| 29/29 [00:00<00:00, 50.58it/s]\n",
      "100%|██████████| 29/29 [00:00<00:00, 45.75it/s]\n",
      "100%|██████████| 29/29 [00:00<00:00, 48.67it/s]\n",
      "100%|██████████| 29/29 [00:00<00:00, 50.04it/s]\n"
     ]
    },
    {
     "name": "stdout",
     "output_type": "stream",
     "text": [
      "\n",
      "tsne2_serum(Exploratory): 0.7878787878787878\n"
     ]
    },
    {
     "name": "stderr",
     "output_type": "stream",
     "text": [
      "100%|██████████| 29/29 [00:00<00:00, 49.95it/s]\n",
      "100%|██████████| 29/29 [00:00<00:00, 49.73it/s]\n",
      "100%|██████████| 29/29 [00:00<00:00, 47.90it/s]\n",
      "100%|██████████| 29/29 [00:00<00:00, 32.81it/s]\n",
      "100%|██████████| 29/29 [00:00<00:00, 39.53it/s]\n",
      "100%|██████████| 29/29 [00:00<00:00, 48.13it/s]\n",
      "100%|██████████| 29/29 [00:00<00:00, 48.49it/s]\n",
      "100%|██████████| 29/29 [00:00<00:00, 41.67it/s]\n",
      "100%|██████████| 29/29 [00:00<00:00, 45.92it/s]\n",
      "100%|██████████| 29/29 [00:00<00:00, 44.60it/s]\n",
      "  3%|▎         | 1/29 [00:00<00:02,  9.43it/s]"
     ]
    },
    {
     "name": "stdout",
     "output_type": "stream",
     "text": [
      "\n",
      "tsne3_plasma(Exploratory): 0.5606060606060606\n"
     ]
    },
    {
     "name": "stderr",
     "output_type": "stream",
     "text": [
      "100%|██████████| 29/29 [00:00<00:00, 47.34it/s]\n",
      "100%|██████████| 29/29 [00:00<00:00, 44.37it/s]\n",
      "100%|██████████| 29/29 [00:00<00:00, 39.89it/s]\n",
      "100%|██████████| 29/29 [00:00<00:00, 41.84it/s]\n",
      "100%|██████████| 29/29 [00:00<00:00, 49.66it/s]\n",
      "100%|██████████| 29/29 [00:00<00:00, 48.64it/s]\n",
      "100%|██████████| 29/29 [00:00<00:00, 49.79it/s]\n",
      "100%|██████████| 29/29 [00:00<00:00, 49.06it/s]\n",
      "100%|██████████| 29/29 [00:00<00:00, 49.55it/s]\n",
      "100%|██████████| 29/29 [00:00<00:00, 49.22it/s]"
     ]
    },
    {
     "name": "stdout",
     "output_type": "stream",
     "text": [
      "\n",
      "tsne3_serum(Exploratory): 0.8636363636363636\n"
     ]
    },
    {
     "name": "stderr",
     "output_type": "stream",
     "text": [
      "\n"
     ]
    },
    {
     "data": {
      "text/html": [
       "<div>\n",
       "<style scoped>\n",
       "    .dataframe tbody tr th:only-of-type {\n",
       "        vertical-align: middle;\n",
       "    }\n",
       "\n",
       "    .dataframe tbody tr th {\n",
       "        vertical-align: top;\n",
       "    }\n",
       "\n",
       "    .dataframe thead th {\n",
       "        text-align: right;\n",
       "    }\n",
       "</style>\n",
       "<table border=\"1\" class=\"dataframe\">\n",
       "  <thead>\n",
       "    <tr style=\"text-align: right;\">\n",
       "      <th></th>\n",
       "      <th>Processed Dataset</th>\n",
       "      <th>Accuracy</th>\n",
       "    </tr>\n",
       "  </thead>\n",
       "  <tbody>\n",
       "    <tr>\n",
       "      <th>0</th>\n",
       "      <td>Plasma(Raw)</td>\n",
       "      <td>0.8712121212121212</td>\n",
       "    </tr>\n",
       "    <tr>\n",
       "      <th>1</th>\n",
       "      <td>Serum(Raw)</td>\n",
       "      <td>0.7803030303030303</td>\n",
       "    </tr>\n",
       "    <tr>\n",
       "      <th>2</th>\n",
       "      <td>pca2_plasma(Exploratory)</td>\n",
       "      <td>0.8712121212121212</td>\n",
       "    </tr>\n",
       "    <tr>\n",
       "      <th>3</th>\n",
       "      <td>pca2_serum(Exploratory)</td>\n",
       "      <td>0.7878787878787878</td>\n",
       "    </tr>\n",
       "    <tr>\n",
       "      <th>4</th>\n",
       "      <td>pca3_plasma(Exploratory)</td>\n",
       "      <td>0.8257575757575758</td>\n",
       "    </tr>\n",
       "    <tr>\n",
       "      <th>5</th>\n",
       "      <td>pca3_serum(Exploratory)</td>\n",
       "      <td>0.8636363636363636</td>\n",
       "    </tr>\n",
       "    <tr>\n",
       "      <th>6</th>\n",
       "      <td>pca4_plasma(Exploratory)</td>\n",
       "      <td>0.8712121212121212</td>\n",
       "    </tr>\n",
       "    <tr>\n",
       "      <th>7</th>\n",
       "      <td>pca4_serum(Exploratory)</td>\n",
       "      <td>0.7803030303030303</td>\n",
       "    </tr>\n",
       "    <tr>\n",
       "      <th>8</th>\n",
       "      <td>pca5_plasma(Exploratory)</td>\n",
       "      <td>0.8712121212121212</td>\n",
       "    </tr>\n",
       "    <tr>\n",
       "      <th>9</th>\n",
       "      <td>pca5_serum(Exploratory)</td>\n",
       "      <td>0.7878787878787878</td>\n",
       "    </tr>\n",
       "    <tr>\n",
       "      <th>10</th>\n",
       "      <td>tsne2_plasma(Exploratory)</td>\n",
       "      <td>0.7803030303030303</td>\n",
       "    </tr>\n",
       "    <tr>\n",
       "      <th>11</th>\n",
       "      <td>tsne2_serum(Exploratory)</td>\n",
       "      <td>0.7878787878787878</td>\n",
       "    </tr>\n",
       "    <tr>\n",
       "      <th>12</th>\n",
       "      <td>tsne3_plasma(Exploratory)</td>\n",
       "      <td>0.5606060606060606</td>\n",
       "    </tr>\n",
       "    <tr>\n",
       "      <th>13</th>\n",
       "      <td>tsne3_serum(Exploratory)</td>\n",
       "      <td>0.8636363636363636</td>\n",
       "    </tr>\n",
       "  </tbody>\n",
       "</table>\n",
       "</div>"
      ],
      "text/plain": [
       "            Processed Dataset            Accuracy\n",
       "0                 Plasma(Raw)  0.8712121212121212\n",
       "1                  Serum(Raw)  0.7803030303030303\n",
       "2    pca2_plasma(Exploratory)  0.8712121212121212\n",
       "3     pca2_serum(Exploratory)  0.7878787878787878\n",
       "4    pca3_plasma(Exploratory)  0.8257575757575758\n",
       "5     pca3_serum(Exploratory)  0.8636363636363636\n",
       "6    pca4_plasma(Exploratory)  0.8712121212121212\n",
       "7     pca4_serum(Exploratory)  0.7803030303030303\n",
       "8    pca5_plasma(Exploratory)  0.8712121212121212\n",
       "9     pca5_serum(Exploratory)  0.7878787878787878\n",
       "10  tsne2_plasma(Exploratory)  0.7803030303030303\n",
       "11   tsne2_serum(Exploratory)  0.7878787878787878\n",
       "12  tsne3_plasma(Exploratory)  0.5606060606060606\n",
       "13   tsne3_serum(Exploratory)  0.8636363636363636"
      ]
     },
     "execution_count": 52,
     "metadata": {},
     "output_type": "execute_result"
    }
   ],
   "source": [
    "accuracy = []\n",
    "for k in [0, 2, 3, 4, 5, 22, 23]:\n",
    "    \n",
    "    if k==0:\n",
    "        name = ['Plasma(Raw)', 'Serum(Raw)', 'Plasma(Exploratory)', 'Serum(Exploratory)']\n",
    "        dfs = [plasma, serum]\n",
    "    \n",
    "    elif k==22 or k==23:\n",
    "        k -= 20\n",
    "        name = [f'tsne{k}_plasma(Exploratory)', f'tsne{k}_serum(Exploratory)']\n",
    "        vars()[f'tsne{k}_plasma'] = tsne_analysis(plasma, k)\n",
    "        vars()[f'tsne{k}_plasma_df'] = make_dataframe(vars()[f'tsne{k}_plasma'], k)\n",
    "        \n",
    "        vars()[f'tsne{k}_serum'] = pca_analysis(serum, k)\n",
    "        vars()[f'tsne{k}_serum_df'] = make_dataframe(vars()[f'tsne{k}_serum'], k)\n",
    "        \n",
    "        dfs = [vars()[f'tsne{k}_plasma_df'], vars()[f'tsne{k}_serum_df']]\n",
    "    \n",
    "    else:\n",
    "        name = [f'pca{k}_plasma(Exploratory)', f'pca{k}_serum(Exploratory)']\n",
    "        vars()[f'pca{k}_plasma'] = pca_analysis(plasma, k)\n",
    "        vars()[f'pca{k}_plasma_df'] = make_dataframe(vars()[f'pca{k}_plasma'], k)\n",
    "        \n",
    "        vars()[f'pca{k}_serum'] = pca_analysis(serum, k)\n",
    "        vars()[f'pca{k}_serum_df'] = make_dataframe(vars()[f'pca{k}_serum'], k)\n",
    "        \n",
    "        dfs = [vars()[f'pca{k}_plasma_df'], vars()[f'pca{k}_serum_df']]\n",
    "    \n",
    "    random_state = 42\n",
    "\n",
    "    for idx, data in enumerate(dfs):\n",
    "        result = []\n",
    "        if data.columns[-1]=='Class':\n",
    "            X = data.drop('Class', axis=1)\n",
    "        else:\n",
    "            X = data\n",
    "        y = plasma['Class'].copy()\n",
    "        y = y.map({\"control\": 0, \"disease\": 1})\n",
    "        rs = ShuffleSplit(n_splits=10, test_size=.2, random_state=random_state)\n",
    "\n",
    "        for train_index, test_index in rs.split(X):\n",
    "            clf = LazyClassifier(verbose=0, ignore_warnings=True, custom_metric=matthews_corrcoef, predictions=True)\n",
    "            X_train, X_test = X.iloc[train_index], X.iloc[test_index]\n",
    "            y_train, y_test = y.iloc[train_index], y.iloc[test_index]\n",
    "\n",
    "            scaler = RobustScaler()\n",
    "\n",
    "            cols = X_train.columns\n",
    "            X_train = scaler.fit_transform(X_train)\n",
    "            X_test = scaler.transform(X_test)\n",
    "\n",
    "            X_train = pd.DataFrame(X_train, columns=[cols])\n",
    "            X_test = pd.DataFrame(X_test, columns=[cols])\n",
    "\n",
    "            models, predictions = clf.fit(X_train, X_test, y_train, y_test)\n",
    "            result.append(models)\n",
    "        #     print(result)\n",
    "\n",
    "        acc = []\n",
    "        for i in range(1):\n",
    "            for j in range(len(model_names)):\n",
    "                if result[i].index[j] == 'RandomForestClassifier':\n",
    "                    acc.append(result[i].loc['RandomForestClassifier']['Balanced Accuracy'])\n",
    "#                     print(result[i].index[j], result[i].iloc[j]['Balanced Accuracy'])\n",
    "\n",
    "        print(f'\\n{name[idx]}: {sum(acc)/len(acc)}')\n",
    "        accuracy.append([f'{name[idx]}', f'{sum(acc)/len(acc)}'])\n",
    "\n",
    "accuracy_df2 = pd.DataFrame(accuracy, columns=['Processed Dataset', 'Accuracy'])\n",
    "accuracy_df2"
   ]
  },
  {
   "cell_type": "code",
   "execution_count": 54,
   "metadata": {},
   "outputs": [
    {
     "name": "stderr",
     "output_type": "stream",
     "text": [
      "100%|██████████| 29/29 [00:00<00:00, 49.95it/s]\n",
      "100%|██████████| 29/29 [00:00<00:00, 47.07it/s]\n",
      "100%|██████████| 29/29 [00:00<00:00, 47.18it/s]\n",
      "100%|██████████| 29/29 [00:00<00:00, 48.05it/s]\n",
      "100%|██████████| 29/29 [00:00<00:00, 47.72it/s]\n",
      "100%|██████████| 29/29 [00:00<00:00, 48.44it/s]\n",
      "100%|██████████| 29/29 [00:00<00:00, 48.11it/s]\n",
      "100%|██████████| 29/29 [00:00<00:00, 47.51it/s]\n",
      "100%|██████████| 29/29 [00:00<00:00, 45.98it/s]\n",
      "100%|██████████| 29/29 [00:00<00:00, 42.45it/s]\n",
      "  7%|▋         | 2/29 [00:00<00:01, 18.14it/s]"
     ]
    },
    {
     "name": "stdout",
     "output_type": "stream",
     "text": [
      "\n",
      "Plasma(Raw): 0.7045454545454546\n"
     ]
    },
    {
     "name": "stderr",
     "output_type": "stream",
     "text": [
      "100%|██████████| 29/29 [00:00<00:00, 47.92it/s]\n",
      "100%|██████████| 29/29 [00:00<00:00, 50.29it/s]\n",
      "100%|██████████| 29/29 [00:00<00:00, 48.46it/s]\n",
      "100%|██████████| 29/29 [00:00<00:00, 48.62it/s]\n",
      "100%|██████████| 29/29 [00:00<00:00, 48.06it/s]\n",
      "100%|██████████| 29/29 [00:00<00:00, 49.70it/s]\n",
      "100%|██████████| 29/29 [00:00<00:00, 46.46it/s]\n",
      "100%|██████████| 29/29 [00:00<00:00, 39.00it/s]\n",
      "100%|██████████| 29/29 [00:00<00:00, 39.43it/s]\n",
      "100%|██████████| 29/29 [00:00<00:00, 36.70it/s]\n",
      "  7%|▋         | 2/29 [00:00<00:01, 17.30it/s]"
     ]
    },
    {
     "name": "stdout",
     "output_type": "stream",
     "text": [
      "\n",
      "Serum(Raw): 0.7803030303030303\n"
     ]
    },
    {
     "name": "stderr",
     "output_type": "stream",
     "text": [
      "100%|██████████| 29/29 [00:00<00:00, 46.35it/s]\n",
      "100%|██████████| 29/29 [00:00<00:00, 45.88it/s]\n",
      "100%|██████████| 29/29 [00:00<00:00, 45.28it/s]\n",
      "100%|██████████| 29/29 [00:00<00:00, 48.81it/s]\n",
      "100%|██████████| 29/29 [00:00<00:00, 50.41it/s]\n",
      "100%|██████████| 29/29 [00:00<00:00, 48.95it/s]\n",
      "100%|██████████| 29/29 [00:00<00:00, 50.70it/s]\n",
      "100%|██████████| 29/29 [00:00<00:00, 50.80it/s]\n",
      "100%|██████████| 29/29 [00:00<00:00, 51.81it/s]\n",
      "100%|██████████| 29/29 [00:00<00:00, 50.65it/s]\n",
      " 10%|█         | 3/29 [00:00<00:00, 26.72it/s]"
     ]
    },
    {
     "name": "stdout",
     "output_type": "stream",
     "text": [
      "\n",
      "pca2_plasma(Exploratory): 0.8712121212121212\n"
     ]
    },
    {
     "name": "stderr",
     "output_type": "stream",
     "text": [
      "100%|██████████| 29/29 [00:00<00:00, 50.75it/s]\n",
      "100%|██████████| 29/29 [00:00<00:00, 50.40it/s]\n",
      "100%|██████████| 29/29 [00:00<00:00, 48.61it/s]\n",
      "100%|██████████| 29/29 [00:00<00:00, 46.43it/s]\n",
      "100%|██████████| 29/29 [00:00<00:00, 50.39it/s]\n",
      "100%|██████████| 29/29 [00:00<00:00, 50.92it/s]\n",
      "100%|██████████| 29/29 [00:00<00:00, 50.83it/s]\n",
      "100%|██████████| 29/29 [00:00<00:00, 49.24it/s]\n",
      "100%|██████████| 29/29 [00:00<00:00, 50.93it/s]\n",
      "100%|██████████| 29/29 [00:00<00:00, 49.97it/s]\n",
      "  7%|▋         | 2/29 [00:00<00:01, 19.03it/s]"
     ]
    },
    {
     "name": "stdout",
     "output_type": "stream",
     "text": [
      "\n",
      "pca2_serum(Exploratory): 0.696969696969697\n"
     ]
    },
    {
     "name": "stderr",
     "output_type": "stream",
     "text": [
      "100%|██████████| 29/29 [00:00<00:00, 50.01it/s]\n",
      "100%|██████████| 29/29 [00:00<00:00, 50.27it/s]\n",
      "100%|██████████| 29/29 [00:00<00:00, 51.21it/s]\n",
      "100%|██████████| 29/29 [00:00<00:00, 49.85it/s]\n",
      "100%|██████████| 29/29 [00:00<00:00, 51.09it/s]\n",
      "100%|██████████| 29/29 [00:00<00:00, 48.43it/s]\n",
      "100%|██████████| 29/29 [00:00<00:00, 39.75it/s]\n",
      "100%|██████████| 29/29 [00:00<00:00, 41.29it/s]\n",
      "100%|██████████| 29/29 [00:00<00:00, 50.76it/s]\n",
      "100%|██████████| 29/29 [00:00<00:00, 50.76it/s]\n",
      " 10%|█         | 3/29 [00:00<00:00, 27.58it/s]"
     ]
    },
    {
     "name": "stdout",
     "output_type": "stream",
     "text": [
      "\n",
      "pca3_plasma(Exploratory): 0.8712121212121212\n"
     ]
    },
    {
     "name": "stderr",
     "output_type": "stream",
     "text": [
      "100%|██████████| 29/29 [00:00<00:00, 50.15it/s]\n",
      "100%|██████████| 29/29 [00:00<00:00, 49.22it/s]\n",
      "100%|██████████| 29/29 [00:00<00:00, 50.07it/s]\n",
      "100%|██████████| 29/29 [00:00<00:00, 50.00it/s]\n",
      "100%|██████████| 29/29 [00:00<00:00, 42.34it/s]\n",
      "100%|██████████| 29/29 [00:00<00:00, 39.33it/s]\n",
      "100%|██████████| 29/29 [00:00<00:00, 44.58it/s]\n",
      "100%|██████████| 29/29 [00:00<00:00, 50.77it/s]\n",
      "100%|██████████| 29/29 [00:00<00:00, 48.81it/s]\n",
      "100%|██████████| 29/29 [00:00<00:00, 48.87it/s]\n",
      "  7%|▋         | 2/29 [00:00<00:01, 17.09it/s]"
     ]
    },
    {
     "name": "stdout",
     "output_type": "stream",
     "text": [
      "\n",
      "pca3_serum(Exploratory): 0.8636363636363636\n"
     ]
    },
    {
     "name": "stderr",
     "output_type": "stream",
     "text": [
      "100%|██████████| 29/29 [00:00<00:00, 47.56it/s]\n",
      "100%|██████████| 29/29 [00:00<00:00, 49.85it/s]\n",
      "100%|██████████| 29/29 [00:00<00:00, 49.78it/s]\n",
      "100%|██████████| 29/29 [00:00<00:00, 50.76it/s]\n",
      "100%|██████████| 29/29 [00:00<00:00, 50.82it/s]\n",
      "100%|██████████| 29/29 [00:00<00:00, 50.75it/s]\n",
      "100%|██████████| 29/29 [00:00<00:00, 48.47it/s]\n",
      "100%|██████████| 29/29 [00:00<00:00, 47.46it/s]\n",
      "100%|██████████| 29/29 [00:00<00:00, 49.71it/s]\n",
      "100%|██████████| 29/29 [00:00<00:00, 50.23it/s]\n",
      "  7%|▋         | 2/29 [00:00<00:01, 17.53it/s]"
     ]
    },
    {
     "name": "stdout",
     "output_type": "stream",
     "text": [
      "\n",
      "pca4_plasma(Exploratory): 0.8712121212121212\n"
     ]
    },
    {
     "name": "stderr",
     "output_type": "stream",
     "text": [
      "100%|██████████| 29/29 [00:00<00:00, 47.93it/s]\n",
      "100%|██████████| 29/29 [00:00<00:00, 49.46it/s]\n",
      "100%|██████████| 29/29 [00:00<00:00, 49.89it/s]\n",
      "100%|██████████| 29/29 [00:00<00:00, 49.31it/s]\n",
      "100%|██████████| 29/29 [00:00<00:00, 51.04it/s]\n",
      "100%|██████████| 29/29 [00:00<00:00, 51.24it/s]\n",
      "100%|██████████| 29/29 [00:00<00:00, 50.01it/s]\n",
      "100%|██████████| 29/29 [00:00<00:00, 50.49it/s]\n",
      "100%|██████████| 29/29 [00:00<00:00, 48.95it/s]\n",
      "100%|██████████| 29/29 [00:00<00:00, 47.45it/s]\n",
      " 10%|█         | 3/29 [00:00<00:00, 27.14it/s]"
     ]
    },
    {
     "name": "stdout",
     "output_type": "stream",
     "text": [
      "\n",
      "pca4_serum(Exploratory): 0.8636363636363636\n"
     ]
    },
    {
     "name": "stderr",
     "output_type": "stream",
     "text": [
      "100%|██████████| 29/29 [00:00<00:00, 49.55it/s]\n",
      "100%|██████████| 29/29 [00:00<00:00, 49.85it/s]\n",
      "100%|██████████| 29/29 [00:00<00:00, 49.72it/s]\n",
      "100%|██████████| 29/29 [00:00<00:00, 48.84it/s]\n",
      "100%|██████████| 29/29 [00:00<00:00, 49.63it/s]\n",
      "100%|██████████| 29/29 [00:00<00:00, 50.01it/s]\n",
      "100%|██████████| 29/29 [00:00<00:00, 46.73it/s]\n",
      "100%|██████████| 29/29 [00:00<00:00, 50.23it/s]\n",
      "100%|██████████| 29/29 [00:00<00:00, 49.38it/s]\n",
      "100%|██████████| 29/29 [00:00<00:00, 50.46it/s]\n",
      "  7%|▋         | 2/29 [00:00<00:01, 17.91it/s]"
     ]
    },
    {
     "name": "stdout",
     "output_type": "stream",
     "text": [
      "\n",
      "pca5_plasma(Exploratory): 0.8712121212121212\n"
     ]
    },
    {
     "name": "stderr",
     "output_type": "stream",
     "text": [
      "100%|██████████| 29/29 [00:00<00:00, 49.80it/s]\n",
      "100%|██████████| 29/29 [00:00<00:00, 49.11it/s]\n",
      "100%|██████████| 29/29 [00:00<00:00, 49.31it/s]\n",
      "100%|██████████| 29/29 [00:00<00:00, 47.38it/s]\n",
      "100%|██████████| 29/29 [00:00<00:00, 48.97it/s]\n",
      "100%|██████████| 29/29 [00:00<00:00, 44.40it/s]\n",
      "100%|██████████| 29/29 [00:00<00:00, 48.42it/s]\n",
      "100%|██████████| 29/29 [00:00<00:00, 47.31it/s]\n",
      "100%|██████████| 29/29 [00:00<00:00, 49.26it/s]\n",
      "100%|██████████| 29/29 [00:00<00:00, 47.72it/s]\n"
     ]
    },
    {
     "name": "stdout",
     "output_type": "stream",
     "text": [
      "\n",
      "pca5_serum(Exploratory): 0.7424242424242424\n"
     ]
    },
    {
     "name": "stderr",
     "output_type": "stream",
     "text": [
      "100%|██████████| 29/29 [00:00<00:00, 49.13it/s]\n",
      "100%|██████████| 29/29 [00:00<00:00, 49.17it/s]\n",
      "100%|██████████| 29/29 [00:00<00:00, 48.92it/s]\n",
      "100%|██████████| 29/29 [00:00<00:00, 48.93it/s]\n",
      "100%|██████████| 29/29 [00:00<00:00, 51.59it/s]\n",
      "100%|██████████| 29/29 [00:00<00:00, 49.84it/s]\n",
      "100%|██████████| 29/29 [00:00<00:00, 50.48it/s]\n",
      "100%|██████████| 29/29 [00:00<00:00, 51.01it/s]\n",
      "100%|██████████| 29/29 [00:00<00:00, 49.95it/s]\n",
      "100%|██████████| 29/29 [00:00<00:00, 49.97it/s]\n",
      "  7%|▋         | 2/29 [00:00<00:01, 16.79it/s]"
     ]
    },
    {
     "name": "stdout",
     "output_type": "stream",
     "text": [
      "\n",
      "tsne2_plasma(Exploratory): 0.8257575757575758\n"
     ]
    },
    {
     "name": "stderr",
     "output_type": "stream",
     "text": [
      "100%|██████████| 29/29 [00:00<00:00, 48.69it/s]\n",
      "100%|██████████| 29/29 [00:00<00:00, 51.42it/s]\n",
      "100%|██████████| 29/29 [00:00<00:00, 51.02it/s]\n",
      "100%|██████████| 29/29 [00:00<00:00, 51.17it/s]\n",
      "100%|██████████| 29/29 [00:00<00:00, 49.70it/s]\n",
      "100%|██████████| 29/29 [00:00<00:00, 50.11it/s]\n",
      "100%|██████████| 29/29 [00:00<00:00, 49.83it/s]\n",
      "100%|██████████| 29/29 [00:00<00:00, 50.40it/s]\n",
      "100%|██████████| 29/29 [00:00<00:00, 49.91it/s]\n",
      "100%|██████████| 29/29 [00:00<00:00, 49.22it/s]\n"
     ]
    },
    {
     "name": "stdout",
     "output_type": "stream",
     "text": [
      "\n",
      "tsne2_serum(Exploratory): 0.696969696969697\n"
     ]
    },
    {
     "name": "stderr",
     "output_type": "stream",
     "text": [
      "100%|██████████| 29/29 [00:00<00:00, 49.64it/s]\n",
      "100%|██████████| 29/29 [00:00<00:00, 49.78it/s]\n",
      "100%|██████████| 29/29 [00:00<00:00, 49.58it/s]\n",
      "100%|██████████| 29/29 [00:00<00:00, 46.83it/s]\n",
      "100%|██████████| 29/29 [00:00<00:00, 50.11it/s]\n",
      "100%|██████████| 29/29 [00:00<00:00, 49.26it/s]\n",
      "100%|██████████| 29/29 [00:00<00:00, 50.86it/s]\n",
      "100%|██████████| 29/29 [00:00<00:00, 49.92it/s]\n",
      "100%|██████████| 29/29 [00:00<00:00, 48.57it/s]\n",
      "100%|██████████| 29/29 [00:00<00:00, 47.80it/s]\n",
      "  7%|▋         | 2/29 [00:00<00:01, 19.33it/s]"
     ]
    },
    {
     "name": "stdout",
     "output_type": "stream",
     "text": [
      "\n",
      "tsne3_plasma(Exploratory): 0.7045454545454546\n"
     ]
    },
    {
     "name": "stderr",
     "output_type": "stream",
     "text": [
      "100%|██████████| 29/29 [00:00<00:00, 51.16it/s]\n",
      "100%|██████████| 29/29 [00:00<00:00, 50.74it/s]\n",
      "100%|██████████| 29/29 [00:00<00:00, 51.37it/s]\n",
      "100%|██████████| 29/29 [00:00<00:00, 49.95it/s]\n",
      "100%|██████████| 29/29 [00:00<00:00, 49.69it/s]\n",
      "100%|██████████| 29/29 [00:00<00:00, 50.92it/s]\n",
      "100%|██████████| 29/29 [00:00<00:00, 50.89it/s]\n",
      "100%|██████████| 29/29 [00:00<00:00, 51.42it/s]\n",
      "100%|██████████| 29/29 [00:00<00:00, 48.67it/s]\n",
      "100%|██████████| 29/29 [00:00<00:00, 48.90it/s]"
     ]
    },
    {
     "name": "stdout",
     "output_type": "stream",
     "text": [
      "\n",
      "tsne3_serum(Exploratory): 0.8636363636363636\n"
     ]
    },
    {
     "name": "stderr",
     "output_type": "stream",
     "text": [
      "\n"
     ]
    },
    {
     "data": {
      "text/html": [
       "<div>\n",
       "<style scoped>\n",
       "    .dataframe tbody tr th:only-of-type {\n",
       "        vertical-align: middle;\n",
       "    }\n",
       "\n",
       "    .dataframe tbody tr th {\n",
       "        vertical-align: top;\n",
       "    }\n",
       "\n",
       "    .dataframe thead th {\n",
       "        text-align: right;\n",
       "    }\n",
       "</style>\n",
       "<table border=\"1\" class=\"dataframe\">\n",
       "  <thead>\n",
       "    <tr style=\"text-align: right;\">\n",
       "      <th></th>\n",
       "      <th>Processed Dataset</th>\n",
       "      <th>Accuracy</th>\n",
       "    </tr>\n",
       "  </thead>\n",
       "  <tbody>\n",
       "    <tr>\n",
       "      <th>0</th>\n",
       "      <td>Plasma(Raw)</td>\n",
       "      <td>0.7045454545454546</td>\n",
       "    </tr>\n",
       "    <tr>\n",
       "      <th>1</th>\n",
       "      <td>Serum(Raw)</td>\n",
       "      <td>0.7803030303030303</td>\n",
       "    </tr>\n",
       "    <tr>\n",
       "      <th>2</th>\n",
       "      <td>pca2_plasma(Exploratory)</td>\n",
       "      <td>0.8712121212121212</td>\n",
       "    </tr>\n",
       "    <tr>\n",
       "      <th>3</th>\n",
       "      <td>pca2_serum(Exploratory)</td>\n",
       "      <td>0.696969696969697</td>\n",
       "    </tr>\n",
       "    <tr>\n",
       "      <th>4</th>\n",
       "      <td>pca3_plasma(Exploratory)</td>\n",
       "      <td>0.8712121212121212</td>\n",
       "    </tr>\n",
       "    <tr>\n",
       "      <th>5</th>\n",
       "      <td>pca3_serum(Exploratory)</td>\n",
       "      <td>0.8636363636363636</td>\n",
       "    </tr>\n",
       "    <tr>\n",
       "      <th>6</th>\n",
       "      <td>pca4_plasma(Exploratory)</td>\n",
       "      <td>0.8712121212121212</td>\n",
       "    </tr>\n",
       "    <tr>\n",
       "      <th>7</th>\n",
       "      <td>pca4_serum(Exploratory)</td>\n",
       "      <td>0.8636363636363636</td>\n",
       "    </tr>\n",
       "    <tr>\n",
       "      <th>8</th>\n",
       "      <td>pca5_plasma(Exploratory)</td>\n",
       "      <td>0.8712121212121212</td>\n",
       "    </tr>\n",
       "    <tr>\n",
       "      <th>9</th>\n",
       "      <td>pca5_serum(Exploratory)</td>\n",
       "      <td>0.7424242424242424</td>\n",
       "    </tr>\n",
       "    <tr>\n",
       "      <th>10</th>\n",
       "      <td>tsne2_plasma(Exploratory)</td>\n",
       "      <td>0.8257575757575758</td>\n",
       "    </tr>\n",
       "    <tr>\n",
       "      <th>11</th>\n",
       "      <td>tsne2_serum(Exploratory)</td>\n",
       "      <td>0.696969696969697</td>\n",
       "    </tr>\n",
       "    <tr>\n",
       "      <th>12</th>\n",
       "      <td>tsne3_plasma(Exploratory)</td>\n",
       "      <td>0.7045454545454546</td>\n",
       "    </tr>\n",
       "    <tr>\n",
       "      <th>13</th>\n",
       "      <td>tsne3_serum(Exploratory)</td>\n",
       "      <td>0.8636363636363636</td>\n",
       "    </tr>\n",
       "  </tbody>\n",
       "</table>\n",
       "</div>"
      ],
      "text/plain": [
       "            Processed Dataset            Accuracy\n",
       "0                 Plasma(Raw)  0.7045454545454546\n",
       "1                  Serum(Raw)  0.7803030303030303\n",
       "2    pca2_plasma(Exploratory)  0.8712121212121212\n",
       "3     pca2_serum(Exploratory)   0.696969696969697\n",
       "4    pca3_plasma(Exploratory)  0.8712121212121212\n",
       "5     pca3_serum(Exploratory)  0.8636363636363636\n",
       "6    pca4_plasma(Exploratory)  0.8712121212121212\n",
       "7     pca4_serum(Exploratory)  0.8636363636363636\n",
       "8    pca5_plasma(Exploratory)  0.8712121212121212\n",
       "9     pca5_serum(Exploratory)  0.7424242424242424\n",
       "10  tsne2_plasma(Exploratory)  0.8257575757575758\n",
       "11   tsne2_serum(Exploratory)   0.696969696969697\n",
       "12  tsne3_plasma(Exploratory)  0.7045454545454546\n",
       "13   tsne3_serum(Exploratory)  0.8636363636363636"
      ]
     },
     "execution_count": 54,
     "metadata": {},
     "output_type": "execute_result"
    }
   ],
   "source": [
    "accuracy = []\n",
    "for k in [0, 2, 3, 4, 5, 22, 23]:\n",
    "    \n",
    "    if k==0:\n",
    "        name = ['Plasma(Raw)', 'Serum(Raw)', 'Plasma(Exploratory)', 'Serum(Exploratory)']\n",
    "        dfs = [plasma, serum]\n",
    "    \n",
    "    elif k==22 or k==23:\n",
    "        k -= 20\n",
    "        name = [f'tsne{k}_plasma(Exploratory)', f'tsne{k}_serum(Exploratory)']\n",
    "        vars()[f'tsne{k}_plasma'] = tsne_analysis(plasma, k)\n",
    "        vars()[f'tsne{k}_plasma_df'] = make_dataframe(vars()[f'tsne{k}_plasma'], k)\n",
    "        \n",
    "        vars()[f'tsne{k}_serum'] = pca_analysis(serum, k)\n",
    "        vars()[f'tsne{k}_serum_df'] = make_dataframe(vars()[f'tsne{k}_serum'], k)\n",
    "        \n",
    "        dfs = [vars()[f'tsne{k}_plasma_df'], vars()[f'tsne{k}_serum_df']]\n",
    "    \n",
    "    else:\n",
    "        name = [f'pca{k}_plasma(Exploratory)', f'pca{k}_serum(Exploratory)']\n",
    "        vars()[f'pca{k}_plasma'] = pca_analysis(plasma, k)\n",
    "        vars()[f'pca{k}_plasma_df'] = make_dataframe(vars()[f'pca{k}_plasma'], k)\n",
    "        \n",
    "        vars()[f'pca{k}_serum'] = pca_analysis(serum, k)\n",
    "        vars()[f'pca{k}_serum_df'] = make_dataframe(vars()[f'pca{k}_serum'], k)\n",
    "        \n",
    "        dfs = [vars()[f'pca{k}_plasma_df'], vars()[f'pca{k}_serum_df']]\n",
    "    \n",
    "    random_state = 42\n",
    "\n",
    "    for idx, data in enumerate(dfs):\n",
    "        result = []\n",
    "        if data.columns[-1]=='Class':\n",
    "            X = data.drop('Class', axis=1)\n",
    "        else:\n",
    "            X = data\n",
    "        y = plasma['Class'].copy()\n",
    "        y = y.map({\"control\": 0, \"disease\": 1})\n",
    "        rs = ShuffleSplit(n_splits=10, test_size=.2, random_state=random_state)\n",
    "\n",
    "        for train_index, test_index in rs.split(X):\n",
    "            clf = LazyClassifier(verbose=0, ignore_warnings=True, custom_metric=matthews_corrcoef, predictions=True)\n",
    "            X_train, X_test = X.iloc[train_index], X.iloc[test_index]\n",
    "            y_train, y_test = y.iloc[train_index], y.iloc[test_index]\n",
    "\n",
    "            scaler = RobustScaler()\n",
    "\n",
    "            cols = X_train.columns\n",
    "            X_train = scaler.fit_transform(X_train)\n",
    "            X_test = scaler.transform(X_test)\n",
    "\n",
    "            X_train = pd.DataFrame(X_train, columns=[cols])\n",
    "            X_test = pd.DataFrame(X_test, columns=[cols])\n",
    "\n",
    "            models, predictions = clf.fit(X_train, X_test, y_train, y_test)\n",
    "            result.append(models)\n",
    "        #     print(result)\n",
    "\n",
    "        acc = []\n",
    "        for i in range(1):\n",
    "            for j in range(len(model_names)):\n",
    "                if result[i].index[j] == 'XGBClassifier':\n",
    "                    acc.append(result[i].loc['XGBClassifier']['Balanced Accuracy'])\n",
    "#                     print(result[i].index[j], result[i].iloc[j]['Balanced Accuracy'])\n",
    "\n",
    "        print(f'\\n{name[idx]}: {sum(acc)/len(acc)}')\n",
    "        accuracy.append([f'{name[idx]}', f'{sum(acc)/len(acc)}'])\n",
    "        \n",
    "accuracy_df3 = pd.DataFrame(accuracy, columns=['Processed Dataset', 'Accuracy'])\n",
    "accuracy_df3"
   ]
  },
  {
   "cell_type": "code",
   "execution_count": 61,
   "metadata": {},
   "outputs": [
    {
     "data": {
      "text/html": [
       "<div>\n",
       "<style scoped>\n",
       "    .dataframe tbody tr th:only-of-type {\n",
       "        vertical-align: middle;\n",
       "    }\n",
       "\n",
       "    .dataframe tbody tr th {\n",
       "        vertical-align: top;\n",
       "    }\n",
       "\n",
       "    .dataframe thead th {\n",
       "        text-align: right;\n",
       "    }\n",
       "</style>\n",
       "<table border=\"1\" class=\"dataframe\">\n",
       "  <thead>\n",
       "    <tr style=\"text-align: right;\">\n",
       "      <th></th>\n",
       "      <th>Method</th>\n",
       "      <th>Accuracy</th>\n",
       "    </tr>\n",
       "  </thead>\n",
       "  <tbody>\n",
       "    <tr>\n",
       "      <th>0</th>\n",
       "      <td>Ridge Classifier (Without PCA)</td>\n",
       "      <td>90.91</td>\n",
       "    </tr>\n",
       "    <tr>\n",
       "      <th>1</th>\n",
       "      <td>Ridge Classifier (With PCA)</td>\n",
       "      <td>81.82</td>\n",
       "    </tr>\n",
       "    <tr>\n",
       "      <th>2</th>\n",
       "      <td>Random Forest Classifier (Without PCA)</td>\n",
       "      <td>78.03</td>\n",
       "    </tr>\n",
       "    <tr>\n",
       "      <th>3</th>\n",
       "      <td>Random Forest Classifier (With PCA)</td>\n",
       "      <td>86.36</td>\n",
       "    </tr>\n",
       "  </tbody>\n",
       "</table>\n",
       "</div>"
      ],
      "text/plain": [
       "                                   Method  Accuracy\n",
       "0          Ridge Classifier (Without PCA)     90.91\n",
       "1             Ridge Classifier (With PCA)     81.82\n",
       "2  Random Forest Classifier (Without PCA)     78.03\n",
       "3     Random Forest Classifier (With PCA)     86.36"
      ]
     },
     "execution_count": 61,
     "metadata": {},
     "output_type": "execute_result"
    }
   ],
   "source": [
    "accuracy_df = pd.DataFrame({\n",
    "    'Method': ['Ridge Classifier (Without PCA)', 'Ridge Classifier (With PCA)', 'Random Forest Classifier (Without PCA)', 'Random Forest Classifier (With PCA)'],\n",
    "    'Accuracy': [90.91, 81.82, 78.03, 86.36]\n",
    "})\n",
    "accuracy_df"
   ]
  },
  {
   "cell_type": "code",
   "execution_count": 62,
   "metadata": {},
   "outputs": [],
   "source": [
    "accuracy_df.to_csv('G:/Research/SM Sir/LungCancer_Biomarker/final and best approach/accuracy_1+2.csv', index=False)"
   ]
  },
  {
   "cell_type": "markdown",
   "metadata": {},
   "source": [
    "<a id=\"4\"></a>\n",
    "\n",
    "<h1 style=\"background-color:#d8f8b7;font-family:newtimeroman;font-size:250%;text-align:center;border-radius: 15px 50px;\">Visualization</h1>"
   ]
  },
  {
   "cell_type": "code",
   "execution_count": 97,
   "metadata": {},
   "outputs": [
    {
     "data": {
      "image/png": "[encoded data removed]",
      "text/plain": [
       "<Figure size 720x720 with 5 Axes>"
      ]
     },
     "metadata": {
      "needs_background": "light"
     },
     "output_type": "display_data"
    }
   ],
   "source": [
    "# Data set\n",
    "final_df1 = plasma.copy()\n",
    "Class = plasma.pop(\"Class\")\n",
    "# final_df = final_df.set_index('Metabolics')\n",
    "\n",
    "lut = dict(zip(Class.unique(), \"grb\"))\n",
    "row_colors = Class.map(lut)\n",
    "df_colors = pd.DataFrame(data={'DISEASE': row_colors[row_colors == 'r'], 'CONTROL': row_colors[row_colors == 'g']}) \n",
    "# Default plot\n",
    "g = sns.clustermap(plasma, cmap='RdBu', row_colors=df_colors, z_score=1)      #z_score->standardize; standard_cale->normalize\n",
    "g.fig.subplots_adjust(right=0.9)\n",
    "g.ax_cbar.set_position((0.7, .2, .03, .4), 'horizontal')\n",
    "plt.setp(g.ax_heatmap.get_yticklabels(), rotation=0)\n",
    "# Show the graph\n",
    "# Show the graph\n",
    "plt.savefig('plotting/clustermap_plasma_final.JPG')\n",
    "plt.show()"
   ]
  },
  {
   "cell_type": "code",
   "execution_count": 131,
   "metadata": {},
   "outputs": [
    {
     "data": {
      "image/png": "[encoded data removed]",
      "text/plain": [
       "<Figure size 432x288 with 1 Axes>"
      ]
     },
     "metadata": {
      "needs_background": "light"
     },
     "output_type": "display_data"
    },
    {
     "data": {
      "text/plain": [
       "<AxesSubplot:title={'center':'Feature Importances of 21 Features using RandomForestClassifier'}, xlabel='relative importance'>"
      ]
     },
     "execution_count": 131,
     "metadata": {},
     "output_type": "execute_result"
    }
   ],
   "source": [
    "# Load the classification data set\n",
    "X = final_df1.iloc[:, :-1]\n",
    "y = final_df1['Class'].copy()\n",
    "y = y.map({\"control\": 1, \"disease\": 0})\n",
    "\n",
    "model = RandomForestClassifier(n_estimators=17)\n",
    "viz = FeatureImportances(model)\n",
    "viz.fit(X, y)\n",
    "viz.show()"
   ]
  },
  {
   "cell_type": "code",
   "execution_count": 136,
   "metadata": {},
   "outputs": [
    {
     "data": {
      "image/png": "[encoded data removed]",
      "text/plain": [
       "<Figure size 720x720 with 5 Axes>"
      ]
     },
     "metadata": {
      "needs_background": "light"
     },
     "output_type": "display_data"
    }
   ],
   "source": [
    "# Data set\n",
    "final_df2 = serum.iloc[:, :-1]\n",
    "Class = y\n",
    "# final_df = final_df.set_index('Metabolics')\n",
    "\n",
    "lut = dict(zip(Class.unique(), \"grb\"))\n",
    "row_colors = Class.map(lut)\n",
    "df_colors = pd.DataFrame(data={'DISEASE': row_colors[row_colors == 'r'], 'CONTROL': row_colors[row_colors == 'g']}) \n",
    "# Default plot\n",
    "g = sns.clustermap(final_df2, cmap='RdBu', row_colors=df_colors, z_score=1)      #z_score->standardize; standard_cale->normalize\n",
    "g.fig.subplots_adjust(right=0.9)\n",
    "g.ax_cbar.set_position((0.7, .2, .03, .4), 'horizontal')\n",
    "plt.setp(g.ax_heatmap.get_yticklabels(), rotation=0)\n",
    "# Show the graph\n",
    "# Show the graph\n",
    "plt.savefig('plotting/clustermap_serum_final.JPG')\n",
    "plt.show()"
   ]
  },
  {
   "cell_type": "code",
   "execution_count": 137,
   "metadata": {},
   "outputs": [
    {
     "data": {
      "image/png": "[encoded data removed]",
      "text/plain": [
       "<Figure size 432x288 with 1 Axes>"
      ]
     },
     "metadata": {
      "needs_background": "light"
     },
     "output_type": "display_data"
    },
    {
     "data": {
      "text/plain": [
       "<AxesSubplot:title={'center':'Feature Importances of 10 Features using RandomForestClassifier'}, xlabel='relative importance'>"
      ]
     },
     "execution_count": 137,
     "metadata": {},
     "output_type": "execute_result"
    }
   ],
   "source": [
    "# Load the classification data set\n",
    "X = final_df2\n",
    "y = Class\n",
    "model = RandomForestClassifier(n_estimators=17)\n",
    "viz = FeatureImportances(model)\n",
    "viz.fit(X, y)\n",
    "viz.show()"
   ]
  },
  {
   "cell_type": "code",
   "execution_count": null,
   "metadata": {},
   "outputs": [],
   "source": []
  }
 ],
 "metadata": {
  "colab": {
   "collapsed_sections": [],
   "name": "serum-plasma-utshab.ipynb",
   "provenance": []
  },
  "kernelspec": {
   "display_name": "Python 3",
   "language": "python",
   "name": "python3"
  },
  "language_info": {
   "codemirror_mode": {
    "name": "ipython",
    "version": 3
   },
   "file_extension": ".py",
   "mimetype": "text/x-python",
   "name": "python",
   "nbconvert_exporter": "python",
   "pygments_lexer": "ipython3",
   "version": "3.7.9"
  }
 },
 "nbformat": 4,
 "nbformat_minor": 1
}

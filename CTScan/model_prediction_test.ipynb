{
 "cells": [
  {
   "cell_type": "code",
   "execution_count": 13,
   "metadata": {},
   "outputs": [],
   "source": [
    "import tensorflow as tf\n",
    "from tensorflow import keras\n",
    "from tensorflow.keras.models import load_model\n",
    "from PIL import Image\n",
    "import numpy as np\n",
    "import cv2\n",
    "import pandas as pd"
   ]
  },
  {
   "cell_type": "code",
   "execution_count": 14,
   "metadata": {},
   "outputs": [
    {
     "name": "stdout",
     "output_type": "stream",
     "text": [
      "Model: \"sequential_2\"\n",
      "_________________________________________________________________\n",
      " Layer (type)                Output Shape              Param #   \n",
      "=================================================================\n",
      " conv2d_18 (Conv2D)          (None, 73, 73, 128)       24704     \n",
      "                                                                 \n",
      " batch_normalization_18 (Ba  (None, 73, 73, 128)       512       \n",
      " tchNormalization)                                               \n",
      "                                                                 \n",
      " conv2d_19 (Conv2D)          (None, 73, 73, 256)       819456    \n",
      "                                                                 \n",
      " batch_normalization_19 (Ba  (None, 73, 73, 256)       1024      \n",
      " tchNormalization)                                               \n",
      "                                                                 \n",
      " max_pooling2d_8 (MaxPoolin  (None, 24, 24, 256)       0         \n",
      " g2D)                                                            \n",
      "                                                                 \n",
      " conv2d_20 (Conv2D)          (None, 24, 24, 256)       590080    \n",
      "                                                                 \n",
      " batch_normalization_20 (Ba  (None, 24, 24, 256)       1024      \n",
      " tchNormalization)                                               \n",
      "                                                                 \n",
      " conv2d_21 (Conv2D)          (None, 24, 24, 256)       65792     \n",
      "                                                                 \n",
      " batch_normalization_21 (Ba  (None, 24, 24, 256)       1024      \n",
      " tchNormalization)                                               \n",
      "                                                                 \n",
      " conv2d_22 (Conv2D)          (None, 24, 24, 256)       65792     \n",
      "                                                                 \n",
      " batch_normalization_22 (Ba  (None, 24, 24, 256)       1024      \n",
      " tchNormalization)                                               \n",
      "                                                                 \n",
      " conv2d_23 (Conv2D)          (None, 24, 24, 512)       1180160   \n",
      "                                                                 \n",
      " batch_normalization_23 (Ba  (None, 24, 24, 512)       2048      \n",
      " tchNormalization)                                               \n",
      "                                                                 \n",
      " max_pooling2d_9 (MaxPoolin  (None, 12, 12, 512)       0         \n",
      " g2D)                                                            \n",
      "                                                                 \n",
      " conv2d_24 (Conv2D)          (None, 12, 12, 512)       2359808   \n",
      "                                                                 \n",
      " batch_normalization_24 (Ba  (None, 12, 12, 512)       2048      \n",
      " tchNormalization)                                               \n",
      "                                                                 \n",
      " conv2d_25 (Conv2D)          (None, 12, 12, 512)       2359808   \n",
      "                                                                 \n",
      " batch_normalization_25 (Ba  (None, 12, 12, 512)       2048      \n",
      " tchNormalization)                                               \n",
      "                                                                 \n",
      " max_pooling2d_10 (MaxPooli  (None, 6, 6, 512)         0         \n",
      " ng2D)                                                           \n",
      "                                                                 \n",
      " conv2d_26 (Conv2D)          (None, 6, 6, 512)         2359808   \n",
      "                                                                 \n",
      " batch_normalization_26 (Ba  (None, 6, 6, 512)         2048      \n",
      " tchNormalization)                                               \n",
      "                                                                 \n",
      " max_pooling2d_11 (MaxPooli  (None, 3, 3, 512)         0         \n",
      " ng2D)                                                           \n",
      "                                                                 \n",
      " flatten_2 (Flatten)         (None, 4608)              0         \n",
      "                                                                 \n",
      " dense_6 (Dense)             (None, 1024)              4719616   \n",
      "                                                                 \n",
      " dropout_4 (Dropout)         (None, 1024)              0         \n",
      "                                                                 \n",
      " dense_7 (Dense)             (None, 1024)              1049600   \n",
      "                                                                 \n",
      " dropout_5 (Dropout)         (None, 1024)              0         \n",
      "                                                                 \n",
      " dense_8 (Dense)             (None, 3)                 3075      \n",
      "                                                                 \n",
      "=================================================================\n",
      "Total params: 15610499 (59.55 MB)\n",
      "Trainable params: 15604099 (59.52 MB)\n",
      "Non-trainable params: 6400 (25.00 KB)\n",
      "_________________________________________________________________\n",
      "None\n"
     ]
    }
   ],
   "source": [
    "model = load_model('D:\\GitHub\\\\4BIT\\CTScan\\Lung_Model.h5')\n",
    "print(model.summary())"
   ]
  },
  {
   "cell_type": "code",
   "execution_count": 31,
   "metadata": {},
   "outputs": [
    {
     "name": "stdout",
     "output_type": "stream",
     "text": [
      "numpydata :  (512, 512, 3)\n"
     ]
    }
   ],
   "source": [
    "# image_path = 'D:\\GitHub\\\\4BIT\\CTScan\\static\\uploads\\Malignant case (2).jpg'\n",
    "image = cv2.imread(\"D:\\\\GitHub\\\\4BIT\\\\CTScan\\\\Dataset2\\\\Bengin cases\\\\Bengin case (13).jpg\")\n",
    "numpydata = np.asarray(image)\n",
    "print('numpydata : ' , numpydata.shape)"
   ]
  },
  {
   "cell_type": "code",
   "execution_count": 32,
   "metadata": {},
   "outputs": [
    {
     "name": "stdout",
     "output_type": "stream",
     "text": [
      "numpydata after resizing :  [224 224   3]\n"
     ]
    }
   ],
   "source": [
    "resized_image = cv2.resize(image , (224 , 224))\n",
    "numpydata = np.asarray(resized_image.shape)\n",
    "print('numpydata after resizing : ' , numpydata)"
   ]
  },
  {
   "cell_type": "code",
   "execution_count": 33,
   "metadata": {},
   "outputs": [
    {
     "name": "stdout",
     "output_type": "stream",
     "text": [
      "numpydata after input image :  [  1 224 224   3]\n"
     ]
    }
   ],
   "source": [
    "input_image = np.expand_dims(resized_image, axis =0)\n",
    "numpydata = np.asarray(input_image.shape)\n",
    "print('numpydata after input image : ' , numpydata)"
   ]
  },
  {
   "cell_type": "code",
   "execution_count": 34,
   "metadata": {},
   "outputs": [
    {
     "name": "stdout",
     "output_type": "stream",
     "text": [
      "1/1 [==============================] - 0s 122ms/step\n",
      "prediction original :  [[0. 1. 0.]]\n",
      "pred :  [1]\n",
      "(1,)\n"
     ]
    }
   ],
   "source": [
    "prediction = model.predict(input_image)\n",
    "print('prediction original : ' , prediction)\n",
    "pred = np.argmax(prediction, axis=1) #pick class with highest  probability\n",
    "print(\"pred : \" , pred)\n",
    "print(pred.shape)"
   ]
  },
  {
   "cell_type": "code",
   "execution_count": 36,
   "metadata": {},
   "outputs": [
    {
     "name": "stdout",
     "output_type": "stream",
     "text": [
      "prediction :  0.0\n",
      "prediction 2 :  [0. 1. 0.]\n",
      "Result :  Normal\n",
      "prediction :  [[0. 1. 0.]]\n"
     ]
    }
   ],
   "source": [
    "result = \"\"\n",
    "print('prediction : ' , prediction[0][0])\n",
    "print('prediction 2 : ' , prediction[0])\n",
    "if(pred[0]==0) : \n",
    "    result = \"Malignant\"\n",
    "elif(pred[0]==1) : \n",
    "    result = \"Normal\"\n",
    "elif(pred[0]==2) : \n",
    "    result = \"Benign\"\n",
    "\n",
    "print('Result : ' , result)\n",
    "print(\"prediction : \" , prediction)"
   ]
  }
 ],
 "metadata": {
  "kernelspec": {
   "display_name": "myenv",
   "language": "python",
   "name": "python3"
  },
  "language_info": {
   "codemirror_mode": {
    "name": "ipython",
    "version": 3
   },
   "file_extension": ".py",
   "mimetype": "text/x-python",
   "name": "python",
   "nbconvert_exporter": "python",
   "pygments_lexer": "ipython3",
   "version": "3.11.4"
  }
 },
 "nbformat": 4,
 "nbformat_minor": 2
}
